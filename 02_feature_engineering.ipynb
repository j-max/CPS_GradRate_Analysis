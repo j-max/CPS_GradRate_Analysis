{
 "cells": [
  {
   "cell_type": "code",
   "execution_count": 1,
   "metadata": {},
   "outputs": [],
   "source": [
    "import pandas as pd\n",
    "import pickle\n",
    "\n",
    "pd.set_option('display.max_columns', None)\n",
    "pd.set_option('display.max_rows', 25)\n",
    "pd.set_option('display.precision', 3)\n",
    "\n",
    "import psycopg2 as pg\n",
    "import pandas.io.sql as pd_sql"
   ]
  },
  {
   "cell_type": "code",
   "execution_count": 2,
   "metadata": {},
   "outputs": [],
   "source": [
    "connection_args = {\n",
    "    'host': 'localhost',  \n",
    "    'dbname': 'cps',    \n",
    "    'port': 5432\n",
    "}\n",
    "\n",
    "conn = pg.connect(**connection_args)"
   ]
  },
  {
   "cell_type": "markdown",
   "metadata": {},
   "source": [
    "# The following data is not considered in this model\n",
    "                   Address', 'Administrator_Title', 'CPS_School_Profile', \n",
    "                   'City', 'Classification_Description', 'Closed_For_Enrollment_Date',\n",
    "                  'College_Enrollment_Rate_Mean', 'College_Enrollment_Rate_School',\n",
    "                  'Demographic_Description', 'Earliest_Drop_Off_Time', 'Facebook', \n",
    "                  'Fax', 'Fifth_Contact_Name', 'Fifth_Contact_Title', 'Finance_ID', \n",
    "                  'Fourth_Contact_Name', 'Fourth_Contact_Title', 'Freshman_Start_End_Time',\n",
    "                  'Grades_Offered', 'Graduation_Rate_Mean', 'Is_Elementary_School', \n",
    "                  'Is_GoCPS_Elementary', 'Is_GoCPS_High_School', 'Is_GoCPS_PreK', \n",
    "                  'Is_High_School', 'Is_Middle_School', 'Is_Pre_School', 'Kindergarten_School_Day',\n",
    "                  'Legacy_Unit_ID', 'Long_Name', 'Mean_ACT', 'Open_For_Enrollment_Date', \n",
    "                  'Overall_Rating', 'Phone', 'Pinterest', 'PreK_School_Day', 'PreSchool_Inclusive', \n",
    "                  'Preschool_Instructional', 'Primary_Category', 'Rating_Statement', 'Rating_Status', \n",
    "                  'Refugee_Services', 'School_Type','Secondary_Contact', 'Secondary_Contact_Title', \n",
    "                  'Seventh_Contact_Name', 'Seventh_Contact_Title', 'Short_Name', 'Short_Name', \n",
    "                  'Significantly_Modified', 'Sixth_Contact_Name', 'Sixth_Contact_Title', 'State',\n",
    "                  'Statistics_Description', 'Summary', 'Third_Contact_Name', 'Third_Contact_Title', \n",
    "                  'Title_1_Eligible', 'Twitter', 'Visual_Impairments', 'Website',\n",
    "                  'Youtube', 'Zip_x', 'Attendance_Boundaries','Average_ACT_School', \n",
    "                   'Bilingual_Services','Hard_Of_Hearing', 'Is_GoCPS_Participant',\n",
    "                  'School_Latitude', 'School_Longitude', 'Average_ACT_School', 'Location',\n",
    "                   'Transportation_Bus','Transportation_Metra', 'After_School_Hours','School_Hours'"
   ]
  },
  {
   "cell_type": "code",
   "execution_count": 3,
   "metadata": {},
   "outputs": [],
   "source": [
    "target_columns_1617 = '''School_Id,\n",
    "                      Administrator,\n",
    "                      Grades_Offered_All,\n",
    "                      Student_Count_Total,\n",
    "                      Student_Count_Low_Income,\n",
    "                      Student_Count_Special_Ed,\n",
    "                      Student_Count_English_Learners,\n",
    "                      Student_Count_Black,\n",
    "                      Student_Count_Hispanic,\n",
    "                      Student_Count_White,\n",
    "                      Student_Count_Asian,\n",
    "                      Student_Count_Native_American,\n",
    "                      Student_Count_Other_Ethnicity,\n",
    "                      Student_Count_Asian_Pacific_Islander,\n",
    "                      Student_Count_Multi,\n",
    "                      Student_Count_Hawaiian_Pacific_Islander,\n",
    "                      Student_Count_Ethnicity_Not_Available,\n",
    "                      ADA_Accessible,\n",
    "                      Dress_Code,\n",
    "                      Classroom_Languages,\n",
    "                      Transportation_El,\n",
    "                      Graduation_Rate_School,\n",
    "                      School_Year,\n",
    "                      Zip\n",
    "                '''"
   ]
  },
  {
   "cell_type": "code",
   "execution_count": 4,
   "metadata": {},
   "outputs": [],
   "source": [
    "#no ADA accesible field for 1718, zip not differentiated for 1718\n",
    "target_columns_1718 = '''School_Id,\n",
    "                      Administrator,\n",
    "                      Grades_Offered_All,\n",
    "                      Student_Count_Total,\n",
    "                      Student_Count_Low_Income,\n",
    "                      Student_Count_Special_Ed,\n",
    "                      Student_Count_English_Learners,\n",
    "                      Student_Count_Black,\n",
    "                      Student_Count_Hispanic,\n",
    "                      Student_Count_White,\n",
    "                      Student_Count_Asian,\n",
    "                      Student_Count_Native_American,\n",
    "                      Student_Count_Other_Ethnicity,\n",
    "                      Student_Count_Asian_Pacific_Islander,\n",
    "                      Student_Count_Multi,\n",
    "                      Student_Count_Hawaiian_Pacific_Islander,\n",
    "                      Student_Count_Ethnicity_Not_Available,\n",
    "                      Dress_Code,\n",
    "                      Classroom_Languages,\n",
    "                      Transportation_El,\n",
    "                      Graduation_Rate_School,\n",
    "                      School_Year\n",
    "                '''"
   ]
  },
  {
   "cell_type": "code",
   "execution_count": 5,
   "metadata": {},
   "outputs": [
    {
     "name": "stderr",
     "output_type": "stream",
     "text": [
      "/anaconda3/lib/python3.7/site-packages/ipykernel_launcher.py:7: FutureWarning: Sorting because non-concatenation axis is not aligned. A future version\n",
      "of pandas will change to not sort by default.\n",
      "\n",
      "To accept the future behavior, pass 'sort=False'.\n",
      "\n",
      "To retain the current behavior and silence the warning, pass 'sort=True'.\n",
      "\n",
      "  import sys\n"
     ]
    }
   ],
   "source": [
    "cur = conn.cursor()\n",
    "query_1617 = ('''SELECT %s FROM allschools_1617 WHERE is_high_school = 'Y' '''%target_columns_1617);\n",
    "df_hs_201617 = pd_sql.read_sql(query_1617, conn)\n",
    "query_1718 = ('''SELECT %s FROM allschools_1718 WHERE is_high_school = 'Y' ''' %target_columns_1718);\n",
    "df_hs_201718 = pd_sql.read_sql(query_1718, conn)\n",
    "dfs=[df_hs_201617,df_hs_201718]\n",
    "df = pd.concat(dfs)"
   ]
  },
  {
   "cell_type": "markdown",
   "metadata": {},
   "source": [
    "## Fill in ADA accessible and create ADA dummie"
   ]
  },
  {
   "cell_type": "code",
   "execution_count": 6,
   "metadata": {},
   "outputs": [],
   "source": [
    "# 2016-17 has ADA accessibility data, and I will assume it is the same for 17-18."
   ]
  },
  {
   "cell_type": "code",
   "execution_count": 7,
   "metadata": {},
   "outputs": [],
   "source": [
    "ada = df[df['school_year'] == 'School Year 2016-2017'][['ada_accessible', 'school_id']]\n",
    "df = pd.merge(df, ada, on = 'school_id' )\n",
    "df.drop(columns = 'ada_accessible_x', inplace = True)\n",
    "df = pd.merge(df, ada, on = 'school_id' )\n",
    "df.drop(columns = 'ada_accessible', inplace = True)\n",
    "df = pd.concat((df, pd.get_dummies(df['ada_accessible_y'])), axis=1)\n",
    "#having [0,0] for fully and generally accessible implies no or unknown accessibility\n",
    "df.drop(columns = ['No/unknown accessibility','ada_accessible_y'], inplace=True)"
   ]
  },
  {
   "cell_type": "markdown",
   "metadata": {},
   "source": [
    "## Demographic Percentage Transformation"
   ]
  },
  {
   "cell_type": "code",
   "execution_count": 8,
   "metadata": {},
   "outputs": [
    {
     "data": {
      "text/plain": [
       "['administrator',\n",
       " 'classroom_languages',\n",
       " 'dress_code',\n",
       " 'grades_offered_all',\n",
       " 'graduation_rate_school',\n",
       " 'school_id',\n",
       " 'school_year',\n",
       " 'student_count_asian',\n",
       " 'student_count_asian_pacific_islander',\n",
       " 'student_count_black',\n",
       " 'student_count_english_learners',\n",
       " 'student_count_ethnicity_not_available',\n",
       " 'student_count_hawaiian_pacific_islander',\n",
       " 'student_count_hispanic',\n",
       " 'student_count_low_income',\n",
       " 'student_count_multi',\n",
       " 'student_count_native_american',\n",
       " 'student_count_other_ethnicity',\n",
       " 'student_count_special_ed',\n",
       " 'student_count_total',\n",
       " 'student_count_white',\n",
       " 'transportation_el',\n",
       " 'zip',\n",
       " 'Fully Accessible',\n",
       " 'Generally accessible']"
      ]
     },
     "execution_count": 8,
     "metadata": {},
     "output_type": "execute_result"
    }
   ],
   "source": [
    "list(df)"
   ]
  },
  {
   "cell_type": "code",
   "execution_count": 9,
   "metadata": {},
   "outputs": [
    {
     "name": "stdout",
     "output_type": "stream",
     "text": [
      "['administrator', 'classroom_languages', 'dress_code', 'grades_offered_all', 'graduation_rate_school', 'school_id', 'school_year', 'student_count_asian', 'student_count_asian_pacific_islander', 'student_count_black', 'student_count_english_learners', 'student_count_ethnicity_not_available', 'student_count_hawaiian_pacific_islander', 'student_count_hispanic', 'student_count_low_income', 'student_count_multi', 'student_count_native_american', 'student_count_other_ethnicity', 'student_count_special_ed', 'student_count_total', 'student_count_white', 'transportation_el', 'zip', 'Fully Accessible', 'Generally accessible']\n"
     ]
    }
   ],
   "source": [
    "#Convert student demographic counts to percent of total population\n",
    "print(list(df))\n",
    "demog_headings = ['student_count_asian', 'student_count_asian_pacific_islander', 'student_count_black', \n",
    "                  'student_count_english_learners', 'student_count_ethnicity_not_available', \n",
    "                  'student_count_hawaiian_pacific_islander', 'student_count_hispanic', \n",
    "                  'student_count_low_income', 'student_count_multi', 'student_count_native_american', \n",
    "                  'student_count_other_ethnicity', 'student_count_special_ed', 'student_count_white']\n",
    "for dem in demog_headings:\n",
    "    dem_per_heading = dem + '_perc'\n",
    "    df[dem_per_heading] = df[dem]/df['student_count_total']\n",
    "    df.drop(columns = dem, inplace=True)"
   ]
  },
  {
   "cell_type": "markdown",
   "metadata": {},
   "source": [
    "## Language Count Transform"
   ]
  },
  {
   "cell_type": "code",
   "execution_count": 10,
   "metadata": {
    "scrolled": true
   },
   "outputs": [
    {
     "data": {
      "text/plain": [
       "Spanish                                                                   121\n",
       "French, Spanish                                                            45\n",
       "Spanish, Spanish for Heritage Speakers                                     31\n",
       "French, Spanish, Spanish for Heritage Speakers                             13\n",
       "Chinese, French, Spanish                                                    8\n",
       "Mandarin, Spanish                                                           7\n",
       "Chinese, Spanish                                                            4\n",
       "American Sign Language                                                      4\n",
       "Chinese, French, Japanese, Latin, Spanish                                   4\n",
       "Chinese, French, German, Japanese, Latin, Spanish                           2\n",
       "Arabic, Chinese                                                             2\n",
       "American Sign Language, French, Spanish, Spanish for Heritage Speakers      2\n",
       "                                                                         ... \n",
       "Polish, Spanish                                                             2\n",
       "Latin, Spanish                                                              2\n",
       "Arabic, French, Korean, Polish, Spanish, Spanish for Heritage Speakers      2\n",
       "American Sign Language, French, Spanish                                     2\n",
       "Spanish, Turkish                                                            2\n",
       "Latin                                                                       2\n",
       "Polish, Spanish, Spanish for Heritage Speakers                              1\n",
       "Japanese, Spanish, Spanish for Heritage Speakers                            1\n",
       "Arabic, Japanese, Spanish, Spanish for Heritage Speakers                    1\n",
       "Arabic, French, Spanish, Spanish for Heritage Speakers                      1\n",
       "Arabic, French, Spanish                                                     1\n",
       "French, Polish, Spanish, Spanish for Heritage Speakers                      1\n",
       "Name: classroom_languages, Length: 33, dtype: int64"
      ]
     },
     "execution_count": 10,
     "metadata": {},
     "output_type": "execute_result"
    }
   ],
   "source": [
    "df.classroom_languages.value_counts()"
   ]
  },
  {
   "cell_type": "code",
   "execution_count": 11,
   "metadata": {},
   "outputs": [
    {
     "data": {
      "text/plain": [
       "87"
      ]
     },
     "execution_count": 11,
     "metadata": {},
     "output_type": "execute_result"
    }
   ],
   "source": [
    "df.classroom_languages.isna().sum()"
   ]
  },
  {
   "cell_type": "code",
   "execution_count": 12,
   "metadata": {},
   "outputs": [],
   "source": [
    "df_languages = df[['school_id', 'classroom_languages', 'school_year']]\n",
    "#the data appears to show the same value for languages across the two years\n",
    "#so the data will be transformed on one year to prevent duplication at time of merge\n",
    "df_languages = df_languages[df_languages['school_year'] == 'School Year 2016-2017']"
   ]
  },
  {
   "cell_type": "code",
   "execution_count": 13,
   "metadata": {},
   "outputs": [
    {
     "data": {
      "text/plain": [
       "0.0    64\n",
       "1.0    50\n",
       "2.0    14\n",
       "3.0     5\n",
       "4.0     3\n",
       "5.0     2\n",
       "9.0     1\n",
       "7.0     1\n",
       "Name: classroom_languages, dtype: int64"
      ]
     },
     "execution_count": 13,
     "metadata": {},
     "output_type": "execute_result"
    }
   ],
   "source": [
    "#Because this is a comma count, the values with zero commas have 1 language, \n",
    "#one comma have 2, etc.\n",
    "df_languages.classroom_languages.str.count(',').value_counts()"
   ]
  },
  {
   "cell_type": "code",
   "execution_count": 14,
   "metadata": {},
   "outputs": [
    {
     "name": "stderr",
     "output_type": "stream",
     "text": [
      "/anaconda3/lib/python3.7/site-packages/pandas/core/indexing.py:190: SettingWithCopyWarning: \n",
      "A value is trying to be set on a copy of a slice from a DataFrame\n",
      "\n",
      "See the caveats in the documentation: http://pandas.pydata.org/pandas-docs/stable/indexing.html#indexing-view-versus-copy\n",
      "  self._setitem_with_indexer(indexer, value)\n"
     ]
    }
   ],
   "source": [
    "#NaN will be treated as 0 in the language count. \n",
    "#Since language count will be performed with a comma count,\n",
    "#set nan to 15 and reset to 0 after the count is performed.\n",
    "df_languages.fillna(',,,,,,,,,,,,,,', inplace=True)\n",
    "df_languages['Classroom_Languages_count'] = (\n",
    "                                            df_languages['classroom_languages'].str.count(',') \n",
    "                                            + 1\n",
    "                                            )\n",
    "df_languages['Classroom_Languages_count'].loc[df_languages['Classroom_Languages_count'] == 15] = 0"
   ]
  },
  {
   "cell_type": "code",
   "execution_count": 15,
   "metadata": {},
   "outputs": [
    {
     "data": {
      "text/plain": [
       "1     64\n",
       "2     50\n",
       "0     44\n",
       "3     14\n",
       "4      5\n",
       "5      3\n",
       "6      2\n",
       "10     1\n",
       "8      1\n",
       "Name: Classroom_Languages_count, dtype: int64"
      ]
     },
     "execution_count": 15,
     "metadata": {},
     "output_type": "execute_result"
    }
   ],
   "source": [
    "#count values to show that now there are 44 schools with 0 languages\n",
    "df_languages['Classroom_Languages_count'].value_counts()"
   ]
  },
  {
   "cell_type": "code",
   "execution_count": 17,
   "metadata": {},
   "outputs": [],
   "source": [
    "df_languages.sort_values('Classroom_Languages_count', ascending = False)\n",
    "df_languages.drop(columns = ['classroom_languages', 'school_year'], inplace=True)\n",
    "df = pd.merge(df, df_languages, on='school_id')"
   ]
  },
  {
   "cell_type": "code",
   "execution_count": 20,
   "metadata": {},
   "outputs": [
    {
     "data": {
      "text/html": [
       "<div>\n",
       "<style scoped>\n",
       "    .dataframe tbody tr th:only-of-type {\n",
       "        vertical-align: middle;\n",
       "    }\n",
       "\n",
       "    .dataframe tbody tr th {\n",
       "        vertical-align: top;\n",
       "    }\n",
       "\n",
       "    .dataframe thead th {\n",
       "        text-align: right;\n",
       "    }\n",
       "</style>\n",
       "<table border=\"1\" class=\"dataframe\">\n",
       "  <thead>\n",
       "    <tr style=\"text-align: right;\">\n",
       "      <th></th>\n",
       "      <th>administrator</th>\n",
       "      <th>classroom_languages</th>\n",
       "      <th>dress_code</th>\n",
       "      <th>grades_offered_all</th>\n",
       "      <th>graduation_rate_school</th>\n",
       "      <th>school_id</th>\n",
       "      <th>school_year</th>\n",
       "      <th>student_count_total</th>\n",
       "      <th>transportation_el</th>\n",
       "      <th>zip</th>\n",
       "      <th>Fully Accessible</th>\n",
       "      <th>Generally accessible</th>\n",
       "      <th>student_count_asian_perc</th>\n",
       "      <th>student_count_asian_pacific_islander_perc</th>\n",
       "      <th>student_count_black_perc</th>\n",
       "      <th>student_count_english_learners_perc</th>\n",
       "      <th>student_count_ethnicity_not_available_perc</th>\n",
       "      <th>student_count_hawaiian_pacific_islander_perc</th>\n",
       "      <th>student_count_hispanic_perc</th>\n",
       "      <th>student_count_low_income_perc</th>\n",
       "      <th>student_count_multi_perc</th>\n",
       "      <th>student_count_native_american_perc</th>\n",
       "      <th>student_count_other_ethnicity_perc</th>\n",
       "      <th>student_count_special_ed_perc</th>\n",
       "      <th>student_count_white_perc</th>\n",
       "      <th>Classroom_Languages_count</th>\n",
       "    </tr>\n",
       "  </thead>\n",
       "  <tbody>\n",
       "    <tr>\n",
       "      <th>0</th>\n",
       "      <td>Ms. Irma Plaxico</td>\n",
       "      <td>None</td>\n",
       "      <td>N</td>\n",
       "      <td>9,10,11,12</td>\n",
       "      <td>NaN</td>\n",
       "      <td>400124</td>\n",
       "      <td>School Year 2016-2017</td>\n",
       "      <td>124</td>\n",
       "      <td>Green</td>\n",
       "      <td>60616.0</td>\n",
       "      <td>0</td>\n",
       "      <td>0</td>\n",
       "      <td>0.000</td>\n",
       "      <td>0.0</td>\n",
       "      <td>0.944</td>\n",
       "      <td>0.016</td>\n",
       "      <td>0.000</td>\n",
       "      <td>0.0</td>\n",
       "      <td>0.056</td>\n",
       "      <td>0.976</td>\n",
       "      <td>0.000</td>\n",
       "      <td>0.000</td>\n",
       "      <td>0.0</td>\n",
       "      <td>0.234</td>\n",
       "      <td>0.000</td>\n",
       "      <td>0</td>\n",
       "    </tr>\n",
       "    <tr>\n",
       "      <th>1</th>\n",
       "      <td>Ms. Irma Plaxico</td>\n",
       "      <td>None</td>\n",
       "      <td>N</td>\n",
       "      <td>9,10,11,12</td>\n",
       "      <td>NaN</td>\n",
       "      <td>400124</td>\n",
       "      <td>School Year 2017-2018</td>\n",
       "      <td>153</td>\n",
       "      <td>Green</td>\n",
       "      <td>NaN</td>\n",
       "      <td>0</td>\n",
       "      <td>0</td>\n",
       "      <td>0.000</td>\n",
       "      <td>0.0</td>\n",
       "      <td>0.974</td>\n",
       "      <td>0.007</td>\n",
       "      <td>0.000</td>\n",
       "      <td>0.0</td>\n",
       "      <td>0.020</td>\n",
       "      <td>0.634</td>\n",
       "      <td>0.000</td>\n",
       "      <td>0.000</td>\n",
       "      <td>0.0</td>\n",
       "      <td>0.242</td>\n",
       "      <td>0.007</td>\n",
       "      <td>0</td>\n",
       "    </tr>\n",
       "    <tr>\n",
       "      <th>2</th>\n",
       "      <td>Juan Carlos Ocon</td>\n",
       "      <td>French, Spanish</td>\n",
       "      <td>N</td>\n",
       "      <td>9,10,11,12</td>\n",
       "      <td>80.9</td>\n",
       "      <td>609764</td>\n",
       "      <td>School Year 2016-2017</td>\n",
       "      <td>1739</td>\n",
       "      <td>Blue, Pink, Red</td>\n",
       "      <td>60608.0</td>\n",
       "      <td>0</td>\n",
       "      <td>1</td>\n",
       "      <td>0.003</td>\n",
       "      <td>0.0</td>\n",
       "      <td>0.033</td>\n",
       "      <td>0.190</td>\n",
       "      <td>0.006</td>\n",
       "      <td>0.0</td>\n",
       "      <td>0.945</td>\n",
       "      <td>0.954</td>\n",
       "      <td>0.002</td>\n",
       "      <td>0.003</td>\n",
       "      <td>0.0</td>\n",
       "      <td>0.162</td>\n",
       "      <td>0.007</td>\n",
       "      <td>2</td>\n",
       "    </tr>\n",
       "    <tr>\n",
       "      <th>3</th>\n",
       "      <td>Juan Carlos Ocon</td>\n",
       "      <td>French, Spanish</td>\n",
       "      <td>N</td>\n",
       "      <td>9,10,11,12</td>\n",
       "      <td>78.6</td>\n",
       "      <td>609764</td>\n",
       "      <td>School Year 2017-2018</td>\n",
       "      <td>1706</td>\n",
       "      <td>Blue, Pink, Red</td>\n",
       "      <td>NaN</td>\n",
       "      <td>0</td>\n",
       "      <td>1</td>\n",
       "      <td>0.006</td>\n",
       "      <td>0.0</td>\n",
       "      <td>0.031</td>\n",
       "      <td>0.201</td>\n",
       "      <td>0.008</td>\n",
       "      <td>0.0</td>\n",
       "      <td>0.943</td>\n",
       "      <td>0.626</td>\n",
       "      <td>0.004</td>\n",
       "      <td>0.004</td>\n",
       "      <td>0.0</td>\n",
       "      <td>0.162</td>\n",
       "      <td>0.006</td>\n",
       "      <td>2</td>\n",
       "    </tr>\n",
       "    <tr>\n",
       "      <th>4</th>\n",
       "      <td>Ms. Carrie Spitz</td>\n",
       "      <td>Russian, Spanish</td>\n",
       "      <td>Y</td>\n",
       "      <td>9,10,11,12</td>\n",
       "      <td>90.3</td>\n",
       "      <td>400054</td>\n",
       "      <td>School Year 2016-2017</td>\n",
       "      <td>992</td>\n",
       "      <td>Blue, Brown</td>\n",
       "      <td>60639.0</td>\n",
       "      <td>0</td>\n",
       "      <td>1</td>\n",
       "      <td>0.001</td>\n",
       "      <td>0.0</td>\n",
       "      <td>0.030</td>\n",
       "      <td>0.121</td>\n",
       "      <td>0.000</td>\n",
       "      <td>0.0</td>\n",
       "      <td>0.953</td>\n",
       "      <td>0.944</td>\n",
       "      <td>0.002</td>\n",
       "      <td>0.005</td>\n",
       "      <td>0.0</td>\n",
       "      <td>0.107</td>\n",
       "      <td>0.009</td>\n",
       "      <td>2</td>\n",
       "    </tr>\n",
       "  </tbody>\n",
       "</table>\n",
       "</div>"
      ],
      "text/plain": [
       "      administrator classroom_languages dress_code grades_offered_all  \\\n",
       "0  Ms. Irma Plaxico                None          N         9,10,11,12   \n",
       "1  Ms. Irma Plaxico                None          N         9,10,11,12   \n",
       "2  Juan Carlos Ocon     French, Spanish          N         9,10,11,12   \n",
       "3  Juan Carlos Ocon     French, Spanish          N         9,10,11,12   \n",
       "4  Ms. Carrie Spitz    Russian, Spanish          Y         9,10,11,12   \n",
       "\n",
       "   graduation_rate_school  school_id            school_year  \\\n",
       "0                     NaN     400124  School Year 2016-2017   \n",
       "1                     NaN     400124  School Year 2017-2018   \n",
       "2                    80.9     609764  School Year 2016-2017   \n",
       "3                    78.6     609764  School Year 2017-2018   \n",
       "4                    90.3     400054  School Year 2016-2017   \n",
       "\n",
       "   student_count_total transportation_el      zip  Fully Accessible  \\\n",
       "0                  124             Green  60616.0                 0   \n",
       "1                  153             Green      NaN                 0   \n",
       "2                 1739   Blue, Pink, Red  60608.0                 0   \n",
       "3                 1706   Blue, Pink, Red      NaN                 0   \n",
       "4                  992       Blue, Brown  60639.0                 0   \n",
       "\n",
       "   Generally accessible  student_count_asian_perc  \\\n",
       "0                     0                     0.000   \n",
       "1                     0                     0.000   \n",
       "2                     1                     0.003   \n",
       "3                     1                     0.006   \n",
       "4                     1                     0.001   \n",
       "\n",
       "   student_count_asian_pacific_islander_perc  student_count_black_perc  \\\n",
       "0                                        0.0                     0.944   \n",
       "1                                        0.0                     0.974   \n",
       "2                                        0.0                     0.033   \n",
       "3                                        0.0                     0.031   \n",
       "4                                        0.0                     0.030   \n",
       "\n",
       "   student_count_english_learners_perc  \\\n",
       "0                                0.016   \n",
       "1                                0.007   \n",
       "2                                0.190   \n",
       "3                                0.201   \n",
       "4                                0.121   \n",
       "\n",
       "   student_count_ethnicity_not_available_perc  \\\n",
       "0                                       0.000   \n",
       "1                                       0.000   \n",
       "2                                       0.006   \n",
       "3                                       0.008   \n",
       "4                                       0.000   \n",
       "\n",
       "   student_count_hawaiian_pacific_islander_perc  student_count_hispanic_perc  \\\n",
       "0                                           0.0                        0.056   \n",
       "1                                           0.0                        0.020   \n",
       "2                                           0.0                        0.945   \n",
       "3                                           0.0                        0.943   \n",
       "4                                           0.0                        0.953   \n",
       "\n",
       "   student_count_low_income_perc  student_count_multi_perc  \\\n",
       "0                          0.976                     0.000   \n",
       "1                          0.634                     0.000   \n",
       "2                          0.954                     0.002   \n",
       "3                          0.626                     0.004   \n",
       "4                          0.944                     0.002   \n",
       "\n",
       "   student_count_native_american_perc  student_count_other_ethnicity_perc  \\\n",
       "0                               0.000                                 0.0   \n",
       "1                               0.000                                 0.0   \n",
       "2                               0.003                                 0.0   \n",
       "3                               0.004                                 0.0   \n",
       "4                               0.005                                 0.0   \n",
       "\n",
       "   student_count_special_ed_perc  student_count_white_perc  \\\n",
       "0                          0.234                     0.000   \n",
       "1                          0.242                     0.007   \n",
       "2                          0.162                     0.007   \n",
       "3                          0.162                     0.006   \n",
       "4                          0.107                     0.009   \n",
       "\n",
       "   Classroom_Languages_count  \n",
       "0                          0  \n",
       "1                          0  \n",
       "2                          2  \n",
       "3                          2  \n",
       "4                          2  "
      ]
     },
     "execution_count": 20,
     "metadata": {},
     "output_type": "execute_result"
    }
   ],
   "source": [
    "df.head()"
   ]
  },
  {
   "cell_type": "markdown",
   "metadata": {},
   "source": [
    "## Merge Income Data Per Zip for 16/17 and 17/18"
   ]
  },
  {
   "cell_type": "code",
   "execution_count": null,
   "metadata": {},
   "outputs": [],
   "source": [
    "df_2016 = df[df['School_Year'] == 'School Year 2016-2017']\n",
    "df_2016_income = pd.read_csv('data/meanHHincome_2016.csv', header=None)\n",
    "df_2016_income.columns = ['Zip_y', 'Zip_Mean_Income']\n",
    "df_2016 = pd.merge(df_2016, df_2016_income, on = 'Zip_y' )"
   ]
  },
  {
   "cell_type": "code",
   "execution_count": null,
   "metadata": {},
   "outputs": [],
   "source": [
    "df_2017 = df[df['School_Year'] == 'School Year 2017-2018']\n",
    "df_2017_income = pd.read_csv('data/meanHHincome_2017.csv', header=None)\n",
    "df_2017_income.columns = ['Zip_y', 'Zip_Mean_Income']\n",
    "df_2017 = pd.merge(df_2017, df_2017_income, on = 'Zip_y' )"
   ]
  },
  {
   "cell_type": "code",
   "execution_count": null,
   "metadata": {},
   "outputs": [],
   "source": [
    "df = df_2016.append(df_2017)"
   ]
  },
  {
   "cell_type": "code",
   "execution_count": null,
   "metadata": {},
   "outputs": [],
   "source": [
    "print(list(df))"
   ]
  },
  {
   "cell_type": "code",
   "execution_count": null,
   "metadata": {},
   "outputs": [],
   "source": [
    "def replace_comma(row):\n",
    "    return float(row['Zip_Mean_Income'].replace(',', ''))\n",
    "\n",
    "df['Zip_Mean_Income'] = df.apply(lambda row: replace_comma(row), axis =1) \n"
   ]
  },
  {
   "cell_type": "markdown",
   "metadata": {},
   "source": [
    "## El Dummie Transform"
   ]
  },
  {
   "cell_type": "code",
   "execution_count": null,
   "metadata": {},
   "outputs": [],
   "source": [
    "el_df = df[['School_ID', 'Transportation_El', 'School_Year']]"
   ]
  },
  {
   "cell_type": "code",
   "execution_count": null,
   "metadata": {},
   "outputs": [],
   "source": [
    "el_df.head(10)"
   ]
  },
  {
   "cell_type": "code",
   "execution_count": null,
   "metadata": {},
   "outputs": [],
   "source": [
    "#Again, like languages, looks like El values are consistent across years.\n",
    "el_df = el_df[el_df['School_Year'] == 'School Year 2017-2018']"
   ]
  },
  {
   "cell_type": "code",
   "execution_count": null,
   "metadata": {},
   "outputs": [],
   "source": [
    "el_df['Transportation_El'].value_counts()"
   ]
  },
  {
   "cell_type": "code",
   "execution_count": null,
   "metadata": {},
   "outputs": [],
   "source": [
    "#replace NaN with no_el so that with dummy variable I can drop No_El\n",
    "el_df.fillna(value = 'No_El', inplace=True)"
   ]
  },
  {
   "cell_type": "code",
   "execution_count": null,
   "metadata": {},
   "outputs": [],
   "source": [
    "el_df"
   ]
  },
  {
   "cell_type": "code",
   "execution_count": null,
   "metadata": {},
   "outputs": [],
   "source": [
    "el_dummies = el_df['Transportation_El'].str.get_dummies(sep = ', ')"
   ]
  },
  {
   "cell_type": "code",
   "execution_count": null,
   "metadata": {},
   "outputs": [],
   "source": [
    "el_dummies"
   ]
  },
  {
   "cell_type": "code",
   "execution_count": null,
   "metadata": {},
   "outputs": [],
   "source": [
    "el_dummies.drop(columns = 'No_El', inplace=True)"
   ]
  },
  {
   "cell_type": "code",
   "execution_count": null,
   "metadata": {},
   "outputs": [],
   "source": [
    "el_df = pd.merge(el_df,el_dummies, left_index=True, right_index=True)"
   ]
  },
  {
   "cell_type": "code",
   "execution_count": null,
   "metadata": {},
   "outputs": [],
   "source": [
    "el_df.head()"
   ]
  },
  {
   "cell_type": "code",
   "execution_count": null,
   "metadata": {},
   "outputs": [],
   "source": [
    "el_df.drop(columns = ['Transportation_El', 'School_Year'], inplace=True)"
   ]
  },
  {
   "cell_type": "code",
   "execution_count": null,
   "metadata": {},
   "outputs": [],
   "source": [
    "#decide which column to drop for dummies based on column count\n",
    "line_list = ['Blue','Brown','Green','Orange','Pink','Purple','Red']\n",
    "for line in line_list:\n",
    "    print(el_df[line].value_counts())"
   ]
  },
  {
   "cell_type": "code",
   "execution_count": null,
   "metadata": {},
   "outputs": [],
   "source": [
    "df = pd.merge(df, el_df, on='School_ID')"
   ]
  },
  {
   "cell_type": "code",
   "execution_count": null,
   "metadata": {
    "scrolled": true
   },
   "outputs": [],
   "source": [
    "df.drop(columns = ['Transportation_El'], inplace=True)"
   ]
  },
  {
   "cell_type": "code",
   "execution_count": null,
   "metadata": {},
   "outputs": [],
   "source": [
    "df.info()"
   ]
  },
  {
   "cell_type": "markdown",
   "metadata": {},
   "source": [
    "## Make Dress Code Binary"
   ]
  },
  {
   "cell_type": "code",
   "execution_count": null,
   "metadata": {},
   "outputs": [],
   "source": [
    "df[\"Dress_Code_dummie\"] = pd.get_dummies(df['Dress_Code'], drop_first = True)\n"
   ]
  },
  {
   "cell_type": "code",
   "execution_count": null,
   "metadata": {},
   "outputs": [],
   "source": [
    "df.drop(columns='Dress_Code', inplace=True)"
   ]
  },
  {
   "cell_type": "code",
   "execution_count": null,
   "metadata": {},
   "outputs": [],
   "source": [
    "df.head()"
   ]
  },
  {
   "cell_type": "markdown",
   "metadata": {},
   "source": [
    "## Grades offered count"
   ]
  },
  {
   "cell_type": "code",
   "execution_count": null,
   "metadata": {},
   "outputs": [],
   "source": [
    "df.Grades_Offered_All.value_counts()"
   ]
  },
  {
   "cell_type": "code",
   "execution_count": null,
   "metadata": {},
   "outputs": [],
   "source": [
    "df_grades = df[['Grades_Offered_All', 'School_ID']]\n",
    "\n",
    "                                            "
   ]
  },
  {
   "cell_type": "code",
   "execution_count": null,
   "metadata": {},
   "outputs": [],
   "source": [
    "df_grades['grades_offered_count'] = (\n",
    "                                            df_grades['Grades_Offered_All'].str.count(',') \n",
    "                                            + 1\n",
    "                                            )\n",
    "  \n",
    "    \n",
    "    "
   ]
  },
  {
   "cell_type": "code",
   "execution_count": null,
   "metadata": {},
   "outputs": [],
   "source": [
    "df_grades.grades_offered_count.value_counts()"
   ]
  },
  {
   "cell_type": "code",
   "execution_count": null,
   "metadata": {},
   "outputs": [],
   "source": [
    "df_grades.drop(columns = ['Grades_Offered_All'], inplace=True)"
   ]
  },
  {
   "cell_type": "code",
   "execution_count": null,
   "metadata": {},
   "outputs": [],
   "source": [
    "df_grades.drop_duplicates('School_ID', inplace=True)\n",
    "df_grades.sort_values('grades_offered_count')"
   ]
  },
  {
   "cell_type": "code",
   "execution_count": null,
   "metadata": {},
   "outputs": [],
   "source": [
    "df = pd.merge(df, df_grades, on='School_ID')"
   ]
  },
  {
   "cell_type": "code",
   "execution_count": null,
   "metadata": {},
   "outputs": [],
   "source": [
    "df.drop(columns = ['Classroom_Languages', 'Grades_Offered_All'], inplace=True)"
   ]
  },
  {
   "cell_type": "code",
   "execution_count": null,
   "metadata": {},
   "outputs": [],
   "source": [
    "df.head()"
   ]
  },
  {
   "cell_type": "markdown",
   "metadata": {},
   "source": [
    "## Charter Dummie"
   ]
  },
  {
   "cell_type": "code",
   "execution_count": null,
   "metadata": {},
   "outputs": [],
   "source": [
    "df_networks = df[['School_ID', 'Network', 'School_Year']]"
   ]
  },
  {
   "cell_type": "code",
   "execution_count": null,
   "metadata": {},
   "outputs": [],
   "source": [
    "df_networks.Network.value_counts()"
   ]
  },
  {
   "cell_type": "code",
   "execution_count": null,
   "metadata": {},
   "outputs": [],
   "source": [
    "df_networks2017 = df_networks[df_networks['School_Year']=='School Year 2017-2018']"
   ]
  },
  {
   "cell_type": "code",
   "execution_count": null,
   "metadata": {},
   "outputs": [],
   "source": [
    "df_networks2017.info()"
   ]
  },
  {
   "cell_type": "code",
   "execution_count": null,
   "metadata": {},
   "outputs": [],
   "source": [
    "def charter(row):\n",
    "    if row['Network'] == 'Charter':\n",
    "        return 1\n",
    "    else:\n",
    "        return 0\n"
   ]
  },
  {
   "cell_type": "code",
   "execution_count": null,
   "metadata": {},
   "outputs": [],
   "source": [
    "df_networks2017['charter'] = df_networks2017.apply(lambda row: charter(row), axis=1)\n",
    "df_networks2017.drop(columns=['School_Year', 'Network'], inplace=True)"
   ]
  },
  {
   "cell_type": "code",
   "execution_count": null,
   "metadata": {},
   "outputs": [],
   "source": [
    "df_networks2017.head()"
   ]
  },
  {
   "cell_type": "code",
   "execution_count": null,
   "metadata": {},
   "outputs": [],
   "source": [
    "df_networks2017.charter.value_counts()"
   ]
  },
  {
   "cell_type": "code",
   "execution_count": null,
   "metadata": {},
   "outputs": [],
   "source": [
    "df = pd.merge(df, df_networks2017, on='School_ID')"
   ]
  },
  {
   "cell_type": "code",
   "execution_count": null,
   "metadata": {},
   "outputs": [],
   "source": [
    "df.drop(columns='Network', inplace=True)"
   ]
  },
  {
   "cell_type": "markdown",
   "metadata": {},
   "source": [
    "## Admin. Gender"
   ]
  },
  {
   "cell_type": "code",
   "execution_count": null,
   "metadata": {},
   "outputs": [],
   "source": [
    "import re"
   ]
  },
  {
   "cell_type": "code",
   "execution_count": null,
   "metadata": {},
   "outputs": [],
   "source": [
    "df_admin = df[['Administrator', 'School_ID']]"
   ]
  },
  {
   "cell_type": "code",
   "execution_count": null,
   "metadata": {},
   "outputs": [],
   "source": [
    "df_admin.drop_duplicates('School_ID')"
   ]
  },
  {
   "cell_type": "code",
   "execution_count": null,
   "metadata": {},
   "outputs": [],
   "source": [
    "gender = re.compile(r'Mrs|Ms|Mr')\n",
    "#female_title = re.compile(r'Mrs|Ms')"
   ]
  },
  {
   "cell_type": "code",
   "execution_count": null,
   "metadata": {},
   "outputs": [],
   "source": [
    "df_admin['gender_marker'] = df_admin['Administrator'].astype(str).str.match(gender)\n",
    "df_admin.drop_duplicates('School_ID', inplace=True)\n"
   ]
  },
  {
   "cell_type": "code",
   "execution_count": null,
   "metadata": {},
   "outputs": [],
   "source": [
    "df_admin.gender_marker.value_counts()"
   ]
  },
  {
   "cell_type": "code",
   "execution_count": null,
   "metadata": {},
   "outputs": [],
   "source": [
    "male_marker = re.compile(r'Mr|Juan|Richard|Ali|Kevin|Douglas|Raul|Victor|Abdul|Charles|Antonio|Brian|Francisco|\\\n",
    "        Sheldon|Michael|Stephen|Peter|Gregory|Trent|Myron|Gerald|Elias|Octavio|Matthew|\\\n",
    "        David|Leonard|Ferdinand|Fernando|Mark|Patrick|George|Wayne|Anthony|William|\\\n",
    "        Stephen|Timothy|Paul')\n",
    "female_marker = re.compile(r'Mrs|Ms|Dr. Hillyn|Sharnette|Tressie|Leticia|Priscilla|Joyce|Stephanie|Tanya|Veronica|Kathy|\\\n",
    "         Sandra|Torry|Stephanie|Carolyn|Milena|Vanesa|Breanda|Laura|Kelly|Anna|Nancy|\\\n",
    "         Tamika|Janice|Mary|Shanele|Falilat|Dr.Femi|Noel|Tawanna|Tonya|Sandra|Dr. Vanesa|Tamika')\n",
    "print(df_admin[df_admin['gender_marker']==False].Administrator.values)\n"
   ]
  },
  {
   "cell_type": "code",
   "execution_count": null,
   "metadata": {},
   "outputs": [],
   "source": [
    "df_admin['gender_f'] = df_admin['Administrator'].astype(str).str.match(female_marker)"
   ]
  },
  {
   "cell_type": "code",
   "execution_count": null,
   "metadata": {},
   "outputs": [],
   "source": [
    "df_admin[df_admin['gender_f'] == False].values"
   ]
  },
  {
   "cell_type": "code",
   "execution_count": null,
   "metadata": {},
   "outputs": [],
   "source": [
    "df_admin.gender_f.value_counts()"
   ]
  },
  {
   "cell_type": "code",
   "execution_count": null,
   "metadata": {},
   "outputs": [],
   "source": [
    "list(df_admin)"
   ]
  },
  {
   "cell_type": "code",
   "execution_count": null,
   "metadata": {},
   "outputs": [],
   "source": [
    "df_admin.drop(columns = ['Administrator', 'gender_marker'], inplace=True)"
   ]
  },
  {
   "cell_type": "code",
   "execution_count": null,
   "metadata": {},
   "outputs": [],
   "source": [
    "df = pd.merge(df, df_admin, on='School_ID')\n"
   ]
  },
  {
   "cell_type": "code",
   "execution_count": null,
   "metadata": {},
   "outputs": [],
   "source": [
    "def gender(row):\n",
    "    if row['gender_f'] == True:\n",
    "        return 1\n",
    "    else:\n",
    "        return 0"
   ]
  },
  {
   "cell_type": "code",
   "execution_count": null,
   "metadata": {},
   "outputs": [],
   "source": [
    "df['gender_f_bn'] = df.apply(lambda row: gender(row), axis=1)"
   ]
  },
  {
   "cell_type": "code",
   "execution_count": null,
   "metadata": {
    "scrolled": true
   },
   "outputs": [],
   "source": [
    "df.head(5)"
   ]
  },
  {
   "cell_type": "code",
   "execution_count": null,
   "metadata": {},
   "outputs": [],
   "source": [
    "df.drop(columns = ['Administrator', 'gender_f'], inplace = True)\n"
   ]
  },
  {
   "cell_type": "code",
   "execution_count": null,
   "metadata": {},
   "outputs": [],
   "source": [
    "df.head()"
   ]
  },
  {
   "cell_type": "markdown",
   "metadata": {},
   "source": [
    "## Reflect and log transform graduation rate"
   ]
  },
  {
   "cell_type": "code",
   "execution_count": null,
   "metadata": {},
   "outputs": [],
   "source": [
    "import seaborn as sns\n",
    "import matplotlib.pyplot as plt"
   ]
  },
  {
   "cell_type": "code",
   "execution_count": null,
   "metadata": {},
   "outputs": [],
   "source": [
    "plot = sns.distplot(df['Graduation_Rate_School'])\n",
    "plt.title('Graduation Rates in CPS High Schools - 2017/2018')\n",
    "plt.xlabel('Graduation Rate')"
   ]
  },
  {
   "cell_type": "code",
   "execution_count": null,
   "metadata": {},
   "outputs": [],
   "source": [
    "df['Grad_Rate_Reflected'] = 100 - df['Graduation_Rate_School']"
   ]
  },
  {
   "cell_type": "code",
   "execution_count": null,
   "metadata": {},
   "outputs": [],
   "source": [
    "df['log_grad_rate'] = np.log(df['Grad_Rate_Reflected'])"
   ]
  },
  {
   "cell_type": "code",
   "execution_count": null,
   "metadata": {},
   "outputs": [],
   "source": [
    "#Reflecting and log transforming the data makes it more normal.\n",
    "sns.distplot(df['log_grad_rate'])"
   ]
  },
  {
   "cell_type": "code",
   "execution_count": null,
   "metadata": {},
   "outputs": [],
   "source": [
    "df.drop(columns = ['Graduation_Rate_School', 'Grad_Rate_Reflected'], inplace=True)"
   ]
  },
  {
   "cell_type": "code",
   "execution_count": null,
   "metadata": {},
   "outputs": [],
   "source": [
    "list(df)"
   ]
  },
  {
   "cell_type": "code",
   "execution_count": null,
   "metadata": {},
   "outputs": [],
   "source": [
    "len(list(df))"
   ]
  },
  {
   "cell_type": "markdown",
   "metadata": {},
   "source": [
    "## Pickle 29 Feature Columns"
   ]
  },
  {
   "cell_type": "code",
   "execution_count": null,
   "metadata": {},
   "outputs": [],
   "source": [
    "df.drop(columns = ['School_ID', 'Zip_y', 'School_Year'], inplace=True)"
   ]
  },
  {
   "cell_type": "code",
   "execution_count": null,
   "metadata": {},
   "outputs": [],
   "source": [
    "with open('data/pickles/29feat_formodeling.pickle', 'wb') as to_write:\n",
    "    pickle.dump(df, to_write)"
   ]
  },
  {
   "cell_type": "markdown",
   "metadata": {},
   "source": [
    "## Can't Get Working: After School Hours"
   ]
  },
  {
   "cell_type": "code",
   "execution_count": null,
   "metadata": {},
   "outputs": [],
   "source": []
  },
  {
   "cell_type": "code",
   "execution_count": null,
   "metadata": {},
   "outputs": [],
   "source": [
    "#df_as_hours = df[['After_School_Hours', 'School_ID']]"
   ]
  },
  {
   "cell_type": "code",
   "execution_count": null,
   "metadata": {},
   "outputs": [],
   "source": [
    "#print(df_as_hours['After_School_Hours'].value_counts())"
   ]
  },
  {
   "cell_type": "code",
   "execution_count": null,
   "metadata": {},
   "outputs": [],
   "source": [
    "#df_as_hours['as_start'] = df_as_hours['After_School_Hours'].astype(str).str[0:4]"
   ]
  },
  {
   "cell_type": "code",
   "execution_count": null,
   "metadata": {},
   "outputs": [],
   "source": [
    "#df_as_hours.head(30)"
   ]
  },
  {
   "cell_type": "code",
   "execution_count": null,
   "metadata": {},
   "outputs": [],
   "source": [
    "#df_as_hours.as_start.value_counts()"
   ]
  },
  {
   "cell_type": "code",
   "execution_count": null,
   "metadata": {},
   "outputs": [],
   "source": [
    "#df_as_hours['no_pm'] = df_as_hours.After_School_Hours.str.replace('P.M.', '')"
   ]
  },
  {
   "cell_type": "code",
   "execution_count": null,
   "metadata": {},
   "outputs": [],
   "source": [
    "#df_as_hours['no_pm'] = df_as_hours.no_pm.str.replace('PM', '')"
   ]
  },
  {
   "cell_type": "code",
   "execution_count": null,
   "metadata": {},
   "outputs": [],
   "source": [
    "#df_as_hours['as_end'] = df_as_hours['no_pm'].astype(str).str[-5:]"
   ]
  },
  {
   "cell_type": "code",
   "execution_count": null,
   "metadata": {},
   "outputs": [],
   "source": [
    "#df_as_hours.as_end = df_as_hours.as_end.str.replace('-', '')"
   ]
  },
  {
   "cell_type": "code",
   "execution_count": null,
   "metadata": {},
   "outputs": [],
   "source": [
    "#df_as_hours.as_end.value_counts()"
   ]
  },
  {
   "cell_type": "code",
   "execution_count": null,
   "metadata": {},
   "outputs": [],
   "source": [
    "#import re"
   ]
  },
  {
   "cell_type": "code",
   "execution_count": null,
   "metadata": {},
   "outputs": [],
   "source": [
    "#after_end_dash = re.compile(r\"\\-(.*)\")\n",
    "#after_end_to = re.compile(r\"t(.*)\")"
   ]
  },
  {
   "cell_type": "code",
   "execution_count": null,
   "metadata": {},
   "outputs": [],
   "source": [
    "'''\n",
    "for hour_range in df['After_School_Hours'].items():\n",
    "    #print(hour_range[1])\n",
    "    if '-' in str(hour_range[1]):\n",
    "        df_as_hours['as_stop'] = after_end_dash.search(hour_range[1])\n",
    "    elif 'to' in str(hour_range[1]):\n",
    "            df_as_hours['as_stop']=after_end_to.search(hour_range[1])\n",
    "\n",
    "'''\n",
    "\n"
   ]
  },
  {
   "cell_type": "code",
   "execution_count": null,
   "metadata": {},
   "outputs": [],
   "source": [
    "#df_as_hours.as_stop.value_counts()"
   ]
  },
  {
   "cell_type": "code",
   "execution_count": null,
   "metadata": {},
   "outputs": [],
   "source": []
  },
  {
   "cell_type": "code",
   "execution_count": null,
   "metadata": {},
   "outputs": [],
   "source": []
  }
 ],
 "metadata": {
  "kernelspec": {
   "display_name": "Python 3",
   "language": "python",
   "name": "python3"
  },
  "language_info": {
   "codemirror_mode": {
    "name": "ipython",
    "version": 3
   },
   "file_extension": ".py",
   "mimetype": "text/x-python",
   "name": "python",
   "nbconvert_exporter": "python",
   "pygments_lexer": "ipython3",
   "version": "3.7.2"
  },
  "toc": {
   "base_numbering": 1,
   "nav_menu": {},
   "number_sections": true,
   "sideBar": true,
   "skip_h1_title": false,
   "title_cell": "Table of Contents",
   "title_sidebar": "Contents",
   "toc_cell": false,
   "toc_position": {},
   "toc_section_display": true,
   "toc_window_display": true
  },
  "varInspector": {
   "cols": {
    "lenName": 16,
    "lenType": 16,
    "lenVar": 40
   },
   "kernels_config": {
    "python": {
     "delete_cmd_postfix": "",
     "delete_cmd_prefix": "del ",
     "library": "var_list.py",
     "varRefreshCmd": "print(var_dic_list())"
    },
    "r": {
     "delete_cmd_postfix": ") ",
     "delete_cmd_prefix": "rm(",
     "library": "var_list.r",
     "varRefreshCmd": "cat(var_dic_list()) "
    }
   },
   "types_to_exclude": [
    "module",
    "function",
    "builtin_function_or_method",
    "instance",
    "_Feature"
   ],
   "window_display": false
  }
 },
 "nbformat": 4,
 "nbformat_minor": 2
}
