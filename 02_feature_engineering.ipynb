{
 "cells": [
  {
   "cell_type": "code",
   "execution_count": 1,
   "metadata": {},
   "outputs": [],
   "source": [
    "import pandas as pd\n",
    "import numpy as np\n",
    "import pickle\n",
    "\n",
    "pd.set_option('display.max_columns', None)\n",
    "pd.set_option('display.max_rows', 25)\n",
    "pd.set_option('display.precision', 3)\n",
    "\n",
    "import psycopg2 as pg\n",
    "import pandas.io.sql as pd_sql"
   ]
  },
  {
   "cell_type": "code",
   "execution_count": 2,
   "metadata": {},
   "outputs": [],
   "source": [
    "connection_args = {\n",
    "    'host': 'localhost',  \n",
    "    'dbname': 'cps',    \n",
    "    'port': 5432\n",
    "}\n",
    "\n",
    "conn = pg.connect(**connection_args)"
   ]
  },
  {
   "cell_type": "markdown",
   "metadata": {},
   "source": [
    "# The following data is not considered in this model\n",
    "                   Address', 'Administrator_Title', 'CPS_School_Profile', \n",
    "                   'City', 'Classification_Description', 'Closed_For_Enrollment_Date',\n",
    "                  'College_Enrollment_Rate_Mean', 'College_Enrollment_Rate_School',\n",
    "                  'Demographic_Description', 'Earliest_Drop_Off_Time', 'Facebook', \n",
    "                  'Fax', 'Fifth_Contact_Name', 'Fifth_Contact_Title', 'Finance_ID', \n",
    "                  'Fourth_Contact_Name', 'Fourth_Contact_Title', 'Freshman_Start_End_Time',\n",
    "                  'Grades_Offered', 'Graduation_Rate_Mean', 'Is_Elementary_School', \n",
    "                  'Is_GoCPS_Elementary', 'Is_GoCPS_High_School', 'Is_GoCPS_PreK', \n",
    "                  'Is_High_School', 'Is_Middle_School', 'Is_Pre_School', 'Kindergarten_School_Day',\n",
    "                  'Legacy_Unit_ID', 'Long_Name', 'Mean_ACT', 'Open_For_Enrollment_Date', \n",
    "                  'Overall_Rating', 'Phone', 'Pinterest', 'PreK_School_Day', 'PreSchool_Inclusive', \n",
    "                  'Preschool_Instructional', 'Primary_Category', 'Rating_Statement', 'Rating_Status', \n",
    "                  'Refugee_Services', 'School_Type','Secondary_Contact', 'Secondary_Contact_Title', \n",
    "                  'Seventh_Contact_Name', 'Seventh_Contact_Title', 'Short_Name', 'Short_Name', \n",
    "                  'Significantly_Modified', 'Sixth_Contact_Name', 'Sixth_Contact_Title', 'State',\n",
    "                  'Statistics_Description', 'Summary', 'Third_Contact_Name', 'Third_Contact_Title', \n",
    "                  'Title_1_Eligible', 'Twitter', 'Visual_Impairments', 'Website',\n",
    "                  'Youtube', 'Zip_x', 'Attendance_Boundaries','Average_ACT_School', \n",
    "                   'Bilingual_Services','Hard_Of_Hearing', 'Is_GoCPS_Participant',\n",
    "                  'School_Latitude', 'School_Longitude', 'Average_ACT_School', 'Location',\n",
    "                   'Transportation_Bus','Transportation_Metra', 'After_School_Hours','School_Hours'"
   ]
  },
  {
   "cell_type": "code",
   "execution_count": 3,
   "metadata": {},
   "outputs": [],
   "source": [
    "target_columns_1617 = '''School_Id,\n",
    "                      Administrator,\n",
    "                      Grades_Offered_All,\n",
    "                      Student_Count_Total,\n",
    "                      Student_Count_Low_Income,\n",
    "                      Student_Count_Special_Ed,\n",
    "                      Student_Count_English_Learners,\n",
    "                      Student_Count_Black,\n",
    "                      Student_Count_Hispanic,\n",
    "                      Student_Count_White,\n",
    "                      Student_Count_Asian,\n",
    "                      Student_Count_Native_American,\n",
    "                      Student_Count_Other_Ethnicity,\n",
    "                      Student_Count_Asian_Pacific_Islander,\n",
    "                      Student_Count_Multi,\n",
    "                      Student_Count_Hawaiian_Pacific_Islander,\n",
    "                      Student_Count_Ethnicity_Not_Available,\n",
    "                      ADA_Accessible,\n",
    "                      Dress_Code,\n",
    "                      Classroom_Languages,\n",
    "                      Transportation_El,\n",
    "                      Graduation_Rate_School,\n",
    "                      School_Year,\n",
    "                      Zip\n",
    "                '''"
   ]
  },
  {
   "cell_type": "code",
   "execution_count": 4,
   "metadata": {},
   "outputs": [],
   "source": [
    "#no ADA accesible field for 1718, zip not differentiated for 1718\n",
    "target_columns_1718 = '''School_Id,\n",
    "                      Administrator,\n",
    "                      Grades_Offered_All,\n",
    "                      Student_Count_Total,\n",
    "                      Student_Count_Low_Income,\n",
    "                      Student_Count_Special_Ed,\n",
    "                      Student_Count_English_Learners,\n",
    "                      Student_Count_Black,\n",
    "                      Student_Count_Hispanic,\n",
    "                      Student_Count_White,\n",
    "                      Student_Count_Asian,\n",
    "                      Student_Count_Native_American,\n",
    "                      Student_Count_Other_Ethnicity,\n",
    "                      Student_Count_Asian_Pacific_Islander,\n",
    "                      Student_Count_Multi,\n",
    "                      Student_Count_Hawaiian_Pacific_Islander,\n",
    "                      Student_Count_Ethnicity_Not_Available,\n",
    "                      Dress_Code,\n",
    "                      Classroom_Languages,\n",
    "                      Transportation_El,\n",
    "                      Graduation_Rate_School,\n",
    "                      School_Year,\n",
    "                      Network\n",
    "                '''"
   ]
  },
  {
   "cell_type": "code",
   "execution_count": 5,
   "metadata": {},
   "outputs": [
    {
     "name": "stderr",
     "output_type": "stream",
     "text": [
      "/anaconda3/lib/python3.7/site-packages/ipykernel_launcher.py:7: FutureWarning: Sorting because non-concatenation axis is not aligned. A future version\n",
      "of pandas will change to not sort by default.\n",
      "\n",
      "To accept the future behavior, pass 'sort=False'.\n",
      "\n",
      "To retain the current behavior and silence the warning, pass 'sort=True'.\n",
      "\n",
      "  import sys\n"
     ]
    }
   ],
   "source": [
    "cur = conn.cursor()\n",
    "query_1617 = ('''SELECT %s FROM allschools_1617 WHERE is_high_school = 'Y' '''%target_columns_1617);\n",
    "df_hs_201617 = pd_sql.read_sql(query_1617, conn)\n",
    "query_1718 = ('''SELECT %s FROM allschools_1718 WHERE is_high_school = 'Y' ''' %target_columns_1718);\n",
    "df_hs_201718 = pd_sql.read_sql(query_1718, conn)\n",
    "dfs=[df_hs_201617,df_hs_201718]\n",
    "df = pd.concat(dfs)"
   ]
  },
  {
   "cell_type": "code",
   "execution_count": 6,
   "metadata": {},
   "outputs": [
    {
     "name": "stdout",
     "output_type": "stream",
     "text": [
      "<class 'pandas.core.frame.DataFrame'>\n",
      "Int64Index: 368 entries, 0 to 183\n",
      "Data columns (total 25 columns):\n",
      "ada_accessible                             184 non-null object\n",
      "administrator                              366 non-null object\n",
      "classroom_languages                        279 non-null object\n",
      "dress_code                                 368 non-null object\n",
      "grades_offered_all                         368 non-null object\n",
      "graduation_rate_school                     245 non-null float64\n",
      "network                                    179 non-null object\n",
      "school_id                                  368 non-null int64\n",
      "school_year                                368 non-null object\n",
      "student_count_asian                        368 non-null int64\n",
      "student_count_asian_pacific_islander       368 non-null int64\n",
      "student_count_black                        368 non-null int64\n",
      "student_count_english_learners             368 non-null int64\n",
      "student_count_ethnicity_not_available      368 non-null int64\n",
      "student_count_hawaiian_pacific_islander    368 non-null int64\n",
      "student_count_hispanic                     368 non-null int64\n",
      "student_count_low_income                   368 non-null int64\n",
      "student_count_multi                        368 non-null int64\n",
      "student_count_native_american              368 non-null int64\n",
      "student_count_other_ethnicity              368 non-null int64\n",
      "student_count_special_ed                   368 non-null int64\n",
      "student_count_total                        368 non-null int64\n",
      "student_count_white                        368 non-null int64\n",
      "transportation_el                          262 non-null object\n",
      "zip                                        184 non-null float64\n",
      "dtypes: float64(2), int64(15), object(8)\n",
      "memory usage: 74.8+ KB\n"
     ]
    }
   ],
   "source": [
    "df.info()"
   ]
  },
  {
   "cell_type": "markdown",
   "metadata": {},
   "source": [
    "## Fill in ADA accessible and create ADA dummie"
   ]
  },
  {
   "cell_type": "code",
   "execution_count": 7,
   "metadata": {},
   "outputs": [],
   "source": [
    "# 2016-17 has ADA accessibility data, and I will assume it is the same for 17-18."
   ]
  },
  {
   "cell_type": "code",
   "execution_count": 8,
   "metadata": {},
   "outputs": [],
   "source": [
    "ada = df[df['school_year'] == 'School Year 2016-2017'][['ada_accessible', 'school_id']]\n",
    "df = pd.merge(df, ada, on = 'school_id' )\n",
    "df.drop(columns = 'ada_accessible_x', inplace = True)\n",
    "df = pd.concat((df, pd.get_dummies(df['ada_accessible_y'])), axis=1)\n",
    "#having [0,0] for fully and generally accessible implies no or unknown accessibility\n",
    "df.drop(columns = ['No/unknown accessibility','ada_accessible_y'], inplace=True)"
   ]
  },
  {
   "cell_type": "markdown",
   "metadata": {},
   "source": [
    "## Demographic Percentage Transformation"
   ]
  },
  {
   "cell_type": "code",
   "execution_count": 9,
   "metadata": {},
   "outputs": [
    {
     "name": "stdout",
     "output_type": "stream",
     "text": [
      "['administrator', 'classroom_languages', 'dress_code', 'grades_offered_all', 'graduation_rate_school', 'network', 'school_id', 'school_year', 'student_count_asian', 'student_count_asian_pacific_islander', 'student_count_black', 'student_count_english_learners', 'student_count_ethnicity_not_available', 'student_count_hawaiian_pacific_islander', 'student_count_hispanic', 'student_count_low_income', 'student_count_multi', 'student_count_native_american', 'student_count_other_ethnicity', 'student_count_special_ed', 'student_count_total', 'student_count_white', 'transportation_el', 'zip', 'Fully Accessible', 'Generally accessible']\n"
     ]
    }
   ],
   "source": [
    "#Convert student demographic counts to percent of total population\n",
    "print(list(df))\n",
    "demog_headings = ['student_count_asian', 'student_count_asian_pacific_islander', 'student_count_black', \n",
    "                  'student_count_english_learners', 'student_count_ethnicity_not_available', \n",
    "                  'student_count_hawaiian_pacific_islander', 'student_count_hispanic', \n",
    "                  'student_count_low_income', 'student_count_multi', 'student_count_native_american', \n",
    "                  'student_count_other_ethnicity', 'student_count_special_ed', 'student_count_white']\n",
    "for dem in demog_headings:\n",
    "    dem_per_heading = dem + '_perc'\n",
    "    df[dem_per_heading] = df[dem]/df['student_count_total']\n",
    "    df.drop(columns = dem, inplace=True)"
   ]
  },
  {
   "cell_type": "markdown",
   "metadata": {},
   "source": [
    "## Language Count Transform"
   ]
  },
  {
   "cell_type": "code",
   "execution_count": 10,
   "metadata": {
    "scrolled": true
   },
   "outputs": [
    {
     "data": {
      "text/plain": [
       "Spanish                                                                                                        121\n",
       "French, Spanish                                                                                                 45\n",
       "Spanish, Spanish for Heritage Speakers                                                                          31\n",
       "French, Spanish, Spanish for Heritage Speakers                                                                  13\n",
       "Chinese, French, Spanish                                                                                         8\n",
       "Mandarin, Spanish                                                                                                7\n",
       "American Sign Language                                                                                           4\n",
       "Chinese, Spanish                                                                                                 4\n",
       "Chinese, French, Japanese, Latin, Spanish                                                                        4\n",
       "American Sign Language, Chinese, French, Japanese, Latin, Mandarin, Spanish, Spanish for Heritage Speakers       2\n",
       "Russian, Spanish                                                                                                 2\n",
       "Arabic, Chinese                                                                                                  2\n",
       "                                                                                                              ... \n",
       "Latin, Spanish                                                                                                   2\n",
       "Polish, Spanish                                                                                                  2\n",
       "American Sign Language, French, Spanish                                                                          2\n",
       "Spanish, Turkish                                                                                                 2\n",
       "Arabic, French, Mandarin, Spanish, Spanish for Heritage Speakers                                                 2\n",
       "Arabic, Chinese, French, German, Italian, Japanese, Latin, Mandarin, Spanish, Spanish for Heritage Speakers      2\n",
       "Arabic, French, Spanish, Spanish for Heritage Speakers                                                           1\n",
       "Arabic, French, Spanish                                                                                          1\n",
       "French, Polish, Spanish, Spanish for Heritage Speakers                                                           1\n",
       "Japanese, Spanish, Spanish for Heritage Speakers                                                                 1\n",
       "Polish, Spanish, Spanish for Heritage Speakers                                                                   1\n",
       "Arabic, Japanese, Spanish, Spanish for Heritage Speakers                                                         1\n",
       "Name: classroom_languages, Length: 33, dtype: int64"
      ]
     },
     "execution_count": 10,
     "metadata": {},
     "output_type": "execute_result"
    }
   ],
   "source": [
    "df.classroom_languages.value_counts()"
   ]
  },
  {
   "cell_type": "code",
   "execution_count": 11,
   "metadata": {},
   "outputs": [
    {
     "data": {
      "text/plain": [
       "87"
      ]
     },
     "execution_count": 11,
     "metadata": {},
     "output_type": "execute_result"
    }
   ],
   "source": [
    "df.classroom_languages.isna().sum()"
   ]
  },
  {
   "cell_type": "code",
   "execution_count": 12,
   "metadata": {},
   "outputs": [],
   "source": [
    "df_languages = df[['school_id', 'classroom_languages', 'school_year']]\n",
    "#the data appears to show the same value for languages across the two years\n",
    "#so the data will be transformed on one year to prevent duplication at time of merge\n",
    "df_languages = df_languages[df_languages['school_year'] == 'School Year 2016-2017']"
   ]
  },
  {
   "cell_type": "code",
   "execution_count": 13,
   "metadata": {},
   "outputs": [
    {
     "data": {
      "text/plain": [
       "0.0    64\n",
       "1.0    50\n",
       "2.0    14\n",
       "3.0     5\n",
       "4.0     3\n",
       "5.0     2\n",
       "9.0     1\n",
       "7.0     1\n",
       "Name: classroom_languages, dtype: int64"
      ]
     },
     "execution_count": 13,
     "metadata": {},
     "output_type": "execute_result"
    }
   ],
   "source": [
    "#Because this is a comma count, the values with zero commas have 1 language, \n",
    "#one comma have 2, etc.\n",
    "df_languages.classroom_languages.str.count(',').value_counts()"
   ]
  },
  {
   "cell_type": "code",
   "execution_count": 14,
   "metadata": {},
   "outputs": [
    {
     "name": "stderr",
     "output_type": "stream",
     "text": [
      "/anaconda3/lib/python3.7/site-packages/pandas/core/indexing.py:190: SettingWithCopyWarning: \n",
      "A value is trying to be set on a copy of a slice from a DataFrame\n",
      "\n",
      "See the caveats in the documentation: http://pandas.pydata.org/pandas-docs/stable/indexing.html#indexing-view-versus-copy\n",
      "  self._setitem_with_indexer(indexer, value)\n"
     ]
    }
   ],
   "source": [
    "#NaN will be treated as 0 in the language count. \n",
    "#Since language count will be performed with a comma count,\n",
    "#set nan to 15 and reset to 0 after the count is performed.\n",
    "df_languages.fillna(',,,,,,,,,,,,,,', inplace=True)\n",
    "df_languages['Classroom_Languages_count'] = (\n",
    "                                            df_languages['classroom_languages'].str.count(',') \n",
    "                                            + 1\n",
    "                                            )\n",
    "df_languages['Classroom_Languages_count'].loc[df_languages['Classroom_Languages_count'] == 15] = 0"
   ]
  },
  {
   "cell_type": "code",
   "execution_count": 15,
   "metadata": {},
   "outputs": [
    {
     "data": {
      "text/plain": [
       "1     64\n",
       "2     50\n",
       "0     44\n",
       "3     14\n",
       "4      5\n",
       "5      3\n",
       "6      2\n",
       "10     1\n",
       "8      1\n",
       "Name: Classroom_Languages_count, dtype: int64"
      ]
     },
     "execution_count": 15,
     "metadata": {},
     "output_type": "execute_result"
    }
   ],
   "source": [
    "#count values to show that now there are 44 schools with 0 languages\n",
    "df_languages['Classroom_Languages_count'].value_counts()"
   ]
  },
  {
   "cell_type": "code",
   "execution_count": 16,
   "metadata": {},
   "outputs": [],
   "source": [
    "df_languages.sort_values('Classroom_Languages_count', ascending = False)\n",
    "df_languages.drop(columns = ['classroom_languages', 'school_year'], inplace=True)\n",
    "df = pd.merge(df, df_languages, on='school_id')"
   ]
  },
  {
   "cell_type": "code",
   "execution_count": 17,
   "metadata": {},
   "outputs": [
    {
     "data": {
      "text/html": [
       "<div>\n",
       "<style scoped>\n",
       "    .dataframe tbody tr th:only-of-type {\n",
       "        vertical-align: middle;\n",
       "    }\n",
       "\n",
       "    .dataframe tbody tr th {\n",
       "        vertical-align: top;\n",
       "    }\n",
       "\n",
       "    .dataframe thead th {\n",
       "        text-align: right;\n",
       "    }\n",
       "</style>\n",
       "<table border=\"1\" class=\"dataframe\">\n",
       "  <thead>\n",
       "    <tr style=\"text-align: right;\">\n",
       "      <th></th>\n",
       "      <th>administrator</th>\n",
       "      <th>classroom_languages</th>\n",
       "      <th>dress_code</th>\n",
       "      <th>grades_offered_all</th>\n",
       "      <th>graduation_rate_school</th>\n",
       "      <th>network</th>\n",
       "      <th>school_id</th>\n",
       "      <th>school_year</th>\n",
       "      <th>student_count_total</th>\n",
       "      <th>transportation_el</th>\n",
       "      <th>zip</th>\n",
       "      <th>Fully Accessible</th>\n",
       "      <th>Generally accessible</th>\n",
       "      <th>student_count_asian_perc</th>\n",
       "      <th>student_count_asian_pacific_islander_perc</th>\n",
       "      <th>student_count_black_perc</th>\n",
       "      <th>student_count_english_learners_perc</th>\n",
       "      <th>student_count_ethnicity_not_available_perc</th>\n",
       "      <th>student_count_hawaiian_pacific_islander_perc</th>\n",
       "      <th>student_count_hispanic_perc</th>\n",
       "      <th>student_count_low_income_perc</th>\n",
       "      <th>student_count_multi_perc</th>\n",
       "      <th>student_count_native_american_perc</th>\n",
       "      <th>student_count_other_ethnicity_perc</th>\n",
       "      <th>student_count_special_ed_perc</th>\n",
       "      <th>student_count_white_perc</th>\n",
       "      <th>Classroom_Languages_count</th>\n",
       "    </tr>\n",
       "  </thead>\n",
       "  <tbody>\n",
       "    <tr>\n",
       "      <th>0</th>\n",
       "      <td>Ms. Irma Plaxico</td>\n",
       "      <td>None</td>\n",
       "      <td>N</td>\n",
       "      <td>9,10,11,12</td>\n",
       "      <td>NaN</td>\n",
       "      <td>NaN</td>\n",
       "      <td>400124</td>\n",
       "      <td>School Year 2016-2017</td>\n",
       "      <td>124</td>\n",
       "      <td>Green</td>\n",
       "      <td>60616.0</td>\n",
       "      <td>0</td>\n",
       "      <td>0</td>\n",
       "      <td>0.000</td>\n",
       "      <td>0.0</td>\n",
       "      <td>0.944</td>\n",
       "      <td>0.016</td>\n",
       "      <td>0.000</td>\n",
       "      <td>0.0</td>\n",
       "      <td>0.056</td>\n",
       "      <td>0.976</td>\n",
       "      <td>0.000</td>\n",
       "      <td>0.000</td>\n",
       "      <td>0.0</td>\n",
       "      <td>0.234</td>\n",
       "      <td>0.000</td>\n",
       "      <td>0</td>\n",
       "    </tr>\n",
       "    <tr>\n",
       "      <th>1</th>\n",
       "      <td>Ms. Irma Plaxico</td>\n",
       "      <td>None</td>\n",
       "      <td>N</td>\n",
       "      <td>9,10,11,12</td>\n",
       "      <td>NaN</td>\n",
       "      <td>Options</td>\n",
       "      <td>400124</td>\n",
       "      <td>School Year 2017-2018</td>\n",
       "      <td>153</td>\n",
       "      <td>Green</td>\n",
       "      <td>NaN</td>\n",
       "      <td>0</td>\n",
       "      <td>0</td>\n",
       "      <td>0.000</td>\n",
       "      <td>0.0</td>\n",
       "      <td>0.974</td>\n",
       "      <td>0.007</td>\n",
       "      <td>0.000</td>\n",
       "      <td>0.0</td>\n",
       "      <td>0.020</td>\n",
       "      <td>0.634</td>\n",
       "      <td>0.000</td>\n",
       "      <td>0.000</td>\n",
       "      <td>0.0</td>\n",
       "      <td>0.242</td>\n",
       "      <td>0.007</td>\n",
       "      <td>0</td>\n",
       "    </tr>\n",
       "    <tr>\n",
       "      <th>2</th>\n",
       "      <td>Juan Carlos Ocon</td>\n",
       "      <td>French, Spanish</td>\n",
       "      <td>N</td>\n",
       "      <td>9,10,11,12</td>\n",
       "      <td>80.9</td>\n",
       "      <td>NaN</td>\n",
       "      <td>609764</td>\n",
       "      <td>School Year 2016-2017</td>\n",
       "      <td>1739</td>\n",
       "      <td>Blue, Pink, Red</td>\n",
       "      <td>60608.0</td>\n",
       "      <td>0</td>\n",
       "      <td>1</td>\n",
       "      <td>0.003</td>\n",
       "      <td>0.0</td>\n",
       "      <td>0.033</td>\n",
       "      <td>0.190</td>\n",
       "      <td>0.006</td>\n",
       "      <td>0.0</td>\n",
       "      <td>0.945</td>\n",
       "      <td>0.954</td>\n",
       "      <td>0.002</td>\n",
       "      <td>0.003</td>\n",
       "      <td>0.0</td>\n",
       "      <td>0.162</td>\n",
       "      <td>0.007</td>\n",
       "      <td>2</td>\n",
       "    </tr>\n",
       "    <tr>\n",
       "      <th>3</th>\n",
       "      <td>Juan Carlos Ocon</td>\n",
       "      <td>French, Spanish</td>\n",
       "      <td>N</td>\n",
       "      <td>9,10,11,12</td>\n",
       "      <td>78.6</td>\n",
       "      <td>ISP</td>\n",
       "      <td>609764</td>\n",
       "      <td>School Year 2017-2018</td>\n",
       "      <td>1706</td>\n",
       "      <td>Blue, Pink, Red</td>\n",
       "      <td>NaN</td>\n",
       "      <td>0</td>\n",
       "      <td>1</td>\n",
       "      <td>0.006</td>\n",
       "      <td>0.0</td>\n",
       "      <td>0.031</td>\n",
       "      <td>0.201</td>\n",
       "      <td>0.008</td>\n",
       "      <td>0.0</td>\n",
       "      <td>0.943</td>\n",
       "      <td>0.626</td>\n",
       "      <td>0.004</td>\n",
       "      <td>0.004</td>\n",
       "      <td>0.0</td>\n",
       "      <td>0.162</td>\n",
       "      <td>0.006</td>\n",
       "      <td>2</td>\n",
       "    </tr>\n",
       "    <tr>\n",
       "      <th>4</th>\n",
       "      <td>Ms. Carrie Spitz</td>\n",
       "      <td>Russian, Spanish</td>\n",
       "      <td>Y</td>\n",
       "      <td>9,10,11,12</td>\n",
       "      <td>90.3</td>\n",
       "      <td>NaN</td>\n",
       "      <td>400054</td>\n",
       "      <td>School Year 2016-2017</td>\n",
       "      <td>992</td>\n",
       "      <td>Blue, Brown</td>\n",
       "      <td>60639.0</td>\n",
       "      <td>0</td>\n",
       "      <td>1</td>\n",
       "      <td>0.001</td>\n",
       "      <td>0.0</td>\n",
       "      <td>0.030</td>\n",
       "      <td>0.121</td>\n",
       "      <td>0.000</td>\n",
       "      <td>0.0</td>\n",
       "      <td>0.953</td>\n",
       "      <td>0.944</td>\n",
       "      <td>0.002</td>\n",
       "      <td>0.005</td>\n",
       "      <td>0.0</td>\n",
       "      <td>0.107</td>\n",
       "      <td>0.009</td>\n",
       "      <td>2</td>\n",
       "    </tr>\n",
       "  </tbody>\n",
       "</table>\n",
       "</div>"
      ],
      "text/plain": [
       "      administrator classroom_languages dress_code grades_offered_all  \\\n",
       "0  Ms. Irma Plaxico                None          N         9,10,11,12   \n",
       "1  Ms. Irma Plaxico                None          N         9,10,11,12   \n",
       "2  Juan Carlos Ocon     French, Spanish          N         9,10,11,12   \n",
       "3  Juan Carlos Ocon     French, Spanish          N         9,10,11,12   \n",
       "4  Ms. Carrie Spitz    Russian, Spanish          Y         9,10,11,12   \n",
       "\n",
       "   graduation_rate_school  network  school_id            school_year  \\\n",
       "0                     NaN      NaN     400124  School Year 2016-2017   \n",
       "1                     NaN  Options     400124  School Year 2017-2018   \n",
       "2                    80.9      NaN     609764  School Year 2016-2017   \n",
       "3                    78.6      ISP     609764  School Year 2017-2018   \n",
       "4                    90.3      NaN     400054  School Year 2016-2017   \n",
       "\n",
       "   student_count_total transportation_el      zip  Fully Accessible  \\\n",
       "0                  124             Green  60616.0                 0   \n",
       "1                  153             Green      NaN                 0   \n",
       "2                 1739   Blue, Pink, Red  60608.0                 0   \n",
       "3                 1706   Blue, Pink, Red      NaN                 0   \n",
       "4                  992       Blue, Brown  60639.0                 0   \n",
       "\n",
       "   Generally accessible  student_count_asian_perc  \\\n",
       "0                     0                     0.000   \n",
       "1                     0                     0.000   \n",
       "2                     1                     0.003   \n",
       "3                     1                     0.006   \n",
       "4                     1                     0.001   \n",
       "\n",
       "   student_count_asian_pacific_islander_perc  student_count_black_perc  \\\n",
       "0                                        0.0                     0.944   \n",
       "1                                        0.0                     0.974   \n",
       "2                                        0.0                     0.033   \n",
       "3                                        0.0                     0.031   \n",
       "4                                        0.0                     0.030   \n",
       "\n",
       "   student_count_english_learners_perc  \\\n",
       "0                                0.016   \n",
       "1                                0.007   \n",
       "2                                0.190   \n",
       "3                                0.201   \n",
       "4                                0.121   \n",
       "\n",
       "   student_count_ethnicity_not_available_perc  \\\n",
       "0                                       0.000   \n",
       "1                                       0.000   \n",
       "2                                       0.006   \n",
       "3                                       0.008   \n",
       "4                                       0.000   \n",
       "\n",
       "   student_count_hawaiian_pacific_islander_perc  student_count_hispanic_perc  \\\n",
       "0                                           0.0                        0.056   \n",
       "1                                           0.0                        0.020   \n",
       "2                                           0.0                        0.945   \n",
       "3                                           0.0                        0.943   \n",
       "4                                           0.0                        0.953   \n",
       "\n",
       "   student_count_low_income_perc  student_count_multi_perc  \\\n",
       "0                          0.976                     0.000   \n",
       "1                          0.634                     0.000   \n",
       "2                          0.954                     0.002   \n",
       "3                          0.626                     0.004   \n",
       "4                          0.944                     0.002   \n",
       "\n",
       "   student_count_native_american_perc  student_count_other_ethnicity_perc  \\\n",
       "0                               0.000                                 0.0   \n",
       "1                               0.000                                 0.0   \n",
       "2                               0.003                                 0.0   \n",
       "3                               0.004                                 0.0   \n",
       "4                               0.005                                 0.0   \n",
       "\n",
       "   student_count_special_ed_perc  student_count_white_perc  \\\n",
       "0                          0.234                     0.000   \n",
       "1                          0.242                     0.007   \n",
       "2                          0.162                     0.007   \n",
       "3                          0.162                     0.006   \n",
       "4                          0.107                     0.009   \n",
       "\n",
       "   Classroom_Languages_count  \n",
       "0                          0  \n",
       "1                          0  \n",
       "2                          2  \n",
       "3                          2  \n",
       "4                          2  "
      ]
     },
     "execution_count": 17,
     "metadata": {},
     "output_type": "execute_result"
    }
   ],
   "source": [
    "df.head()"
   ]
  },
  {
   "cell_type": "markdown",
   "metadata": {},
   "source": [
    "## El Dummie Transform"
   ]
  },
  {
   "cell_type": "code",
   "execution_count": 18,
   "metadata": {},
   "outputs": [],
   "source": [
    "el_df = df[['school_id', 'transportation_el', 'school_year']]\n",
    "#Again, like languages, looks like El values are consistent across years.\n",
    "el_df = el_df[el_df['school_year'] == 'School Year 2017-2018']\n",
    "el_df['transportation_el'].value_counts()\n",
    "#replace NaN with no_el so that with dummy variable I can drop No_El\n",
    "el_df.fillna(value = 'No_El', inplace=True)\n",
    "el_dummies = el_df['transportation_el'].str.get_dummies(sep = ', ')\n",
    "el_dummies.drop(columns = 'No_El', inplace=True)\n",
    "el_df = pd.merge(el_df,el_dummies, left_index=True, right_index=True)\n",
    "el_df.drop(columns = ['transportation_el', 'school_year'], inplace=True)\n",
    "df = pd.merge(df, el_df, on='school_id')\n",
    "df.drop(columns = ['transportation_el'], inplace=True)"
   ]
  },
  {
   "cell_type": "code",
   "execution_count": 19,
   "metadata": {},
   "outputs": [
    {
     "name": "stdout",
     "output_type": "stream",
     "text": [
      "0    128\n",
      "1     54\n",
      "Name: Blue, dtype: int64\n",
      "0    168\n",
      "1     14\n",
      "Name: Brown, dtype: int64\n",
      "0    138\n",
      "1     44\n",
      "Name: Green, dtype: int64\n",
      "0    164\n",
      "1     18\n",
      "Name: Orange, dtype: int64\n",
      "0    170\n",
      "1     12\n",
      "Name: Pink, dtype: int64\n",
      "0    177\n",
      "1      5\n",
      "Name: Purple, dtype: int64\n",
      "0    123\n",
      "1     59\n",
      "Name: Red, dtype: int64\n"
     ]
    }
   ],
   "source": [
    "#decide which column to drop for dummies based on column count\n",
    "line_list = ['Blue','Brown','Green','Orange','Pink','Purple','Red']\n",
    "for line in line_list:\n",
    "    print(el_df[line].value_counts())"
   ]
  },
  {
   "cell_type": "code",
   "execution_count": 20,
   "metadata": {},
   "outputs": [
    {
     "name": "stdout",
     "output_type": "stream",
     "text": [
      "<class 'pandas.core.frame.DataFrame'>\n",
      "Int64Index: 364 entries, 0 to 363\n",
      "Data columns (total 33 columns):\n",
      "administrator                                   364 non-null object\n",
      "classroom_languages                             277 non-null object\n",
      "dress_code                                      364 non-null object\n",
      "grades_offered_all                              364 non-null object\n",
      "graduation_rate_school                          243 non-null float64\n",
      "network                                         179 non-null object\n",
      "school_id                                       364 non-null int64\n",
      "school_year                                     364 non-null object\n",
      "student_count_total                             364 non-null int64\n",
      "zip                                             182 non-null float64\n",
      "Fully Accessible                                364 non-null uint8\n",
      "Generally accessible                            364 non-null uint8\n",
      "student_count_asian_perc                        362 non-null float64\n",
      "student_count_asian_pacific_islander_perc       362 non-null float64\n",
      "student_count_black_perc                        362 non-null float64\n",
      "student_count_english_learners_perc             362 non-null float64\n",
      "student_count_ethnicity_not_available_perc      362 non-null float64\n",
      "student_count_hawaiian_pacific_islander_perc    362 non-null float64\n",
      "student_count_hispanic_perc                     362 non-null float64\n",
      "student_count_low_income_perc                   362 non-null float64\n",
      "student_count_multi_perc                        362 non-null float64\n",
      "student_count_native_american_perc              362 non-null float64\n",
      "student_count_other_ethnicity_perc              362 non-null float64\n",
      "student_count_special_ed_perc                   362 non-null float64\n",
      "student_count_white_perc                        362 non-null float64\n",
      "Classroom_Languages_count                       364 non-null int64\n",
      "Blue                                            364 non-null int64\n",
      "Brown                                           364 non-null int64\n",
      "Green                                           364 non-null int64\n",
      "Orange                                          364 non-null int64\n",
      "Pink                                            364 non-null int64\n",
      "Purple                                          364 non-null int64\n",
      "Red                                             364 non-null int64\n",
      "dtypes: float64(15), int64(10), object(6), uint8(2)\n",
      "memory usage: 91.7+ KB\n"
     ]
    }
   ],
   "source": [
    "df.info()"
   ]
  },
  {
   "cell_type": "markdown",
   "metadata": {},
   "source": [
    "## Make Dress Code Binary"
   ]
  },
  {
   "cell_type": "code",
   "execution_count": 21,
   "metadata": {},
   "outputs": [],
   "source": [
    "df[\"Dress_Code_dummie\"] = pd.get_dummies(df['dress_code'], drop_first = True)\n",
    "df.drop(columns='dress_code', inplace=True)"
   ]
  },
  {
   "cell_type": "markdown",
   "metadata": {},
   "source": [
    "## Grades offered count"
   ]
  },
  {
   "cell_type": "code",
   "execution_count": 22,
   "metadata": {},
   "outputs": [
    {
     "name": "stderr",
     "output_type": "stream",
     "text": [
      "/anaconda3/lib/python3.7/site-packages/ipykernel_launcher.py:2: SettingWithCopyWarning: \n",
      "A value is trying to be set on a copy of a slice from a DataFrame.\n",
      "Try using .loc[row_indexer,col_indexer] = value instead\n",
      "\n",
      "See the caveats in the documentation: http://pandas.pydata.org/pandas-docs/stable/indexing.html#indexing-view-versus-copy\n",
      "  \n",
      "/anaconda3/lib/python3.7/site-packages/pandas/core/frame.py:3940: SettingWithCopyWarning: \n",
      "A value is trying to be set on a copy of a slice from a DataFrame\n",
      "\n",
      "See the caveats in the documentation: http://pandas.pydata.org/pandas-docs/stable/indexing.html#indexing-view-versus-copy\n",
      "  errors=errors)\n",
      "/anaconda3/lib/python3.7/site-packages/ipykernel_launcher.py:4: SettingWithCopyWarning: \n",
      "A value is trying to be set on a copy of a slice from a DataFrame\n",
      "\n",
      "See the caveats in the documentation: http://pandas.pydata.org/pandas-docs/stable/indexing.html#indexing-view-versus-copy\n",
      "  after removing the cwd from sys.path.\n"
     ]
    }
   ],
   "source": [
    "df_grades = df[['grades_offered_all', 'school_id']]\n",
    "df_grades['grades_offered_count'] = (df_grades['grades_offered_all'].str.count(',') + 1)     \n",
    "df_grades.drop(columns = ['grades_offered_all'], inplace=True)\n",
    "df_grades.drop_duplicates('school_id', inplace=True)\n",
    "df_grades.sort_values('grades_offered_count')\n",
    "df = pd.merge(df, df_grades, on='school_id')\n",
    "df.drop(columns = ['classroom_languages', 'grades_offered_all'], inplace=True)"
   ]
  },
  {
   "cell_type": "code",
   "execution_count": 23,
   "metadata": {},
   "outputs": [
    {
     "data": {
      "text/plain": [
       "['administrator',\n",
       " 'graduation_rate_school',\n",
       " 'network',\n",
       " 'school_id',\n",
       " 'school_year',\n",
       " 'student_count_total',\n",
       " 'zip',\n",
       " 'Fully Accessible',\n",
       " 'Generally accessible',\n",
       " 'student_count_asian_perc',\n",
       " 'student_count_asian_pacific_islander_perc',\n",
       " 'student_count_black_perc',\n",
       " 'student_count_english_learners_perc',\n",
       " 'student_count_ethnicity_not_available_perc',\n",
       " 'student_count_hawaiian_pacific_islander_perc',\n",
       " 'student_count_hispanic_perc',\n",
       " 'student_count_low_income_perc',\n",
       " 'student_count_multi_perc',\n",
       " 'student_count_native_american_perc',\n",
       " 'student_count_other_ethnicity_perc',\n",
       " 'student_count_special_ed_perc',\n",
       " 'student_count_white_perc',\n",
       " 'Classroom_Languages_count',\n",
       " 'Blue',\n",
       " 'Brown',\n",
       " 'Green',\n",
       " 'Orange',\n",
       " 'Pink',\n",
       " 'Purple',\n",
       " 'Red',\n",
       " 'Dress_Code_dummie',\n",
       " 'grades_offered_count']"
      ]
     },
     "execution_count": 23,
     "metadata": {},
     "output_type": "execute_result"
    }
   ],
   "source": [
    "list(df)"
   ]
  },
  {
   "cell_type": "markdown",
   "metadata": {},
   "source": [
    "## Charter Dummie"
   ]
  },
  {
   "cell_type": "code",
   "execution_count": 24,
   "metadata": {},
   "outputs": [],
   "source": [
    "df_networks = df[['school_id', 'network', 'school_year']]"
   ]
  },
  {
   "cell_type": "code",
   "execution_count": 25,
   "metadata": {},
   "outputs": [],
   "source": [
    "df_networks2017 = df_networks[df_networks['school_year']=='School Year 2017-2018']"
   ]
  },
  {
   "cell_type": "code",
   "execution_count": 26,
   "metadata": {},
   "outputs": [],
   "source": [
    "def charter(row):\n",
    "    if row['network'] == 'Charter':\n",
    "        return 1\n",
    "    else:\n",
    "        return 0\n"
   ]
  },
  {
   "cell_type": "code",
   "execution_count": 27,
   "metadata": {},
   "outputs": [
    {
     "name": "stderr",
     "output_type": "stream",
     "text": [
      "/anaconda3/lib/python3.7/site-packages/ipykernel_launcher.py:1: SettingWithCopyWarning: \n",
      "A value is trying to be set on a copy of a slice from a DataFrame.\n",
      "Try using .loc[row_indexer,col_indexer] = value instead\n",
      "\n",
      "See the caveats in the documentation: http://pandas.pydata.org/pandas-docs/stable/indexing.html#indexing-view-versus-copy\n",
      "  \"\"\"Entry point for launching an IPython kernel.\n"
     ]
    }
   ],
   "source": [
    "df_networks2017['charter'] = df_networks2017.apply(lambda row: charter(row), axis=1)\n",
    "df_networks2017.drop(columns=['school_year', 'network'], inplace=True)\n",
    "df = pd.merge(df, df_networks2017, on='school_id')\n",
    "df.drop(columns='network', inplace=True)"
   ]
  },
  {
   "cell_type": "markdown",
   "metadata": {},
   "source": [
    "## Admin. Gender"
   ]
  },
  {
   "cell_type": "code",
   "execution_count": 28,
   "metadata": {},
   "outputs": [],
   "source": [
    "import re"
   ]
  },
  {
   "cell_type": "code",
   "execution_count": 29,
   "metadata": {},
   "outputs": [],
   "source": [
    "df_admin = df[['administrator', 'school_id']]"
   ]
  },
  {
   "cell_type": "code",
   "execution_count": 30,
   "metadata": {},
   "outputs": [
    {
     "data": {
      "text/html": [
       "<div>\n",
       "<style scoped>\n",
       "    .dataframe tbody tr th:only-of-type {\n",
       "        vertical-align: middle;\n",
       "    }\n",
       "\n",
       "    .dataframe tbody tr th {\n",
       "        vertical-align: top;\n",
       "    }\n",
       "\n",
       "    .dataframe thead th {\n",
       "        text-align: right;\n",
       "    }\n",
       "</style>\n",
       "<table border=\"1\" class=\"dataframe\">\n",
       "  <thead>\n",
       "    <tr style=\"text-align: right;\">\n",
       "      <th></th>\n",
       "      <th>administrator</th>\n",
       "      <th>school_id</th>\n",
       "    </tr>\n",
       "  </thead>\n",
       "  <tbody>\n",
       "    <tr>\n",
       "      <th>0</th>\n",
       "      <td>Ms. Irma Plaxico</td>\n",
       "      <td>400124</td>\n",
       "    </tr>\n",
       "    <tr>\n",
       "      <th>2</th>\n",
       "      <td>Juan Carlos Ocon</td>\n",
       "      <td>609764</td>\n",
       "    </tr>\n",
       "    <tr>\n",
       "      <th>4</th>\n",
       "      <td>Ms. Carrie Spitz</td>\n",
       "      <td>400054</td>\n",
       "    </tr>\n",
       "    <tr>\n",
       "      <th>6</th>\n",
       "      <td>Ms.Shannae Bea Jackson</td>\n",
       "      <td>609726</td>\n",
       "    </tr>\n",
       "    <tr>\n",
       "      <th>8</th>\n",
       "      <td>Tawanna Patton</td>\n",
       "      <td>400094</td>\n",
       "    </tr>\n",
       "    <tr>\n",
       "      <th>10</th>\n",
       "      <td>Ms.Mary Bradley</td>\n",
       "      <td>400175</td>\n",
       "    </tr>\n",
       "    <tr>\n",
       "      <th>12</th>\n",
       "      <td>Joyce Dorsey Kenner</td>\n",
       "      <td>609755</td>\n",
       "    </tr>\n",
       "    <tr>\n",
       "      <th>14</th>\n",
       "      <td>Mr. Christopher Goins</td>\n",
       "      <td>400156</td>\n",
       "    </tr>\n",
       "    <tr>\n",
       "      <th>16</th>\n",
       "      <td>Ms.Allison C Tingwall</td>\n",
       "      <td>609756</td>\n",
       "    </tr>\n",
       "    <tr>\n",
       "      <th>18</th>\n",
       "      <td>Mrs.Patricia J Harper Reynolds</td>\n",
       "      <td>610518</td>\n",
       "    </tr>\n",
       "    <tr>\n",
       "      <th>20</th>\n",
       "      <td>Ms.Mary Bradley</td>\n",
       "      <td>400077</td>\n",
       "    </tr>\n",
       "    <tr>\n",
       "      <th>22</th>\n",
       "      <td>Ms. Brenda Cora</td>\n",
       "      <td>400056</td>\n",
       "    </tr>\n",
       "    <tr>\n",
       "      <th>...</th>\n",
       "      <td>...</td>\n",
       "      <td>...</td>\n",
       "    </tr>\n",
       "    <tr>\n",
       "      <th>340</th>\n",
       "      <td>Mr.Maurice Swinney</td>\n",
       "      <td>609735</td>\n",
       "    </tr>\n",
       "    <tr>\n",
       "      <th>342</th>\n",
       "      <td>Ms. Danette Sokacich</td>\n",
       "      <td>400131</td>\n",
       "    </tr>\n",
       "    <tr>\n",
       "      <th>344</th>\n",
       "      <td>Patricia Barrera Brekke</td>\n",
       "      <td>610563</td>\n",
       "    </tr>\n",
       "    <tr>\n",
       "      <th>346</th>\n",
       "      <td>Mr. Matthew Obrzut</td>\n",
       "      <td>610565</td>\n",
       "    </tr>\n",
       "    <tr>\n",
       "      <th>348</th>\n",
       "      <td>Ms. Senita Murphy</td>\n",
       "      <td>400059</td>\n",
       "    </tr>\n",
       "    <tr>\n",
       "      <th>350</th>\n",
       "      <td>Ms.Ellen Marie Kennedy</td>\n",
       "      <td>609682</td>\n",
       "    </tr>\n",
       "    <tr>\n",
       "      <th>352</th>\n",
       "      <td>Mrs.Leonetta C Sanders</td>\n",
       "      <td>609711</td>\n",
       "    </tr>\n",
       "    <tr>\n",
       "      <th>354</th>\n",
       "      <td>Ms. Lauren Boros</td>\n",
       "      <td>400170</td>\n",
       "    </tr>\n",
       "    <tr>\n",
       "      <th>356</th>\n",
       "      <td>Ms. Wendy Erskine</td>\n",
       "      <td>400097</td>\n",
       "    </tr>\n",
       "    <tr>\n",
       "      <th>358</th>\n",
       "      <td>Ferdinand Wipachit</td>\n",
       "      <td>610304</td>\n",
       "    </tr>\n",
       "    <tr>\n",
       "      <th>360</th>\n",
       "      <td>Michael Jerome Biela</td>\n",
       "      <td>610390</td>\n",
       "    </tr>\n",
       "    <tr>\n",
       "      <th>362</th>\n",
       "      <td>Mrs.Erin A Galfer</td>\n",
       "      <td>609780</td>\n",
       "    </tr>\n",
       "  </tbody>\n",
       "</table>\n",
       "<p>182 rows × 2 columns</p>\n",
       "</div>"
      ],
      "text/plain": [
       "                      administrator  school_id\n",
       "0                  Ms. Irma Plaxico     400124\n",
       "2                  Juan Carlos Ocon     609764\n",
       "4                  Ms. Carrie Spitz     400054\n",
       "6            Ms.Shannae Bea Jackson     609726\n",
       "8                    Tawanna Patton     400094\n",
       "10                  Ms.Mary Bradley     400175\n",
       "12              Joyce Dorsey Kenner     609755\n",
       "14            Mr. Christopher Goins     400156\n",
       "16            Ms.Allison C Tingwall     609756\n",
       "18   Mrs.Patricia J Harper Reynolds     610518\n",
       "20                  Ms.Mary Bradley     400077\n",
       "22                  Ms. Brenda Cora     400056\n",
       "..                              ...        ...\n",
       "340              Mr.Maurice Swinney     609735\n",
       "342            Ms. Danette Sokacich     400131\n",
       "344         Patricia Barrera Brekke     610563\n",
       "346              Mr. Matthew Obrzut     610565\n",
       "348               Ms. Senita Murphy     400059\n",
       "350          Ms.Ellen Marie Kennedy     609682\n",
       "352          Mrs.Leonetta C Sanders     609711\n",
       "354                Ms. Lauren Boros     400170\n",
       "356               Ms. Wendy Erskine     400097\n",
       "358              Ferdinand Wipachit     610304\n",
       "360            Michael Jerome Biela     610390\n",
       "362               Mrs.Erin A Galfer     609780\n",
       "\n",
       "[182 rows x 2 columns]"
      ]
     },
     "execution_count": 30,
     "metadata": {},
     "output_type": "execute_result"
    }
   ],
   "source": [
    "df_admin.drop_duplicates('school_id')"
   ]
  },
  {
   "cell_type": "code",
   "execution_count": 31,
   "metadata": {},
   "outputs": [],
   "source": [
    "gender = re.compile(r'Mrs|Ms|Mr')\n",
    "#female_title = re.compile(r'Mrs|Ms')"
   ]
  },
  {
   "cell_type": "code",
   "execution_count": 32,
   "metadata": {},
   "outputs": [
    {
     "name": "stderr",
     "output_type": "stream",
     "text": [
      "/anaconda3/lib/python3.7/site-packages/ipykernel_launcher.py:1: SettingWithCopyWarning: \n",
      "A value is trying to be set on a copy of a slice from a DataFrame.\n",
      "Try using .loc[row_indexer,col_indexer] = value instead\n",
      "\n",
      "See the caveats in the documentation: http://pandas.pydata.org/pandas-docs/stable/indexing.html#indexing-view-versus-copy\n",
      "  \"\"\"Entry point for launching an IPython kernel.\n",
      "/anaconda3/lib/python3.7/site-packages/ipykernel_launcher.py:2: SettingWithCopyWarning: \n",
      "A value is trying to be set on a copy of a slice from a DataFrame\n",
      "\n",
      "See the caveats in the documentation: http://pandas.pydata.org/pandas-docs/stable/indexing.html#indexing-view-versus-copy\n",
      "  \n"
     ]
    }
   ],
   "source": [
    "df_admin['gender_marker'] = df_admin['administrator'].astype(str).str.match(gender)\n",
    "df_admin.drop_duplicates('school_id', inplace=True)\n"
   ]
  },
  {
   "cell_type": "code",
   "execution_count": 33,
   "metadata": {},
   "outputs": [
    {
     "name": "stderr",
     "output_type": "stream",
     "text": [
      "/anaconda3/lib/python3.7/site-packages/ipykernel_launcher.py:8: SettingWithCopyWarning: \n",
      "A value is trying to be set on a copy of a slice from a DataFrame.\n",
      "Try using .loc[row_indexer,col_indexer] = value instead\n",
      "\n",
      "See the caveats in the documentation: http://pandas.pydata.org/pandas-docs/stable/indexing.html#indexing-view-versus-copy\n",
      "  \n"
     ]
    }
   ],
   "source": [
    "male_marker = re.compile(r'Mr|Juan|Richard|Ali|Kevin|Douglas|Raul|Victor|Abdul|Charles|Antonio|Brian|Francisco|\\\n",
    "        Sheldon|Michael|Stephen|Peter|Gregory|Trent|Myron|Gerald|Elias|Octavio|Matthew|\\\n",
    "        David|Leonard|Ferdinand|Fernando|Mark|Patrick|George|Wayne|Anthony|William|\\\n",
    "        Stephen|Timothy|Paul')\n",
    "female_marker = re.compile(r'Mrs|Ms|Dr. Hillyn|Sharnette|Tressie|Leticia|Priscilla|Joyce|Stephanie|Tanya|Veronica|Kathy|\\\n",
    "         Sandra|Torry|Stephanie|Carolyn|Milena|Vanesa|Breanda|Laura|Kelly|Anna|Nancy|\\\n",
    "         Tamika|Janice|Mary|Shanele|Falilat|Dr.Femi|Noel|Tawanna|Tonya|Sandra|Dr. Vanesa|Tamika')\n",
    "df_admin['gender_f'] = df_admin['administrator'].astype(str).str.match(female_marker)\n",
    "df_admin.drop(columns = ['administrator', 'gender_marker'], inplace=True)"
   ]
  },
  {
   "cell_type": "code",
   "execution_count": 34,
   "metadata": {},
   "outputs": [],
   "source": [
    "df = pd.merge(df, df_admin, on='school_id')\n",
    "def gender(row):\n",
    "    if row['gender_f'] == True:\n",
    "        return 1\n",
    "    else:\n",
    "        return 0\n",
    "df['gender_f_bn'] = df.apply(lambda row: gender(row), axis=1)\n",
    "df.drop(columns = ['administrator', 'gender_f'], inplace = True)"
   ]
  },
  {
   "cell_type": "code",
   "execution_count": 35,
   "metadata": {},
   "outputs": [
    {
     "name": "stdout",
     "output_type": "stream",
     "text": [
      "<class 'pandas.core.frame.DataFrame'>\n",
      "Int64Index: 364 entries, 0 to 363\n",
      "Data columns (total 32 columns):\n",
      "graduation_rate_school                          243 non-null float64\n",
      "school_id                                       364 non-null int64\n",
      "school_year                                     364 non-null object\n",
      "student_count_total                             364 non-null int64\n",
      "zip                                             182 non-null float64\n",
      "Fully Accessible                                364 non-null uint8\n",
      "Generally accessible                            364 non-null uint8\n",
      "student_count_asian_perc                        362 non-null float64\n",
      "student_count_asian_pacific_islander_perc       362 non-null float64\n",
      "student_count_black_perc                        362 non-null float64\n",
      "student_count_english_learners_perc             362 non-null float64\n",
      "student_count_ethnicity_not_available_perc      362 non-null float64\n",
      "student_count_hawaiian_pacific_islander_perc    362 non-null float64\n",
      "student_count_hispanic_perc                     362 non-null float64\n",
      "student_count_low_income_perc                   362 non-null float64\n",
      "student_count_multi_perc                        362 non-null float64\n",
      "student_count_native_american_perc              362 non-null float64\n",
      "student_count_other_ethnicity_perc              362 non-null float64\n",
      "student_count_special_ed_perc                   362 non-null float64\n",
      "student_count_white_perc                        362 non-null float64\n",
      "Classroom_Languages_count                       364 non-null int64\n",
      "Blue                                            364 non-null int64\n",
      "Brown                                           364 non-null int64\n",
      "Green                                           364 non-null int64\n",
      "Orange                                          364 non-null int64\n",
      "Pink                                            364 non-null int64\n",
      "Purple                                          364 non-null int64\n",
      "Red                                             364 non-null int64\n",
      "Dress_Code_dummie                               364 non-null uint8\n",
      "grades_offered_count                            364 non-null int64\n",
      "charter                                         364 non-null int64\n",
      "gender_f_bn                                     364 non-null int64\n",
      "dtypes: float64(15), int64(13), object(1), uint8(3)\n",
      "memory usage: 86.4+ KB\n"
     ]
    }
   ],
   "source": [
    "df.info()"
   ]
  },
  {
   "cell_type": "markdown",
   "metadata": {},
   "source": [
    "## Reflect and log transform graduation rate"
   ]
  },
  {
   "cell_type": "code",
   "execution_count": 36,
   "metadata": {},
   "outputs": [],
   "source": [
    "import seaborn as sns\n",
    "import matplotlib.pyplot as plt"
   ]
  },
  {
   "cell_type": "code",
   "execution_count": 37,
   "metadata": {},
   "outputs": [],
   "source": [
    "df['Grad_Rate_Reflected'] = 100 - df['graduation_rate_school']"
   ]
  },
  {
   "cell_type": "code",
   "execution_count": 38,
   "metadata": {},
   "outputs": [],
   "source": [
    "df['log_grad_rate'] = np.log(df['Grad_Rate_Reflected'])"
   ]
  },
  {
   "cell_type": "code",
   "execution_count": 39,
   "metadata": {},
   "outputs": [],
   "source": [
    "df.drop(columns = ['graduation_rate_school', 'Grad_Rate_Reflected'], inplace=True)"
   ]
  },
  {
   "cell_type": "markdown",
   "metadata": {},
   "source": [
    "## Merge Income Data Per Zip for 16/17 and 17/18"
   ]
  },
  {
   "cell_type": "code",
   "execution_count": 40,
   "metadata": {},
   "outputs": [],
   "source": [
    "zip_2016 = df[df.school_year == 'School Year 2016-2017'][['school_id', 'zip']]\n",
    "df = pd.merge(df, zip_2016, on='school_id')\n",
    "df.drop('zip_x', axis=1, inplace=True)\n",
    "df.rename(columns = {'zip_y':'zip'}, inplace=True)"
   ]
  },
  {
   "cell_type": "code",
   "execution_count": 41,
   "metadata": {},
   "outputs": [],
   "source": [
    "df_2016 = df[df['school_year'] == 'School Year 2016-2017']\n",
    "df_2016_income = pd.read_csv('data/meanHHincome_2016.csv', header=None)\n",
    "df_2016_income.columns = ['zip', 'Zip_Mean_Income']\n",
    "df_2016 = pd.merge(df_2016, df_2016_income, on = 'zip' )"
   ]
  },
  {
   "cell_type": "code",
   "execution_count": 42,
   "metadata": {},
   "outputs": [],
   "source": [
    "df_2017 = df[df['school_year'] == 'School Year 2017-2018']\n",
    "df_2017_income = pd.read_csv('data/meanHHincome_2017.csv', header=None)\n",
    "df_2017_income.columns = ['zip', 'Zip_Mean_Income']\n",
    "df_2017 = pd.merge(df_2017, df_2017_income, on = 'zip' )"
   ]
  },
  {
   "cell_type": "code",
   "execution_count": 43,
   "metadata": {},
   "outputs": [],
   "source": [
    "df = df_2016.append(df_2017)"
   ]
  },
  {
   "cell_type": "code",
   "execution_count": 44,
   "metadata": {},
   "outputs": [
    {
     "name": "stdout",
     "output_type": "stream",
     "text": [
      "['school_id', 'school_year', 'student_count_total', 'Fully Accessible', 'Generally accessible', 'student_count_asian_perc', 'student_count_asian_pacific_islander_perc', 'student_count_black_perc', 'student_count_english_learners_perc', 'student_count_ethnicity_not_available_perc', 'student_count_hawaiian_pacific_islander_perc', 'student_count_hispanic_perc', 'student_count_low_income_perc', 'student_count_multi_perc', 'student_count_native_american_perc', 'student_count_other_ethnicity_perc', 'student_count_special_ed_perc', 'student_count_white_perc', 'Classroom_Languages_count', 'Blue', 'Brown', 'Green', 'Orange', 'Pink', 'Purple', 'Red', 'Dress_Code_dummie', 'grades_offered_count', 'charter', 'gender_f_bn', 'log_grad_rate', 'zip', 'Zip_Mean_Income']\n"
     ]
    }
   ],
   "source": [
    "print(list(df))"
   ]
  },
  {
   "cell_type": "code",
   "execution_count": 45,
   "metadata": {},
   "outputs": [],
   "source": [
    "def replace_comma(row):\n",
    "    return float(row['Zip_Mean_Income'].replace(',', ''))\n",
    "\n",
    "df['Zip_Mean_Income'] = df.apply(lambda row: replace_comma(row), axis =1) \n"
   ]
  },
  {
   "cell_type": "code",
   "execution_count": 46,
   "metadata": {},
   "outputs": [
    {
     "data": {
      "text/html": [
       "<div>\n",
       "<style scoped>\n",
       "    .dataframe tbody tr th:only-of-type {\n",
       "        vertical-align: middle;\n",
       "    }\n",
       "\n",
       "    .dataframe tbody tr th {\n",
       "        vertical-align: top;\n",
       "    }\n",
       "\n",
       "    .dataframe thead th {\n",
       "        text-align: right;\n",
       "    }\n",
       "</style>\n",
       "<table border=\"1\" class=\"dataframe\">\n",
       "  <thead>\n",
       "    <tr style=\"text-align: right;\">\n",
       "      <th></th>\n",
       "      <th>school_id</th>\n",
       "      <th>school_year</th>\n",
       "      <th>student_count_total</th>\n",
       "      <th>Fully Accessible</th>\n",
       "      <th>Generally accessible</th>\n",
       "      <th>student_count_asian_perc</th>\n",
       "      <th>student_count_asian_pacific_islander_perc</th>\n",
       "      <th>student_count_black_perc</th>\n",
       "      <th>student_count_english_learners_perc</th>\n",
       "      <th>student_count_ethnicity_not_available_perc</th>\n",
       "      <th>student_count_hawaiian_pacific_islander_perc</th>\n",
       "      <th>student_count_hispanic_perc</th>\n",
       "      <th>student_count_low_income_perc</th>\n",
       "      <th>student_count_multi_perc</th>\n",
       "      <th>student_count_native_american_perc</th>\n",
       "      <th>student_count_other_ethnicity_perc</th>\n",
       "      <th>student_count_special_ed_perc</th>\n",
       "      <th>student_count_white_perc</th>\n",
       "      <th>Classroom_Languages_count</th>\n",
       "      <th>Blue</th>\n",
       "      <th>Brown</th>\n",
       "      <th>Green</th>\n",
       "      <th>Orange</th>\n",
       "      <th>Pink</th>\n",
       "      <th>Purple</th>\n",
       "      <th>Red</th>\n",
       "      <th>Dress_Code_dummie</th>\n",
       "      <th>grades_offered_count</th>\n",
       "      <th>charter</th>\n",
       "      <th>gender_f_bn</th>\n",
       "      <th>log_grad_rate</th>\n",
       "      <th>zip</th>\n",
       "      <th>Zip_Mean_Income</th>\n",
       "    </tr>\n",
       "  </thead>\n",
       "  <tbody>\n",
       "    <tr>\n",
       "      <th>0</th>\n",
       "      <td>400124</td>\n",
       "      <td>School Year 2016-2017</td>\n",
       "      <td>124</td>\n",
       "      <td>0</td>\n",
       "      <td>0</td>\n",
       "      <td>0.000</td>\n",
       "      <td>0.0</td>\n",
       "      <td>0.944</td>\n",
       "      <td>0.016</td>\n",
       "      <td>0.0</td>\n",
       "      <td>0.000</td>\n",
       "      <td>0.056</td>\n",
       "      <td>0.976</td>\n",
       "      <td>0.000</td>\n",
       "      <td>0.000</td>\n",
       "      <td>0.0</td>\n",
       "      <td>0.234</td>\n",
       "      <td>0.000</td>\n",
       "      <td>0</td>\n",
       "      <td>0</td>\n",
       "      <td>0</td>\n",
       "      <td>1</td>\n",
       "      <td>0</td>\n",
       "      <td>0</td>\n",
       "      <td>0</td>\n",
       "      <td>0</td>\n",
       "      <td>0</td>\n",
       "      <td>4</td>\n",
       "      <td>0</td>\n",
       "      <td>1</td>\n",
       "      <td>NaN</td>\n",
       "      <td>60616.0</td>\n",
       "      <td>64486.0</td>\n",
       "    </tr>\n",
       "    <tr>\n",
       "      <th>1</th>\n",
       "      <td>400134</td>\n",
       "      <td>School Year 2016-2017</td>\n",
       "      <td>161</td>\n",
       "      <td>0</td>\n",
       "      <td>0</td>\n",
       "      <td>0.006</td>\n",
       "      <td>0.0</td>\n",
       "      <td>0.267</td>\n",
       "      <td>0.062</td>\n",
       "      <td>0.0</td>\n",
       "      <td>0.000</td>\n",
       "      <td>0.683</td>\n",
       "      <td>0.963</td>\n",
       "      <td>0.006</td>\n",
       "      <td>0.000</td>\n",
       "      <td>0.0</td>\n",
       "      <td>0.149</td>\n",
       "      <td>0.037</td>\n",
       "      <td>0</td>\n",
       "      <td>0</td>\n",
       "      <td>0</td>\n",
       "      <td>0</td>\n",
       "      <td>1</td>\n",
       "      <td>0</td>\n",
       "      <td>0</td>\n",
       "      <td>0</td>\n",
       "      <td>1</td>\n",
       "      <td>4</td>\n",
       "      <td>0</td>\n",
       "      <td>1</td>\n",
       "      <td>NaN</td>\n",
       "      <td>60616.0</td>\n",
       "      <td>64486.0</td>\n",
       "    </tr>\n",
       "    <tr>\n",
       "      <th>2</th>\n",
       "      <td>400064</td>\n",
       "      <td>School Year 2016-2017</td>\n",
       "      <td>388</td>\n",
       "      <td>1</td>\n",
       "      <td>0</td>\n",
       "      <td>0.010</td>\n",
       "      <td>0.0</td>\n",
       "      <td>0.869</td>\n",
       "      <td>0.021</td>\n",
       "      <td>0.0</td>\n",
       "      <td>0.005</td>\n",
       "      <td>0.101</td>\n",
       "      <td>0.863</td>\n",
       "      <td>0.010</td>\n",
       "      <td>0.000</td>\n",
       "      <td>0.0</td>\n",
       "      <td>0.193</td>\n",
       "      <td>0.005</td>\n",
       "      <td>1</td>\n",
       "      <td>0</td>\n",
       "      <td>0</td>\n",
       "      <td>1</td>\n",
       "      <td>0</td>\n",
       "      <td>0</td>\n",
       "      <td>0</td>\n",
       "      <td>1</td>\n",
       "      <td>1</td>\n",
       "      <td>7</td>\n",
       "      <td>1</td>\n",
       "      <td>1</td>\n",
       "      <td>2.660</td>\n",
       "      <td>60616.0</td>\n",
       "      <td>64486.0</td>\n",
       "    </tr>\n",
       "    <tr>\n",
       "      <th>3</th>\n",
       "      <td>400105</td>\n",
       "      <td>School Year 2016-2017</td>\n",
       "      <td>322</td>\n",
       "      <td>0</td>\n",
       "      <td>0</td>\n",
       "      <td>0.000</td>\n",
       "      <td>0.0</td>\n",
       "      <td>0.975</td>\n",
       "      <td>0.000</td>\n",
       "      <td>0.0</td>\n",
       "      <td>0.000</td>\n",
       "      <td>0.012</td>\n",
       "      <td>0.814</td>\n",
       "      <td>0.009</td>\n",
       "      <td>0.003</td>\n",
       "      <td>0.0</td>\n",
       "      <td>0.193</td>\n",
       "      <td>0.000</td>\n",
       "      <td>2</td>\n",
       "      <td>0</td>\n",
       "      <td>0</td>\n",
       "      <td>1</td>\n",
       "      <td>0</td>\n",
       "      <td>0</td>\n",
       "      <td>0</td>\n",
       "      <td>1</td>\n",
       "      <td>1</td>\n",
       "      <td>4</td>\n",
       "      <td>1</td>\n",
       "      <td>0</td>\n",
       "      <td>2.868</td>\n",
       "      <td>60616.0</td>\n",
       "      <td>64486.0</td>\n",
       "    </tr>\n",
       "    <tr>\n",
       "      <th>4</th>\n",
       "      <td>609676</td>\n",
       "      <td>School Year 2016-2017</td>\n",
       "      <td>455</td>\n",
       "      <td>0</td>\n",
       "      <td>1</td>\n",
       "      <td>0.000</td>\n",
       "      <td>0.0</td>\n",
       "      <td>0.965</td>\n",
       "      <td>0.020</td>\n",
       "      <td>0.0</td>\n",
       "      <td>0.000</td>\n",
       "      <td>0.033</td>\n",
       "      <td>0.965</td>\n",
       "      <td>0.000</td>\n",
       "      <td>0.002</td>\n",
       "      <td>0.0</td>\n",
       "      <td>0.273</td>\n",
       "      <td>0.000</td>\n",
       "      <td>2</td>\n",
       "      <td>0</td>\n",
       "      <td>0</td>\n",
       "      <td>0</td>\n",
       "      <td>0</td>\n",
       "      <td>0</td>\n",
       "      <td>0</td>\n",
       "      <td>0</td>\n",
       "      <td>0</td>\n",
       "      <td>4</td>\n",
       "      <td>0</td>\n",
       "      <td>0</td>\n",
       "      <td>3.350</td>\n",
       "      <td>60616.0</td>\n",
       "      <td>64486.0</td>\n",
       "    </tr>\n",
       "  </tbody>\n",
       "</table>\n",
       "</div>"
      ],
      "text/plain": [
       "   school_id            school_year  student_count_total  Fully Accessible  \\\n",
       "0     400124  School Year 2016-2017                  124                 0   \n",
       "1     400134  School Year 2016-2017                  161                 0   \n",
       "2     400064  School Year 2016-2017                  388                 1   \n",
       "3     400105  School Year 2016-2017                  322                 0   \n",
       "4     609676  School Year 2016-2017                  455                 0   \n",
       "\n",
       "   Generally accessible  student_count_asian_perc  \\\n",
       "0                     0                     0.000   \n",
       "1                     0                     0.006   \n",
       "2                     0                     0.010   \n",
       "3                     0                     0.000   \n",
       "4                     1                     0.000   \n",
       "\n",
       "   student_count_asian_pacific_islander_perc  student_count_black_perc  \\\n",
       "0                                        0.0                     0.944   \n",
       "1                                        0.0                     0.267   \n",
       "2                                        0.0                     0.869   \n",
       "3                                        0.0                     0.975   \n",
       "4                                        0.0                     0.965   \n",
       "\n",
       "   student_count_english_learners_perc  \\\n",
       "0                                0.016   \n",
       "1                                0.062   \n",
       "2                                0.021   \n",
       "3                                0.000   \n",
       "4                                0.020   \n",
       "\n",
       "   student_count_ethnicity_not_available_perc  \\\n",
       "0                                         0.0   \n",
       "1                                         0.0   \n",
       "2                                         0.0   \n",
       "3                                         0.0   \n",
       "4                                         0.0   \n",
       "\n",
       "   student_count_hawaiian_pacific_islander_perc  student_count_hispanic_perc  \\\n",
       "0                                         0.000                        0.056   \n",
       "1                                         0.000                        0.683   \n",
       "2                                         0.005                        0.101   \n",
       "3                                         0.000                        0.012   \n",
       "4                                         0.000                        0.033   \n",
       "\n",
       "   student_count_low_income_perc  student_count_multi_perc  \\\n",
       "0                          0.976                     0.000   \n",
       "1                          0.963                     0.006   \n",
       "2                          0.863                     0.010   \n",
       "3                          0.814                     0.009   \n",
       "4                          0.965                     0.000   \n",
       "\n",
       "   student_count_native_american_perc  student_count_other_ethnicity_perc  \\\n",
       "0                               0.000                                 0.0   \n",
       "1                               0.000                                 0.0   \n",
       "2                               0.000                                 0.0   \n",
       "3                               0.003                                 0.0   \n",
       "4                               0.002                                 0.0   \n",
       "\n",
       "   student_count_special_ed_perc  student_count_white_perc  \\\n",
       "0                          0.234                     0.000   \n",
       "1                          0.149                     0.037   \n",
       "2                          0.193                     0.005   \n",
       "3                          0.193                     0.000   \n",
       "4                          0.273                     0.000   \n",
       "\n",
       "   Classroom_Languages_count  Blue  Brown  Green  Orange  Pink  Purple  Red  \\\n",
       "0                          0     0      0      1       0     0       0    0   \n",
       "1                          0     0      0      0       1     0       0    0   \n",
       "2                          1     0      0      1       0     0       0    1   \n",
       "3                          2     0      0      1       0     0       0    1   \n",
       "4                          2     0      0      0       0     0       0    0   \n",
       "\n",
       "   Dress_Code_dummie  grades_offered_count  charter  gender_f_bn  \\\n",
       "0                  0                     4        0            1   \n",
       "1                  1                     4        0            1   \n",
       "2                  1                     7        1            1   \n",
       "3                  1                     4        1            0   \n",
       "4                  0                     4        0            0   \n",
       "\n",
       "   log_grad_rate      zip  Zip_Mean_Income  \n",
       "0            NaN  60616.0          64486.0  \n",
       "1            NaN  60616.0          64486.0  \n",
       "2          2.660  60616.0          64486.0  \n",
       "3          2.868  60616.0          64486.0  \n",
       "4          3.350  60616.0          64486.0  "
      ]
     },
     "execution_count": 46,
     "metadata": {},
     "output_type": "execute_result"
    }
   ],
   "source": [
    "df.head()"
   ]
  },
  {
   "cell_type": "code",
   "execution_count": 47,
   "metadata": {},
   "outputs": [],
   "source": [
    "# df.to_csv('data/hs_formodeling.csv', index=False)"
   ]
  },
  {
   "cell_type": "code",
   "execution_count": null,
   "metadata": {},
   "outputs": [],
   "source": []
  },
  {
   "cell_type": "markdown",
   "metadata": {},
   "source": [
    "## Pickle 29 Feature Columns"
   ]
  },
  {
   "cell_type": "code",
   "execution_count": null,
   "metadata": {},
   "outputs": [],
   "source": [
    "df.drop(columns = ['school_id', 'zip', 'school_year'], inplace=True)"
   ]
  },
  {
   "cell_type": "code",
   "execution_count": null,
   "metadata": {},
   "outputs": [],
   "source": [
    "with open('data/pickles/from_sql_29feat_formodeling.pickle', 'wb') as to_write:\n",
    "    pickle.dump(df, to_write)"
   ]
  }
 ],
 "metadata": {
  "kernelspec": {
   "display_name": "Python 3",
   "language": "python",
   "name": "python3"
  },
  "language_info": {
   "codemirror_mode": {
    "name": "ipython",
    "version": 3
   },
   "file_extension": ".py",
   "mimetype": "text/x-python",
   "name": "python",
   "nbconvert_exporter": "python",
   "pygments_lexer": "ipython3",
   "version": "3.7.2"
  },
  "toc": {
   "base_numbering": 1,
   "nav_menu": {},
   "number_sections": true,
   "sideBar": true,
   "skip_h1_title": false,
   "title_cell": "Table of Contents",
   "title_sidebar": "Contents",
   "toc_cell": false,
   "toc_position": {},
   "toc_section_display": true,
   "toc_window_display": true
  },
  "varInspector": {
   "cols": {
    "lenName": 16,
    "lenType": 16,
    "lenVar": 40
   },
   "kernels_config": {
    "python": {
     "delete_cmd_postfix": "",
     "delete_cmd_prefix": "del ",
     "library": "var_list.py",
     "varRefreshCmd": "print(var_dic_list())"
    },
    "r": {
     "delete_cmd_postfix": ") ",
     "delete_cmd_prefix": "rm(",
     "library": "var_list.r",
     "varRefreshCmd": "cat(var_dic_list()) "
    }
   },
   "types_to_exclude": [
    "module",
    "function",
    "builtin_function_or_method",
    "instance",
    "_Feature"
   ],
   "window_display": false
  }
 },
 "nbformat": 4,
 "nbformat_minor": 2
}
