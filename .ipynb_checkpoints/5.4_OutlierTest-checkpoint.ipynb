{
 "cells": [
  {
   "cell_type": "code",
   "execution_count": 1,
   "metadata": {},
   "outputs": [],
   "source": [
    "import pandas as pd\n",
    "import pickle\n",
    "\n",
    "import numpy as np\n",
    "\n",
    "from sklearn.linear_model import LinearRegression\n",
    "from sklearn.model_selection import train_test_split\n",
    "from sklearn.model_selection import KFold\n",
    "from sklearn.linear_model import  Ridge, Lasso\n",
    "from sklearn.preprocessing import StandardScaler\n",
    "\n",
    "%config InlineBackend.figure_format = 'svg'\n",
    "# this statement allows the visuals to render within your Jupyter Notebook\n",
    "%matplotlib inline \n",
    "\n",
    "pd.set_option('display.max_columns', None)\n",
    "pd.set_option('display.max_rows', 25)\n",
    "pd.set_option('display.precision', 3)\n",
    "\n",
    "import seaborn as sns"
   ]
  },
  {
   "cell_type": "code",
   "execution_count": 2,
   "metadata": {},
   "outputs": [],
   "source": [
    "with open('data/pickles/df_Out_Rem.pickle', 'rb') as to_read:\n",
    "    df = pickle.load(to_read)"
   ]
  },
  {
   "cell_type": "code",
   "execution_count": 3,
   "metadata": {},
   "outputs": [
    {
     "data": {
      "text/plain": [
       "['Student_Count_Total',\n",
       " 'Zip_Mean_Income',\n",
       " 'Fully Accessible',\n",
       " 'Generally accessible',\n",
       " 'Student_Count_Asian_perc',\n",
       " 'Student_Count_Asian_Pacific_Islander_perc',\n",
       " 'Student_Count_Black_perc',\n",
       " 'Student_Count_English_Learners_perc',\n",
       " 'Student_Count_Ethnicity_Not_Available_perc',\n",
       " 'Student_Count_Hawaiian_Pacific_Islander_perc',\n",
       " 'Student_Count_Hispanic_perc',\n",
       " 'Student_Count_Low_Income_perc',\n",
       " 'Student_Count_Multi_perc',\n",
       " 'Student_Count_Native_American_perc',\n",
       " 'Student_Count_Other_Ethnicity_perc',\n",
       " 'Student_Count_Special_Ed_perc',\n",
       " 'Student_Count_White_perc',\n",
       " 'Classroom_Languages_count',\n",
       " 'Blue',\n",
       " 'Brown',\n",
       " 'Green',\n",
       " 'Orange',\n",
       " 'Pink',\n",
       " 'Purple',\n",
       " 'Red',\n",
       " 'Dress_Code_dummie',\n",
       " 'grades_offered_count',\n",
       " 'charter',\n",
       " 'gender_f_bn',\n",
       " 'log_failedtoGraduate_rate']"
      ]
     },
     "execution_count": 3,
     "metadata": {},
     "output_type": "execute_result"
    }
   ],
   "source": [
    "list(df)"
   ]
  },
  {
   "cell_type": "code",
   "execution_count": 5,
   "metadata": {},
   "outputs": [],
   "source": [
    "X = df[['Student_Count_Total',\n",
    "     #'Zip_Mean_Income',\n",
    "     'Fully Accessible',\n",
    "     #'Generally accessible',\n",
    "     #'Student_Count_Asian_perc',\n",
    "     'Student_Count_Asian_Pacific_Islander_perc',\n",
    "     'Student_Count_Black_perc',\n",
    "     'Student_Count_English_Learners_perc',\n",
    "     'Student_Count_Ethnicity_Not_Available_perc',\n",
    "     'Student_Count_Hawaiian_Pacific_Islander_perc',\n",
    "     'Student_Count_Hispanic_perc',\n",
    "     'Student_Count_Low_Income_perc',\n",
    "     'Student_Count_Multi_perc',\n",
    "     'Student_Count_Native_American_perc',\n",
    "     #'Student_Count_Other_Ethnicity_perc',\n",
    "     'Student_Count_Special_Ed_perc',\n",
    "     #'Student_Count_White_perc',\n",
    "     'Classroom_Languages_count',\n",
    "     'Blue',\n",
    "     #'Brown',\n",
    "     'Green',\n",
    "     #'Orange',\n",
    "     #'Pink',\n",
    "     'Purple',\n",
    "     'Red',\n",
    "     'Dress_Code_dummie',\n",
    "     'grades_offered_count',\n",
    "     'charter',\n",
    "     #'gender_f_bn'\n",
    "       ]]\n",
    "\n",
    "y = df.log_failedtoGraduate_rate"
   ]
  },
  {
   "cell_type": "code",
   "execution_count": null,
   "metadata": {},
   "outputs": [],
   "source": []
  },
  {
   "cell_type": "code",
   "execution_count": 6,
   "metadata": {},
   "outputs": [],
   "source": [
    "kf = KFold(n_splits = 5, shuffle=True, random_state=42)\n",
    "kf_splits = kf.split(X,y)\n",
    "\n",
    "r2_train = []\n",
    "r2_val =   []\n",
    "for train, val in kf_splits:\n",
    "    lm = LinearRegression()\n",
    "    X_train, y_train = X.iloc[train], y.iloc[train]\n",
    "    X_val, y_val     = X.iloc[val], y.iloc[val]\n",
    "    \n",
    "    lm.fit(X_train, y_train)\n",
    "    r2_train.append(lm.score(X_train, y_train))\n",
    "    r2_val.append(lm.score(X_val, y_val))"
   ]
  },
  {
   "cell_type": "code",
   "execution_count": 7,
   "metadata": {},
   "outputs": [
    {
     "name": "stdout",
     "output_type": "stream",
     "text": [
      "0.6280166440267193\n",
      "0.4579749557832146\n"
     ]
    }
   ],
   "source": [
    "print(sum(r2_train)/len(r2_train))\n",
    "print(sum(r2_val)/len(r2_val))"
   ]
  },
  {
   "cell_type": "code",
   "execution_count": null,
   "metadata": {},
   "outputs": [],
   "source": []
  }
 ],
 "metadata": {
  "kernelspec": {
   "display_name": "Python 3",
   "language": "python",
   "name": "python3"
  },
  "language_info": {
   "codemirror_mode": {
    "name": "ipython",
    "version": 3
   },
   "file_extension": ".py",
   "mimetype": "text/x-python",
   "name": "python",
   "nbconvert_exporter": "python",
   "pygments_lexer": "ipython3",
   "version": "3.6.6"
  },
  "toc": {
   "base_numbering": 1,
   "nav_menu": {},
   "number_sections": true,
   "sideBar": true,
   "skip_h1_title": false,
   "title_cell": "Table of Contents",
   "title_sidebar": "Contents",
   "toc_cell": false,
   "toc_position": {},
   "toc_section_display": true,
   "toc_window_display": false
  },
  "varInspector": {
   "cols": {
    "lenName": 16,
    "lenType": 16,
    "lenVar": 40
   },
   "kernels_config": {
    "python": {
     "delete_cmd_postfix": "",
     "delete_cmd_prefix": "del ",
     "library": "var_list.py",
     "varRefreshCmd": "print(var_dic_list())"
    },
    "r": {
     "delete_cmd_postfix": ") ",
     "delete_cmd_prefix": "rm(",
     "library": "var_list.r",
     "varRefreshCmd": "cat(var_dic_list()) "
    }
   },
   "types_to_exclude": [
    "module",
    "function",
    "builtin_function_or_method",
    "instance",
    "_Feature"
   ],
   "window_display": false
  }
 },
 "nbformat": 4,
 "nbformat_minor": 2
}
