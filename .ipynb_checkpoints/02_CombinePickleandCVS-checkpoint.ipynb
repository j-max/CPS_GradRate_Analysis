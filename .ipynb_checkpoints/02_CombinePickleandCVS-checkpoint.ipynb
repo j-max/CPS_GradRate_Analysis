{
 "cells": [
  {
   "cell_type": "code",
   "execution_count": 1,
   "metadata": {},
   "outputs": [],
   "source": [
    "import pandas as pd\n",
    "import pickle\n",
    "\n",
    "pd.set_option('display.max_columns', None)\n",
    "pd.set_option('display.max_rows', 25)\n",
    "pd.set_option('display.precision', 3)"
   ]
  },
  {
   "cell_type": "code",
   "execution_count": 2,
   "metadata": {},
   "outputs": [
    {
     "name": "stdout",
     "output_type": "stream",
     "text": [
      "df_Out_Rem.pickle            hs_data_16-18.pickle\r\n",
      "features_29columns.pickle    log_grad_inflected.pickle\r\n",
      "features_29feat_clean.pickle\r\n"
     ]
    }
   ],
   "source": [
    "!ls data/pickles"
   ]
  },
  {
   "cell_type": "code",
   "execution_count": 3,
   "metadata": {},
   "outputs": [],
   "source": [
    "with open('data/pickles/hs_data_16-18.pickle', 'rb') as f:\n",
    "    df = pickle.load(f)"
   ]
  },
  {
   "cell_type": "code",
   "execution_count": 4,
   "metadata": {},
   "outputs": [
    {
     "data": {
      "text/html": [
       "<div>\n",
       "<style scoped>\n",
       "    .dataframe tbody tr th:only-of-type {\n",
       "        vertical-align: middle;\n",
       "    }\n",
       "\n",
       "    .dataframe tbody tr th {\n",
       "        vertical-align: top;\n",
       "    }\n",
       "\n",
       "    .dataframe thead th {\n",
       "        text-align: right;\n",
       "    }\n",
       "</style>\n",
       "<table border=\"1\" class=\"dataframe\">\n",
       "  <thead>\n",
       "    <tr style=\"text-align: right;\">\n",
       "      <th></th>\n",
       "      <th>School_ID</th>\n",
       "      <th>Legacy_Unit_ID</th>\n",
       "      <th>Finance_ID</th>\n",
       "      <th>Short_Name</th>\n",
       "      <th>Long_Name</th>\n",
       "      <th>School_Type</th>\n",
       "      <th>Primary_Category</th>\n",
       "      <th>Is_High_School</th>\n",
       "      <th>Is_Middle_School</th>\n",
       "      <th>Is_Elementary_School</th>\n",
       "      <th>Is_Pre_School</th>\n",
       "      <th>Summary</th>\n",
       "      <th>Administrator_Title</th>\n",
       "      <th>Administrator</th>\n",
       "      <th>Secondary_Contact_Title</th>\n",
       "      <th>Secondary_Contact</th>\n",
       "      <th>Address</th>\n",
       "      <th>City</th>\n",
       "      <th>State</th>\n",
       "      <th>Zip_x</th>\n",
       "      <th>Phone</th>\n",
       "      <th>Fax</th>\n",
       "      <th>CPS_School_Profile</th>\n",
       "      <th>Website</th>\n",
       "      <th>Facebook</th>\n",
       "      <th>Twitter</th>\n",
       "      <th>Youtube</th>\n",
       "      <th>Pinterest</th>\n",
       "      <th>Attendance_Boundaries</th>\n",
       "      <th>Grades_Offered_All</th>\n",
       "      <th>Grades_Offered</th>\n",
       "      <th>Student_Count_Total</th>\n",
       "      <th>Student_Count_Low_Income</th>\n",
       "      <th>Student_Count_Special_Ed</th>\n",
       "      <th>Student_Count_English_Learners</th>\n",
       "      <th>Student_Count_Black</th>\n",
       "      <th>Student_Count_Hispanic</th>\n",
       "      <th>Student_Count_White</th>\n",
       "      <th>Student_Count_Asian</th>\n",
       "      <th>Student_Count_Native_American</th>\n",
       "      <th>Student_Count_Other_Ethnicity</th>\n",
       "      <th>Student_Count_Asian_Pacific_Islander</th>\n",
       "      <th>Student_Count_Multi</th>\n",
       "      <th>Student_Count_Hawaiian_Pacific_Islander</th>\n",
       "      <th>Student_Count_Ethnicity_Not_Available</th>\n",
       "      <th>Statistics_Description</th>\n",
       "      <th>Demographic_Description</th>\n",
       "      <th>ADA_Accessible</th>\n",
       "      <th>Dress_Code</th>\n",
       "      <th>PreK_School_Day</th>\n",
       "      <th>Kindergarten_School_Day</th>\n",
       "      <th>School_Hours</th>\n",
       "      <th>Freshman_Start_End_Time</th>\n",
       "      <th>After_School_Hours</th>\n",
       "      <th>Earliest_Drop_Off_Time</th>\n",
       "      <th>Classroom_Languages</th>\n",
       "      <th>Bilingual_Services</th>\n",
       "      <th>Refugee_Services</th>\n",
       "      <th>Title_1_Eligible</th>\n",
       "      <th>PreSchool_Inclusive</th>\n",
       "      <th>Preschool_Instructional</th>\n",
       "      <th>Significantly_Modified</th>\n",
       "      <th>Hard_Of_Hearing</th>\n",
       "      <th>Visual_Impairments</th>\n",
       "      <th>Transportation_Bus</th>\n",
       "      <th>Transportation_El</th>\n",
       "      <th>Transportation_Metra</th>\n",
       "      <th>School_Latitude</th>\n",
       "      <th>School_Longitude</th>\n",
       "      <th>Average_ACT_School</th>\n",
       "      <th>Mean_ACT</th>\n",
       "      <th>College_Enrollment_Rate_School</th>\n",
       "      <th>College_Enrollment_Rate_Mean</th>\n",
       "      <th>Graduation_Rate_School</th>\n",
       "      <th>Graduation_Rate_Mean</th>\n",
       "      <th>Overall_Rating</th>\n",
       "      <th>Rating_Status</th>\n",
       "      <th>Rating_Statement</th>\n",
       "      <th>Classification_Description</th>\n",
       "      <th>School_Year</th>\n",
       "      <th>Third_Contact_Title</th>\n",
       "      <th>Third_Contact_Name</th>\n",
       "      <th>Fourth_Contact_Title</th>\n",
       "      <th>Fourth_Contact_Name</th>\n",
       "      <th>Fifth_Contact_Title</th>\n",
       "      <th>Fifth_Contact_Name</th>\n",
       "      <th>Sixth_Contact_Title</th>\n",
       "      <th>Sixth_Contact_Name</th>\n",
       "      <th>Seventh_Contact_Title</th>\n",
       "      <th>Seventh_Contact_Name</th>\n",
       "      <th>Location</th>\n",
       "      <th>Network</th>\n",
       "      <th>Is_GoCPS_Participant</th>\n",
       "      <th>Is_GoCPS_PreK</th>\n",
       "      <th>Is_GoCPS_Elementary</th>\n",
       "      <th>Is_GoCPS_High_School</th>\n",
       "      <th>Open_For_Enrollment_Date</th>\n",
       "      <th>Closed_For_Enrollment_Date</th>\n",
       "      <th>Zip_y</th>\n",
       "    </tr>\n",
       "  </thead>\n",
       "  <tbody>\n",
       "    <tr>\n",
       "      <th>0</th>\n",
       "      <td>609764</td>\n",
       "      <td>1890</td>\n",
       "      <td>46421</td>\n",
       "      <td>JUAREZ HS</td>\n",
       "      <td>Benito Juarez Community Academy High School</td>\n",
       "      <td>Neighborhood</td>\n",
       "      <td>HS</td>\n",
       "      <td>Y</td>\n",
       "      <td>N</td>\n",
       "      <td>N</td>\n",
       "      <td>N</td>\n",
       "      <td>Juarez offers a particularly wide array of aca...</td>\n",
       "      <td>Principal</td>\n",
       "      <td>Juan Carlos Ocon</td>\n",
       "      <td>Assistant Principal</td>\n",
       "      <td>Keith Adams</td>\n",
       "      <td>1450 W CERMAK RD</td>\n",
       "      <td>Chicago</td>\n",
       "      <td>Illinois</td>\n",
       "      <td>60608.0</td>\n",
       "      <td>7.735e+09</td>\n",
       "      <td>7.735e+09</td>\n",
       "      <td>http://cps.edu/Schools/Pages/school.aspx?Schoo...</td>\n",
       "      <td>http://www.benitojuarez.net</td>\n",
       "      <td>NaN</td>\n",
       "      <td>NaN</td>\n",
       "      <td>NaN</td>\n",
       "      <td>NaN</td>\n",
       "      <td>Y</td>\n",
       "      <td>9,10,11,12</td>\n",
       "      <td>9-12</td>\n",
       "      <td>1739</td>\n",
       "      <td>1659</td>\n",
       "      <td>281</td>\n",
       "      <td>331</td>\n",
       "      <td>58</td>\n",
       "      <td>1644</td>\n",
       "      <td>12</td>\n",
       "      <td>5</td>\n",
       "      <td>6</td>\n",
       "      <td>0</td>\n",
       "      <td>0</td>\n",
       "      <td>3</td>\n",
       "      <td>0</td>\n",
       "      <td>11</td>\n",
       "      <td>There are 1739 students enrolled at JUAREZ HS....</td>\n",
       "      <td>The largest demographic at JUAREZ HS is Hispan...</td>\n",
       "      <td>Generally accessible</td>\n",
       "      <td>N</td>\n",
       "      <td>NaN</td>\n",
       "      <td>NaN</td>\n",
       "      <td>7:45  AM - 2:35  PM</td>\n",
       "      <td>7:45 a.m. - 2:45 p.m.</td>\n",
       "      <td>2:40 to 8:00 P.M.</td>\n",
       "      <td>7:00 A.M</td>\n",
       "      <td>French, Spanish</td>\n",
       "      <td>Y</td>\n",
       "      <td>Y</td>\n",
       "      <td>Y</td>\n",
       "      <td>NaN</td>\n",
       "      <td>NaN</td>\n",
       "      <td>NaN</td>\n",
       "      <td>NaN</td>\n",
       "      <td>NaN</td>\n",
       "      <td>9, 21, 60</td>\n",
       "      <td>Blue, Pink, Red</td>\n",
       "      <td>NaN</td>\n",
       "      <td>41.853</td>\n",
       "      <td>-87.664</td>\n",
       "      <td>16.5</td>\n",
       "      <td>18.4</td>\n",
       "      <td>50.6</td>\n",
       "      <td>57.9</td>\n",
       "      <td>80.9</td>\n",
       "      <td>73.5</td>\n",
       "      <td>Level 2+</td>\n",
       "      <td>Good Standing</td>\n",
       "      <td>This school received a Level 2+ rating, which ...</td>\n",
       "      <td>Schools that have an attendance boundary. Gene...</td>\n",
       "      <td>School Year 2016-2017</td>\n",
       "      <td>Assistant Principal</td>\n",
       "      <td>Nicholas Aquino</td>\n",
       "      <td>IB Coordinator</td>\n",
       "      <td>Santiago Marquez</td>\n",
       "      <td>NaN</td>\n",
       "      <td>NaN</td>\n",
       "      <td>NaN</td>\n",
       "      <td>NaN</td>\n",
       "      <td>NaN</td>\n",
       "      <td>NaN</td>\n",
       "      <td>1450 W CERMAK RD\\nChicago, Illinois 60608\\n(41...</td>\n",
       "      <td>NaN</td>\n",
       "      <td>NaN</td>\n",
       "      <td>NaN</td>\n",
       "      <td>NaN</td>\n",
       "      <td>NaN</td>\n",
       "      <td>NaN</td>\n",
       "      <td>NaN</td>\n",
       "      <td>60608.0</td>\n",
       "    </tr>\n",
       "    <tr>\n",
       "      <th>1</th>\n",
       "      <td>609764</td>\n",
       "      <td>1890</td>\n",
       "      <td>46421</td>\n",
       "      <td>JUAREZ HS</td>\n",
       "      <td>Benito Juarez Community Academy High School</td>\n",
       "      <td>NaN</td>\n",
       "      <td>HS</td>\n",
       "      <td>Y</td>\n",
       "      <td>N</td>\n",
       "      <td>N</td>\n",
       "      <td>N</td>\n",
       "      <td>Juarez offers a particularly wide array of aca...</td>\n",
       "      <td>Principal</td>\n",
       "      <td>Juan Carlos Ocon</td>\n",
       "      <td>Assistant Principal</td>\n",
       "      <td>Keith Adams</td>\n",
       "      <td>NaN</td>\n",
       "      <td>NaN</td>\n",
       "      <td>NaN</td>\n",
       "      <td>NaN</td>\n",
       "      <td>7.735e+09</td>\n",
       "      <td>7.735e+09</td>\n",
       "      <td>http://cps.edu/Schools/Pages/school.aspx?Schoo...</td>\n",
       "      <td>http://www.benitojuarez.net</td>\n",
       "      <td>NaN</td>\n",
       "      <td>NaN</td>\n",
       "      <td>NaN</td>\n",
       "      <td>NaN</td>\n",
       "      <td>Y</td>\n",
       "      <td>9,10,11,12</td>\n",
       "      <td>12-Sep</td>\n",
       "      <td>1706</td>\n",
       "      <td>1068</td>\n",
       "      <td>277</td>\n",
       "      <td>343</td>\n",
       "      <td>53</td>\n",
       "      <td>1608</td>\n",
       "      <td>10</td>\n",
       "      <td>10</td>\n",
       "      <td>6</td>\n",
       "      <td>0</td>\n",
       "      <td>0</td>\n",
       "      <td>6</td>\n",
       "      <td>0</td>\n",
       "      <td>13</td>\n",
       "      <td>There are 1706 students enrolled at JUAREZ HS....</td>\n",
       "      <td>The largest demographic at JUAREZ HS is Hispan...</td>\n",
       "      <td>NaN</td>\n",
       "      <td>N</td>\n",
       "      <td>NaN</td>\n",
       "      <td>NaN</td>\n",
       "      <td>7:45  AM - 2:35  PM</td>\n",
       "      <td>7:45 a.m. - 2:45 p.m.</td>\n",
       "      <td>2:40 to 8:00 P.M.</td>\n",
       "      <td>7:00 A.M</td>\n",
       "      <td>French, Spanish</td>\n",
       "      <td>Y</td>\n",
       "      <td>Y</td>\n",
       "      <td>Y</td>\n",
       "      <td>NaN</td>\n",
       "      <td>NaN</td>\n",
       "      <td>NaN</td>\n",
       "      <td>NaN</td>\n",
       "      <td>NaN</td>\n",
       "      <td>9, 21, 60</td>\n",
       "      <td>Blue, Pink, Red</td>\n",
       "      <td>NaN</td>\n",
       "      <td>41.853</td>\n",
       "      <td>-87.664</td>\n",
       "      <td>NaN</td>\n",
       "      <td>NaN</td>\n",
       "      <td>52.2</td>\n",
       "      <td>59.8</td>\n",
       "      <td>78.6</td>\n",
       "      <td>77.5</td>\n",
       "      <td>Level 2+</td>\n",
       "      <td>GOOD STANDING</td>\n",
       "      <td>This school received a Level 2+ rating, which ...</td>\n",
       "      <td>Schools that have an attendance boundary. Gene...</td>\n",
       "      <td>School Year 2017-2018</td>\n",
       "      <td>Assistant Principal</td>\n",
       "      <td>Nicholas Aquino</td>\n",
       "      <td>IB Coordinator</td>\n",
       "      <td>Santiago Marquez</td>\n",
       "      <td>NaN</td>\n",
       "      <td>NaN</td>\n",
       "      <td>NaN</td>\n",
       "      <td>NaN</td>\n",
       "      <td>NaN</td>\n",
       "      <td>NaN</td>\n",
       "      <td>1450 W CERMAK RD\\nChicago, Illinois 60608\\n(41...</td>\n",
       "      <td>ISP</td>\n",
       "      <td>Y</td>\n",
       "      <td>N</td>\n",
       "      <td>N</td>\n",
       "      <td>Y</td>\n",
       "      <td>9/1/04 0:00</td>\n",
       "      <td>NaN</td>\n",
       "      <td>60608.0</td>\n",
       "    </tr>\n",
       "    <tr>\n",
       "      <th>2</th>\n",
       "      <td>400054</td>\n",
       "      <td>1931</td>\n",
       "      <td>66142</td>\n",
       "      <td>NOBLE - PRITZKER HS</td>\n",
       "      <td>Noble - Pritzker College Prep</td>\n",
       "      <td>Charter</td>\n",
       "      <td>HS</td>\n",
       "      <td>Y</td>\n",
       "      <td>N</td>\n",
       "      <td>N</td>\n",
       "      <td>N</td>\n",
       "      <td>We have been accepted as an IB School, and as ...</td>\n",
       "      <td>Director</td>\n",
       "      <td>Ms. Carrie Spitz</td>\n",
       "      <td>Principal</td>\n",
       "      <td>Carrie Spitz</td>\n",
       "      <td>4131 W CORTLAND ST</td>\n",
       "      <td>Chicago</td>\n",
       "      <td>Illinois</td>\n",
       "      <td>60639.0</td>\n",
       "      <td>7.734e+09</td>\n",
       "      <td>7.734e+09</td>\n",
       "      <td>http://cps.edu/Schools/Pages/school.aspx?Schoo...</td>\n",
       "      <td>http://www.pritzkercollegeprep.org</td>\n",
       "      <td>https://www.facebook.com/benoblepritzker</td>\n",
       "      <td>http://twitter.com/benoblepritzker</td>\n",
       "      <td>NaN</td>\n",
       "      <td>NaN</td>\n",
       "      <td>N</td>\n",
       "      <td>9,10,11,12</td>\n",
       "      <td>9-12</td>\n",
       "      <td>992</td>\n",
       "      <td>936</td>\n",
       "      <td>106</td>\n",
       "      <td>120</td>\n",
       "      <td>30</td>\n",
       "      <td>945</td>\n",
       "      <td>9</td>\n",
       "      <td>1</td>\n",
       "      <td>5</td>\n",
       "      <td>0</td>\n",
       "      <td>0</td>\n",
       "      <td>2</td>\n",
       "      <td>0</td>\n",
       "      <td>0</td>\n",
       "      <td>There are 992 students enrolled at NOBLE - PRI...</td>\n",
       "      <td>The largest demographic at NOBLE - PRITZKER HS...</td>\n",
       "      <td>Generally accessible</td>\n",
       "      <td>Y</td>\n",
       "      <td>NaN</td>\n",
       "      <td>NaN</td>\n",
       "      <td>M - R 8:05AM. - 3:50PM  F 8:05- 1:30PM</td>\n",
       "      <td>.</td>\n",
       "      <td>4:00PM-5:30PM</td>\n",
       "      <td>7:00AM</td>\n",
       "      <td>Russian, Spanish</td>\n",
       "      <td>N</td>\n",
       "      <td>N</td>\n",
       "      <td>Y</td>\n",
       "      <td>NaN</td>\n",
       "      <td>NaN</td>\n",
       "      <td>NaN</td>\n",
       "      <td>NaN</td>\n",
       "      <td>NaN</td>\n",
       "      <td>53, 72, 73</td>\n",
       "      <td>Blue, Brown</td>\n",
       "      <td>NaN</td>\n",
       "      <td>41.915</td>\n",
       "      <td>-87.730</td>\n",
       "      <td>21.9</td>\n",
       "      <td>18.4</td>\n",
       "      <td>85.7</td>\n",
       "      <td>57.9</td>\n",
       "      <td>90.3</td>\n",
       "      <td>73.5</td>\n",
       "      <td>Level 1+</td>\n",
       "      <td>Not Applicable</td>\n",
       "      <td>This school received a Level 1+ rating, which ...</td>\n",
       "      <td>Schools that are open to all Chicago children,...</td>\n",
       "      <td>School Year 2016-2017</td>\n",
       "      <td>NaN</td>\n",
       "      <td>NaN</td>\n",
       "      <td>NaN</td>\n",
       "      <td>NaN</td>\n",
       "      <td>NaN</td>\n",
       "      <td>NaN</td>\n",
       "      <td>NaN</td>\n",
       "      <td>NaN</td>\n",
       "      <td>NaN</td>\n",
       "      <td>NaN</td>\n",
       "      <td>4131 W CORTLAND ST\\nChicago, Illinois 60639\\n(...</td>\n",
       "      <td>NaN</td>\n",
       "      <td>NaN</td>\n",
       "      <td>NaN</td>\n",
       "      <td>NaN</td>\n",
       "      <td>NaN</td>\n",
       "      <td>NaN</td>\n",
       "      <td>NaN</td>\n",
       "      <td>60639.0</td>\n",
       "    </tr>\n",
       "    <tr>\n",
       "      <th>3</th>\n",
       "      <td>400054</td>\n",
       "      <td>1931</td>\n",
       "      <td>66142</td>\n",
       "      <td>NOBLE - PRITZKER HS</td>\n",
       "      <td>Noble - Pritzker College Prep</td>\n",
       "      <td>NaN</td>\n",
       "      <td>HS</td>\n",
       "      <td>Y</td>\n",
       "      <td>N</td>\n",
       "      <td>N</td>\n",
       "      <td>N</td>\n",
       "      <td>We have been accepted as an IB School, and as ...</td>\n",
       "      <td>Director</td>\n",
       "      <td>Ms. Carrie Spitz</td>\n",
       "      <td>Principal</td>\n",
       "      <td>Carrie Spitz</td>\n",
       "      <td>NaN</td>\n",
       "      <td>NaN</td>\n",
       "      <td>NaN</td>\n",
       "      <td>NaN</td>\n",
       "      <td>7.734e+09</td>\n",
       "      <td>7.734e+09</td>\n",
       "      <td>http://cps.edu/Schools/Pages/school.aspx?Schoo...</td>\n",
       "      <td>http://www.pritzkercollegeprep.org</td>\n",
       "      <td>https://www.facebook.com/benoblepritzker</td>\n",
       "      <td>http://twitter.com/benoblepritzker</td>\n",
       "      <td>NaN</td>\n",
       "      <td>NaN</td>\n",
       "      <td>N</td>\n",
       "      <td>9,10,11,12</td>\n",
       "      <td>12-Sep</td>\n",
       "      <td>975</td>\n",
       "      <td>930</td>\n",
       "      <td>105</td>\n",
       "      <td>134</td>\n",
       "      <td>36</td>\n",
       "      <td>923</td>\n",
       "      <td>9</td>\n",
       "      <td>0</td>\n",
       "      <td>5</td>\n",
       "      <td>0</td>\n",
       "      <td>0</td>\n",
       "      <td>2</td>\n",
       "      <td>0</td>\n",
       "      <td>0</td>\n",
       "      <td>There are 975 students enrolled at NOBLE - PRI...</td>\n",
       "      <td>The largest demographic at NOBLE - PRITZKER HS...</td>\n",
       "      <td>NaN</td>\n",
       "      <td>Y</td>\n",
       "      <td>NaN</td>\n",
       "      <td>NaN</td>\n",
       "      <td>M - R 8:05AM. - 3:50PM  F 8:05- 1:30PM</td>\n",
       "      <td>.</td>\n",
       "      <td>4:00PM-5:30PM</td>\n",
       "      <td>7:00AM</td>\n",
       "      <td>Russian, Spanish</td>\n",
       "      <td>N</td>\n",
       "      <td>N</td>\n",
       "      <td>Y</td>\n",
       "      <td>NaN</td>\n",
       "      <td>NaN</td>\n",
       "      <td>NaN</td>\n",
       "      <td>NaN</td>\n",
       "      <td>NaN</td>\n",
       "      <td>53, 72, 73</td>\n",
       "      <td>Blue, Brown</td>\n",
       "      <td>NaN</td>\n",
       "      <td>41.915</td>\n",
       "      <td>-87.730</td>\n",
       "      <td>NaN</td>\n",
       "      <td>NaN</td>\n",
       "      <td>88.1</td>\n",
       "      <td>59.8</td>\n",
       "      <td>91.3</td>\n",
       "      <td>77.5</td>\n",
       "      <td>Level 1+</td>\n",
       "      <td>NOT APPLICABLE</td>\n",
       "      <td>This school received a Level 1+ rating, which ...</td>\n",
       "      <td>Schools that are open to all Chicago children,...</td>\n",
       "      <td>School Year 2017-2018</td>\n",
       "      <td>NaN</td>\n",
       "      <td>NaN</td>\n",
       "      <td>NaN</td>\n",
       "      <td>NaN</td>\n",
       "      <td>NaN</td>\n",
       "      <td>NaN</td>\n",
       "      <td>NaN</td>\n",
       "      <td>NaN</td>\n",
       "      <td>NaN</td>\n",
       "      <td>NaN</td>\n",
       "      <td>4131 W CORTLAND ST\\nChicago, Illinois 60639\\n(...</td>\n",
       "      <td>Charter</td>\n",
       "      <td>Y</td>\n",
       "      <td>N</td>\n",
       "      <td>N</td>\n",
       "      <td>Y</td>\n",
       "      <td>9/1/04 0:00</td>\n",
       "      <td>NaN</td>\n",
       "      <td>60639.0</td>\n",
       "    </tr>\n",
       "    <tr>\n",
       "      <th>4</th>\n",
       "      <td>609726</td>\n",
       "      <td>1500</td>\n",
       "      <td>47051</td>\n",
       "      <td>BROOKS HS</td>\n",
       "      <td>Gwendolyn Brooks College Preparatory Academy HS</td>\n",
       "      <td>Selective enrollment</td>\n",
       "      <td>HS</td>\n",
       "      <td>Y</td>\n",
       "      <td>Y</td>\n",
       "      <td>N</td>\n",
       "      <td>N</td>\n",
       "      <td>Brooks prepares students to be global leaders ...</td>\n",
       "      <td>Principal</td>\n",
       "      <td>Ms.Shannae Bea Jackson</td>\n",
       "      <td>Assistant Principal</td>\n",
       "      <td>Shannae Jackson</td>\n",
       "      <td>250 E 111TH ST</td>\n",
       "      <td>Chicago</td>\n",
       "      <td>Illinois</td>\n",
       "      <td>60628.0</td>\n",
       "      <td>7.735e+09</td>\n",
       "      <td>7.735e+09</td>\n",
       "      <td>http://cps.edu/Schools/Pages/school.aspx?Schoo...</td>\n",
       "      <td>http://www.brookscollegeprep.org</td>\n",
       "      <td>NaN</td>\n",
       "      <td>https://twitter.com/BrooksPrepCSL</td>\n",
       "      <td>NaN</td>\n",
       "      <td>NaN</td>\n",
       "      <td>N</td>\n",
       "      <td>7,8,9,10,11,12</td>\n",
       "      <td>7-12</td>\n",
       "      <td>959</td>\n",
       "      <td>692</td>\n",
       "      <td>59</td>\n",
       "      <td>2</td>\n",
       "      <td>757</td>\n",
       "      <td>175</td>\n",
       "      <td>7</td>\n",
       "      <td>1</td>\n",
       "      <td>2</td>\n",
       "      <td>0</td>\n",
       "      <td>0</td>\n",
       "      <td>7</td>\n",
       "      <td>2</td>\n",
       "      <td>8</td>\n",
       "      <td>There are 959 students enrolled at BROOKS HS. ...</td>\n",
       "      <td>The largest demographic at BROOKS HS is Black....</td>\n",
       "      <td>Fully Accessible</td>\n",
       "      <td>N</td>\n",
       "      <td>NaN</td>\n",
       "      <td>NaN</td>\n",
       "      <td>8:00 AM - 3:30 PM</td>\n",
       "      <td>8:00 a.m. - 3:35 p.m.</td>\n",
       "      <td>NaN</td>\n",
       "      <td>6:30 AM</td>\n",
       "      <td>French, Spanish</td>\n",
       "      <td>N</td>\n",
       "      <td>N</td>\n",
       "      <td>Y</td>\n",
       "      <td>NaN</td>\n",
       "      <td>NaN</td>\n",
       "      <td>Y</td>\n",
       "      <td>NaN</td>\n",
       "      <td>NaN</td>\n",
       "      <td>34111119</td>\n",
       "      <td>Orange</td>\n",
       "      <td>Metra Electric District (ME)</td>\n",
       "      <td>41.693</td>\n",
       "      <td>-87.616</td>\n",
       "      <td>22.5</td>\n",
       "      <td>18.4</td>\n",
       "      <td>85.1</td>\n",
       "      <td>57.9</td>\n",
       "      <td>93.4</td>\n",
       "      <td>73.5</td>\n",
       "      <td>Level 1+</td>\n",
       "      <td>Good Standing</td>\n",
       "      <td>This school received a Level 1+ rating, which ...</td>\n",
       "      <td>Schools that offer a rigorous curriculum with ...</td>\n",
       "      <td>School Year 2016-2017</td>\n",
       "      <td>Assistant Principal</td>\n",
       "      <td>Daniel Bauer</td>\n",
       "      <td>NaN</td>\n",
       "      <td>NaN</td>\n",
       "      <td>NaN</td>\n",
       "      <td>NaN</td>\n",
       "      <td>NaN</td>\n",
       "      <td>NaN</td>\n",
       "      <td>NaN</td>\n",
       "      <td>NaN</td>\n",
       "      <td>250 E 111TH ST\\nChicago, Illinois 60628\\n(41.6...</td>\n",
       "      <td>NaN</td>\n",
       "      <td>NaN</td>\n",
       "      <td>NaN</td>\n",
       "      <td>NaN</td>\n",
       "      <td>NaN</td>\n",
       "      <td>NaN</td>\n",
       "      <td>NaN</td>\n",
       "      <td>60628.0</td>\n",
       "    </tr>\n",
       "  </tbody>\n",
       "</table>\n",
       "</div>"
      ],
      "text/plain": [
       "   School_ID  Legacy_Unit_ID  Finance_ID           Short_Name  \\\n",
       "0     609764            1890       46421            JUAREZ HS   \n",
       "1     609764            1890       46421            JUAREZ HS   \n",
       "2     400054            1931       66142  NOBLE - PRITZKER HS   \n",
       "3     400054            1931       66142  NOBLE - PRITZKER HS   \n",
       "4     609726            1500       47051            BROOKS HS   \n",
       "\n",
       "                                         Long_Name           School_Type  \\\n",
       "0      Benito Juarez Community Academy High School          Neighborhood   \n",
       "1      Benito Juarez Community Academy High School                   NaN   \n",
       "2                    Noble - Pritzker College Prep               Charter   \n",
       "3                    Noble - Pritzker College Prep                   NaN   \n",
       "4  Gwendolyn Brooks College Preparatory Academy HS  Selective enrollment   \n",
       "\n",
       "  Primary_Category Is_High_School Is_Middle_School Is_Elementary_School  \\\n",
       "0               HS              Y                N                    N   \n",
       "1               HS              Y                N                    N   \n",
       "2               HS              Y                N                    N   \n",
       "3               HS              Y                N                    N   \n",
       "4               HS              Y                Y                    N   \n",
       "\n",
       "  Is_Pre_School                                            Summary  \\\n",
       "0             N  Juarez offers a particularly wide array of aca...   \n",
       "1             N  Juarez offers a particularly wide array of aca...   \n",
       "2             N  We have been accepted as an IB School, and as ...   \n",
       "3             N  We have been accepted as an IB School, and as ...   \n",
       "4             N  Brooks prepares students to be global leaders ...   \n",
       "\n",
       "  Administrator_Title           Administrator Secondary_Contact_Title  \\\n",
       "0           Principal        Juan Carlos Ocon     Assistant Principal   \n",
       "1           Principal        Juan Carlos Ocon     Assistant Principal   \n",
       "2            Director        Ms. Carrie Spitz               Principal   \n",
       "3            Director        Ms. Carrie Spitz               Principal   \n",
       "4           Principal  Ms.Shannae Bea Jackson     Assistant Principal   \n",
       "\n",
       "  Secondary_Contact             Address     City     State    Zip_x  \\\n",
       "0       Keith Adams    1450 W CERMAK RD  Chicago  Illinois  60608.0   \n",
       "1       Keith Adams                 NaN      NaN       NaN      NaN   \n",
       "2      Carrie Spitz  4131 W CORTLAND ST  Chicago  Illinois  60639.0   \n",
       "3      Carrie Spitz                 NaN      NaN       NaN      NaN   \n",
       "4   Shannae Jackson      250 E 111TH ST  Chicago  Illinois  60628.0   \n",
       "\n",
       "       Phone        Fax                                 CPS_School_Profile  \\\n",
       "0  7.735e+09  7.735e+09  http://cps.edu/Schools/Pages/school.aspx?Schoo...   \n",
       "1  7.735e+09  7.735e+09  http://cps.edu/Schools/Pages/school.aspx?Schoo...   \n",
       "2  7.734e+09  7.734e+09  http://cps.edu/Schools/Pages/school.aspx?Schoo...   \n",
       "3  7.734e+09  7.734e+09  http://cps.edu/Schools/Pages/school.aspx?Schoo...   \n",
       "4  7.735e+09  7.735e+09  http://cps.edu/Schools/Pages/school.aspx?Schoo...   \n",
       "\n",
       "                              Website  \\\n",
       "0         http://www.benitojuarez.net   \n",
       "1         http://www.benitojuarez.net   \n",
       "2  http://www.pritzkercollegeprep.org   \n",
       "3  http://www.pritzkercollegeprep.org   \n",
       "4    http://www.brookscollegeprep.org   \n",
       "\n",
       "                                   Facebook  \\\n",
       "0                                       NaN   \n",
       "1                                       NaN   \n",
       "2  https://www.facebook.com/benoblepritzker   \n",
       "3  https://www.facebook.com/benoblepritzker   \n",
       "4                                       NaN   \n",
       "\n",
       "                              Twitter Youtube Pinterest Attendance_Boundaries  \\\n",
       "0                                 NaN     NaN       NaN                     Y   \n",
       "1                                 NaN     NaN       NaN                     Y   \n",
       "2  http://twitter.com/benoblepritzker     NaN       NaN                     N   \n",
       "3  http://twitter.com/benoblepritzker     NaN       NaN                     N   \n",
       "4   https://twitter.com/BrooksPrepCSL     NaN       NaN                     N   \n",
       "\n",
       "  Grades_Offered_All Grades_Offered  Student_Count_Total  \\\n",
       "0         9,10,11,12           9-12                 1739   \n",
       "1         9,10,11,12         12-Sep                 1706   \n",
       "2         9,10,11,12           9-12                  992   \n",
       "3         9,10,11,12         12-Sep                  975   \n",
       "4     7,8,9,10,11,12           7-12                  959   \n",
       "\n",
       "   Student_Count_Low_Income  Student_Count_Special_Ed  \\\n",
       "0                      1659                       281   \n",
       "1                      1068                       277   \n",
       "2                       936                       106   \n",
       "3                       930                       105   \n",
       "4                       692                        59   \n",
       "\n",
       "   Student_Count_English_Learners  Student_Count_Black  \\\n",
       "0                             331                   58   \n",
       "1                             343                   53   \n",
       "2                             120                   30   \n",
       "3                             134                   36   \n",
       "4                               2                  757   \n",
       "\n",
       "   Student_Count_Hispanic  Student_Count_White  Student_Count_Asian  \\\n",
       "0                    1644                   12                    5   \n",
       "1                    1608                   10                   10   \n",
       "2                     945                    9                    1   \n",
       "3                     923                    9                    0   \n",
       "4                     175                    7                    1   \n",
       "\n",
       "   Student_Count_Native_American  Student_Count_Other_Ethnicity  \\\n",
       "0                              6                              0   \n",
       "1                              6                              0   \n",
       "2                              5                              0   \n",
       "3                              5                              0   \n",
       "4                              2                              0   \n",
       "\n",
       "   Student_Count_Asian_Pacific_Islander  Student_Count_Multi  \\\n",
       "0                                     0                    3   \n",
       "1                                     0                    6   \n",
       "2                                     0                    2   \n",
       "3                                     0                    2   \n",
       "4                                     0                    7   \n",
       "\n",
       "   Student_Count_Hawaiian_Pacific_Islander  \\\n",
       "0                                        0   \n",
       "1                                        0   \n",
       "2                                        0   \n",
       "3                                        0   \n",
       "4                                        2   \n",
       "\n",
       "   Student_Count_Ethnicity_Not_Available  \\\n",
       "0                                     11   \n",
       "1                                     13   \n",
       "2                                      0   \n",
       "3                                      0   \n",
       "4                                      8   \n",
       "\n",
       "                              Statistics_Description  \\\n",
       "0  There are 1739 students enrolled at JUAREZ HS....   \n",
       "1  There are 1706 students enrolled at JUAREZ HS....   \n",
       "2  There are 992 students enrolled at NOBLE - PRI...   \n",
       "3  There are 975 students enrolled at NOBLE - PRI...   \n",
       "4  There are 959 students enrolled at BROOKS HS. ...   \n",
       "\n",
       "                             Demographic_Description        ADA_Accessible  \\\n",
       "0  The largest demographic at JUAREZ HS is Hispan...  Generally accessible   \n",
       "1  The largest demographic at JUAREZ HS is Hispan...                   NaN   \n",
       "2  The largest demographic at NOBLE - PRITZKER HS...  Generally accessible   \n",
       "3  The largest demographic at NOBLE - PRITZKER HS...                   NaN   \n",
       "4  The largest demographic at BROOKS HS is Black....      Fully Accessible   \n",
       "\n",
       "  Dress_Code PreK_School_Day Kindergarten_School_Day  \\\n",
       "0          N             NaN                     NaN   \n",
       "1          N             NaN                     NaN   \n",
       "2          Y             NaN                     NaN   \n",
       "3          Y             NaN                     NaN   \n",
       "4          N             NaN                     NaN   \n",
       "\n",
       "                             School_Hours Freshman_Start_End_Time  \\\n",
       "0                     7:45  AM - 2:35  PM   7:45 a.m. - 2:45 p.m.   \n",
       "1                     7:45  AM - 2:35  PM   7:45 a.m. - 2:45 p.m.   \n",
       "2  M - R 8:05AM. - 3:50PM  F 8:05- 1:30PM                       .   \n",
       "3  M - R 8:05AM. - 3:50PM  F 8:05- 1:30PM                       .   \n",
       "4                       8:00 AM - 3:30 PM   8:00 a.m. - 3:35 p.m.   \n",
       "\n",
       "  After_School_Hours Earliest_Drop_Off_Time Classroom_Languages  \\\n",
       "0  2:40 to 8:00 P.M.               7:00 A.M     French, Spanish   \n",
       "1  2:40 to 8:00 P.M.               7:00 A.M     French, Spanish   \n",
       "2      4:00PM-5:30PM                 7:00AM    Russian, Spanish   \n",
       "3      4:00PM-5:30PM                 7:00AM    Russian, Spanish   \n",
       "4                NaN                6:30 AM     French, Spanish   \n",
       "\n",
       "  Bilingual_Services Refugee_Services Title_1_Eligible PreSchool_Inclusive  \\\n",
       "0                  Y                Y                Y                 NaN   \n",
       "1                  Y                Y                Y                 NaN   \n",
       "2                  N                N                Y                 NaN   \n",
       "3                  N                N                Y                 NaN   \n",
       "4                  N                N                Y                 NaN   \n",
       "\n",
       "  Preschool_Instructional Significantly_Modified Hard_Of_Hearing  \\\n",
       "0                     NaN                    NaN             NaN   \n",
       "1                     NaN                    NaN             NaN   \n",
       "2                     NaN                    NaN             NaN   \n",
       "3                     NaN                    NaN             NaN   \n",
       "4                     NaN                      Y             NaN   \n",
       "\n",
       "  Visual_Impairments Transportation_Bus Transportation_El  \\\n",
       "0                NaN          9, 21, 60   Blue, Pink, Red   \n",
       "1                NaN          9, 21, 60   Blue, Pink, Red   \n",
       "2                NaN         53, 72, 73       Blue, Brown   \n",
       "3                NaN         53, 72, 73       Blue, Brown   \n",
       "4                NaN           34111119            Orange   \n",
       "\n",
       "           Transportation_Metra  School_Latitude  School_Longitude  \\\n",
       "0                           NaN           41.853           -87.664   \n",
       "1                           NaN           41.853           -87.664   \n",
       "2                           NaN           41.915           -87.730   \n",
       "3                           NaN           41.915           -87.730   \n",
       "4  Metra Electric District (ME)           41.693           -87.616   \n",
       "\n",
       "   Average_ACT_School  Mean_ACT  College_Enrollment_Rate_School  \\\n",
       "0                16.5      18.4                            50.6   \n",
       "1                 NaN       NaN                            52.2   \n",
       "2                21.9      18.4                            85.7   \n",
       "3                 NaN       NaN                            88.1   \n",
       "4                22.5      18.4                            85.1   \n",
       "\n",
       "   College_Enrollment_Rate_Mean  Graduation_Rate_School  Graduation_Rate_Mean  \\\n",
       "0                          57.9                    80.9                  73.5   \n",
       "1                          59.8                    78.6                  77.5   \n",
       "2                          57.9                    90.3                  73.5   \n",
       "3                          59.8                    91.3                  77.5   \n",
       "4                          57.9                    93.4                  73.5   \n",
       "\n",
       "  Overall_Rating   Rating_Status  \\\n",
       "0       Level 2+   Good Standing   \n",
       "1       Level 2+   GOOD STANDING   \n",
       "2       Level 1+  Not Applicable   \n",
       "3       Level 1+  NOT APPLICABLE   \n",
       "4       Level 1+   Good Standing   \n",
       "\n",
       "                                    Rating_Statement  \\\n",
       "0  This school received a Level 2+ rating, which ...   \n",
       "1  This school received a Level 2+ rating, which ...   \n",
       "2  This school received a Level 1+ rating, which ...   \n",
       "3  This school received a Level 1+ rating, which ...   \n",
       "4  This school received a Level 1+ rating, which ...   \n",
       "\n",
       "                          Classification_Description            School_Year  \\\n",
       "0  Schools that have an attendance boundary. Gene...  School Year 2016-2017   \n",
       "1  Schools that have an attendance boundary. Gene...  School Year 2017-2018   \n",
       "2  Schools that are open to all Chicago children,...  School Year 2016-2017   \n",
       "3  Schools that are open to all Chicago children,...  School Year 2017-2018   \n",
       "4  Schools that offer a rigorous curriculum with ...  School Year 2016-2017   \n",
       "\n",
       "   Third_Contact_Title Third_Contact_Name Fourth_Contact_Title  \\\n",
       "0  Assistant Principal    Nicholas Aquino       IB Coordinator   \n",
       "1  Assistant Principal    Nicholas Aquino       IB Coordinator   \n",
       "2                  NaN                NaN                  NaN   \n",
       "3                  NaN                NaN                  NaN   \n",
       "4  Assistant Principal       Daniel Bauer                  NaN   \n",
       "\n",
       "  Fourth_Contact_Name Fifth_Contact_Title Fifth_Contact_Name  \\\n",
       "0    Santiago Marquez                 NaN                NaN   \n",
       "1    Santiago Marquez                 NaN                NaN   \n",
       "2                 NaN                 NaN                NaN   \n",
       "3                 NaN                 NaN                NaN   \n",
       "4                 NaN                 NaN                NaN   \n",
       "\n",
       "  Sixth_Contact_Title Sixth_Contact_Name Seventh_Contact_Title  \\\n",
       "0                 NaN                NaN                   NaN   \n",
       "1                 NaN                NaN                   NaN   \n",
       "2                 NaN                NaN                   NaN   \n",
       "3                 NaN                NaN                   NaN   \n",
       "4                 NaN                NaN                   NaN   \n",
       "\n",
       "  Seventh_Contact_Name                                           Location  \\\n",
       "0                  NaN  1450 W CERMAK RD\\nChicago, Illinois 60608\\n(41...   \n",
       "1                  NaN  1450 W CERMAK RD\\nChicago, Illinois 60608\\n(41...   \n",
       "2                  NaN  4131 W CORTLAND ST\\nChicago, Illinois 60639\\n(...   \n",
       "3                  NaN  4131 W CORTLAND ST\\nChicago, Illinois 60639\\n(...   \n",
       "4                  NaN  250 E 111TH ST\\nChicago, Illinois 60628\\n(41.6...   \n",
       "\n",
       "   Network Is_GoCPS_Participant Is_GoCPS_PreK Is_GoCPS_Elementary  \\\n",
       "0      NaN                  NaN           NaN                 NaN   \n",
       "1      ISP                    Y             N                   N   \n",
       "2      NaN                  NaN           NaN                 NaN   \n",
       "3  Charter                    Y             N                   N   \n",
       "4      NaN                  NaN           NaN                 NaN   \n",
       "\n",
       "  Is_GoCPS_High_School Open_For_Enrollment_Date  Closed_For_Enrollment_Date  \\\n",
       "0                  NaN                      NaN                         NaN   \n",
       "1                    Y              9/1/04 0:00                         NaN   \n",
       "2                  NaN                      NaN                         NaN   \n",
       "3                    Y              9/1/04 0:00                         NaN   \n",
       "4                  NaN                      NaN                         NaN   \n",
       "\n",
       "     Zip_y  \n",
       "0  60608.0  \n",
       "1  60608.0  \n",
       "2  60639.0  \n",
       "3  60639.0  \n",
       "4  60628.0  "
      ]
     },
     "execution_count": 4,
     "metadata": {},
     "output_type": "execute_result"
    }
   ],
   "source": [
    "df.head()"
   ]
  },
  {
   "cell_type": "markdown",
   "metadata": {},
   "source": [
    "## Drop data not considered in this model"
   ]
  },
  {
   "cell_type": "code",
   "execution_count": 5,
   "metadata": {},
   "outputs": [],
   "source": [
    "#drop select columns\n",
    "df.drop(columns = ['Address', 'Administrator_Title', 'CPS_School_Profile', \n",
    "                   'City', 'Classification_Description', 'Closed_For_Enrollment_Date',\n",
    "                  'College_Enrollment_Rate_Mean', 'College_Enrollment_Rate_School',\n",
    "                  'Demographic_Description', 'Earliest_Drop_Off_Time', 'Facebook', \n",
    "                  'Fax', 'Fifth_Contact_Name', 'Fifth_Contact_Title', 'Finance_ID', \n",
    "                  'Fourth_Contact_Name', 'Fourth_Contact_Title', 'Freshman_Start_End_Time',\n",
    "                  'Grades_Offered', 'Graduation_Rate_Mean', 'Is_Elementary_School', \n",
    "                  'Is_GoCPS_Elementary', 'Is_GoCPS_High_School', 'Is_GoCPS_PreK', \n",
    "                  'Is_High_School', 'Is_Middle_School', 'Is_Pre_School', 'Kindergarten_School_Day',\n",
    "                  'Legacy_Unit_ID', 'Long_Name', 'Mean_ACT', 'Open_For_Enrollment_Date', \n",
    "                  'Overall_Rating', 'Phone', 'Pinterest', 'PreK_School_Day', 'PreSchool_Inclusive', \n",
    "                  'Preschool_Instructional', 'Primary_Category', 'Rating_Statement', 'Rating_Status', \n",
    "                  'Refugee_Services', 'School_Type','Secondary_Contact', 'Secondary_Contact_Title', \n",
    "                  'Seventh_Contact_Name', 'Seventh_Contact_Title', 'Short_Name', 'Short_Name', \n",
    "                  'Significantly_Modified', 'Sixth_Contact_Name', 'Sixth_Contact_Title', 'State',\n",
    "                  'Statistics_Description', 'Summary', 'Third_Contact_Name', 'Third_Contact_Title', \n",
    "                  'Title_1_Eligible', 'Twitter', 'Visual_Impairments', 'Website',\n",
    "                  'Youtube', 'Zip_x', 'Attendance_Boundaries','Average_ACT_School', \n",
    "                   'Bilingual_Services','Hard_Of_Hearing', 'Is_GoCPS_Participant',\n",
    "                  'School_Latitude', 'School_Longitude', 'Average_ACT_School', 'Location',\n",
    "                   'Transportation_Bus','Transportation_Metra', 'After_School_Hours','School_Hours'], inplace = True)"
   ]
  },
  {
   "cell_type": "code",
   "execution_count": 6,
   "metadata": {},
   "outputs": [
    {
     "data": {
      "text/plain": [
       "['School_ID',\n",
       " 'Administrator',\n",
       " 'Grades_Offered_All',\n",
       " 'Student_Count_Total',\n",
       " 'Student_Count_Low_Income',\n",
       " 'Student_Count_Special_Ed',\n",
       " 'Student_Count_English_Learners',\n",
       " 'Student_Count_Black',\n",
       " 'Student_Count_Hispanic',\n",
       " 'Student_Count_White',\n",
       " 'Student_Count_Asian',\n",
       " 'Student_Count_Native_American',\n",
       " 'Student_Count_Other_Ethnicity',\n",
       " 'Student_Count_Asian_Pacific_Islander',\n",
       " 'Student_Count_Multi',\n",
       " 'Student_Count_Hawaiian_Pacific_Islander',\n",
       " 'Student_Count_Ethnicity_Not_Available',\n",
       " 'ADA_Accessible',\n",
       " 'Dress_Code',\n",
       " 'Classroom_Languages',\n",
       " 'Transportation_El',\n",
       " 'Graduation_Rate_School',\n",
       " 'School_Year',\n",
       " 'Network',\n",
       " 'Zip_y']"
      ]
     },
     "execution_count": 6,
     "metadata": {},
     "output_type": "execute_result"
    }
   ],
   "source": [
    "list(df)"
   ]
  },
  {
   "cell_type": "markdown",
   "metadata": {},
   "source": [
    "## Merge Income Data Per Zip for 16/17 and 17/18"
   ]
  },
  {
   "cell_type": "code",
   "execution_count": 7,
   "metadata": {},
   "outputs": [],
   "source": [
    "df_2016 = df[df['School_Year'] == 'School Year 2016-2017']\n",
    "df_2016_income = pd.read_csv('data/meanHHincome_2016.csv', header=None)\n",
    "df_2016_income.columns = ['Zip_y', 'Zip_Mean_Income']\n",
    "df_2016 = pd.merge(df_2016, df_2016_income, on = 'Zip_y' )"
   ]
  },
  {
   "cell_type": "code",
   "execution_count": 8,
   "metadata": {},
   "outputs": [],
   "source": [
    "df_2017 = df[df['School_Year'] == 'School Year 2017-2018']\n",
    "df_2017_income = pd.read_csv('data/meanHHincome_2017.csv', header=None)\n",
    "df_2017_income.columns = ['Zip_y', 'Zip_Mean_Income']\n",
    "df_2017 = pd.merge(df_2017, df_2017_income, on = 'Zip_y' )"
   ]
  },
  {
   "cell_type": "code",
   "execution_count": 9,
   "metadata": {},
   "outputs": [],
   "source": [
    "df = df_2016.append(df_2017)"
   ]
  },
  {
   "cell_type": "code",
   "execution_count": 10,
   "metadata": {},
   "outputs": [
    {
     "name": "stdout",
     "output_type": "stream",
     "text": [
      "['School_ID', 'Administrator', 'Grades_Offered_All', 'Student_Count_Total', 'Student_Count_Low_Income', 'Student_Count_Special_Ed', 'Student_Count_English_Learners', 'Student_Count_Black', 'Student_Count_Hispanic', 'Student_Count_White', 'Student_Count_Asian', 'Student_Count_Native_American', 'Student_Count_Other_Ethnicity', 'Student_Count_Asian_Pacific_Islander', 'Student_Count_Multi', 'Student_Count_Hawaiian_Pacific_Islander', 'Student_Count_Ethnicity_Not_Available', 'ADA_Accessible', 'Dress_Code', 'Classroom_Languages', 'Transportation_El', 'Graduation_Rate_School', 'School_Year', 'Network', 'Zip_y', 'Zip_Mean_Income']\n"
     ]
    }
   ],
   "source": [
    "print(list(df))"
   ]
  },
  {
   "cell_type": "markdown",
   "metadata": {},
   "source": [
    "## Fill in ADA accessible and create ADA dummie"
   ]
  },
  {
   "cell_type": "code",
   "execution_count": 11,
   "metadata": {},
   "outputs": [],
   "source": [
    "# 2016-17 has ADA accessibility data, and I will assume it is the same for 17-18."
   ]
  },
  {
   "cell_type": "code",
   "execution_count": 12,
   "metadata": {},
   "outputs": [],
   "source": [
    "ada = df[df['School_Year'] == 'School Year 2016-2017'][['ADA_Accessible', 'School_ID']]"
   ]
  },
  {
   "cell_type": "code",
   "execution_count": 13,
   "metadata": {},
   "outputs": [],
   "source": [
    "df = pd.merge(df, ada, on = 'School_ID' )\n",
    "df.drop(columns = 'ADA_Accessible_x', inplace = True)"
   ]
  },
  {
   "cell_type": "code",
   "execution_count": 14,
   "metadata": {},
   "outputs": [
    {
     "data": {
      "text/plain": [
       "Generally accessible        130\n",
       "Fully Accessible             66\n",
       "No/unknown accessibility     43\n",
       "Name: ADA_Accessible_y, dtype: int64"
      ]
     },
     "execution_count": 14,
     "metadata": {},
     "output_type": "execute_result"
    }
   ],
   "source": [
    "df['ADA_Accessible_y'].value_counts()"
   ]
  },
  {
   "cell_type": "code",
   "execution_count": 15,
   "metadata": {},
   "outputs": [],
   "source": [
    "df = pd.concat((df, pd.get_dummies(df['ADA_Accessible_y'])), axis=1)"
   ]
  },
  {
   "cell_type": "code",
   "execution_count": 16,
   "metadata": {},
   "outputs": [
    {
     "data": {
      "text/html": [
       "<div>\n",
       "<style scoped>\n",
       "    .dataframe tbody tr th:only-of-type {\n",
       "        vertical-align: middle;\n",
       "    }\n",
       "\n",
       "    .dataframe tbody tr th {\n",
       "        vertical-align: top;\n",
       "    }\n",
       "\n",
       "    .dataframe thead th {\n",
       "        text-align: right;\n",
       "    }\n",
       "</style>\n",
       "<table border=\"1\" class=\"dataframe\">\n",
       "  <thead>\n",
       "    <tr style=\"text-align: right;\">\n",
       "      <th></th>\n",
       "      <th>School_ID</th>\n",
       "      <th>Administrator</th>\n",
       "      <th>Grades_Offered_All</th>\n",
       "      <th>Student_Count_Total</th>\n",
       "      <th>Student_Count_Low_Income</th>\n",
       "      <th>Student_Count_Special_Ed</th>\n",
       "      <th>Student_Count_English_Learners</th>\n",
       "      <th>Student_Count_Black</th>\n",
       "      <th>Student_Count_Hispanic</th>\n",
       "      <th>Student_Count_White</th>\n",
       "      <th>Student_Count_Asian</th>\n",
       "      <th>Student_Count_Native_American</th>\n",
       "      <th>Student_Count_Other_Ethnicity</th>\n",
       "      <th>Student_Count_Asian_Pacific_Islander</th>\n",
       "      <th>Student_Count_Multi</th>\n",
       "      <th>Student_Count_Hawaiian_Pacific_Islander</th>\n",
       "      <th>Student_Count_Ethnicity_Not_Available</th>\n",
       "      <th>Dress_Code</th>\n",
       "      <th>Classroom_Languages</th>\n",
       "      <th>Transportation_El</th>\n",
       "      <th>Graduation_Rate_School</th>\n",
       "      <th>School_Year</th>\n",
       "      <th>Network</th>\n",
       "      <th>Zip_y</th>\n",
       "      <th>Zip_Mean_Income</th>\n",
       "      <th>ADA_Accessible_y</th>\n",
       "      <th>Fully Accessible</th>\n",
       "      <th>Generally accessible</th>\n",
       "      <th>No/unknown accessibility</th>\n",
       "    </tr>\n",
       "  </thead>\n",
       "  <tbody>\n",
       "    <tr>\n",
       "      <th>0</th>\n",
       "      <td>609764</td>\n",
       "      <td>Juan Carlos Ocon</td>\n",
       "      <td>9,10,11,12</td>\n",
       "      <td>1739</td>\n",
       "      <td>1659</td>\n",
       "      <td>281</td>\n",
       "      <td>331</td>\n",
       "      <td>58</td>\n",
       "      <td>1644</td>\n",
       "      <td>12</td>\n",
       "      <td>5</td>\n",
       "      <td>6</td>\n",
       "      <td>0</td>\n",
       "      <td>0</td>\n",
       "      <td>3</td>\n",
       "      <td>0</td>\n",
       "      <td>11</td>\n",
       "      <td>N</td>\n",
       "      <td>French, Spanish</td>\n",
       "      <td>Blue, Pink, Red</td>\n",
       "      <td>80.9</td>\n",
       "      <td>School Year 2016-2017</td>\n",
       "      <td>NaN</td>\n",
       "      <td>60608.0</td>\n",
       "      <td>53,353</td>\n",
       "      <td>Generally accessible</td>\n",
       "      <td>0</td>\n",
       "      <td>1</td>\n",
       "      <td>0</td>\n",
       "    </tr>\n",
       "    <tr>\n",
       "      <th>1</th>\n",
       "      <td>609764</td>\n",
       "      <td>Juan Carlos Ocon</td>\n",
       "      <td>9,10,11,12</td>\n",
       "      <td>1706</td>\n",
       "      <td>1068</td>\n",
       "      <td>277</td>\n",
       "      <td>343</td>\n",
       "      <td>53</td>\n",
       "      <td>1608</td>\n",
       "      <td>10</td>\n",
       "      <td>10</td>\n",
       "      <td>6</td>\n",
       "      <td>0</td>\n",
       "      <td>0</td>\n",
       "      <td>6</td>\n",
       "      <td>0</td>\n",
       "      <td>13</td>\n",
       "      <td>N</td>\n",
       "      <td>French, Spanish</td>\n",
       "      <td>Blue, Pink, Red</td>\n",
       "      <td>78.6</td>\n",
       "      <td>School Year 2017-2018</td>\n",
       "      <td>ISP</td>\n",
       "      <td>60608.0</td>\n",
       "      <td>57,770</td>\n",
       "      <td>Generally accessible</td>\n",
       "      <td>0</td>\n",
       "      <td>1</td>\n",
       "      <td>0</td>\n",
       "    </tr>\n",
       "    <tr>\n",
       "      <th>2</th>\n",
       "      <td>400104</td>\n",
       "      <td>Dr. Hillyn Senuholtz</td>\n",
       "      <td>9,10,11,12</td>\n",
       "      <td>742</td>\n",
       "      <td>720</td>\n",
       "      <td>146</td>\n",
       "      <td>169</td>\n",
       "      <td>24</td>\n",
       "      <td>714</td>\n",
       "      <td>3</td>\n",
       "      <td>0</td>\n",
       "      <td>1</td>\n",
       "      <td>0</td>\n",
       "      <td>0</td>\n",
       "      <td>0</td>\n",
       "      <td>0</td>\n",
       "      <td>0</td>\n",
       "      <td>Y</td>\n",
       "      <td>Spanish</td>\n",
       "      <td>NaN</td>\n",
       "      <td>82.8</td>\n",
       "      <td>School Year 2016-2017</td>\n",
       "      <td>NaN</td>\n",
       "      <td>60608.0</td>\n",
       "      <td>53,353</td>\n",
       "      <td>No/unknown accessibility</td>\n",
       "      <td>0</td>\n",
       "      <td>0</td>\n",
       "      <td>1</td>\n",
       "    </tr>\n",
       "    <tr>\n",
       "      <th>3</th>\n",
       "      <td>400104</td>\n",
       "      <td>Ms. Kimberly Burks</td>\n",
       "      <td>9,10,11,12</td>\n",
       "      <td>745</td>\n",
       "      <td>693</td>\n",
       "      <td>146</td>\n",
       "      <td>213</td>\n",
       "      <td>14</td>\n",
       "      <td>726</td>\n",
       "      <td>2</td>\n",
       "      <td>0</td>\n",
       "      <td>2</td>\n",
       "      <td>0</td>\n",
       "      <td>0</td>\n",
       "      <td>0</td>\n",
       "      <td>0</td>\n",
       "      <td>1</td>\n",
       "      <td>Y</td>\n",
       "      <td>Spanish</td>\n",
       "      <td>Blue, Orange, Pink</td>\n",
       "      <td>85.0</td>\n",
       "      <td>School Year 2017-2018</td>\n",
       "      <td>Charter</td>\n",
       "      <td>60608.0</td>\n",
       "      <td>57,770</td>\n",
       "      <td>No/unknown accessibility</td>\n",
       "      <td>0</td>\n",
       "      <td>0</td>\n",
       "      <td>1</td>\n",
       "    </tr>\n",
       "    <tr>\n",
       "      <th>4</th>\n",
       "      <td>609748</td>\n",
       "      <td>Sharnette Sims</td>\n",
       "      <td>9,10,11,12</td>\n",
       "      <td>199</td>\n",
       "      <td>174</td>\n",
       "      <td>58</td>\n",
       "      <td>2</td>\n",
       "      <td>154</td>\n",
       "      <td>36</td>\n",
       "      <td>6</td>\n",
       "      <td>0</td>\n",
       "      <td>3</td>\n",
       "      <td>0</td>\n",
       "      <td>0</td>\n",
       "      <td>0</td>\n",
       "      <td>0</td>\n",
       "      <td>0</td>\n",
       "      <td>N</td>\n",
       "      <td>NaN</td>\n",
       "      <td>NaN</td>\n",
       "      <td>1.7</td>\n",
       "      <td>School Year 2016-2017</td>\n",
       "      <td>NaN</td>\n",
       "      <td>60608.0</td>\n",
       "      <td>53,353</td>\n",
       "      <td>No/unknown accessibility</td>\n",
       "      <td>0</td>\n",
       "      <td>0</td>\n",
       "      <td>1</td>\n",
       "    </tr>\n",
       "  </tbody>\n",
       "</table>\n",
       "</div>"
      ],
      "text/plain": [
       "   School_ID         Administrator Grades_Offered_All  Student_Count_Total  \\\n",
       "0     609764      Juan Carlos Ocon         9,10,11,12                 1739   \n",
       "1     609764      Juan Carlos Ocon         9,10,11,12                 1706   \n",
       "2     400104  Dr. Hillyn Senuholtz         9,10,11,12                  742   \n",
       "3     400104    Ms. Kimberly Burks         9,10,11,12                  745   \n",
       "4     609748        Sharnette Sims         9,10,11,12                  199   \n",
       "\n",
       "   Student_Count_Low_Income  Student_Count_Special_Ed  \\\n",
       "0                      1659                       281   \n",
       "1                      1068                       277   \n",
       "2                       720                       146   \n",
       "3                       693                       146   \n",
       "4                       174                        58   \n",
       "\n",
       "   Student_Count_English_Learners  Student_Count_Black  \\\n",
       "0                             331                   58   \n",
       "1                             343                   53   \n",
       "2                             169                   24   \n",
       "3                             213                   14   \n",
       "4                               2                  154   \n",
       "\n",
       "   Student_Count_Hispanic  Student_Count_White  Student_Count_Asian  \\\n",
       "0                    1644                   12                    5   \n",
       "1                    1608                   10                   10   \n",
       "2                     714                    3                    0   \n",
       "3                     726                    2                    0   \n",
       "4                      36                    6                    0   \n",
       "\n",
       "   Student_Count_Native_American  Student_Count_Other_Ethnicity  \\\n",
       "0                              6                              0   \n",
       "1                              6                              0   \n",
       "2                              1                              0   \n",
       "3                              2                              0   \n",
       "4                              3                              0   \n",
       "\n",
       "   Student_Count_Asian_Pacific_Islander  Student_Count_Multi  \\\n",
       "0                                     0                    3   \n",
       "1                                     0                    6   \n",
       "2                                     0                    0   \n",
       "3                                     0                    0   \n",
       "4                                     0                    0   \n",
       "\n",
       "   Student_Count_Hawaiian_Pacific_Islander  \\\n",
       "0                                        0   \n",
       "1                                        0   \n",
       "2                                        0   \n",
       "3                                        0   \n",
       "4                                        0   \n",
       "\n",
       "   Student_Count_Ethnicity_Not_Available Dress_Code Classroom_Languages  \\\n",
       "0                                     11          N     French, Spanish   \n",
       "1                                     13          N     French, Spanish   \n",
       "2                                      0          Y             Spanish   \n",
       "3                                      1          Y             Spanish   \n",
       "4                                      0          N                 NaN   \n",
       "\n",
       "    Transportation_El  Graduation_Rate_School            School_Year  Network  \\\n",
       "0     Blue, Pink, Red                    80.9  School Year 2016-2017      NaN   \n",
       "1     Blue, Pink, Red                    78.6  School Year 2017-2018      ISP   \n",
       "2                 NaN                    82.8  School Year 2016-2017      NaN   \n",
       "3  Blue, Orange, Pink                    85.0  School Year 2017-2018  Charter   \n",
       "4                 NaN                     1.7  School Year 2016-2017      NaN   \n",
       "\n",
       "     Zip_y Zip_Mean_Income          ADA_Accessible_y  Fully Accessible  \\\n",
       "0  60608.0          53,353      Generally accessible                 0   \n",
       "1  60608.0          57,770      Generally accessible                 0   \n",
       "2  60608.0          53,353  No/unknown accessibility                 0   \n",
       "3  60608.0          57,770  No/unknown accessibility                 0   \n",
       "4  60608.0          53,353  No/unknown accessibility                 0   \n",
       "\n",
       "   Generally accessible  No/unknown accessibility  \n",
       "0                     1                         0  \n",
       "1                     1                         0  \n",
       "2                     0                         1  \n",
       "3                     0                         1  \n",
       "4                     0                         1  "
      ]
     },
     "execution_count": 16,
     "metadata": {},
     "output_type": "execute_result"
    }
   ],
   "source": [
    "df.head()"
   ]
  },
  {
   "cell_type": "code",
   "execution_count": 17,
   "metadata": {},
   "outputs": [],
   "source": [
    "#having [0,0] for fully and generally accessible implies no or unknown accessibility\n",
    "df.drop(columns = ['No/unknown accessibility','ADA_Accessible_y'], inplace=True)"
   ]
  },
  {
   "cell_type": "code",
   "execution_count": 18,
   "metadata": {},
   "outputs": [
    {
     "data": {
      "text/html": [
       "<div>\n",
       "<style scoped>\n",
       "    .dataframe tbody tr th:only-of-type {\n",
       "        vertical-align: middle;\n",
       "    }\n",
       "\n",
       "    .dataframe tbody tr th {\n",
       "        vertical-align: top;\n",
       "    }\n",
       "\n",
       "    .dataframe thead th {\n",
       "        text-align: right;\n",
       "    }\n",
       "</style>\n",
       "<table border=\"1\" class=\"dataframe\">\n",
       "  <thead>\n",
       "    <tr style=\"text-align: right;\">\n",
       "      <th></th>\n",
       "      <th>School_ID</th>\n",
       "      <th>Administrator</th>\n",
       "      <th>Grades_Offered_All</th>\n",
       "      <th>Student_Count_Total</th>\n",
       "      <th>Student_Count_Low_Income</th>\n",
       "      <th>Student_Count_Special_Ed</th>\n",
       "      <th>Student_Count_English_Learners</th>\n",
       "      <th>Student_Count_Black</th>\n",
       "      <th>Student_Count_Hispanic</th>\n",
       "      <th>Student_Count_White</th>\n",
       "      <th>Student_Count_Asian</th>\n",
       "      <th>Student_Count_Native_American</th>\n",
       "      <th>Student_Count_Other_Ethnicity</th>\n",
       "      <th>Student_Count_Asian_Pacific_Islander</th>\n",
       "      <th>Student_Count_Multi</th>\n",
       "      <th>Student_Count_Hawaiian_Pacific_Islander</th>\n",
       "      <th>Student_Count_Ethnicity_Not_Available</th>\n",
       "      <th>Dress_Code</th>\n",
       "      <th>Classroom_Languages</th>\n",
       "      <th>Transportation_El</th>\n",
       "      <th>Graduation_Rate_School</th>\n",
       "      <th>School_Year</th>\n",
       "      <th>Network</th>\n",
       "      <th>Zip_y</th>\n",
       "      <th>Zip_Mean_Income</th>\n",
       "      <th>Fully Accessible</th>\n",
       "      <th>Generally accessible</th>\n",
       "    </tr>\n",
       "  </thead>\n",
       "  <tbody>\n",
       "    <tr>\n",
       "      <th>0</th>\n",
       "      <td>609764</td>\n",
       "      <td>Juan Carlos Ocon</td>\n",
       "      <td>9,10,11,12</td>\n",
       "      <td>1739</td>\n",
       "      <td>1659</td>\n",
       "      <td>281</td>\n",
       "      <td>331</td>\n",
       "      <td>58</td>\n",
       "      <td>1644</td>\n",
       "      <td>12</td>\n",
       "      <td>5</td>\n",
       "      <td>6</td>\n",
       "      <td>0</td>\n",
       "      <td>0</td>\n",
       "      <td>3</td>\n",
       "      <td>0</td>\n",
       "      <td>11</td>\n",
       "      <td>N</td>\n",
       "      <td>French, Spanish</td>\n",
       "      <td>Blue, Pink, Red</td>\n",
       "      <td>80.9</td>\n",
       "      <td>School Year 2016-2017</td>\n",
       "      <td>NaN</td>\n",
       "      <td>60608.0</td>\n",
       "      <td>53,353</td>\n",
       "      <td>0</td>\n",
       "      <td>1</td>\n",
       "    </tr>\n",
       "    <tr>\n",
       "      <th>1</th>\n",
       "      <td>609764</td>\n",
       "      <td>Juan Carlos Ocon</td>\n",
       "      <td>9,10,11,12</td>\n",
       "      <td>1706</td>\n",
       "      <td>1068</td>\n",
       "      <td>277</td>\n",
       "      <td>343</td>\n",
       "      <td>53</td>\n",
       "      <td>1608</td>\n",
       "      <td>10</td>\n",
       "      <td>10</td>\n",
       "      <td>6</td>\n",
       "      <td>0</td>\n",
       "      <td>0</td>\n",
       "      <td>6</td>\n",
       "      <td>0</td>\n",
       "      <td>13</td>\n",
       "      <td>N</td>\n",
       "      <td>French, Spanish</td>\n",
       "      <td>Blue, Pink, Red</td>\n",
       "      <td>78.6</td>\n",
       "      <td>School Year 2017-2018</td>\n",
       "      <td>ISP</td>\n",
       "      <td>60608.0</td>\n",
       "      <td>57,770</td>\n",
       "      <td>0</td>\n",
       "      <td>1</td>\n",
       "    </tr>\n",
       "    <tr>\n",
       "      <th>2</th>\n",
       "      <td>400104</td>\n",
       "      <td>Dr. Hillyn Senuholtz</td>\n",
       "      <td>9,10,11,12</td>\n",
       "      <td>742</td>\n",
       "      <td>720</td>\n",
       "      <td>146</td>\n",
       "      <td>169</td>\n",
       "      <td>24</td>\n",
       "      <td>714</td>\n",
       "      <td>3</td>\n",
       "      <td>0</td>\n",
       "      <td>1</td>\n",
       "      <td>0</td>\n",
       "      <td>0</td>\n",
       "      <td>0</td>\n",
       "      <td>0</td>\n",
       "      <td>0</td>\n",
       "      <td>Y</td>\n",
       "      <td>Spanish</td>\n",
       "      <td>NaN</td>\n",
       "      <td>82.8</td>\n",
       "      <td>School Year 2016-2017</td>\n",
       "      <td>NaN</td>\n",
       "      <td>60608.0</td>\n",
       "      <td>53,353</td>\n",
       "      <td>0</td>\n",
       "      <td>0</td>\n",
       "    </tr>\n",
       "    <tr>\n",
       "      <th>3</th>\n",
       "      <td>400104</td>\n",
       "      <td>Ms. Kimberly Burks</td>\n",
       "      <td>9,10,11,12</td>\n",
       "      <td>745</td>\n",
       "      <td>693</td>\n",
       "      <td>146</td>\n",
       "      <td>213</td>\n",
       "      <td>14</td>\n",
       "      <td>726</td>\n",
       "      <td>2</td>\n",
       "      <td>0</td>\n",
       "      <td>2</td>\n",
       "      <td>0</td>\n",
       "      <td>0</td>\n",
       "      <td>0</td>\n",
       "      <td>0</td>\n",
       "      <td>1</td>\n",
       "      <td>Y</td>\n",
       "      <td>Spanish</td>\n",
       "      <td>Blue, Orange, Pink</td>\n",
       "      <td>85.0</td>\n",
       "      <td>School Year 2017-2018</td>\n",
       "      <td>Charter</td>\n",
       "      <td>60608.0</td>\n",
       "      <td>57,770</td>\n",
       "      <td>0</td>\n",
       "      <td>0</td>\n",
       "    </tr>\n",
       "    <tr>\n",
       "      <th>4</th>\n",
       "      <td>609748</td>\n",
       "      <td>Sharnette Sims</td>\n",
       "      <td>9,10,11,12</td>\n",
       "      <td>199</td>\n",
       "      <td>174</td>\n",
       "      <td>58</td>\n",
       "      <td>2</td>\n",
       "      <td>154</td>\n",
       "      <td>36</td>\n",
       "      <td>6</td>\n",
       "      <td>0</td>\n",
       "      <td>3</td>\n",
       "      <td>0</td>\n",
       "      <td>0</td>\n",
       "      <td>0</td>\n",
       "      <td>0</td>\n",
       "      <td>0</td>\n",
       "      <td>N</td>\n",
       "      <td>NaN</td>\n",
       "      <td>NaN</td>\n",
       "      <td>1.7</td>\n",
       "      <td>School Year 2016-2017</td>\n",
       "      <td>NaN</td>\n",
       "      <td>60608.0</td>\n",
       "      <td>53,353</td>\n",
       "      <td>0</td>\n",
       "      <td>0</td>\n",
       "    </tr>\n",
       "  </tbody>\n",
       "</table>\n",
       "</div>"
      ],
      "text/plain": [
       "   School_ID         Administrator Grades_Offered_All  Student_Count_Total  \\\n",
       "0     609764      Juan Carlos Ocon         9,10,11,12                 1739   \n",
       "1     609764      Juan Carlos Ocon         9,10,11,12                 1706   \n",
       "2     400104  Dr. Hillyn Senuholtz         9,10,11,12                  742   \n",
       "3     400104    Ms. Kimberly Burks         9,10,11,12                  745   \n",
       "4     609748        Sharnette Sims         9,10,11,12                  199   \n",
       "\n",
       "   Student_Count_Low_Income  Student_Count_Special_Ed  \\\n",
       "0                      1659                       281   \n",
       "1                      1068                       277   \n",
       "2                       720                       146   \n",
       "3                       693                       146   \n",
       "4                       174                        58   \n",
       "\n",
       "   Student_Count_English_Learners  Student_Count_Black  \\\n",
       "0                             331                   58   \n",
       "1                             343                   53   \n",
       "2                             169                   24   \n",
       "3                             213                   14   \n",
       "4                               2                  154   \n",
       "\n",
       "   Student_Count_Hispanic  Student_Count_White  Student_Count_Asian  \\\n",
       "0                    1644                   12                    5   \n",
       "1                    1608                   10                   10   \n",
       "2                     714                    3                    0   \n",
       "3                     726                    2                    0   \n",
       "4                      36                    6                    0   \n",
       "\n",
       "   Student_Count_Native_American  Student_Count_Other_Ethnicity  \\\n",
       "0                              6                              0   \n",
       "1                              6                              0   \n",
       "2                              1                              0   \n",
       "3                              2                              0   \n",
       "4                              3                              0   \n",
       "\n",
       "   Student_Count_Asian_Pacific_Islander  Student_Count_Multi  \\\n",
       "0                                     0                    3   \n",
       "1                                     0                    6   \n",
       "2                                     0                    0   \n",
       "3                                     0                    0   \n",
       "4                                     0                    0   \n",
       "\n",
       "   Student_Count_Hawaiian_Pacific_Islander  \\\n",
       "0                                        0   \n",
       "1                                        0   \n",
       "2                                        0   \n",
       "3                                        0   \n",
       "4                                        0   \n",
       "\n",
       "   Student_Count_Ethnicity_Not_Available Dress_Code Classroom_Languages  \\\n",
       "0                                     11          N     French, Spanish   \n",
       "1                                     13          N     French, Spanish   \n",
       "2                                      0          Y             Spanish   \n",
       "3                                      1          Y             Spanish   \n",
       "4                                      0          N                 NaN   \n",
       "\n",
       "    Transportation_El  Graduation_Rate_School            School_Year  Network  \\\n",
       "0     Blue, Pink, Red                    80.9  School Year 2016-2017      NaN   \n",
       "1     Blue, Pink, Red                    78.6  School Year 2017-2018      ISP   \n",
       "2                 NaN                    82.8  School Year 2016-2017      NaN   \n",
       "3  Blue, Orange, Pink                    85.0  School Year 2017-2018  Charter   \n",
       "4                 NaN                     1.7  School Year 2016-2017      NaN   \n",
       "\n",
       "     Zip_y Zip_Mean_Income  Fully Accessible  Generally accessible  \n",
       "0  60608.0          53,353                 0                     1  \n",
       "1  60608.0          57,770                 0                     1  \n",
       "2  60608.0          53,353                 0                     0  \n",
       "3  60608.0          57,770                 0                     0  \n",
       "4  60608.0          53,353                 0                     0  "
      ]
     },
     "execution_count": 18,
     "metadata": {},
     "output_type": "execute_result"
    }
   ],
   "source": [
    "df.head()"
   ]
  },
  {
   "cell_type": "markdown",
   "metadata": {},
   "source": [
    "## Demographic Percentage Transformation"
   ]
  },
  {
   "cell_type": "code",
   "execution_count": 19,
   "metadata": {},
   "outputs": [
    {
     "name": "stdout",
     "output_type": "stream",
     "text": [
      "['School_ID', 'Administrator', 'Grades_Offered_All', 'Student_Count_Total', 'Student_Count_Low_Income', 'Student_Count_Special_Ed', 'Student_Count_English_Learners', 'Student_Count_Black', 'Student_Count_Hispanic', 'Student_Count_White', 'Student_Count_Asian', 'Student_Count_Native_American', 'Student_Count_Other_Ethnicity', 'Student_Count_Asian_Pacific_Islander', 'Student_Count_Multi', 'Student_Count_Hawaiian_Pacific_Islander', 'Student_Count_Ethnicity_Not_Available', 'Dress_Code', 'Classroom_Languages', 'Transportation_El', 'Graduation_Rate_School', 'School_Year', 'Network', 'Zip_y', 'Zip_Mean_Income', 'Fully Accessible', 'Generally accessible']\n"
     ]
    }
   ],
   "source": [
    "#Convert student demographic counts to percent of total population\n",
    "print(list(df))\n",
    "demog_headings = ['Student_Count_Asian', 'Student_Count_Asian_Pacific_Islander', 'Student_Count_Black', \n",
    "                  'Student_Count_English_Learners', 'Student_Count_Ethnicity_Not_Available', \n",
    "                  'Student_Count_Hawaiian_Pacific_Islander', 'Student_Count_Hispanic', \n",
    "                  'Student_Count_Low_Income', 'Student_Count_Multi', 'Student_Count_Native_American', \n",
    "                  'Student_Count_Other_Ethnicity', 'Student_Count_Special_Ed', 'Student_Count_White']\n",
    "for dem in demog_headings:\n",
    "    dem_per_heading = dem + '_perc'\n",
    "    df[dem_per_heading] = df[dem]/df['Student_Count_Total']\n",
    "    df.drop(columns = dem, inplace=True)"
   ]
  },
  {
   "cell_type": "markdown",
   "metadata": {},
   "source": [
    "## Language Count Transform"
   ]
  },
  {
   "cell_type": "code",
   "execution_count": 20,
   "metadata": {
    "scrolled": true
   },
   "outputs": [
    {
     "data": {
      "text/plain": [
       "Spanish                                                                   96\n",
       "French, Spanish                                                           39\n",
       "Spanish, Spanish for Heritage Speakers                                    25\n",
       "French, Spanish, Spanish for Heritage Speakers                            11\n",
       "Chinese, French, Spanish                                                   6\n",
       "Chinese, French, Japanese, Latin, Spanish                                  4\n",
       "Chinese, Spanish                                                           4\n",
       "Mandarin, Spanish                                                          3\n",
       "Chinese, French, Latin, Spanish                                            2\n",
       "Latin                                                                      2\n",
       "Arabic, French, Mandarin, Spanish, Spanish for Heritage Speakers           2\n",
       "Arabic, French, Korean, Polish, Spanish, Spanish for Heritage Speakers     2\n",
       "                                                                          ..\n",
       "Latin, Spanish                                                             2\n",
       "Spanish, Turkish                                                           2\n",
       "Chinese, French, German, Japanese, Latin, Spanish                          2\n",
       "American Sign Language                                                     2\n",
       "American Sign Language, French, Spanish                                    2\n",
       "American Sign Language, French, Spanish, Spanish for Heritage Speakers     2\n",
       "Arabic, Japanese, Spanish, Spanish for Heritage Speakers                   1\n",
       "French, Polish, Spanish, Spanish for Heritage Speakers                     1\n",
       "Arabic, French, Spanish                                                    1\n",
       "Arabic, French, Spanish, Spanish for Heritage Speakers                     1\n",
       "Polish, Spanish, Spanish for Heritage Speakers                             1\n",
       "Japanese, Spanish, Spanish for Heritage Speakers                           1\n",
       "Name: Classroom_Languages, Length: 31, dtype: int64"
      ]
     },
     "execution_count": 20,
     "metadata": {},
     "output_type": "execute_result"
    }
   ],
   "source": [
    "df.Classroom_Languages.value_counts()"
   ]
  },
  {
   "cell_type": "code",
   "execution_count": 44,
   "metadata": {},
   "outputs": [
    {
     "data": {
      "text/plain": [
       "11"
      ]
     },
     "execution_count": 44,
     "metadata": {},
     "output_type": "execute_result"
    }
   ],
   "source": [
    "df.Classroom_Languages.isna().sum()"
   ]
  },
  {
   "cell_type": "code",
   "execution_count": 45,
   "metadata": {},
   "outputs": [],
   "source": [
    "df_languages = df[['School_ID', 'Classroom_Languages', 'School_Year']]\n",
    "#the data appears to show the same value for languages across the two years\n",
    "#so the data will be transformed on one year to prevent duplication at time of merge\n",
    "df_languages = df_languages[df_languages['School_Year'] == 'School Year 2016-2017']"
   ]
  },
  {
   "cell_type": "code",
   "execution_count": 46,
   "metadata": {},
   "outputs": [
    {
     "data": {
      "text/plain": [
       "0.0    51\n",
       "1.0    41\n",
       "2.0    11\n",
       "3.0     5\n",
       "4.0     3\n",
       "5.0     2\n",
       "9.0     1\n",
       "7.0     1\n",
       "Name: Classroom_Languages, dtype: int64"
      ]
     },
     "execution_count": 46,
     "metadata": {},
     "output_type": "execute_result"
    }
   ],
   "source": [
    "#Because this is a comma count, the values with zero commas have 1 language, \n",
    "#one comma have 2, etc.\n",
    "df_languages.Classroom_Languages.str.count(',').value_counts()"
   ]
  },
  {
   "cell_type": "code",
   "execution_count": 47,
   "metadata": {},
   "outputs": [
    {
     "name": "stdout",
     "output_type": "stream",
     "text": [
      "<class 'pandas.core.frame.DataFrame'>\n",
      "Int64Index: 121 entries, 0 to 237\n",
      "Data columns (total 3 columns):\n",
      "School_ID              121 non-null int64\n",
      "Classroom_Languages    115 non-null object\n",
      "School_Year            121 non-null object\n",
      "dtypes: int64(1), object(2)\n",
      "memory usage: 3.8+ KB\n"
     ]
    }
   ],
   "source": [
    "df_languages.info()"
   ]
  },
  {
   "cell_type": "code",
   "execution_count": 48,
   "metadata": {},
   "outputs": [],
   "source": [
    "#NaN will be treated as 0 in the language count. \n",
    "#Since language count will be performed with a comma count,\n",
    "#set nan to 15 and reset to 0 after the count is performed.\n",
    "df_languages.fillna(',,,,,,,,,,,,,,', inplace=True)"
   ]
  },
  {
   "cell_type": "code",
   "execution_count": 49,
   "metadata": {},
   "outputs": [],
   "source": [
    "df_languages['Classroom_Languages_count'] = (\n",
    "                                            df_languages['Classroom_Languages'].str.count(',') \n",
    "                                            + 1\n",
    "                                            )\n",
    "    "
   ]
  },
  {
   "cell_type": "code",
   "execution_count": 50,
   "metadata": {},
   "outputs": [
    {
     "data": {
      "text/plain": [
       "1     51\n",
       "2     41\n",
       "3     11\n",
       "15     6\n",
       "4      5\n",
       "5      3\n",
       "6      2\n",
       "10     1\n",
       "8      1\n",
       "Name: Classroom_Languages_count, dtype: int64"
      ]
     },
     "execution_count": 50,
     "metadata": {},
     "output_type": "execute_result"
    }
   ],
   "source": [
    "df_languages['Classroom_Languages_count'].value_counts()"
   ]
  },
  {
   "cell_type": "code",
   "execution_count": 51,
   "metadata": {},
   "outputs": [],
   "source": [
    "df_languages['Classroom_Languages_count'].loc[df_languages['Classroom_Languages_count'] == 15] = 0"
   ]
  },
  {
   "cell_type": "code",
   "execution_count": 52,
   "metadata": {},
   "outputs": [
    {
     "data": {
      "text/plain": [
       "1     51\n",
       "2     41\n",
       "3     11\n",
       "0      6\n",
       "4      5\n",
       "5      3\n",
       "6      2\n",
       "10     1\n",
       "8      1\n",
       "Name: Classroom_Languages_count, dtype: int64"
      ]
     },
     "execution_count": 52,
     "metadata": {},
     "output_type": "execute_result"
    }
   ],
   "source": [
    "df_languages['Classroom_Languages_count'].value_counts()"
   ]
  },
  {
   "cell_type": "code",
   "execution_count": 53,
   "metadata": {},
   "outputs": [
    {
     "data": {
      "text/plain": [
       "0"
      ]
     },
     "execution_count": 53,
     "metadata": {},
     "output_type": "execute_result"
    }
   ],
   "source": [
    "df_languages.Classroom_Languages_count.isna().sum()"
   ]
  },
  {
   "cell_type": "code",
   "execution_count": 54,
   "metadata": {},
   "outputs": [
    {
     "data": {
      "text/html": [
       "<div>\n",
       "<style scoped>\n",
       "    .dataframe tbody tr th:only-of-type {\n",
       "        vertical-align: middle;\n",
       "    }\n",
       "\n",
       "    .dataframe tbody tr th {\n",
       "        vertical-align: top;\n",
       "    }\n",
       "\n",
       "    .dataframe thead th {\n",
       "        text-align: right;\n",
       "    }\n",
       "</style>\n",
       "<table border=\"1\" class=\"dataframe\">\n",
       "  <thead>\n",
       "    <tr style=\"text-align: right;\">\n",
       "      <th></th>\n",
       "      <th>School_ID</th>\n",
       "      <th>Classroom_Languages</th>\n",
       "      <th>School_Year</th>\n",
       "      <th>Classroom_Languages_count</th>\n",
       "    </tr>\n",
       "  </thead>\n",
       "  <tbody>\n",
       "    <tr>\n",
       "      <th>4</th>\n",
       "      <td>609748</td>\n",
       "      <td>,,,,,,,,,,,,,,</td>\n",
       "      <td>School Year 2016-2017</td>\n",
       "      <td>0</td>\n",
       "    </tr>\n",
       "    <tr>\n",
       "      <th>56</th>\n",
       "      <td>400077</td>\n",
       "      <td>,,,,,,,,,,,,,,</td>\n",
       "      <td>School Year 2016-2017</td>\n",
       "      <td>0</td>\n",
       "    </tr>\n",
       "    <tr>\n",
       "      <th>127</th>\n",
       "      <td>400033</td>\n",
       "      <td>,,,,,,,,,,,,,,</td>\n",
       "      <td>School Year 2016-2017</td>\n",
       "      <td>0</td>\n",
       "    </tr>\n",
       "    <tr>\n",
       "      <th>152</th>\n",
       "      <td>610557</td>\n",
       "      <td>,,,,,,,,,,,,,,</td>\n",
       "      <td>School Year 2016-2017</td>\n",
       "      <td>0</td>\n",
       "    </tr>\n",
       "    <tr>\n",
       "      <th>183</th>\n",
       "      <td>609783</td>\n",
       "      <td>,,,,,,,,,,,,,,</td>\n",
       "      <td>School Year 2016-2017</td>\n",
       "      <td>0</td>\n",
       "    </tr>\n",
       "    <tr>\n",
       "      <th>225</th>\n",
       "      <td>609766</td>\n",
       "      <td>,,,,,,,,,,,,,,</td>\n",
       "      <td>School Year 2016-2017</td>\n",
       "      <td>0</td>\n",
       "    </tr>\n",
       "  </tbody>\n",
       "</table>\n",
       "</div>"
      ],
      "text/plain": [
       "     School_ID Classroom_Languages            School_Year  \\\n",
       "4       609748      ,,,,,,,,,,,,,,  School Year 2016-2017   \n",
       "56      400077      ,,,,,,,,,,,,,,  School Year 2016-2017   \n",
       "127     400033      ,,,,,,,,,,,,,,  School Year 2016-2017   \n",
       "152     610557      ,,,,,,,,,,,,,,  School Year 2016-2017   \n",
       "183     609783      ,,,,,,,,,,,,,,  School Year 2016-2017   \n",
       "225     609766      ,,,,,,,,,,,,,,  School Year 2016-2017   \n",
       "\n",
       "     Classroom_Languages_count  \n",
       "4                            0  \n",
       "56                           0  \n",
       "127                          0  \n",
       "152                          0  \n",
       "183                          0  \n",
       "225                          0  "
      ]
     },
     "execution_count": 54,
     "metadata": {},
     "output_type": "execute_result"
    }
   ],
   "source": [
    "df_languages[df_languages['Classroom_Languages_count']==0]"
   ]
  },
  {
   "cell_type": "code",
   "execution_count": 55,
   "metadata": {},
   "outputs": [],
   "source": [
    "df_languages.sort_values('Classroom_Languages_count', ascending = False)\n",
    "df_languages.drop(columns = ['Classroom_Languages', 'School_Year'], inplace=True)"
   ]
  },
  {
   "cell_type": "code",
   "execution_count": 56,
   "metadata": {},
   "outputs": [],
   "source": [
    "df = pd.merge(df, df_languages, on='School_ID')"
   ]
  },
  {
   "cell_type": "code",
   "execution_count": 57,
   "metadata": {},
   "outputs": [
    {
     "data": {
      "text/plain": [
       "239"
      ]
     },
     "execution_count": 57,
     "metadata": {},
     "output_type": "execute_result"
    }
   ],
   "source": [
    "df['Classroom_Languages_count'].value_counts()\n",
    "df['Classroom_Languages_count'].value_counts().sum()"
   ]
  },
  {
   "cell_type": "code",
   "execution_count": 58,
   "metadata": {},
   "outputs": [
    {
     "name": "stdout",
     "output_type": "stream",
     "text": [
      "2\n",
      "2\n",
      "1\n",
      "1\n",
      "0\n",
      "0\n",
      "2\n",
      "2\n",
      "1\n",
      "1\n",
      "1\n",
      "1\n",
      "1\n",
      "1\n",
      "2\n",
      "2\n",
      "2\n",
      "2\n",
      "1\n",
      "1\n",
      "4\n",
      "4\n",
      "2\n",
      "2\n",
      "1\n",
      "1\n",
      "1\n",
      "1\n",
      "1\n",
      "1\n",
      "1\n",
      "1\n",
      "1\n",
      "1\n",
      "1\n",
      "1\n",
      "2\n",
      "2\n",
      "8\n",
      "8\n",
      "6\n",
      "6\n",
      "4\n",
      "4\n",
      "2\n",
      "2\n",
      "2\n",
      "2\n",
      "2\n",
      "2\n",
      "1\n",
      "1\n",
      "1\n",
      "1\n",
      "1\n",
      "1\n",
      "0\n",
      "0\n",
      "2\n",
      "2\n",
      "2\n",
      "2\n",
      "2\n",
      "2\n",
      "1\n",
      "1\n",
      "2\n",
      "2\n",
      "1\n",
      "1\n",
      "3\n",
      "3\n",
      "2\n",
      "2\n",
      "2\n",
      "2\n",
      "1\n",
      "1\n",
      "1\n",
      "1\n",
      "1\n",
      "1\n",
      "2\n",
      "2\n",
      "1\n",
      "1\n",
      "1\n",
      "1\n",
      "1\n",
      "1\n",
      "3\n",
      "3\n",
      "2\n",
      "2\n",
      "1\n",
      "1\n",
      "2\n",
      "2\n",
      "1\n",
      "1\n",
      "3\n",
      "3\n",
      "1\n",
      "1\n",
      "3\n",
      "3\n",
      "2\n",
      "2\n",
      "5\n",
      "5\n",
      "4\n",
      "4\n",
      "2\n",
      "2\n",
      "1\n",
      "1\n",
      "1\n",
      "1\n",
      "1\n",
      "1\n",
      "1\n",
      "2\n",
      "2\n",
      "1\n",
      "1\n",
      "2\n",
      "2\n",
      "0\n",
      "0\n",
      "1\n",
      "1\n",
      "2\n",
      "2\n",
      "1\n",
      "1\n",
      "1\n",
      "1\n",
      "1\n",
      "1\n",
      "1\n",
      "1\n",
      "1\n",
      "1\n",
      "1\n",
      "2\n",
      "2\n",
      "2\n",
      "2\n",
      "1\n",
      "1\n",
      "2\n",
      "2\n",
      "0\n",
      "2\n",
      "2\n",
      "10\n",
      "10\n",
      "2\n",
      "2\n",
      "2\n",
      "2\n",
      "3\n",
      "3\n",
      "5\n",
      "5\n",
      "2\n",
      "2\n",
      "1\n",
      "1\n",
      "1\n",
      "1\n",
      "1\n",
      "1\n",
      "2\n",
      "2\n",
      "3\n",
      "3\n",
      "1\n",
      "1\n",
      "2\n",
      "2\n",
      "1\n",
      "1\n",
      "0\n",
      "0\n",
      "1\n",
      "1\n",
      "1\n",
      "1\n",
      "2\n",
      "2\n",
      "3\n",
      "3\n",
      "2\n",
      "2\n",
      "1\n",
      "1\n",
      "2\n",
      "2\n",
      "2\n",
      "2\n",
      "6\n",
      "6\n",
      "3\n",
      "3\n",
      "2\n",
      "2\n",
      "1\n",
      "1\n",
      "1\n",
      "1\n",
      "1\n",
      "1\n",
      "3\n",
      "3\n",
      "2\n",
      "2\n",
      "2\n",
      "2\n",
      "1\n",
      "1\n",
      "4\n",
      "4\n",
      "4\n",
      "4\n",
      "0\n",
      "0\n",
      "2\n",
      "2\n",
      "2\n",
      "2\n",
      "5\n",
      "5\n",
      "3\n",
      "3\n",
      "3\n",
      "3\n",
      "1\n",
      "1\n"
     ]
    }
   ],
   "source": [
    "for x in df.Classroom_Languages_count:\n",
    "    print(x)"
   ]
  },
  {
   "cell_type": "code",
   "execution_count": null,
   "metadata": {},
   "outputs": [],
   "source": [
    "df.info()"
   ]
  },
  {
   "cell_type": "markdown",
   "metadata": {},
   "source": [
    "## El Dummie Transform"
   ]
  },
  {
   "cell_type": "code",
   "execution_count": null,
   "metadata": {},
   "outputs": [],
   "source": [
    "el_df = df[['School_ID', 'Transportation_El', 'School_Year']]"
   ]
  },
  {
   "cell_type": "code",
   "execution_count": null,
   "metadata": {},
   "outputs": [],
   "source": [
    "el_df.head(10)"
   ]
  },
  {
   "cell_type": "code",
   "execution_count": null,
   "metadata": {},
   "outputs": [],
   "source": [
    "#Again, like languages, looks like El values are consistent across years.\n",
    "el_df = el_df[el_df['School_Year'] == 'School Year 2017-2018']"
   ]
  },
  {
   "cell_type": "code",
   "execution_count": null,
   "metadata": {},
   "outputs": [],
   "source": [
    "el_df['Transportation_El'].value_counts()"
   ]
  },
  {
   "cell_type": "code",
   "execution_count": null,
   "metadata": {},
   "outputs": [],
   "source": [
    "#replace NaN with no_el so that with dummy variable I can drop No_El\n",
    "el_df.fillna(value = 'No_El', inplace=True)"
   ]
  },
  {
   "cell_type": "code",
   "execution_count": null,
   "metadata": {},
   "outputs": [],
   "source": [
    "el_df"
   ]
  },
  {
   "cell_type": "code",
   "execution_count": null,
   "metadata": {},
   "outputs": [],
   "source": [
    "el_dummies = el_df['Transportation_El'].str.get_dummies(sep = ', ')"
   ]
  },
  {
   "cell_type": "code",
   "execution_count": null,
   "metadata": {},
   "outputs": [],
   "source": [
    "el_dummies"
   ]
  },
  {
   "cell_type": "markdown",
   "metadata": {},
   "source": [
    "### Double Check with Alice/John"
   ]
  },
  {
   "cell_type": "code",
   "execution_count": null,
   "metadata": {},
   "outputs": [],
   "source": [
    "el_dummies.drop(columns = 'No_El', inplace=True)"
   ]
  },
  {
   "cell_type": "code",
   "execution_count": null,
   "metadata": {},
   "outputs": [],
   "source": [
    "el_df = pd.merge(el_df,el_dummies, left_index=True, right_index=True)"
   ]
  },
  {
   "cell_type": "code",
   "execution_count": null,
   "metadata": {},
   "outputs": [],
   "source": [
    "el_df.head()"
   ]
  },
  {
   "cell_type": "code",
   "execution_count": null,
   "metadata": {},
   "outputs": [],
   "source": [
    "el_df.drop(columns = ['Transportation_El', 'School_Year'], inplace=True)"
   ]
  },
  {
   "cell_type": "code",
   "execution_count": null,
   "metadata": {},
   "outputs": [],
   "source": [
    "#decide which column to drop for dummies based on column count\n",
    "line_list = ['Blue','Brown','Green','Orange','Pink','Purple','Red']\n",
    "for line in line_list:\n",
    "    print(el_df[line].value_counts())"
   ]
  },
  {
   "cell_type": "code",
   "execution_count": null,
   "metadata": {},
   "outputs": [],
   "source": [
    "#drop pink because there are 115 entries, the highest value, without it."
   ]
  },
  {
   "cell_type": "code",
   "execution_count": null,
   "metadata": {},
   "outputs": [],
   "source": [
    "df = pd.merge(df, el_df, on='School_ID')"
   ]
  },
  {
   "cell_type": "code",
   "execution_count": null,
   "metadata": {},
   "outputs": [],
   "source": [
    "df"
   ]
  },
  {
   "cell_type": "code",
   "execution_count": null,
   "metadata": {},
   "outputs": [],
   "source": [
    "df.info()"
   ]
  },
  {
   "cell_type": "markdown",
   "metadata": {},
   "source": [
    "## Make Dress Code Binary"
   ]
  },
  {
   "cell_type": "code",
   "execution_count": null,
   "metadata": {},
   "outputs": [],
   "source": [
    "df[\"Dress_Code_dummie\"] = pd.get_dummies(df['Dress_Code'], drop_first = True)\n"
   ]
  },
  {
   "cell_type": "code",
   "execution_count": null,
   "metadata": {},
   "outputs": [],
   "source": [
    "df.drop(columns='Dress_Code', inplace=True)"
   ]
  },
  {
   "cell_type": "code",
   "execution_count": null,
   "metadata": {},
   "outputs": [],
   "source": [
    "df.head()"
   ]
  },
  {
   "cell_type": "markdown",
   "metadata": {},
   "source": [
    "## Grades offered count"
   ]
  },
  {
   "cell_type": "code",
   "execution_count": null,
   "metadata": {},
   "outputs": [],
   "source": [
    "df.Grades_Offered_All.value_counts()"
   ]
  },
  {
   "cell_type": "code",
   "execution_count": null,
   "metadata": {},
   "outputs": [],
   "source": [
    "df_grades = df[['Grades_Offered_All', 'School_ID']]\n",
    "\n",
    "                                            "
   ]
  },
  {
   "cell_type": "code",
   "execution_count": null,
   "metadata": {},
   "outputs": [],
   "source": [
    "df_grades['grades_offered_count'] = (\n",
    "                                            df_grades['Grades_Offered_All'].str.count(',') \n",
    "                                            + 1\n",
    "                                            )\n",
    "  \n",
    "    \n",
    "    "
   ]
  },
  {
   "cell_type": "code",
   "execution_count": null,
   "metadata": {},
   "outputs": [],
   "source": [
    "df_grades.grades_offered_count.value_counts()"
   ]
  },
  {
   "cell_type": "code",
   "execution_count": null,
   "metadata": {},
   "outputs": [],
   "source": [
    "df_grades.drop(columns = ['Grades_Offered_All'], inplace=True)"
   ]
  },
  {
   "cell_type": "code",
   "execution_count": null,
   "metadata": {},
   "outputs": [],
   "source": [
    "df_grades.drop_duplicates('School_ID', inplace=True)\n",
    "df_grades.sort_values('grades_offered_count')"
   ]
  },
  {
   "cell_type": "code",
   "execution_count": null,
   "metadata": {},
   "outputs": [],
   "source": [
    "df = pd.merge(df, df_grades, on='School_ID')"
   ]
  },
  {
   "cell_type": "code",
   "execution_count": null,
   "metadata": {},
   "outputs": [],
   "source": [
    "df.drop(columns = ['Classroom_Languages', 'Grades_Offered_All'], inplace=True)"
   ]
  },
  {
   "cell_type": "code",
   "execution_count": null,
   "metadata": {},
   "outputs": [],
   "source": [
    "df.head()"
   ]
  },
  {
   "cell_type": "code",
   "execution_count": null,
   "metadata": {},
   "outputs": [],
   "source": [
    "df.drop(columns = ['Attendance_Boundaries', 'Bilingual_Services', \n",
    "                   'Hard_Of_Hearing', 'Transportation_Bus', \n",
    "                   'Transportation_El', 'Transportation_Metra'], inplace=True)"
   ]
  },
  {
   "cell_type": "code",
   "execution_count": null,
   "metadata": {},
   "outputs": [],
   "source": [
    "df.info()"
   ]
  },
  {
   "cell_type": "markdown",
   "metadata": {},
   "source": [
    "## Charter Dummie"
   ]
  },
  {
   "cell_type": "code",
   "execution_count": null,
   "metadata": {},
   "outputs": [],
   "source": [
    "df_networks = df[['School_ID', 'Network', 'School_Year']]"
   ]
  },
  {
   "cell_type": "code",
   "execution_count": null,
   "metadata": {},
   "outputs": [],
   "source": [
    "df_networks.Network.value_counts()"
   ]
  },
  {
   "cell_type": "code",
   "execution_count": null,
   "metadata": {},
   "outputs": [],
   "source": [
    "df_networks2017 = df_networks[df_networks['School_Year']=='School Year 2017-2018']"
   ]
  },
  {
   "cell_type": "code",
   "execution_count": null,
   "metadata": {},
   "outputs": [],
   "source": [
    "df_networks2017.info()"
   ]
  },
  {
   "cell_type": "code",
   "execution_count": null,
   "metadata": {},
   "outputs": [],
   "source": [
    "def charter(row):\n",
    "    if row['Network'] == 'Charter':\n",
    "        return 1\n",
    "    else:\n",
    "        return 0\n"
   ]
  },
  {
   "cell_type": "code",
   "execution_count": null,
   "metadata": {},
   "outputs": [],
   "source": [
    "df_networks2017['charter'] = df_networks2017.apply(lambda row: charter(row), axis=1)\n",
    "df_networks2017.drop(columns=['School_Year', 'Network'], inplace=True)"
   ]
  },
  {
   "cell_type": "code",
   "execution_count": null,
   "metadata": {},
   "outputs": [],
   "source": [
    "df_networks2017.head()"
   ]
  },
  {
   "cell_type": "code",
   "execution_count": null,
   "metadata": {},
   "outputs": [],
   "source": [
    "df_networks2017.charter.value_counts()"
   ]
  },
  {
   "cell_type": "code",
   "execution_count": null,
   "metadata": {},
   "outputs": [],
   "source": [
    "df = pd.merge(df, df_networks2017, on='School_ID')"
   ]
  },
  {
   "cell_type": "code",
   "execution_count": null,
   "metadata": {},
   "outputs": [],
   "source": [
    "df.drop(columns='Network', inplace=True)"
   ]
  },
  {
   "cell_type": "code",
   "execution_count": null,
   "metadata": {},
   "outputs": [],
   "source": [
    "df.School_Hours.value_counts()"
   ]
  },
  {
   "cell_type": "markdown",
   "metadata": {},
   "source": [
    "## Admin. Gender"
   ]
  },
  {
   "cell_type": "code",
   "execution_count": null,
   "metadata": {},
   "outputs": [],
   "source": [
    "import re"
   ]
  },
  {
   "cell_type": "code",
   "execution_count": null,
   "metadata": {},
   "outputs": [],
   "source": [
    "df_admin = df[['Administrator', 'School_ID']]"
   ]
  },
  {
   "cell_type": "code",
   "execution_count": null,
   "metadata": {},
   "outputs": [],
   "source": [
    "df_admin.drop_duplicates('School_ID')"
   ]
  },
  {
   "cell_type": "code",
   "execution_count": null,
   "metadata": {},
   "outputs": [],
   "source": [
    "gender = re.compile(r'Mrs|Ms|Mr')\n",
    "#female_title = re.compile(r'Mrs|Ms')"
   ]
  },
  {
   "cell_type": "code",
   "execution_count": null,
   "metadata": {},
   "outputs": [],
   "source": [
    "df_admin['gender_marker'] = df_admin['Administrator'].astype(str).str.match(gender)\n",
    "df_admin.drop_duplicates('School_ID', inplace=True)\n"
   ]
  },
  {
   "cell_type": "code",
   "execution_count": null,
   "metadata": {},
   "outputs": [],
   "source": [
    "df_admin.gender_marker.value_counts()"
   ]
  },
  {
   "cell_type": "code",
   "execution_count": null,
   "metadata": {},
   "outputs": [],
   "source": [
    "male_marker = re.compile(r'Mr|Juan|Richard|Ali|Kevin|Douglas|Raul|Victor|Abdul|Charles|Antonio|Brian|Francisco|\\\n",
    "        Sheldon|Michael|Stephen|Peter|Gregory|Trent|Myron|Gerald|Elias|Octavio|Matthew|\\\n",
    "        David|Leonard|Ferdinand|Fernando|Mark|Patrick|George|Wayne|Anthony|William|\\\n",
    "        Stephen|Timothy|Paul')\n",
    "female_marker = re.compile(r'Mrs|Ms|Dr. Hillyn|Sharnette|Tressie|Leticia|Priscilla|Joyce|Stephanie|Tanya|Veronica|Kathy|\\\n",
    "         Sandra|Torry|Stephanie|Carolyn|Milena|Vanesa|Breanda|Laura|Kelly|Anna|Nancy|\\\n",
    "         Tamika|Janice|Mary|Shanele|Falilat|Dr.Femi|Noel|Tawanna|Tonya|Sandra|Dr. Vanesa|Tamika')\n",
    "print(df_admin[df_admin['gender_marker']==False].Administrator.values)\n"
   ]
  },
  {
   "cell_type": "code",
   "execution_count": null,
   "metadata": {},
   "outputs": [],
   "source": [
    "df_admin['gender_f'] = df_admin['Administrator'].astype(str).str.match(female_marker)"
   ]
  },
  {
   "cell_type": "code",
   "execution_count": null,
   "metadata": {},
   "outputs": [],
   "source": [
    "df_admin[df_admin['gender_f'] == False].values"
   ]
  },
  {
   "cell_type": "code",
   "execution_count": null,
   "metadata": {},
   "outputs": [],
   "source": [
    "df_admin.gender_f.value_counts()"
   ]
  },
  {
   "cell_type": "code",
   "execution_count": null,
   "metadata": {},
   "outputs": [],
   "source": [
    "list(df_admin)"
   ]
  },
  {
   "cell_type": "code",
   "execution_count": null,
   "metadata": {},
   "outputs": [],
   "source": [
    "df_admin.drop(columns = ['Administrator', 'gender_marker'], inplace=True)"
   ]
  },
  {
   "cell_type": "code",
   "execution_count": null,
   "metadata": {},
   "outputs": [],
   "source": [
    "df = pd.merge(df, df_admin, on='School_ID')\n"
   ]
  },
  {
   "cell_type": "code",
   "execution_count": null,
   "metadata": {},
   "outputs": [],
   "source": [
    "def gender(row):\n",
    "    if row['gender_f'] == True:\n",
    "        return 1\n",
    "    else:\n",
    "        return 0"
   ]
  },
  {
   "cell_type": "code",
   "execution_count": null,
   "metadata": {},
   "outputs": [],
   "source": [
    "df['gender_f_bn'] = df.apply(lambda row: gender(row), axis=1)"
   ]
  },
  {
   "cell_type": "code",
   "execution_count": null,
   "metadata": {
    "scrolled": true
   },
   "outputs": [],
   "source": [
    "df.head(5)"
   ]
  },
  {
   "cell_type": "code",
   "execution_count": null,
   "metadata": {},
   "outputs": [],
   "source": [
    "df.drop(columns = ['Administrator','After_School_Hours', 'School_Hours', 'gender_f'], inplace = True)\n"
   ]
  },
  {
   "cell_type": "code",
   "execution_count": null,
   "metadata": {},
   "outputs": [],
   "source": [
    "df.head()"
   ]
  },
  {
   "cell_type": "markdown",
   "metadata": {},
   "source": [
    "## Pickle 29 Feature Columns"
   ]
  },
  {
   "cell_type": "code",
   "execution_count": null,
   "metadata": {},
   "outputs": [],
   "source": [
    "with open('data/pickles/features_29columns.pickle', 'wb') as to_write:\n",
    "    pickle.dump(df, to_write)"
   ]
  },
  {
   "cell_type": "markdown",
   "metadata": {},
   "source": [
    "## Can't Get Working: After School Hours"
   ]
  },
  {
   "cell_type": "code",
   "execution_count": null,
   "metadata": {},
   "outputs": [],
   "source": []
  },
  {
   "cell_type": "code",
   "execution_count": null,
   "metadata": {},
   "outputs": [],
   "source": [
    "#df_as_hours = df[['After_School_Hours', 'School_ID']]"
   ]
  },
  {
   "cell_type": "code",
   "execution_count": null,
   "metadata": {},
   "outputs": [],
   "source": [
    "#print(df_as_hours['After_School_Hours'].value_counts())"
   ]
  },
  {
   "cell_type": "code",
   "execution_count": null,
   "metadata": {},
   "outputs": [],
   "source": [
    "#df_as_hours['as_start'] = df_as_hours['After_School_Hours'].astype(str).str[0:4]"
   ]
  },
  {
   "cell_type": "code",
   "execution_count": null,
   "metadata": {},
   "outputs": [],
   "source": [
    "#df_as_hours.head(30)"
   ]
  },
  {
   "cell_type": "code",
   "execution_count": null,
   "metadata": {},
   "outputs": [],
   "source": [
    "#df_as_hours.as_start.value_counts()"
   ]
  },
  {
   "cell_type": "code",
   "execution_count": null,
   "metadata": {},
   "outputs": [],
   "source": [
    "#df_as_hours['no_pm'] = df_as_hours.After_School_Hours.str.replace('P.M.', '')"
   ]
  },
  {
   "cell_type": "code",
   "execution_count": null,
   "metadata": {},
   "outputs": [],
   "source": [
    "#df_as_hours['no_pm'] = df_as_hours.no_pm.str.replace('PM', '')"
   ]
  },
  {
   "cell_type": "code",
   "execution_count": null,
   "metadata": {},
   "outputs": [],
   "source": [
    "#df_as_hours['as_end'] = df_as_hours['no_pm'].astype(str).str[-5:]"
   ]
  },
  {
   "cell_type": "code",
   "execution_count": null,
   "metadata": {},
   "outputs": [],
   "source": [
    "#df_as_hours.as_end = df_as_hours.as_end.str.replace('-', '')"
   ]
  },
  {
   "cell_type": "code",
   "execution_count": null,
   "metadata": {},
   "outputs": [],
   "source": [
    "#df_as_hours.as_end.value_counts()"
   ]
  },
  {
   "cell_type": "code",
   "execution_count": null,
   "metadata": {},
   "outputs": [],
   "source": [
    "#import re"
   ]
  },
  {
   "cell_type": "code",
   "execution_count": null,
   "metadata": {},
   "outputs": [],
   "source": [
    "#after_end_dash = re.compile(r\"\\-(.*)\")\n",
    "#after_end_to = re.compile(r\"t(.*)\")"
   ]
  },
  {
   "cell_type": "code",
   "execution_count": null,
   "metadata": {},
   "outputs": [],
   "source": [
    "'''\n",
    "for hour_range in df['After_School_Hours'].items():\n",
    "    #print(hour_range[1])\n",
    "    if '-' in str(hour_range[1]):\n",
    "        df_as_hours['as_stop'] = after_end_dash.search(hour_range[1])\n",
    "    elif 'to' in str(hour_range[1]):\n",
    "            df_as_hours['as_stop']=after_end_to.search(hour_range[1])\n",
    "\n",
    "'''\n",
    "\n"
   ]
  },
  {
   "cell_type": "code",
   "execution_count": null,
   "metadata": {},
   "outputs": [],
   "source": [
    "#df_as_hours.as_stop.value_counts()"
   ]
  },
  {
   "cell_type": "code",
   "execution_count": null,
   "metadata": {},
   "outputs": [],
   "source": []
  },
  {
   "cell_type": "code",
   "execution_count": null,
   "metadata": {},
   "outputs": [],
   "source": []
  }
 ],
 "metadata": {
  "kernelspec": {
   "display_name": "Python 3",
   "language": "python",
   "name": "python3"
  },
  "language_info": {
   "codemirror_mode": {
    "name": "ipython",
    "version": 3
   },
   "file_extension": ".py",
   "mimetype": "text/x-python",
   "name": "python",
   "nbconvert_exporter": "python",
   "pygments_lexer": "ipython3",
   "version": "3.6.6"
  },
  "toc": {
   "base_numbering": 1,
   "nav_menu": {},
   "number_sections": true,
   "sideBar": true,
   "skip_h1_title": false,
   "title_cell": "Table of Contents",
   "title_sidebar": "Contents",
   "toc_cell": false,
   "toc_position": {},
   "toc_section_display": true,
   "toc_window_display": true
  },
  "varInspector": {
   "cols": {
    "lenName": 16,
    "lenType": 16,
    "lenVar": 40
   },
   "kernels_config": {
    "python": {
     "delete_cmd_postfix": "",
     "delete_cmd_prefix": "del ",
     "library": "var_list.py",
     "varRefreshCmd": "print(var_dic_list())"
    },
    "r": {
     "delete_cmd_postfix": ") ",
     "delete_cmd_prefix": "rm(",
     "library": "var_list.r",
     "varRefreshCmd": "cat(var_dic_list()) "
    }
   },
   "types_to_exclude": [
    "module",
    "function",
    "builtin_function_or_method",
    "instance",
    "_Feature"
   ],
   "window_display": false
  }
 },
 "nbformat": 4,
 "nbformat_minor": 2
}
