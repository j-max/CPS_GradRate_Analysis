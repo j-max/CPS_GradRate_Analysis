{
 "cells": [
  {
   "cell_type": "code",
   "execution_count": 2,
   "metadata": {},
   "outputs": [],
   "source": [
    "import pandas as pd\n",
    "import matplotlib.pyplot as plt\n",
    "import pickle\n",
    "import sklearn\n",
    "import seaborn as sns\n",
    "\n",
    "from sklearn.model_selection import train_test_split\n",
    "from sklearn.linear_model import LinearRegression, Ridge, Lasso, LassoCV#ordinary linear regression + w/ ridge regularization\n",
    "from sklearn.preprocessing import StandardScaler, PolynomialFeatures\n",
    "from sklearn.model_selection import KFold"
   ]
  },
  {
   "cell_type": "code",
   "execution_count": 3,
   "metadata": {},
   "outputs": [],
   "source": [
    "with open('data/pickles/log_grad_inflected.pickle', 'rb') as read_file:\n",
    "    df = pickle.load(read_file)"
   ]
  },
  {
   "cell_type": "code",
   "execution_count": 4,
   "metadata": {},
   "outputs": [
    {
     "data": {
      "text/html": [
       "<div>\n",
       "<style scoped>\n",
       "    .dataframe tbody tr th:only-of-type {\n",
       "        vertical-align: middle;\n",
       "    }\n",
       "\n",
       "    .dataframe tbody tr th {\n",
       "        vertical-align: top;\n",
       "    }\n",
       "\n",
       "    .dataframe thead th {\n",
       "        text-align: right;\n",
       "    }\n",
       "</style>\n",
       "<table border=\"1\" class=\"dataframe\">\n",
       "  <thead>\n",
       "    <tr style=\"text-align: right;\">\n",
       "      <th></th>\n",
       "      <th>Fully Accessible</th>\n",
       "      <th>Generally accessible</th>\n",
       "      <th>Student_Count_Asian_perc</th>\n",
       "      <th>Student_Count_Asian_Pacific_Islander_perc</th>\n",
       "      <th>Student_Count_Black_perc</th>\n",
       "      <th>Student_Count_English_Learners_perc</th>\n",
       "      <th>Student_Count_Ethnicity_Not_Available_perc</th>\n",
       "      <th>Student_Count_Hawaiian_Pacific_Islander_perc</th>\n",
       "      <th>Student_Count_Hispanic_perc</th>\n",
       "      <th>Student_Count_Low_Income_perc</th>\n",
       "      <th>...</th>\n",
       "      <th>Green</th>\n",
       "      <th>Orange</th>\n",
       "      <th>Pink</th>\n",
       "      <th>Purple</th>\n",
       "      <th>Red</th>\n",
       "      <th>Dress_Code_dummie</th>\n",
       "      <th>grades_offered_count</th>\n",
       "      <th>charter</th>\n",
       "      <th>gender_f_bn</th>\n",
       "      <th>log_grad_rate</th>\n",
       "    </tr>\n",
       "  </thead>\n",
       "  <tbody>\n",
       "    <tr>\n",
       "      <th>0</th>\n",
       "      <td>0</td>\n",
       "      <td>1</td>\n",
       "      <td>0.002875</td>\n",
       "      <td>0.0</td>\n",
       "      <td>0.033353</td>\n",
       "      <td>0.190339</td>\n",
       "      <td>0.006325</td>\n",
       "      <td>0.0</td>\n",
       "      <td>0.945371</td>\n",
       "      <td>0.953997</td>\n",
       "      <td>...</td>\n",
       "      <td>0</td>\n",
       "      <td>0</td>\n",
       "      <td>1</td>\n",
       "      <td>0</td>\n",
       "      <td>1</td>\n",
       "      <td>0</td>\n",
       "      <td>4</td>\n",
       "      <td>0</td>\n",
       "      <td>0</td>\n",
       "      <td>2.949688</td>\n",
       "    </tr>\n",
       "    <tr>\n",
       "      <th>1</th>\n",
       "      <td>0</td>\n",
       "      <td>1</td>\n",
       "      <td>0.005862</td>\n",
       "      <td>0.0</td>\n",
       "      <td>0.031067</td>\n",
       "      <td>0.201055</td>\n",
       "      <td>0.007620</td>\n",
       "      <td>0.0</td>\n",
       "      <td>0.942556</td>\n",
       "      <td>0.626026</td>\n",
       "      <td>...</td>\n",
       "      <td>0</td>\n",
       "      <td>0</td>\n",
       "      <td>1</td>\n",
       "      <td>0</td>\n",
       "      <td>1</td>\n",
       "      <td>0</td>\n",
       "      <td>4</td>\n",
       "      <td>0</td>\n",
       "      <td>0</td>\n",
       "      <td>3.063391</td>\n",
       "    </tr>\n",
       "    <tr>\n",
       "      <th>2</th>\n",
       "      <td>0</td>\n",
       "      <td>0</td>\n",
       "      <td>0.000000</td>\n",
       "      <td>0.0</td>\n",
       "      <td>0.032345</td>\n",
       "      <td>0.227763</td>\n",
       "      <td>0.000000</td>\n",
       "      <td>0.0</td>\n",
       "      <td>0.962264</td>\n",
       "      <td>0.970350</td>\n",
       "      <td>...</td>\n",
       "      <td>0</td>\n",
       "      <td>1</td>\n",
       "      <td>1</td>\n",
       "      <td>0</td>\n",
       "      <td>0</td>\n",
       "      <td>1</td>\n",
       "      <td>4</td>\n",
       "      <td>1</td>\n",
       "      <td>1</td>\n",
       "      <td>2.844909</td>\n",
       "    </tr>\n",
       "    <tr>\n",
       "      <th>3</th>\n",
       "      <td>0</td>\n",
       "      <td>0</td>\n",
       "      <td>0.000000</td>\n",
       "      <td>0.0</td>\n",
       "      <td>0.018792</td>\n",
       "      <td>0.285906</td>\n",
       "      <td>0.001342</td>\n",
       "      <td>0.0</td>\n",
       "      <td>0.974497</td>\n",
       "      <td>0.930201</td>\n",
       "      <td>...</td>\n",
       "      <td>0</td>\n",
       "      <td>1</td>\n",
       "      <td>1</td>\n",
       "      <td>0</td>\n",
       "      <td>0</td>\n",
       "      <td>1</td>\n",
       "      <td>4</td>\n",
       "      <td>1</td>\n",
       "      <td>1</td>\n",
       "      <td>2.708050</td>\n",
       "    </tr>\n",
       "    <tr>\n",
       "      <th>4</th>\n",
       "      <td>0</td>\n",
       "      <td>0</td>\n",
       "      <td>0.000000</td>\n",
       "      <td>0.0</td>\n",
       "      <td>0.773869</td>\n",
       "      <td>0.010050</td>\n",
       "      <td>0.000000</td>\n",
       "      <td>0.0</td>\n",
       "      <td>0.180905</td>\n",
       "      <td>0.874372</td>\n",
       "      <td>...</td>\n",
       "      <td>0</td>\n",
       "      <td>0</td>\n",
       "      <td>0</td>\n",
       "      <td>0</td>\n",
       "      <td>0</td>\n",
       "      <td>0</td>\n",
       "      <td>4</td>\n",
       "      <td>0</td>\n",
       "      <td>1</td>\n",
       "      <td>4.588024</td>\n",
       "    </tr>\n",
       "  </tbody>\n",
       "</table>\n",
       "<p>5 rows × 26 columns</p>\n",
       "</div>"
      ],
      "text/plain": [
       "   Fully Accessible  Generally accessible  Student_Count_Asian_perc  \\\n",
       "0                 0                     1                  0.002875   \n",
       "1                 0                     1                  0.005862   \n",
       "2                 0                     0                  0.000000   \n",
       "3                 0                     0                  0.000000   \n",
       "4                 0                     0                  0.000000   \n",
       "\n",
       "   Student_Count_Asian_Pacific_Islander_perc  Student_Count_Black_perc  \\\n",
       "0                                        0.0                  0.033353   \n",
       "1                                        0.0                  0.031067   \n",
       "2                                        0.0                  0.032345   \n",
       "3                                        0.0                  0.018792   \n",
       "4                                        0.0                  0.773869   \n",
       "\n",
       "   Student_Count_English_Learners_perc  \\\n",
       "0                             0.190339   \n",
       "1                             0.201055   \n",
       "2                             0.227763   \n",
       "3                             0.285906   \n",
       "4                             0.010050   \n",
       "\n",
       "   Student_Count_Ethnicity_Not_Available_perc  \\\n",
       "0                                    0.006325   \n",
       "1                                    0.007620   \n",
       "2                                    0.000000   \n",
       "3                                    0.001342   \n",
       "4                                    0.000000   \n",
       "\n",
       "   Student_Count_Hawaiian_Pacific_Islander_perc  Student_Count_Hispanic_perc  \\\n",
       "0                                           0.0                     0.945371   \n",
       "1                                           0.0                     0.942556   \n",
       "2                                           0.0                     0.962264   \n",
       "3                                           0.0                     0.974497   \n",
       "4                                           0.0                     0.180905   \n",
       "\n",
       "   Student_Count_Low_Income_perc      ...        Green  Orange  Pink  Purple  \\\n",
       "0                       0.953997      ...            0       0     1       0   \n",
       "1                       0.626026      ...            0       0     1       0   \n",
       "2                       0.970350      ...            0       1     1       0   \n",
       "3                       0.930201      ...            0       1     1       0   \n",
       "4                       0.874372      ...            0       0     0       0   \n",
       "\n",
       "   Red  Dress_Code_dummie  grades_offered_count  charter  gender_f_bn  \\\n",
       "0    1                  0                     4        0            0   \n",
       "1    1                  0                     4        0            0   \n",
       "2    0                  1                     4        1            1   \n",
       "3    0                  1                     4        1            1   \n",
       "4    0                  0                     4        0            1   \n",
       "\n",
       "   log_grad_rate  \n",
       "0       2.949688  \n",
       "1       3.063391  \n",
       "2       2.844909  \n",
       "3       2.708050  \n",
       "4       4.588024  \n",
       "\n",
       "[5 rows x 26 columns]"
      ]
     },
     "execution_count": 4,
     "metadata": {},
     "output_type": "execute_result"
    }
   ],
   "source": [
    "df.head()"
   ]
  },
  {
   "cell_type": "code",
   "execution_count": 5,
   "metadata": {},
   "outputs": [],
   "source": [
    "candid_alphas = np.arange(.001,10.001,.001)\n"
   ]
  },
  {
   "cell_type": "code",
   "execution_count": null,
   "metadata": {},
   "outputs": [],
   "source": [
    "candid_alphas"
   ]
  },
  {
   "cell_type": "code",
   "execution_count": 6,
   "metadata": {},
   "outputs": [],
   "source": [
    "y = df['log_grad_rate']\n",
    "X = df.drop('log_grad_rate', axis=1)\n",
    "X_train, X_test, y_train, y_test = train_test_split(X,y, test_size = .2, random_state=42)\n",
    "\n",
    "kf = KFold(n_splits = 5, shuffle = True, random_state=42)\n",
    "splits = kf.split(X_train, y_train)\n"
   ]
  },
  {
   "cell_type": "code",
   "execution_count": null,
   "metadata": {},
   "outputs": [],
   "source": [
    "candidate_alphas = np.arange(.001,10.001,.001)\n",
    "for alpha_candidate in candid_alphas:\n",
    "    print(alpha_candidate)"
   ]
  },
  {
   "cell_type": "code",
   "execution_count": null,
   "metadata": {},
   "outputs": [],
   "source": [
    "best_alpha_rsquared = 0\n",
    "best_alpha = 0\n",
    "lasso_scores = []\n",
    "for alpha_candidate in candidate_alphas:\n",
    "    for train_ind, test_ind in splits:\n",
    "        X_lasso_train = X_train.iloc[train_ind]\n",
    "        y_lasso_train = y_train.iloc[train_ind]\n",
    "        print(X_lasso_train)\n",
    "        lasso_model = Lasso(alpha=alpha_candidate)\n",
    "        lasso_model.fit(X_lasso_train, y_lasso_train)\n",
    "\n",
    "        X_lasso_test = X_train.iloc[test_ind]\n",
    "        print(X_lasso_test)\n",
    "        y_lasso_test = y_train.iloc[test_ind]\n",
    "        print(lasso_model.score(X_lasso_test,y_lasso_test))\n",
    "        lasso_scores.append(lasso_model.score(X_lasso_test,y_lasso_test))\n",
    "    \n",
    "    #mean_lasso = sum(lasso_scores)/len(lasso_scores)\n",
    "print(lasso_scores)\n",
    "#     if mean_lasso > best_alpha_rsquared:\n",
    "#         best_alpha_rsquared = mean_lasso\n",
    "#         best_alpha = alpha_candidate"
   ]
  },
  {
   "cell_type": "code",
   "execution_count": 1,
   "metadata": {},
   "outputs": [
    {
     "ename": "NameError",
     "evalue": "name 'splits' is not defined",
     "output_type": "error",
     "traceback": [
      "\u001b[0;31m---------------------------------------------------------------------------\u001b[0m",
      "\u001b[0;31mNameError\u001b[0m                                 Traceback (most recent call last)",
      "\u001b[0;32m<ipython-input-1-05c0bbca5952>\u001b[0m in \u001b[0;36m<module>\u001b[0;34m\u001b[0m\n\u001b[1;32m      1\u001b[0m \u001b[0mlasso_scores\u001b[0m \u001b[0;34m=\u001b[0m \u001b[0;34m[\u001b[0m\u001b[0;34m]\u001b[0m\u001b[0;34m\u001b[0m\u001b[0m\n\u001b[0;32m----> 2\u001b[0;31m \u001b[0;32mfor\u001b[0m \u001b[0mtrain_ind\u001b[0m\u001b[0;34m,\u001b[0m \u001b[0mtest_ind\u001b[0m \u001b[0;32min\u001b[0m \u001b[0msplits\u001b[0m\u001b[0;34m:\u001b[0m\u001b[0;34m\u001b[0m\u001b[0m\n\u001b[0m\u001b[1;32m      3\u001b[0m     \u001b[0mX_lasso_train\u001b[0m \u001b[0;34m=\u001b[0m \u001b[0mX_train\u001b[0m\u001b[0;34m.\u001b[0m\u001b[0miloc\u001b[0m\u001b[0;34m[\u001b[0m\u001b[0mtrain_ind\u001b[0m\u001b[0;34m]\u001b[0m\u001b[0;34m\u001b[0m\u001b[0m\n\u001b[1;32m      4\u001b[0m     \u001b[0my_lasso_train\u001b[0m \u001b[0;34m=\u001b[0m \u001b[0my_train\u001b[0m\u001b[0;34m.\u001b[0m\u001b[0miloc\u001b[0m\u001b[0;34m[\u001b[0m\u001b[0mtrain_ind\u001b[0m\u001b[0;34m]\u001b[0m\u001b[0;34m\u001b[0m\u001b[0m\n\u001b[1;32m      5\u001b[0m     \u001b[0mlasso_model\u001b[0m \u001b[0;34m=\u001b[0m \u001b[0mLasso\u001b[0m\u001b[0;34m(\u001b[0m\u001b[0malpha\u001b[0m\u001b[0;34m=\u001b[0m\u001b[0;36m.002\u001b[0m\u001b[0;34m)\u001b[0m\u001b[0;34m\u001b[0m\u001b[0m\n",
      "\u001b[0;31mNameError\u001b[0m: name 'splits' is not defined"
     ]
    }
   ],
   "source": [
    "lasso_scores = []\n",
    "for train_ind, test_ind in splits:\n",
    "    X_lasso_train = X_train.iloc[train_ind]\n",
    "    y_lasso_train = y_train.iloc[train_ind]\n",
    "    lasso_model = Lasso(alpha=.002)\n",
    "    lasso_model.fit(X_lasso_train, y_lasso_train)\n",
    "\n",
    "    X_lasso_test = X_train.iloc[test_ind]\n",
    "    y_lasso_test = y_train.iloc[test_ind]\n",
    "\n",
    "    lasso_scores.append(lasso_model.score(X_lasso_test,y_lasso_test))\n",
    "print(lasso_scores)"
   ]
  },
  {
   "cell_type": "code",
   "execution_count": 8,
   "metadata": {},
   "outputs": [
    {
     "name": "stdout",
     "output_type": "stream",
     "text": [
      "[]\n",
      "[]\n",
      "[]\n"
     ]
    }
   ],
   "source": [
    "for alpha_candidate in [.001,.002,.003]:\n",
    "    lasso_scores = []    \n",
    "    for train_ind, test_ind in splits:\n",
    "        X_lasso_train = X_train.iloc[train_ind]\n",
    "        y_lasso_train = y_train.iloc[train_ind]\n",
    "        lasso_model = Lasso(alpha=alpha_candidate)\n",
    "        lasso_model.fit(X_lasso_train, y_lasso_train)\n",
    "\n",
    "        X_lasso_test = X_train.iloc[test_ind]\n",
    "        y_lasso_test = y_train.iloc[test_ind]\n",
    "\n",
    "        lasso_scores.append(lasso_model.score(X_lasso_test,y_lasso_test))\n",
    "    print(lasso_scores)"
   ]
  },
  {
   "cell_type": "code",
   "execution_count": null,
   "metadata": {},
   "outputs": [],
   "source": [
    "X = df.drop('log_grad_rate', axis = 1)\n",
    "y = df['log_grad_rate']\n",
    "\n",
    "X, X_test, y, y_test = train_test_split(X, y, test_size = .2, random_state = 42)\n",
    "\n"
   ]
  },
  {
   "cell_type": "code",
   "execution_count": null,
   "metadata": {},
   "outputs": [],
   "source": []
  },
  {
   "cell_type": "code",
   "execution_count": null,
   "metadata": {},
   "outputs": [],
   "source": [
    "X_train, X_val, y_train, y_val = train_test_split(X, y, test_size = .25, random_state = 42)\n"
   ]
  },
  {
   "cell_type": "code",
   "execution_count": null,
   "metadata": {},
   "outputs": [],
   "source": [
    "lm = LinearRegression()\n",
    "scaler = StandardScaler()\n",
    "\n",
    "X_train_scaled = scaler.fit_transform(X_train.values)\n",
    "X_val_scaled   = scaler.transform(X_val.values)\n",
    "X_test_scaled  = scaler.transform(X_test.values)\n",
    "\n",
    "lm_reg = Ridge(alpha=1)\n",
    "\n",
    "lm_reg.fit(X_train_scaled, y_train)\n",
    "print(f'Ridge Regression val R^2: {lm_reg.score(X_val_scaled, y_val):.3f}')"
   ]
  },
  {
   "cell_type": "code",
   "execution_count": null,
   "metadata": {},
   "outputs": [],
   "source": [
    "lasso_model = Lasso(alpha = 1)\n",
    "lasso_model.fit(X_train_scaled,y_train)\n",
    "list(zip(X_train.columns, lasso_model.coef_))"
   ]
  },
  {
   "cell_type": "code",
   "execution_count": null,
   "metadata": {},
   "outputs": [],
   "source": [
    "lr_model_ridge = Ridge(alpha = 1)\n",
    "lr_model_ridge.fit(X_train, y_train)\n",
    "\n",
    "list(zip(X_train.columns, lr_model_ridge.coef_))"
   ]
  },
  {
   "cell_type": "code",
   "execution_count": null,
   "metadata": {},
   "outputs": [],
   "source": [
    "lr_model_ridge.score(X_val,y_val)"
   ]
  },
  {
   "cell_type": "code",
   "execution_count": null,
   "metadata": {},
   "outputs": [],
   "source": [
    "## Q-Q plot, plot residuals, plot predicted vs. real\n",
    "## Study regularization"
   ]
  }
 ],
 "metadata": {
  "kernelspec": {
   "display_name": "Python 3",
   "language": "python",
   "name": "python3"
  },
  "language_info": {
   "codemirror_mode": {
    "name": "ipython",
    "version": 3
   },
   "file_extension": ".py",
   "mimetype": "text/x-python",
   "name": "python",
   "nbconvert_exporter": "python",
   "pygments_lexer": "ipython3",
   "version": "3.6.6"
  },
  "toc": {
   "base_numbering": 1,
   "nav_menu": {},
   "number_sections": true,
   "sideBar": true,
   "skip_h1_title": false,
   "title_cell": "Table of Contents",
   "title_sidebar": "Contents",
   "toc_cell": false,
   "toc_position": {},
   "toc_section_display": true,
   "toc_window_display": false
  },
  "varInspector": {
   "cols": {
    "lenName": 16,
    "lenType": 16,
    "lenVar": 40
   },
   "kernels_config": {
    "python": {
     "delete_cmd_postfix": "",
     "delete_cmd_prefix": "del ",
     "library": "var_list.py",
     "varRefreshCmd": "print(var_dic_list())"
    },
    "r": {
     "delete_cmd_postfix": ") ",
     "delete_cmd_prefix": "rm(",
     "library": "var_list.r",
     "varRefreshCmd": "cat(var_dic_list()) "
    }
   },
   "types_to_exclude": [
    "module",
    "function",
    "builtin_function_or_method",
    "instance",
    "_Feature"
   ],
   "window_display": false
  }
 },
 "nbformat": 4,
 "nbformat_minor": 2
}
