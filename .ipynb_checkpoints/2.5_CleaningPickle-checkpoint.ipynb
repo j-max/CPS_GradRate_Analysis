{
 "cells": [
  {
   "cell_type": "code",
   "execution_count": 3,
   "metadata": {},
   "outputs": [],
   "source": [
    "import pandas as pd\n",
    "import pickle"
   ]
  },
  {
   "cell_type": "code",
   "execution_count": 4,
   "metadata": {},
   "outputs": [],
   "source": [
    "with open('data/pickles/features_29columns.pickle','rb') as read_file:\n",
    "    df = pickle.load(read_file)"
   ]
  },
  {
   "cell_type": "code",
   "execution_count": 5,
   "metadata": {},
   "outputs": [],
   "source": [
    "def replace_comma(row):\n",
    "    return float(row['Zip_Mean_Income'].replace(',', ''))\n",
    "\n",
    "df['Zip_Mean_Income'] = df.apply(lambda row: replace_comma(row), axis =1) \n",
    "    \n",
    "df.drop(columns = ['School_ID', 'School_Year', 'Zip_y', 'School_Year'], inplace=True)"
   ]
  },
  {
   "cell_type": "code",
   "execution_count": 6,
   "metadata": {},
   "outputs": [
    {
     "data": {
      "text/plain": [
       "0"
      ]
     },
     "execution_count": 6,
     "metadata": {},
     "output_type": "execute_result"
    }
   ],
   "source": [
    "#language counts have 10 NaN values. Replace with 0\n",
    "df.fillna(0, inplace=True)\n",
    "df.Classroom_Languages_count.isna().sum()"
   ]
  },
  {
   "cell_type": "code",
   "execution_count": 9,
   "metadata": {},
   "outputs": [
    {
     "data": {
      "text/plain": [
       "(236, 30)"
      ]
     },
     "execution_count": 9,
     "metadata": {},
     "output_type": "execute_result"
    }
   ],
   "source": [
    "df.shape"
   ]
  },
  {
   "cell_type": "code",
   "execution_count": 10,
   "metadata": {},
   "outputs": [
    {
     "data": {
      "text/html": [
       "<div>\n",
       "<style scoped>\n",
       "    .dataframe tbody tr th:only-of-type {\n",
       "        vertical-align: middle;\n",
       "    }\n",
       "\n",
       "    .dataframe tbody tr th {\n",
       "        vertical-align: top;\n",
       "    }\n",
       "\n",
       "    .dataframe thead th {\n",
       "        text-align: right;\n",
       "    }\n",
       "</style>\n",
       "<table border=\"1\" class=\"dataframe\">\n",
       "  <thead>\n",
       "    <tr style=\"text-align: right;\">\n",
       "      <th></th>\n",
       "      <th>Graduation_Rate_School</th>\n",
       "      <th>Student_Count_Total</th>\n",
       "      <th>Zip_Mean_Income</th>\n",
       "      <th>Fully Accessible</th>\n",
       "      <th>Generally accessible</th>\n",
       "      <th>Student_Count_Asian_perc</th>\n",
       "      <th>Student_Count_Asian_Pacific_Islander_perc</th>\n",
       "      <th>Student_Count_Black_perc</th>\n",
       "      <th>Student_Count_English_Learners_perc</th>\n",
       "      <th>Student_Count_Ethnicity_Not_Available_perc</th>\n",
       "      <th>...</th>\n",
       "      <th>Brown</th>\n",
       "      <th>Green</th>\n",
       "      <th>Orange</th>\n",
       "      <th>Pink</th>\n",
       "      <th>Purple</th>\n",
       "      <th>Red</th>\n",
       "      <th>Dress_Code_dummie</th>\n",
       "      <th>grades_offered_count</th>\n",
       "      <th>charter</th>\n",
       "      <th>gender_f_bn</th>\n",
       "    </tr>\n",
       "  </thead>\n",
       "  <tbody>\n",
       "    <tr>\n",
       "      <th>0</th>\n",
       "      <td>80.9</td>\n",
       "      <td>1739</td>\n",
       "      <td>53353.0</td>\n",
       "      <td>0</td>\n",
       "      <td>1</td>\n",
       "      <td>0.002875</td>\n",
       "      <td>0.0</td>\n",
       "      <td>0.033353</td>\n",
       "      <td>0.190339</td>\n",
       "      <td>0.006325</td>\n",
       "      <td>...</td>\n",
       "      <td>0</td>\n",
       "      <td>0</td>\n",
       "      <td>0</td>\n",
       "      <td>1</td>\n",
       "      <td>0</td>\n",
       "      <td>1</td>\n",
       "      <td>0</td>\n",
       "      <td>4</td>\n",
       "      <td>0</td>\n",
       "      <td>0</td>\n",
       "    </tr>\n",
       "    <tr>\n",
       "      <th>1</th>\n",
       "      <td>78.6</td>\n",
       "      <td>1706</td>\n",
       "      <td>57770.0</td>\n",
       "      <td>0</td>\n",
       "      <td>1</td>\n",
       "      <td>0.005862</td>\n",
       "      <td>0.0</td>\n",
       "      <td>0.031067</td>\n",
       "      <td>0.201055</td>\n",
       "      <td>0.007620</td>\n",
       "      <td>...</td>\n",
       "      <td>0</td>\n",
       "      <td>0</td>\n",
       "      <td>0</td>\n",
       "      <td>1</td>\n",
       "      <td>0</td>\n",
       "      <td>1</td>\n",
       "      <td>0</td>\n",
       "      <td>4</td>\n",
       "      <td>0</td>\n",
       "      <td>0</td>\n",
       "    </tr>\n",
       "    <tr>\n",
       "      <th>2</th>\n",
       "      <td>82.8</td>\n",
       "      <td>742</td>\n",
       "      <td>53353.0</td>\n",
       "      <td>0</td>\n",
       "      <td>0</td>\n",
       "      <td>0.000000</td>\n",
       "      <td>0.0</td>\n",
       "      <td>0.032345</td>\n",
       "      <td>0.227763</td>\n",
       "      <td>0.000000</td>\n",
       "      <td>...</td>\n",
       "      <td>0</td>\n",
       "      <td>0</td>\n",
       "      <td>1</td>\n",
       "      <td>1</td>\n",
       "      <td>0</td>\n",
       "      <td>0</td>\n",
       "      <td>1</td>\n",
       "      <td>4</td>\n",
       "      <td>1</td>\n",
       "      <td>1</td>\n",
       "    </tr>\n",
       "    <tr>\n",
       "      <th>3</th>\n",
       "      <td>85.0</td>\n",
       "      <td>745</td>\n",
       "      <td>57770.0</td>\n",
       "      <td>0</td>\n",
       "      <td>0</td>\n",
       "      <td>0.000000</td>\n",
       "      <td>0.0</td>\n",
       "      <td>0.018792</td>\n",
       "      <td>0.285906</td>\n",
       "      <td>0.001342</td>\n",
       "      <td>...</td>\n",
       "      <td>0</td>\n",
       "      <td>0</td>\n",
       "      <td>1</td>\n",
       "      <td>1</td>\n",
       "      <td>0</td>\n",
       "      <td>0</td>\n",
       "      <td>1</td>\n",
       "      <td>4</td>\n",
       "      <td>1</td>\n",
       "      <td>1</td>\n",
       "    </tr>\n",
       "    <tr>\n",
       "      <th>4</th>\n",
       "      <td>1.7</td>\n",
       "      <td>199</td>\n",
       "      <td>53353.0</td>\n",
       "      <td>0</td>\n",
       "      <td>0</td>\n",
       "      <td>0.000000</td>\n",
       "      <td>0.0</td>\n",
       "      <td>0.773869</td>\n",
       "      <td>0.010050</td>\n",
       "      <td>0.000000</td>\n",
       "      <td>...</td>\n",
       "      <td>0</td>\n",
       "      <td>0</td>\n",
       "      <td>0</td>\n",
       "      <td>0</td>\n",
       "      <td>0</td>\n",
       "      <td>0</td>\n",
       "      <td>0</td>\n",
       "      <td>4</td>\n",
       "      <td>0</td>\n",
       "      <td>1</td>\n",
       "    </tr>\n",
       "  </tbody>\n",
       "</table>\n",
       "<p>5 rows × 30 columns</p>\n",
       "</div>"
      ],
      "text/plain": [
       "   Graduation_Rate_School  Student_Count_Total  Zip_Mean_Income  \\\n",
       "0                    80.9                 1739          53353.0   \n",
       "1                    78.6                 1706          57770.0   \n",
       "2                    82.8                  742          53353.0   \n",
       "3                    85.0                  745          57770.0   \n",
       "4                     1.7                  199          53353.0   \n",
       "\n",
       "   Fully Accessible  Generally accessible  Student_Count_Asian_perc  \\\n",
       "0                 0                     1                  0.002875   \n",
       "1                 0                     1                  0.005862   \n",
       "2                 0                     0                  0.000000   \n",
       "3                 0                     0                  0.000000   \n",
       "4                 0                     0                  0.000000   \n",
       "\n",
       "   Student_Count_Asian_Pacific_Islander_perc  Student_Count_Black_perc  \\\n",
       "0                                        0.0                  0.033353   \n",
       "1                                        0.0                  0.031067   \n",
       "2                                        0.0                  0.032345   \n",
       "3                                        0.0                  0.018792   \n",
       "4                                        0.0                  0.773869   \n",
       "\n",
       "   Student_Count_English_Learners_perc  \\\n",
       "0                             0.190339   \n",
       "1                             0.201055   \n",
       "2                             0.227763   \n",
       "3                             0.285906   \n",
       "4                             0.010050   \n",
       "\n",
       "   Student_Count_Ethnicity_Not_Available_perc     ...       Brown  Green  \\\n",
       "0                                    0.006325     ...           0      0   \n",
       "1                                    0.007620     ...           0      0   \n",
       "2                                    0.000000     ...           0      0   \n",
       "3                                    0.001342     ...           0      0   \n",
       "4                                    0.000000     ...           0      0   \n",
       "\n",
       "   Orange  Pink  Purple  Red  Dress_Code_dummie  grades_offered_count  \\\n",
       "0       0     1       0    1                  0                     4   \n",
       "1       0     1       0    1                  0                     4   \n",
       "2       1     1       0    0                  1                     4   \n",
       "3       1     1       0    0                  1                     4   \n",
       "4       0     0       0    0                  0                     4   \n",
       "\n",
       "   charter  gender_f_bn  \n",
       "0        0            0  \n",
       "1        0            0  \n",
       "2        1            1  \n",
       "3        1            1  \n",
       "4        0            1  \n",
       "\n",
       "[5 rows x 30 columns]"
      ]
     },
     "execution_count": 10,
     "metadata": {},
     "output_type": "execute_result"
    }
   ],
   "source": [
    "df.head()"
   ]
  },
  {
   "cell_type": "code",
   "execution_count": 11,
   "metadata": {},
   "outputs": [],
   "source": [
    "with open('data/pickles/features_29feat_clean.pickle', 'wb') as to_write:\n",
    "    pickle.dump(df, to_write)"
   ]
  },
  {
   "cell_type": "code",
   "execution_count": null,
   "metadata": {},
   "outputs": [],
   "source": []
  }
 ],
 "metadata": {
  "kernelspec": {
   "display_name": "Python 3",
   "language": "python",
   "name": "python3"
  },
  "language_info": {
   "codemirror_mode": {
    "name": "ipython",
    "version": 3
   },
   "file_extension": ".py",
   "mimetype": "text/x-python",
   "name": "python",
   "nbconvert_exporter": "python",
   "pygments_lexer": "ipython3",
   "version": "3.6.6"
  },
  "toc": {
   "base_numbering": 1,
   "nav_menu": {},
   "number_sections": true,
   "sideBar": true,
   "skip_h1_title": false,
   "title_cell": "Table of Contents",
   "title_sidebar": "Contents",
   "toc_cell": false,
   "toc_position": {},
   "toc_section_display": true,
   "toc_window_display": false
  },
  "varInspector": {
   "cols": {
    "lenName": 16,
    "lenType": 16,
    "lenVar": 40
   },
   "kernels_config": {
    "python": {
     "delete_cmd_postfix": "",
     "delete_cmd_prefix": "del ",
     "library": "var_list.py",
     "varRefreshCmd": "print(var_dic_list())"
    },
    "r": {
     "delete_cmd_postfix": ") ",
     "delete_cmd_prefix": "rm(",
     "library": "var_list.r",
     "varRefreshCmd": "cat(var_dic_list()) "
    }
   },
   "types_to_exclude": [
    "module",
    "function",
    "builtin_function_or_method",
    "instance",
    "_Feature"
   ],
   "window_display": false
  }
 },
 "nbformat": 4,
 "nbformat_minor": 2
}
