{
 "cells": [
  {
   "cell_type": "markdown",
   "metadata": {},
   "source": [
    "# FSM\n",
    "\n",
    "The first simple model will be a simple linear regression of `Student Count Total` as a predictor of graduation rate.\n"
   ]
  },
  {
   "cell_type": "code",
   "execution_count": 35,
   "metadata": {},
   "outputs": [],
   "source": [
    "import os, sys\n",
    "\n",
    "# Set absolute path to the root folder of the directory\n",
    "full_path = os.getcwd()\n",
    "home_folder = 'CPS_GradRate_Analysis'\n",
    "root = full_path.split(home_folder)[0] + home_folder + '/'\n",
    "sys.path.append(root)\n",
    "\n",
    "\n",
    "import pandas as pd\n",
    "pd.set_option('display.max_columns', None)\n",
    "import numpy as np\n",
    "\n",
    "import matplotlib.pyplot as plt\n",
    "\n",
    "from src.preprocessing.preprocessing_schoolid import load_prepped_school_year_profile"
   ]
  },
  {
   "cell_type": "code",
   "execution_count": 6,
   "metadata": {},
   "outputs": [],
   "source": [
    "path_to_csv = '../data/chicago_data_portal_csv_files/Chicago_Public_Schools_-_School_Profile_Information_SY1819.csv'\n",
    "hs_201819 = load_prepped_school_year_profile(path_to_csv)"
   ]
  },
  {
   "cell_type": "code",
   "execution_count": 7,
   "metadata": {},
   "outputs": [
    {
     "data": {
      "text/plain": [
       "0"
      ]
     },
     "execution_count": 7,
     "metadata": {},
     "output_type": "execute_result"
    }
   ],
   "source": [
    "hs_201819['Graduation_Rate_School'].isna().sum()"
   ]
  },
  {
   "cell_type": "code",
   "execution_count": 13,
   "metadata": {},
   "outputs": [
    {
     "data": {
      "text/plain": [
       "(140, 22)"
      ]
     },
     "execution_count": 13,
     "metadata": {},
     "output_type": "execute_result"
    }
   ],
   "source": [
    "hs_201819.shape"
   ]
  },
  {
   "cell_type": "code",
   "execution_count": 18,
   "metadata": {},
   "outputs": [],
   "source": [
    "from sklearn.model_selection import train_test_split\n",
    "\n",
    "X = hs_201819.drop('Graduation_Rate_School', axis=1)\n",
    "y = hs_201819.loc[:,'Graduation_Rate_School']\n",
    "\n",
    "X_train, X_test, y_train, y_test = train_test_split(X,y, random_state = 42)"
   ]
  },
  {
   "cell_type": "code",
   "execution_count": 21,
   "metadata": {},
   "outputs": [
    {
     "data": {
      "text/plain": [
       "(105, 21)"
      ]
     },
     "execution_count": 21,
     "metadata": {},
     "output_type": "execute_result"
    }
   ],
   "source": [
    "# Training Size is 105 schools\n",
    "X_train.shape"
   ]
  },
  {
   "cell_type": "code",
   "execution_count": 22,
   "metadata": {},
   "outputs": [
    {
     "data": {
      "text/plain": [
       "(35, 21)"
      ]
     },
     "execution_count": 22,
     "metadata": {},
     "output_type": "execute_result"
    }
   ],
   "source": [
    "# Test size is 35 schools\n",
    "X_test.shape"
   ]
  },
  {
   "cell_type": "code",
   "execution_count": 24,
   "metadata": {},
   "outputs": [
    {
     "data": {
      "text/plain": [
       "Int64Index([511, 298, 116, 559, 184,  36, 366, 306, 493, 512, 535, 242, 297,\n",
       "             67, 633, 357,  35,  93, 602, 520, 163, 547, 264,  19, 629,  92,\n",
       "            655, 450,  54,  65,  34, 523, 472, 435, 224],\n",
       "           dtype='int64')"
      ]
     },
     "execution_count": 24,
     "metadata": {},
     "output_type": "execute_result"
    }
   ],
   "source": [
    "# I will use these indices to make sure the test set is consistent across iterations\n",
    "X_test.index"
   ]
  },
  {
   "cell_type": "code",
   "execution_count": 26,
   "metadata": {},
   "outputs": [],
   "source": [
    "from sklearn.linear_model import LinearRegression"
   ]
  },
  {
   "cell_type": "code",
   "execution_count": 29,
   "metadata": {},
   "outputs": [
    {
     "data": {
      "text/plain": [
       "0.1826092804141084"
      ]
     },
     "execution_count": 29,
     "metadata": {},
     "output_type": "execute_result"
    }
   ],
   "source": [
    "lr = LinearRegression()\n",
    "lr.fit(X_train[['Student_Count_Total']], y_train)\n",
    "lr.score(X_train[['Student_Count_Total']], y_train)"
   ]
  },
  {
   "cell_type": "code",
   "execution_count": 33,
   "metadata": {},
   "outputs": [
    {
     "data": {
      "text/html": [
       "<table class=\"simpletable\">\n",
       "<caption>OLS Regression Results</caption>\n",
       "<tr>\n",
       "  <th>Dep. Variable:</th>    <td>Graduation_Rate_School</td> <th>  R-squared:         </th> <td>   0.183</td>\n",
       "</tr>\n",
       "<tr>\n",
       "  <th>Model:</th>                      <td>OLS</td>          <th>  Adj. R-squared:    </th> <td>   0.175</td>\n",
       "</tr>\n",
       "<tr>\n",
       "  <th>Method:</th>                <td>Least Squares</td>     <th>  F-statistic:       </th> <td>   23.01</td>\n",
       "</tr>\n",
       "<tr>\n",
       "  <th>Date:</th>                <td>Sun, 13 Jun 2021</td>    <th>  Prob (F-statistic):</th> <td>5.46e-06</td>\n",
       "</tr>\n",
       "<tr>\n",
       "  <th>Time:</th>                    <td>11:09:16</td>        <th>  Log-Likelihood:    </th> <td> -472.24</td>\n",
       "</tr>\n",
       "<tr>\n",
       "  <th>No. Observations:</th>         <td>   105</td>         <th>  AIC:               </th> <td>   948.5</td>\n",
       "</tr>\n",
       "<tr>\n",
       "  <th>Df Residuals:</th>             <td>   103</td>         <th>  BIC:               </th> <td>   953.8</td>\n",
       "</tr>\n",
       "<tr>\n",
       "  <th>Df Model:</th>                 <td>     1</td>         <th>                     </th>     <td> </td>   \n",
       "</tr>\n",
       "<tr>\n",
       "  <th>Covariance Type:</th>         <td>nonrobust</td>       <th>                     </th>     <td> </td>   \n",
       "</tr>\n",
       "</table>\n",
       "<table class=\"simpletable\">\n",
       "<tr>\n",
       "           <td></td>              <th>coef</th>     <th>std err</th>      <th>t</th>      <th>P>|t|</th>  <th>[0.025</th>    <th>0.975]</th>  \n",
       "</tr>\n",
       "<tr>\n",
       "  <th>Intercept</th>           <td>   61.2410</td> <td>    3.072</td> <td>   19.935</td> <td> 0.000</td> <td>   55.148</td> <td>   67.334</td>\n",
       "</tr>\n",
       "<tr>\n",
       "  <th>Student_Count_Total</th> <td>    0.0145</td> <td>    0.003</td> <td>    4.797</td> <td> 0.000</td> <td>    0.008</td> <td>    0.020</td>\n",
       "</tr>\n",
       "</table>\n",
       "<table class=\"simpletable\">\n",
       "<tr>\n",
       "  <th>Omnibus:</th>       <td>35.065</td> <th>  Durbin-Watson:     </th> <td>   2.063</td>\n",
       "</tr>\n",
       "<tr>\n",
       "  <th>Prob(Omnibus):</th> <td> 0.000</td> <th>  Jarque-Bera (JB):  </th> <td>  56.809</td>\n",
       "</tr>\n",
       "<tr>\n",
       "  <th>Skew:</th>          <td>-1.542</td> <th>  Prob(JB):          </th> <td>4.61e-13</td>\n",
       "</tr>\n",
       "<tr>\n",
       "  <th>Kurtosis:</th>      <td> 4.865</td> <th>  Cond. No.          </th> <td>1.46e+03</td>\n",
       "</tr>\n",
       "</table><br/><br/>Notes:<br/>[1] Standard Errors assume that the covariance matrix of the errors is correctly specified.<br/>[2] The condition number is large, 1.46e+03. This might indicate that there are<br/>strong multicollinearity or other numerical problems."
      ],
      "text/plain": [
       "<class 'statsmodels.iolib.summary.Summary'>\n",
       "\"\"\"\n",
       "                              OLS Regression Results                              \n",
       "==================================================================================\n",
       "Dep. Variable:     Graduation_Rate_School   R-squared:                       0.183\n",
       "Model:                                OLS   Adj. R-squared:                  0.175\n",
       "Method:                     Least Squares   F-statistic:                     23.01\n",
       "Date:                    Sun, 13 Jun 2021   Prob (F-statistic):           5.46e-06\n",
       "Time:                            11:09:16   Log-Likelihood:                -472.24\n",
       "No. Observations:                     105   AIC:                             948.5\n",
       "Df Residuals:                         103   BIC:                             953.8\n",
       "Df Model:                               1                                         \n",
       "Covariance Type:                nonrobust                                         \n",
       "=======================================================================================\n",
       "                          coef    std err          t      P>|t|      [0.025      0.975]\n",
       "---------------------------------------------------------------------------------------\n",
       "Intercept              61.2410      3.072     19.935      0.000      55.148      67.334\n",
       "Student_Count_Total     0.0145      0.003      4.797      0.000       0.008       0.020\n",
       "==============================================================================\n",
       "Omnibus:                       35.065   Durbin-Watson:                   2.063\n",
       "Prob(Omnibus):                  0.000   Jarque-Bera (JB):               56.809\n",
       "Skew:                          -1.542   Prob(JB):                     4.61e-13\n",
       "Kurtosis:                       4.865   Cond. No.                     1.46e+03\n",
       "==============================================================================\n",
       "\n",
       "Notes:\n",
       "[1] Standard Errors assume that the covariance matrix of the errors is correctly specified.\n",
       "[2] The condition number is large, 1.46e+03. This might indicate that there are\n",
       "strong multicollinearity or other numerical problems.\n",
       "\"\"\""
      ]
     },
     "execution_count": 33,
     "metadata": {},
     "output_type": "execute_result"
    }
   ],
   "source": [
    "from statsmodels.formula.api import ols\n",
    "\n",
    "simple_formula = 'Graduation_Rate_School ~ Student_Count_Total'\n",
    "fsm = ols(simple_formula, pd.merge(X_train, y_train, left_index=True, right_index=True)).fit()\n",
    "fsm.summary()"
   ]
  },
  {
   "cell_type": "code",
   "execution_count": 36,
   "metadata": {},
   "outputs": [
    {
     "data": {
      "text/plain": [
       "Text(0.5, 1.0, 'Residuals are Not Normally Distributed')"
      ]
     },
     "execution_count": 36,
     "metadata": {},
     "output_type": "execute_result"
    },
    {
     "data": {
      "image/png": "[encoded data removed]",
      "text/plain": [
       "<Figure size 432x288 with 1 Axes>"
      ]
     },
     "metadata": {
      "needs_background": "light"
     },
     "output_type": "display_data"
    }
   ],
   "source": [
    "fig, ax = plt.subplots()\n",
    "ax.hist(fsm.resid)\n",
    "ax.set_title(\"Residuals are Not Normally Distributed\")"
   ]
  },
  {
   "cell_type": "code",
   "execution_count": 38,
   "metadata": {},
   "outputs": [
    {
     "data": {
      "text/plain": [
       "<matplotlib.collections.PathCollection at 0x7fe9a39780f0>"
      ]
     },
     "execution_count": 38,
     "metadata": {},
     "output_type": "execute_result"
    },
    {
     "data": {
      "image/png": "[encoded data removed]",
      "text/plain": [
       "<Figure size 432x288 with 1 Axes>"
      ]
     },
     "metadata": {
      "needs_background": "light"
     },
     "output_type": "display_data"
    }
   ],
   "source": [
    "y_hat = fsm.predict(X_train['Student_Count_Total'])\n",
    "\n",
    "fig, ax = plt.subplots()\n",
    "ax.scatter(y_hat, fsm.resid,  )"
   ]
  },
  {
   "cell_type": "code",
   "execution_count": 39,
   "metadata": {},
   "outputs": [],
   "source": [
    "from sklearn.model_selection import cross_validate"
   ]
  },
  {
   "cell_type": "code",
   "execution_count": 46,
   "metadata": {},
   "outputs": [
    {
     "data": {
      "text/plain": [
       "{'fit_time': array([0.00467992, 0.06809425, 0.05601907]),\n",
       " 'score_time': array([0.00242615, 0.00443983, 0.00313115]),\n",
       " 'test_score': array([0.21600542, 0.14084973, 0.07050349])}"
      ]
     },
     "execution_count": 46,
     "metadata": {},
     "output_type": "execute_result"
    }
   ],
   "source": [
    "# With a cv of 3, we get splits with the val size exactly equal to the test set\n",
    "cross_validate(LinearRegression(), X_train[['Student_Count_Total']], y_train, cv=3)"
   ]
  },
  {
   "cell_type": "code",
   "execution_count": 53,
   "metadata": {},
   "outputs": [
    {
     "data": {
      "text/plain": [
       "{'fit_time': array([0.00548792, 0.01325393, 0.00706697, 0.00219178]),\n",
       " 'score_time': array([0.00276208, 0.0030551 , 0.002985  , 0.00258923]),\n",
       " 'test_score': array([ 0.22327189, -0.08609349,  0.01018786, -1.15676486])}"
      ]
     },
     "execution_count": 53,
     "metadata": {},
     "output_type": "execute_result"
    }
   ],
   "source": [
    "# With a cv of 4, the r^2 becomes very unstable\n",
    "cross_validate(LinearRegression(), X_train[['Student_Count_Total']], y_train, cv=4)"
   ]
  },
  {
   "cell_type": "code",
   "execution_count": 54,
   "metadata": {},
   "outputs": [
    {
     "data": {
      "text/plain": [
       "{'fit_time': array([0.00525522, 0.00400901, 0.00288177, 0.0030911 , 0.01009679]),\n",
       " 'score_time': array([0.0022769 , 0.00233793, 0.00229502, 0.00261593, 0.00347614]),\n",
       " 'test_score': array([ 0.20433089,  0.14663487,  0.20404782,  0.12837997, -1.0369468 ])}"
      ]
     },
     "execution_count": 54,
     "metadata": {},
     "output_type": "execute_result"
    }
   ],
   "source": [
    "# With a cv of 5, the r^2 becomes a bit more stable than 4\n",
    "cross_validate(LinearRegression(), X_train[['Student_Count_Total']], y_train, cv=5)"
   ]
  },
  {
   "cell_type": "code",
   "execution_count": 62,
   "metadata": {},
   "outputs": [],
   "source": [
    "# I will proceed with a cv of 3\n",
    "\n",
    "cv_fsm = cross_validate(LinearRegression(), \n",
    "                       X_train[['Student_Count_Total']], \n",
    "                       y_train, cv=3, return_train_score=True)\n"
   ]
  },
  {
   "cell_type": "code",
   "execution_count": 64,
   "metadata": {},
   "outputs": [
    {
     "data": {
      "text/plain": [
       "array([0.16810904, 0.18307846, 0.2055279 ])"
      ]
     },
     "execution_count": 64,
     "metadata": {},
     "output_type": "execute_result"
    }
   ],
   "source": [
    "cv_fsm['train_score']"
   ]
  },
  {
   "cell_type": "code",
   "execution_count": 63,
   "metadata": {},
   "outputs": [
    {
     "data": {
      "text/plain": [
       "0.1855718004689901"
      ]
     },
     "execution_count": 63,
     "metadata": {},
     "output_type": "execute_result"
    }
   ],
   "source": [
    "# Baseline Train R^2 via cross validation\n",
    "np.mean(cv_fsm['train_score'])"
   ]
  },
  {
   "cell_type": "code",
   "execution_count": 65,
   "metadata": {},
   "outputs": [
    {
     "data": {
      "text/plain": [
       "array([0.21600542, 0.14084973, 0.07050349])"
      ]
     },
     "execution_count": 65,
     "metadata": {},
     "output_type": "execute_result"
    }
   ],
   "source": [
    "cv_fsm['test_score']"
   ]
  },
  {
   "cell_type": "code",
   "execution_count": 60,
   "metadata": {},
   "outputs": [
    {
     "data": {
      "text/plain": [
       "0.1424528826778352"
      ]
     },
     "execution_count": 60,
     "metadata": {},
     "output_type": "execute_result"
    }
   ],
   "source": [
    "# Baseline Val R^2 via cross validation\n",
    "np.mean(cv_fsm['test_score'])"
   ]
  },
  {
   "cell_type": "code",
   "execution_count": 61,
   "metadata": {},
   "outputs": [
    {
     "data": {
      "text/plain": [
       "0.059411730929310846"
      ]
     },
     "execution_count": 61,
     "metadata": {},
     "output_type": "execute_result"
    }
   ],
   "source": [
    "# Baseline std via cross validation\n",
    "np.std(cv_fsm['test_score'])"
   ]
  },
  {
   "cell_type": "code",
   "execution_count": null,
   "metadata": {},
   "outputs": [],
   "source": []
  }
 ],
 "metadata": {
  "kernelspec": {
   "display_name": "cps_env",
   "language": "python",
   "name": "cps_env"
  },
  "language_info": {
   "codemirror_mode": {
    "name": "ipython",
    "version": 3
   },
   "file_extension": ".py",
   "mimetype": "text/x-python",
   "name": "python",
   "nbconvert_exporter": "python",
   "pygments_lexer": "ipython3",
   "version": "3.6.9"
  }
 },
 "nbformat": 4,
 "nbformat_minor": 4
}
