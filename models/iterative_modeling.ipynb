{
 "cells": [
  {
   "cell_type": "code",
   "execution_count": 54,
   "metadata": {},
   "outputs": [
    {
     "name": "stdout",
     "output_type": "stream",
     "text": [
      "The autoreload extension is already loaded. To reload it, use:\n",
      "  %reload_ext autoreload\n"
     ]
    }
   ],
   "source": [
    "import os, sys\n",
    "\n",
    "# Set absolute path to the root folder of the directory\n",
    "full_path = os.getcwd()\n",
    "home_folder = 'CPS_GradRate_Analysis'\n",
    "root = full_path.split(home_folder)[0] + home_folder + '/'\n",
    "sys.path.append(root)\n",
    "\n",
    "\n",
    "import pandas as pd\n",
    "pd.set_option('display.max_columns', None)\n",
    "import numpy as np\n",
    "\n",
    "from sklearn.linear_model import LinearRegression\n",
    "\n",
    "from src.preprocessing.preprocessing_schoolid import load_prepped_school_year_profile\n",
    "import matplotlib.pyplot as plt\n",
    "\n",
    "%load_ext autoreload\n",
    "%autoreload 2"
   ]
  },
  {
   "cell_type": "code",
   "execution_count": 65,
   "metadata": {},
   "outputs": [],
   "source": [
    "path_to_csv = '../data/chicago_data_portal_csv_files/Chicago_Public_Schools_-_School_Profile_Information_SY1819.csv'\n",
    "hs_201819 = load_prepped_school_year_profile(path_to_csv)"
   ]
  },
  {
   "cell_type": "code",
   "execution_count": 66,
   "metadata": {},
   "outputs": [],
   "source": [
    "from sklearn.model_selection import train_test_split, cross_validate\n",
    "\n",
    "X = hs_201819.drop('Graduation_Rate_School', axis=1)\n",
    "y = hs_201819.loc[:,'Graduation_Rate_School']\n",
    "\n",
    "X_train, X_test, y_train, y_test = train_test_split(X,y, random_state = 42)"
   ]
  },
  {
   "cell_type": "markdown",
   "metadata": {},
   "source": [
    "Find the first simple model in the fsm.ipynb notebook in the same folder as this notebook. It is a simple linear regression which predicts graduation rates of schools in the 2018-19 school year with Student Count Total.   The FSM's R^2 was .186 average across 3 fold crossvalidation.  Student Count Total had a coefficient of .0145, which can be understood as: for every 100 students, the graduation rate goes increases by 1.45 points."
   ]
  },
  {
   "cell_type": "code",
   "execution_count": 75,
   "metadata": {},
   "outputs": [],
   "source": [
    "def cps_cross_validate(exogenous_feature_name_list):\n",
    "    cv = cross_validate(LinearRegression(), X_train[exogenous_feature_name_list], y_train, cv=3, return_train_score=True)\n",
    "    print('##########train mean R^2#############')\n",
    "    print(np.mean(cv['train_score']))\n",
    "    print('##########teast mean R^2#############')\n",
    "    print(np.mean(cv['test_score']))\n",
    "    print('#####################################')\n",
    "    print(cv)\n"
   ]
  },
  {
   "cell_type": "code",
   "execution_count": 76,
   "metadata": {},
   "outputs": [
    {
     "name": "stdout",
     "output_type": "stream",
     "text": [
      "##########train mean R^2#############\n",
      "0.1855718004689901\n",
      "##########teast mean R^2#############\n",
      "0.1424528826778352\n",
      "#####################################\n",
      "{'fit_time': array([0.00278711, 0.01644182, 0.00927997]), 'score_time': array([0.00284791, 0.00279903, 0.00433803]), 'test_score': array([0.21600542, 0.14084973, 0.07050349]), 'train_score': array([0.16810904, 0.18307846, 0.2055279 ])}\n"
     ]
    }
   ],
   "source": [
    "cps_cross_validate(['Student_Count_Total'])"
   ]
  },
  {
   "cell_type": "markdown",
   "metadata": {},
   "source": [
    "# Model Iterations"
   ]
  },
  {
   "cell_type": "markdown",
   "metadata": {},
   "source": [
    "# Add Percent Low Income"
   ]
  },
  {
   "cell_type": "code",
   "execution_count": 52,
   "metadata": {},
   "outputs": [
    {
     "data": {
      "text/plain": [
       "204    0.716825\n",
       "368    0.963470\n",
       "651    0.890977\n",
       "290    0.851562\n",
       "5      1.000000\n",
       "         ...   \n",
       "317    0.803797\n",
       "500    0.941935\n",
       "48     0.794355\n",
       "432    0.955307\n",
       "483    0.969754\n",
       "Name: perc_low_income, Length: 105, dtype: float64"
      ]
     },
     "execution_count": 52,
     "metadata": {},
     "output_type": "execute_result"
    }
   ],
   "source": [
    "X_train['perc_low_income']"
   ]
  },
  {
   "cell_type": "code",
   "execution_count": 77,
   "metadata": {},
   "outputs": [
    {
     "name": "stdout",
     "output_type": "stream",
     "text": [
      "##########train mean R^2#############\n",
      "0.19275238683420123\n",
      "##########teast mean R^2#############\n",
      "0.13335856366759827\n",
      "#####################################\n",
      "{'fit_time': array([0.00633693, 0.00397992, 0.00354004]), 'score_time': array([0.00341296, 0.00183678, 0.0022862 ]), 'test_score': array([0.22482208, 0.14596739, 0.02928623]), 'train_score': array([0.17230852, 0.18440707, 0.22154157])}\n"
     ]
    }
   ],
   "source": [
    "cps_cross_validate(['Student_Count_Total', 'perc_low_income'])"
   ]
  },
  {
   "cell_type": "markdown",
   "metadata": {},
   "source": [
    "> adding percent low income actually reduces the overal score on the test."
   ]
  },
  {
   "cell_type": "markdown",
   "metadata": {},
   "source": [
    "# Add Dress Code"
   ]
  },
  {
   "cell_type": "code",
   "execution_count": 78,
   "metadata": {},
   "outputs": [
    {
     "name": "stdout",
     "output_type": "stream",
     "text": [
      "##########train mean R^2#############\n",
      "0.2856334081801379\n",
      "##########teast mean R^2#############\n",
      "0.15379413386672489\n",
      "#####################################\n",
      "{'fit_time': array([0.00767994, 0.00825691, 0.00321817]), 'score_time': array([0.00372291, 0.0031991 , 0.00310898]), 'test_score': array([0.37651082, 0.08087026, 0.00400132]), 'train_score': array([0.20766878, 0.32733451, 0.32189694])}\n"
     ]
    }
   ],
   "source": [
    "cps_cross_validate(['Student_Count_Total', 'perc_low_income', 'Dress_Code'])"
   ]
  },
  {
   "cell_type": "markdown",
   "metadata": {},
   "source": [
    "> Adding dress code improves the train score, but there is still a big drop off, with very little predictive power in two of the validation sets."
   ]
  },
  {
   "cell_type": "code",
   "execution_count": null,
   "metadata": {},
   "outputs": [],
   "source": []
  }
 ],
 "metadata": {
  "kernelspec": {
   "display_name": "cps_env",
   "language": "python",
   "name": "cps_env"
  },
  "language_info": {
   "codemirror_mode": {
    "name": "ipython",
    "version": 3
   },
   "file_extension": ".py",
   "mimetype": "text/x-python",
   "name": "python",
   "nbconvert_exporter": "python",
   "pygments_lexer": "ipython3",
   "version": "3.6.9"
  }
 },
 "nbformat": 4,
 "nbformat_minor": 4
}
