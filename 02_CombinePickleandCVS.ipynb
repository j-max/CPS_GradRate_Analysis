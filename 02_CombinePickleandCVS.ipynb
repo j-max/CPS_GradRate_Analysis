{
 "cells": [
  {
   "cell_type": "code",
   "execution_count": 3,
   "metadata": {},
   "outputs": [],
   "source": [
    "import pandas as pd\n",
    "import pickle\n",
    "\n",
    "pd.set_option('display.max_columns', None)\n",
    "pd.set_option('display.max_rows', 25)\n",
    "pd.set_option('display.precision', 3)"
   ]
  },
  {
   "cell_type": "code",
   "execution_count": 25,
   "metadata": {},
   "outputs": [
    {
     "name": "stdout",
     "output_type": "stream",
     "text": [
      "hs_data_16-18.pickle\r\n"
     ]
    }
   ],
   "source": [
    "!ls data/pickles"
   ]
  },
  {
   "cell_type": "code",
   "execution_count": 114,
   "metadata": {},
   "outputs": [],
   "source": [
    "with open('data/pickles/hs_data_16-18.pickle', 'rb') as f:\n",
    "    df = pickle.load(f)"
   ]
  },
  {
   "cell_type": "markdown",
   "metadata": {},
   "source": [
    "## Drop Unecessary Data"
   ]
  },
  {
   "cell_type": "code",
   "execution_count": 115,
   "metadata": {},
   "outputs": [],
   "source": [
    "df.drop(columns = ['Address', 'Administrator_Title', 'CPS_School_Profile', \n",
    "                   'City', 'Classification_Description', 'Closed_For_Enrollment_Date',\n",
    "                  'College_Enrollment_Rate_Mean', 'College_Enrollment_Rate_School',\n",
    "                  'Demographic_Description', 'Earliest_Drop_Off_Time', 'Facebook', \n",
    "                  'Fax', 'Fifth_Contact_Name', 'Fifth_Contact_Title', 'Finance_ID', \n",
    "                  'Fourth_Contact_Name', 'Fourth_Contact_Title', 'Freshman_Start_End_Time',\n",
    "                  'Grades_Offered', 'Graduation_Rate_Mean', 'Is_Elementary_School', \n",
    "                  'Is_GoCPS_Elementary', 'Is_GoCPS_High_School', 'Is_GoCPS_PreK', \n",
    "                  'Is_High_School', 'Is_Middle_School', 'Is_Pre_School', 'Kindergarten_School_Day',\n",
    "                  'Legacy_Unit_ID', 'Long_Name', 'Mean_ACT', 'Open_For_Enrollment_Date', \n",
    "                  'Overall_Rating', 'Phone', 'Pinterest', 'PreK_School_Day', 'PreSchool_Inclusive', \n",
    "                  'Preschool_Instructional', 'Primary_Category', 'Rating_Statement', 'Rating_Status', \n",
    "                  'Refugee_Services', 'School_Type','Secondary_Contact', 'Secondary_Contact_Title', \n",
    "                  'Seventh_Contact_Name', 'Seventh_Contact_Title', 'Short_Name', 'Short_Name', \n",
    "                  'Significantly_Modified', 'Sixth_Contact_Name', 'Sixth_Contact_Title', 'State',\n",
    "                  'Statistics_Description', 'Summary', 'Third_Contact_Name', 'Third_Contact_Title', \n",
    "                  'Title_1_Eligible', 'Twitter', 'Visual_Impairments', 'Website',\n",
    "                  'Youtube', 'Zip_x'], inplace = True)"
   ]
  },
  {
   "cell_type": "markdown",
   "metadata": {},
   "source": [
    "## Merge Income Data Per Zip for 16/17 and 17/18"
   ]
  },
  {
   "cell_type": "code",
   "execution_count": 116,
   "metadata": {},
   "outputs": [],
   "source": [
    "df_2016 = df[df['School_Year'] == 'School Year 2016-2017']\n",
    "df_2016_income = pd.read_csv('data/meanHHincome_2016.csv', header=None)\n",
    "df_2016_income.columns = ['Zip_y', 'Zip_Mean_Income']\n",
    "df_2016 = pd.merge(df_2016, df_2016_income, on = 'Zip_y' )"
   ]
  },
  {
   "cell_type": "code",
   "execution_count": 117,
   "metadata": {},
   "outputs": [],
   "source": [
    "df_2017 = df[df['School_Year'] == 'School Year 2017-2018']\n",
    "df_2017_income = pd.read_csv('data/meanHHincome_2017.csv', header=None)\n",
    "df_2017_income.columns = ['Zip_y', 'Zip_Mean_Income']\n",
    "df_2017 = pd.merge(df_2017, df_2017_income, on = 'Zip_y' )"
   ]
  },
  {
   "cell_type": "code",
   "execution_count": 118,
   "metadata": {},
   "outputs": [],
   "source": [
    "df = df_2016.append(df_2017)"
   ]
  },
  {
   "cell_type": "code",
   "execution_count": 119,
   "metadata": {},
   "outputs": [
    {
     "name": "stdout",
     "output_type": "stream",
     "text": [
      "['ADA_Accessible', 'Administrator', 'After_School_Hours', 'Attendance_Boundaries', 'Bilingual_Services', 'Classroom_Languages', 'Dress_Code', 'Grades_Offered_All', 'Graduation_Rate_School', 'Hard_Of_Hearing', 'Network', 'School_Hours', 'School_ID', 'School_Year', 'Student_Count_Asian', 'Student_Count_Asian_Pacific_Islander', 'Student_Count_Black', 'Student_Count_English_Learners', 'Student_Count_Ethnicity_Not_Available', 'Student_Count_Hawaiian_Pacific_Islander', 'Student_Count_Hispanic', 'Student_Count_Low_Income', 'Student_Count_Multi', 'Student_Count_Native_American', 'Student_Count_Other_Ethnicity', 'Student_Count_Special_Ed', 'Student_Count_Total', 'Student_Count_White', 'Transportation_Bus', 'Transportation_El', 'Transportation_Metra', 'Zip_y', 'Zip_Mean_Income']\n"
     ]
    }
   ],
   "source": [
    "print(list(df_new))"
   ]
  },
  {
   "cell_type": "code",
   "execution_count": 120,
   "metadata": {},
   "outputs": [],
   "source": [
    "df.drop(columns = ['Is_GoCPS_Participant','Location', 'School_Latitude', 'School_Longitude', 'Average_ACT_School'], inplace=True)"
   ]
  },
  {
   "cell_type": "code",
   "execution_count": 121,
   "metadata": {},
   "outputs": [
    {
     "data": {
      "text/plain": [
       "School Year 2016-2017    121\n",
       "School Year 2017-2018    118\n",
       "Name: School_Year, dtype: int64"
      ]
     },
     "execution_count": 121,
     "metadata": {},
     "output_type": "execute_result"
    }
   ],
   "source": [
    "df['School_Year'].value_counts()"
   ]
  },
  {
   "cell_type": "markdown",
   "metadata": {},
   "source": [
    "## Fill in ADA accessible"
   ]
  },
  {
   "cell_type": "code",
   "execution_count": 122,
   "metadata": {},
   "outputs": [],
   "source": [
    "ada = df[df['School_Year'] == 'School Year 2016-2017'][['ADA_Accessible', 'School_ID']]"
   ]
  },
  {
   "cell_type": "code",
   "execution_count": 123,
   "metadata": {},
   "outputs": [],
   "source": [
    "df = pd.merge(df, ada, on = 'School_ID' )\n",
    "df.drop(columns = 'ADA_Accessible_x', inplace = True)"
   ]
  },
  {
   "cell_type": "markdown",
   "metadata": {},
   "source": [
    "## Demographic Percentage Transformation"
   ]
  },
  {
   "cell_type": "code",
   "execution_count": 128,
   "metadata": {},
   "outputs": [
    {
     "name": "stdout",
     "output_type": "stream",
     "text": [
      "['Administrator', 'After_School_Hours', 'Attendance_Boundaries', 'Bilingual_Services', 'Classroom_Languages', 'Dress_Code', 'Grades_Offered_All', 'Graduation_Rate_School', 'Hard_Of_Hearing', 'Network', 'School_Hours', 'School_ID', 'School_Year', 'Student_Count_Asian', 'Student_Count_Asian_Pacific_Islander', 'Student_Count_Black', 'Student_Count_English_Learners', 'Student_Count_Ethnicity_Not_Available', 'Student_Count_Hawaiian_Pacific_Islander', 'Student_Count_Hispanic', 'Student_Count_Low_Income', 'Student_Count_Multi', 'Student_Count_Native_American', 'Student_Count_Other_Ethnicity', 'Student_Count_Special_Ed', 'Student_Count_Total', 'Student_Count_White', 'Transportation_Bus', 'Transportation_El', 'Transportation_Metra', 'Zip_y', 'Zip_Mean_Income', 'ADA_Accessible_y', 'Student_Count_Asian_perc', 'Student_Count_Asian_Pacific_Islander_perc', 'Student_Count_Black_perc', 'Student_Count_English_Learners_perc', 'Student_Count_Ethnicity_Not_Available_perc', 'Student_Count_Hawaiian_Pacific_Islander_perc', 'Student_Count_Hispanic_perc', 'Student_Count_Low_Income_perc', 'Student_Count_Multi_perc', 'Student_Count_Native_American_perc', 'Student_Count_Other_Ethnicity_perc', 'Student_Count_Special_Ed_perc', 'Student_Count_White_perc']\n"
     ]
    }
   ],
   "source": [
    "#Convert student demographic counts to percent of total population\n",
    "print(list(df))\n",
    "demog_headings = ['Student_Count_Asian', 'Student_Count_Asian_Pacific_Islander', 'Student_Count_Black', \n",
    "                  'Student_Count_English_Learners', 'Student_Count_Ethnicity_Not_Available', \n",
    "                  'Student_Count_Hawaiian_Pacific_Islander', 'Student_Count_Hispanic', \n",
    "                  'Student_Count_Low_Income', 'Student_Count_Multi', 'Student_Count_Native_American', \n",
    "                  'Student_Count_Other_Ethnicity', 'Student_Count_Special_Ed', 'Student_Count_White']\n",
    "for dem in demog_headings:\n",
    "    dem_per_heading = dem + '_perc'\n",
    "    df[dem_per_heading] = df[dem]/df['Student_Count_Total']\n",
    "    df.drop(columns = dem, inplace=True)"
   ]
  },
  {
   "cell_type": "code",
   "execution_count": 132,
   "metadata": {},
   "outputs": [
    {
     "data": {
      "text/html": [
       "<div>\n",
       "<style scoped>\n",
       "    .dataframe tbody tr th:only-of-type {\n",
       "        vertical-align: middle;\n",
       "    }\n",
       "\n",
       "    .dataframe tbody tr th {\n",
       "        vertical-align: top;\n",
       "    }\n",
       "\n",
       "    .dataframe thead th {\n",
       "        text-align: right;\n",
       "    }\n",
       "</style>\n",
       "<table border=\"1\" class=\"dataframe\">\n",
       "  <thead>\n",
       "    <tr style=\"text-align: right;\">\n",
       "      <th></th>\n",
       "      <th>Administrator</th>\n",
       "      <th>After_School_Hours</th>\n",
       "      <th>Attendance_Boundaries</th>\n",
       "      <th>Bilingual_Services</th>\n",
       "      <th>Classroom_Languages</th>\n",
       "      <th>Dress_Code</th>\n",
       "      <th>Grades_Offered_All</th>\n",
       "      <th>Graduation_Rate_School</th>\n",
       "      <th>Hard_Of_Hearing</th>\n",
       "      <th>Network</th>\n",
       "      <th>School_Hours</th>\n",
       "      <th>School_ID</th>\n",
       "      <th>School_Year</th>\n",
       "      <th>Student_Count_Total</th>\n",
       "      <th>Transportation_Bus</th>\n",
       "      <th>Transportation_El</th>\n",
       "      <th>Transportation_Metra</th>\n",
       "      <th>Zip_y</th>\n",
       "      <th>Zip_Mean_Income</th>\n",
       "      <th>ADA_Accessible_y</th>\n",
       "      <th>Student_Count_Asian_perc</th>\n",
       "      <th>Student_Count_Asian_Pacific_Islander_perc</th>\n",
       "      <th>Student_Count_Black_perc</th>\n",
       "      <th>Student_Count_English_Learners_perc</th>\n",
       "      <th>Student_Count_Ethnicity_Not_Available_perc</th>\n",
       "      <th>Student_Count_Hawaiian_Pacific_Islander_perc</th>\n",
       "      <th>Student_Count_Hispanic_perc</th>\n",
       "      <th>Student_Count_Low_Income_perc</th>\n",
       "      <th>Student_Count_Multi_perc</th>\n",
       "      <th>Student_Count_Native_American_perc</th>\n",
       "      <th>Student_Count_Other_Ethnicity_perc</th>\n",
       "      <th>Student_Count_Special_Ed_perc</th>\n",
       "      <th>Student_Count_White_perc</th>\n",
       "    </tr>\n",
       "  </thead>\n",
       "  <tbody>\n",
       "    <tr>\n",
       "      <th>0</th>\n",
       "      <td>Juan Carlos Ocon</td>\n",
       "      <td>2:40 to 8:00 P.M.</td>\n",
       "      <td>Y</td>\n",
       "      <td>Y</td>\n",
       "      <td>French, Spanish</td>\n",
       "      <td>N</td>\n",
       "      <td>9,10,11,12</td>\n",
       "      <td>80.9</td>\n",
       "      <td>NaN</td>\n",
       "      <td>NaN</td>\n",
       "      <td>7:45  AM - 2:35  PM</td>\n",
       "      <td>609764</td>\n",
       "      <td>School Year 2016-2017</td>\n",
       "      <td>1739</td>\n",
       "      <td>9, 21, 60</td>\n",
       "      <td>Blue, Pink, Red</td>\n",
       "      <td>NaN</td>\n",
       "      <td>60608.0</td>\n",
       "      <td>53,353</td>\n",
       "      <td>Generally accessible</td>\n",
       "      <td>0.003</td>\n",
       "      <td>0.0</td>\n",
       "      <td>0.033</td>\n",
       "      <td>0.190</td>\n",
       "      <td>0.006</td>\n",
       "      <td>0.0</td>\n",
       "      <td>0.945</td>\n",
       "      <td>0.954</td>\n",
       "      <td>0.002</td>\n",
       "      <td>0.003</td>\n",
       "      <td>0.0</td>\n",
       "      <td>0.162</td>\n",
       "      <td>0.007</td>\n",
       "    </tr>\n",
       "    <tr>\n",
       "      <th>1</th>\n",
       "      <td>Juan Carlos Ocon</td>\n",
       "      <td>2:40 to 8:00 P.M.</td>\n",
       "      <td>Y</td>\n",
       "      <td>Y</td>\n",
       "      <td>French, Spanish</td>\n",
       "      <td>N</td>\n",
       "      <td>9,10,11,12</td>\n",
       "      <td>78.6</td>\n",
       "      <td>NaN</td>\n",
       "      <td>ISP</td>\n",
       "      <td>7:45  AM - 2:35  PM</td>\n",
       "      <td>609764</td>\n",
       "      <td>School Year 2017-2018</td>\n",
       "      <td>1706</td>\n",
       "      <td>9, 21, 60</td>\n",
       "      <td>Blue, Pink, Red</td>\n",
       "      <td>NaN</td>\n",
       "      <td>60608.0</td>\n",
       "      <td>57,770</td>\n",
       "      <td>Generally accessible</td>\n",
       "      <td>0.006</td>\n",
       "      <td>0.0</td>\n",
       "      <td>0.031</td>\n",
       "      <td>0.201</td>\n",
       "      <td>0.008</td>\n",
       "      <td>0.0</td>\n",
       "      <td>0.943</td>\n",
       "      <td>0.626</td>\n",
       "      <td>0.004</td>\n",
       "      <td>0.004</td>\n",
       "      <td>0.0</td>\n",
       "      <td>0.162</td>\n",
       "      <td>0.006</td>\n",
       "    </tr>\n",
       "    <tr>\n",
       "      <th>2</th>\n",
       "      <td>Dr. Hillyn Senuholtz</td>\n",
       "      <td>3:45 PM - 5:30 PM</td>\n",
       "      <td>N</td>\n",
       "      <td>Y</td>\n",
       "      <td>Spanish</td>\n",
       "      <td>Y</td>\n",
       "      <td>9,10,11,12</td>\n",
       "      <td>82.8</td>\n",
       "      <td>NaN</td>\n",
       "      <td>NaN</td>\n",
       "      <td>7:45AM - 3:44PM</td>\n",
       "      <td>400104</td>\n",
       "      <td>School Year 2016-2017</td>\n",
       "      <td>742</td>\n",
       "      <td>49, 60</td>\n",
       "      <td>NaN</td>\n",
       "      <td>NaN</td>\n",
       "      <td>60608.0</td>\n",
       "      <td>53,353</td>\n",
       "      <td>No/unknown accessibility</td>\n",
       "      <td>0.000</td>\n",
       "      <td>0.0</td>\n",
       "      <td>0.032</td>\n",
       "      <td>0.228</td>\n",
       "      <td>0.000</td>\n",
       "      <td>0.0</td>\n",
       "      <td>0.962</td>\n",
       "      <td>0.970</td>\n",
       "      <td>0.000</td>\n",
       "      <td>0.001</td>\n",
       "      <td>0.0</td>\n",
       "      <td>0.197</td>\n",
       "      <td>0.004</td>\n",
       "    </tr>\n",
       "    <tr>\n",
       "      <th>3</th>\n",
       "      <td>Ms. Kimberly Burks</td>\n",
       "      <td>3:45 PM - 4:30 PM</td>\n",
       "      <td>N</td>\n",
       "      <td>Y</td>\n",
       "      <td>Spanish</td>\n",
       "      <td>Y</td>\n",
       "      <td>9,10,11,12</td>\n",
       "      <td>85.0</td>\n",
       "      <td>NaN</td>\n",
       "      <td>Charter</td>\n",
       "      <td>7:45AM - 3:44PM</td>\n",
       "      <td>400104</td>\n",
       "      <td>School Year 2017-2018</td>\n",
       "      <td>745</td>\n",
       "      <td>49, 60</td>\n",
       "      <td>Blue, Orange, Pink</td>\n",
       "      <td>BNSF Railway (BNSF)</td>\n",
       "      <td>60608.0</td>\n",
       "      <td>57,770</td>\n",
       "      <td>No/unknown accessibility</td>\n",
       "      <td>0.000</td>\n",
       "      <td>0.0</td>\n",
       "      <td>0.019</td>\n",
       "      <td>0.286</td>\n",
       "      <td>0.001</td>\n",
       "      <td>0.0</td>\n",
       "      <td>0.974</td>\n",
       "      <td>0.930</td>\n",
       "      <td>0.000</td>\n",
       "      <td>0.003</td>\n",
       "      <td>0.0</td>\n",
       "      <td>0.196</td>\n",
       "      <td>0.003</td>\n",
       "    </tr>\n",
       "    <tr>\n",
       "      <th>4</th>\n",
       "      <td>Sharnette Sims</td>\n",
       "      <td>NaN</td>\n",
       "      <td>N</td>\n",
       "      <td>NaN</td>\n",
       "      <td>NaN</td>\n",
       "      <td>N</td>\n",
       "      <td>9,10,11,12</td>\n",
       "      <td>1.7</td>\n",
       "      <td>NaN</td>\n",
       "      <td>NaN</td>\n",
       "      <td>7:00 am - 4:00 pm</td>\n",
       "      <td>609748</td>\n",
       "      <td>School Year 2016-2017</td>\n",
       "      <td>199</td>\n",
       "      <td>NaN</td>\n",
       "      <td>NaN</td>\n",
       "      <td>NaN</td>\n",
       "      <td>60608.0</td>\n",
       "      <td>53,353</td>\n",
       "      <td>No/unknown accessibility</td>\n",
       "      <td>0.000</td>\n",
       "      <td>0.0</td>\n",
       "      <td>0.774</td>\n",
       "      <td>0.010</td>\n",
       "      <td>0.000</td>\n",
       "      <td>0.0</td>\n",
       "      <td>0.181</td>\n",
       "      <td>0.874</td>\n",
       "      <td>0.000</td>\n",
       "      <td>0.015</td>\n",
       "      <td>0.0</td>\n",
       "      <td>0.291</td>\n",
       "      <td>0.030</td>\n",
       "    </tr>\n",
       "  </tbody>\n",
       "</table>\n",
       "</div>"
      ],
      "text/plain": [
       "          Administrator After_School_Hours Attendance_Boundaries  \\\n",
       "0      Juan Carlos Ocon  2:40 to 8:00 P.M.                     Y   \n",
       "1      Juan Carlos Ocon  2:40 to 8:00 P.M.                     Y   \n",
       "2  Dr. Hillyn Senuholtz  3:45 PM - 5:30 PM                     N   \n",
       "3    Ms. Kimberly Burks  3:45 PM - 4:30 PM                     N   \n",
       "4        Sharnette Sims                NaN                     N   \n",
       "\n",
       "  Bilingual_Services Classroom_Languages Dress_Code Grades_Offered_All  \\\n",
       "0                  Y     French, Spanish          N         9,10,11,12   \n",
       "1                  Y     French, Spanish          N         9,10,11,12   \n",
       "2                  Y             Spanish          Y         9,10,11,12   \n",
       "3                  Y             Spanish          Y         9,10,11,12   \n",
       "4                NaN                 NaN          N         9,10,11,12   \n",
       "\n",
       "   Graduation_Rate_School Hard_Of_Hearing  Network         School_Hours  \\\n",
       "0                    80.9             NaN      NaN  7:45  AM - 2:35  PM   \n",
       "1                    78.6             NaN      ISP  7:45  AM - 2:35  PM   \n",
       "2                    82.8             NaN      NaN      7:45AM - 3:44PM   \n",
       "3                    85.0             NaN  Charter      7:45AM - 3:44PM   \n",
       "4                     1.7             NaN      NaN    7:00 am - 4:00 pm   \n",
       "\n",
       "   School_ID            School_Year  Student_Count_Total Transportation_Bus  \\\n",
       "0     609764  School Year 2016-2017                 1739          9, 21, 60   \n",
       "1     609764  School Year 2017-2018                 1706          9, 21, 60   \n",
       "2     400104  School Year 2016-2017                  742             49, 60   \n",
       "3     400104  School Year 2017-2018                  745             49, 60   \n",
       "4     609748  School Year 2016-2017                  199                NaN   \n",
       "\n",
       "    Transportation_El Transportation_Metra    Zip_y Zip_Mean_Income  \\\n",
       "0     Blue, Pink, Red                  NaN  60608.0          53,353   \n",
       "1     Blue, Pink, Red                  NaN  60608.0          57,770   \n",
       "2                 NaN                  NaN  60608.0          53,353   \n",
       "3  Blue, Orange, Pink  BNSF Railway (BNSF)  60608.0          57,770   \n",
       "4                 NaN                  NaN  60608.0          53,353   \n",
       "\n",
       "           ADA_Accessible_y  Student_Count_Asian_perc  \\\n",
       "0      Generally accessible                     0.003   \n",
       "1      Generally accessible                     0.006   \n",
       "2  No/unknown accessibility                     0.000   \n",
       "3  No/unknown accessibility                     0.000   \n",
       "4  No/unknown accessibility                     0.000   \n",
       "\n",
       "   Student_Count_Asian_Pacific_Islander_perc  Student_Count_Black_perc  \\\n",
       "0                                        0.0                     0.033   \n",
       "1                                        0.0                     0.031   \n",
       "2                                        0.0                     0.032   \n",
       "3                                        0.0                     0.019   \n",
       "4                                        0.0                     0.774   \n",
       "\n",
       "   Student_Count_English_Learners_perc  \\\n",
       "0                                0.190   \n",
       "1                                0.201   \n",
       "2                                0.228   \n",
       "3                                0.286   \n",
       "4                                0.010   \n",
       "\n",
       "   Student_Count_Ethnicity_Not_Available_perc  \\\n",
       "0                                       0.006   \n",
       "1                                       0.008   \n",
       "2                                       0.000   \n",
       "3                                       0.001   \n",
       "4                                       0.000   \n",
       "\n",
       "   Student_Count_Hawaiian_Pacific_Islander_perc  Student_Count_Hispanic_perc  \\\n",
       "0                                           0.0                        0.945   \n",
       "1                                           0.0                        0.943   \n",
       "2                                           0.0                        0.962   \n",
       "3                                           0.0                        0.974   \n",
       "4                                           0.0                        0.181   \n",
       "\n",
       "   Student_Count_Low_Income_perc  Student_Count_Multi_perc  \\\n",
       "0                          0.954                     0.002   \n",
       "1                          0.626                     0.004   \n",
       "2                          0.970                     0.000   \n",
       "3                          0.930                     0.000   \n",
       "4                          0.874                     0.000   \n",
       "\n",
       "   Student_Count_Native_American_perc  Student_Count_Other_Ethnicity_perc  \\\n",
       "0                               0.003                                 0.0   \n",
       "1                               0.004                                 0.0   \n",
       "2                               0.001                                 0.0   \n",
       "3                               0.003                                 0.0   \n",
       "4                               0.015                                 0.0   \n",
       "\n",
       "   Student_Count_Special_Ed_perc  Student_Count_White_perc  \n",
       "0                          0.162                     0.007  \n",
       "1                          0.162                     0.006  \n",
       "2                          0.197                     0.004  \n",
       "3                          0.196                     0.003  \n",
       "4                          0.291                     0.030  "
      ]
     },
     "execution_count": 132,
     "metadata": {},
     "output_type": "execute_result"
    }
   ],
   "source": [
    "df.head(5)"
   ]
  },
  {
   "cell_type": "code",
   "execution_count": 134,
   "metadata": {},
   "outputs": [
    {
     "data": {
      "text/plain": [
       "Spanish                                                                                                        96\n",
       "French, Spanish                                                                                                39\n",
       "Spanish, Spanish for Heritage Speakers                                                                         25\n",
       "French, Spanish, Spanish for Heritage Speakers                                                                 11\n",
       "Chinese, French, Spanish                                                                                        6\n",
       "Chinese, Spanish                                                                                                4\n",
       "Chinese, French, Japanese, Latin, Spanish                                                                       4\n",
       "Mandarin, Spanish                                                                                               3\n",
       "American Sign Language                                                                                          2\n",
       "Chinese, French, Latin, Spanish                                                                                 2\n",
       "American Sign Language, French, Spanish, Spanish for Heritage Speakers                                          2\n",
       "Latin                                                                                                           2\n",
       "                                                                                                               ..\n",
       "Chinese, French, German, Japanese, Latin, Spanish                                                               2\n",
       "Spanish, Turkish                                                                                                2\n",
       "Arabic, French, Mandarin, Spanish, Spanish for Heritage Speakers                                                2\n",
       "French, Mandarin, Spanish, Spanish for Heritage Speakers                                                        2\n",
       "Arabic, Chinese, French, German, Italian, Japanese, Latin, Mandarin, Spanish, Spanish for Heritage Speakers     2\n",
       "American Sign Language, Chinese, French, Japanese, Latin, Mandarin, Spanish, Spanish for Heritage Speakers      2\n",
       "Arabic, Japanese, Spanish, Spanish for Heritage Speakers                                                        1\n",
       "French, Polish, Spanish, Spanish for Heritage Speakers                                                          1\n",
       "Arabic, French, Spanish, Spanish for Heritage Speakers                                                          1\n",
       "Arabic, French, Spanish                                                                                         1\n",
       "Polish, Spanish, Spanish for Heritage Speakers                                                                  1\n",
       "Japanese, Spanish, Spanish for Heritage Speakers                                                                1\n",
       "Name: Classroom_Languages, Length: 31, dtype: int64"
      ]
     },
     "execution_count": 134,
     "metadata": {},
     "output_type": "execute_result"
    }
   ],
   "source": [
    "df.Classroom_Languages.value_counts()"
   ]
  },
  {
   "cell_type": "code",
   "execution_count": null,
   "metadata": {},
   "outputs": [],
   "source": []
  }
 ],
 "metadata": {
  "kernelspec": {
   "display_name": "Python 3",
   "language": "python",
   "name": "python3"
  },
  "language_info": {
   "codemirror_mode": {
    "name": "ipython",
    "version": 3
   },
   "file_extension": ".py",
   "mimetype": "text/x-python",
   "name": "python",
   "nbconvert_exporter": "python",
   "pygments_lexer": "ipython3",
   "version": "3.6.6"
  },
  "toc": {
   "base_numbering": 1,
   "nav_menu": {},
   "number_sections": true,
   "sideBar": true,
   "skip_h1_title": false,
   "title_cell": "Table of Contents",
   "title_sidebar": "Contents",
   "toc_cell": false,
   "toc_position": {},
   "toc_section_display": true,
   "toc_window_display": true
  },
  "varInspector": {
   "cols": {
    "lenName": 16,
    "lenType": 16,
    "lenVar": 40
   },
   "kernels_config": {
    "python": {
     "delete_cmd_postfix": "",
     "delete_cmd_prefix": "del ",
     "library": "var_list.py",
     "varRefreshCmd": "print(var_dic_list())"
    },
    "r": {
     "delete_cmd_postfix": ") ",
     "delete_cmd_prefix": "rm(",
     "library": "var_list.r",
     "varRefreshCmd": "cat(var_dic_list()) "
    }
   },
   "types_to_exclude": [
    "module",
    "function",
    "builtin_function_or_method",
    "instance",
    "_Feature"
   ],
   "window_display": false
  }
 },
 "nbformat": 4,
 "nbformat_minor": 2
}
