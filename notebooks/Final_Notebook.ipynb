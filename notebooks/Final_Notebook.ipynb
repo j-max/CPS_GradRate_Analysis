{
 "cells": [
  {
   "cell_type": "code",
   "execution_count": 1,
   "metadata": {},
   "outputs": [],
   "source": [
    "# Report Notebook"
   ]
  },
  {
   "cell_type": "code",
   "execution_count": null,
   "metadata": {},
   "outputs": [],
   "source": []
  },
  {
   "cell_type": "code",
   "execution_count": null,
   "metadata": {},
   "outputs": [],
   "source": []
  },
  {
   "cell_type": "markdown",
   "metadata": {},
   "source": [
    "## Features That Did Not Affect Graduation Rate\n",
    "\n",
    "There were many features that were not used in the final model.  Of those that one may suspect would have an effect on graduation rates, the following were tested and found to have none. For each, I ran statistical tests, which can be found in `eda.ipynb`.  I also tried them out as features in different models. These iterations can be found in `no_options_modeling.ipynb`\n",
    "\n",
    "  1. Dress Code"
   ]
  },
  {
   "cell_type": "code",
   "execution_count": null,
   "metadata": {},
   "outputs": [],
   "source": []
  }
 ],
 "metadata": {
  "kernelspec": {
   "display_name": "cps_env",
   "language": "python",
   "name": "cps_env"
  },
  "language_info": {
   "codemirror_mode": {
    "name": "ipython",
    "version": 3
   },
   "file_extension": ".py",
   "mimetype": "text/x-python",
   "name": "python",
   "nbconvert_exporter": "python",
   "pygments_lexer": "ipython3",
   "version": "3.6.9"
  }
 },
 "nbformat": 4,
 "nbformat_minor": 4
}
