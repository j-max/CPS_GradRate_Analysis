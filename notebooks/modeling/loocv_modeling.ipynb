{
 "cells": [
  {
   "cell_type": "markdown",
   "metadata": {},
   "source": [
    "# LOOCV Modeling"
   ]
  },
  {
   "cell_type": "markdown",
   "metadata": {},
   "source": [
    "This notebook uses Leave One Out Cross Validation. The model is trained on all high schools but 1, which is then used to generate a test score.  "
   ]
  },
  {
   "cell_type": "code",
   "execution_count": 1,
   "metadata": {},
   "outputs": [
    {
     "name": "stdout",
     "output_type": "stream",
     "text": [
      "0 Student Count\n",
      "2 schools\n",
      "15     ENGLEWOOD STEM HS\n",
      "582       YCCS - VIRTUAL\n",
      "Name: Short_Name_sp, dtype: object\n",
      "All 0 Student Count Schools Dropped\n",
      "0 Graduation Rate\n",
      "2 schools\n",
      "261    PATHWAYS - AVONDALE HS\n",
      "343     NORTHSIDE LEARNING HS\n",
      "Name: Short_Name_sp, dtype: object\n",
      "##########\n",
      "NA Graduation Rates\n",
      "38 schools\n",
      "All 0/NA Graduation Rate Schools Dropped\n"
     ]
    }
   ],
   "source": [
    "import sys\n",
    "sys.path.append('../..')\n",
    "\n",
    "import pandas as pd\n",
    "import numpy as np\n",
    "import matplotlib.pyplot as plt\n",
    "\n",
    "from src.cleaning import prep_high_school_dataframe\n",
    "from src.cleaning import filter_cwoption_special_ed\n",
    "\n",
    "# models\n",
    "from sklearn.linear_model import LinearRegression\n",
    "from sklearn.dummy import DummyRegressor\n",
    "\n",
    "# Validation and metrics\n",
    "from src.cps_model import print_cv_results\n",
    "from sklearn.model_selection import LeaveOneOut, cross_validate, cross_val_predict\n",
    "\n",
    "\n",
    "\n",
    "%load_ext autoreload\n",
    "%autoreload 2\n",
    "\n",
    "sy_1819_hs = prep_high_school_dataframe('../../data/chicago_data_portal_csv_files/Chicago_Public_Schools_-_School_Profile_Information_SY1819.csv',\n",
    "                     '../../data/chicago_data_portal_csv_files/Chicago_Public_Schools_-_School_Progress_Reports_SY1819.csv',)\n",
    "\n",
    "sy_1819_hs = filter_cwoption_special_ed(sy_1819_hs)"
   ]
  },
  {
   "cell_type": "code",
   "execution_count": 2,
   "metadata": {},
   "outputs": [],
   "source": [
    "# Create a copy of the original df to use for EDA explanations\n",
    "df_for_correlations = sy_1819_hs.copy()\n",
    "\n",
    "# Separate target from features for modeling dataframes\n",
    "grad_rates = sy_1819_hs['Graduation_Rate_School']\n",
    "sy_1819_hs.drop('Graduation_Rate_School', axis=1, inplace=True)"
   ]
  },
  {
   "cell_type": "code",
   "execution_count": 3,
   "metadata": {},
   "outputs": [
    {
     "data": {
      "text/plain": [
       "(123, 288)"
      ]
     },
     "execution_count": 3,
     "metadata": {},
     "output_type": "execute_result"
    }
   ],
   "source": [
    "sy_1819_hs.shape"
   ]
  },
  {
   "cell_type": "code",
   "execution_count": 4,
   "metadata": {},
   "outputs": [
    {
     "data": {
      "text/html": [
       "<div>\n",
       "<style scoped>\n",
       "    .dataframe tbody tr th:only-of-type {\n",
       "        vertical-align: middle;\n",
       "    }\n",
       "\n",
       "    .dataframe tbody tr th {\n",
       "        vertical-align: top;\n",
       "    }\n",
       "\n",
       "    .dataframe thead th {\n",
       "        text-align: right;\n",
       "    }\n",
       "</style>\n",
       "<table border=\"1\" class=\"dataframe\">\n",
       "  <thead>\n",
       "    <tr style=\"text-align: right;\">\n",
       "      <th></th>\n",
       "      <th>School_ID</th>\n",
       "      <th>Legacy_Unit_ID</th>\n",
       "      <th>Finance_ID</th>\n",
       "      <th>Short_Name_sp</th>\n",
       "      <th>Long_Name_sp</th>\n",
       "      <th>Primary_Category_sp</th>\n",
       "      <th>Is_High_School</th>\n",
       "      <th>Is_Middle_School</th>\n",
       "      <th>Is_Elementary_School</th>\n",
       "      <th>Is_Pre_School</th>\n",
       "      <th>...</th>\n",
       "      <th>perc_Student_Count_Black</th>\n",
       "      <th>perc_Student_Count_Hispanic</th>\n",
       "      <th>perc_Student_Count_White</th>\n",
       "      <th>perc_Student_Count_Asian</th>\n",
       "      <th>perc_Student_Count_Native_American</th>\n",
       "      <th>perc_Student_Count_Other_Ethnicity</th>\n",
       "      <th>perc_Student_Count_Asian_Pacific_Islander</th>\n",
       "      <th>perc_Student_Count_Multi</th>\n",
       "      <th>perc_Student_Count_Hawaiian_Pacific_Islander</th>\n",
       "      <th>perc_Student_Count_Ethnicity_Not_Available</th>\n",
       "    </tr>\n",
       "  </thead>\n",
       "  <tbody>\n",
       "    <tr>\n",
       "      <td>9</td>\n",
       "      <td>609754</td>\n",
       "      <td>1800</td>\n",
       "      <td>70070</td>\n",
       "      <td>CHICAGO MILITARY HS</td>\n",
       "      <td>Chicago Military Academy High School</td>\n",
       "      <td>HS</td>\n",
       "      <td>True</td>\n",
       "      <td>False</td>\n",
       "      <td>False</td>\n",
       "      <td>False</td>\n",
       "      <td>...</td>\n",
       "      <td>0.637288</td>\n",
       "      <td>0.338983</td>\n",
       "      <td>0.013559</td>\n",
       "      <td>0.000000</td>\n",
       "      <td>0.000000</td>\n",
       "      <td>0.0</td>\n",
       "      <td>0.0</td>\n",
       "      <td>0.010169</td>\n",
       "      <td>0.000000</td>\n",
       "      <td>0.000000</td>\n",
       "    </tr>\n",
       "    <tr>\n",
       "      <td>13</td>\n",
       "      <td>400051</td>\n",
       "      <td>1930</td>\n",
       "      <td>66141</td>\n",
       "      <td>NOBLE - NOBLE HS</td>\n",
       "      <td>Noble - Noble College Prep</td>\n",
       "      <td>HS</td>\n",
       "      <td>True</td>\n",
       "      <td>False</td>\n",
       "      <td>False</td>\n",
       "      <td>False</td>\n",
       "      <td>...</td>\n",
       "      <td>0.112121</td>\n",
       "      <td>0.856061</td>\n",
       "      <td>0.012121</td>\n",
       "      <td>0.007576</td>\n",
       "      <td>0.006061</td>\n",
       "      <td>0.0</td>\n",
       "      <td>0.0</td>\n",
       "      <td>0.004545</td>\n",
       "      <td>0.000000</td>\n",
       "      <td>0.001515</td>\n",
       "    </tr>\n",
       "    <tr>\n",
       "      <td>14</td>\n",
       "      <td>609678</td>\n",
       "      <td>1060</td>\n",
       "      <td>47021</td>\n",
       "      <td>JONES HS</td>\n",
       "      <td>William Jones College Preparatory High School</td>\n",
       "      <td>HS</td>\n",
       "      <td>True</td>\n",
       "      <td>False</td>\n",
       "      <td>False</td>\n",
       "      <td>False</td>\n",
       "      <td>...</td>\n",
       "      <td>0.119372</td>\n",
       "      <td>0.295288</td>\n",
       "      <td>0.391623</td>\n",
       "      <td>0.142932</td>\n",
       "      <td>0.003141</td>\n",
       "      <td>0.0</td>\n",
       "      <td>0.0</td>\n",
       "      <td>0.041885</td>\n",
       "      <td>0.005759</td>\n",
       "      <td>0.000000</td>\n",
       "    </tr>\n",
       "    <tr>\n",
       "      <td>18</td>\n",
       "      <td>400085</td>\n",
       "      <td>3343</td>\n",
       "      <td>66394</td>\n",
       "      <td>ACERO - GARCIA HS</td>\n",
       "      <td>Acero Charter Schools - Major Hector P. Garcia MD</td>\n",
       "      <td>HS</td>\n",
       "      <td>True</td>\n",
       "      <td>False</td>\n",
       "      <td>False</td>\n",
       "      <td>False</td>\n",
       "      <td>...</td>\n",
       "      <td>0.009677</td>\n",
       "      <td>0.966129</td>\n",
       "      <td>0.017742</td>\n",
       "      <td>0.003226</td>\n",
       "      <td>0.003226</td>\n",
       "      <td>0.0</td>\n",
       "      <td>0.0</td>\n",
       "      <td>0.000000</td>\n",
       "      <td>0.000000</td>\n",
       "      <td>0.000000</td>\n",
       "    </tr>\n",
       "    <tr>\n",
       "      <td>20</td>\n",
       "      <td>400117</td>\n",
       "      <td>9034</td>\n",
       "      <td>66574</td>\n",
       "      <td>NOBLE - HANSBERRY HS</td>\n",
       "      <td>Noble - Hansberry College Prep</td>\n",
       "      <td>HS</td>\n",
       "      <td>True</td>\n",
       "      <td>False</td>\n",
       "      <td>False</td>\n",
       "      <td>False</td>\n",
       "      <td>...</td>\n",
       "      <td>0.989228</td>\n",
       "      <td>0.008977</td>\n",
       "      <td>0.000000</td>\n",
       "      <td>0.000000</td>\n",
       "      <td>0.000000</td>\n",
       "      <td>0.0</td>\n",
       "      <td>0.0</td>\n",
       "      <td>0.000000</td>\n",
       "      <td>0.001795</td>\n",
       "      <td>0.000000</td>\n",
       "    </tr>\n",
       "  </tbody>\n",
       "</table>\n",
       "<p>5 rows × 288 columns</p>\n",
       "</div>"
      ],
      "text/plain": [
       "    School_ID  Legacy_Unit_ID  Finance_ID         Short_Name_sp  \\\n",
       "9      609754            1800       70070   CHICAGO MILITARY HS   \n",
       "13     400051            1930       66141      NOBLE - NOBLE HS   \n",
       "14     609678            1060       47021              JONES HS   \n",
       "18     400085            3343       66394     ACERO - GARCIA HS   \n",
       "20     400117            9034       66574  NOBLE - HANSBERRY HS   \n",
       "\n",
       "                                         Long_Name_sp Primary_Category_sp  \\\n",
       "9                Chicago Military Academy High School                  HS   \n",
       "13                         Noble - Noble College Prep                  HS   \n",
       "14      William Jones College Preparatory High School                  HS   \n",
       "18  Acero Charter Schools - Major Hector P. Garcia MD                  HS   \n",
       "20                     Noble - Hansberry College Prep                  HS   \n",
       "\n",
       "    Is_High_School  Is_Middle_School  Is_Elementary_School  Is_Pre_School  \\\n",
       "9             True             False                 False          False   \n",
       "13            True             False                 False          False   \n",
       "14            True             False                 False          False   \n",
       "18            True             False                 False          False   \n",
       "20            True             False                 False          False   \n",
       "\n",
       "    ... perc_Student_Count_Black perc_Student_Count_Hispanic  \\\n",
       "9   ...                 0.637288                    0.338983   \n",
       "13  ...                 0.112121                    0.856061   \n",
       "14  ...                 0.119372                    0.295288   \n",
       "18  ...                 0.009677                    0.966129   \n",
       "20  ...                 0.989228                    0.008977   \n",
       "\n",
       "   perc_Student_Count_White perc_Student_Count_Asian  \\\n",
       "9                  0.013559                 0.000000   \n",
       "13                 0.012121                 0.007576   \n",
       "14                 0.391623                 0.142932   \n",
       "18                 0.017742                 0.003226   \n",
       "20                 0.000000                 0.000000   \n",
       "\n",
       "   perc_Student_Count_Native_American perc_Student_Count_Other_Ethnicity  \\\n",
       "9                            0.000000                                0.0   \n",
       "13                           0.006061                                0.0   \n",
       "14                           0.003141                                0.0   \n",
       "18                           0.003226                                0.0   \n",
       "20                           0.000000                                0.0   \n",
       "\n",
       "   perc_Student_Count_Asian_Pacific_Islander perc_Student_Count_Multi  \\\n",
       "9                                        0.0                 0.010169   \n",
       "13                                       0.0                 0.004545   \n",
       "14                                       0.0                 0.041885   \n",
       "18                                       0.0                 0.000000   \n",
       "20                                       0.0                 0.000000   \n",
       "\n",
       "    perc_Student_Count_Hawaiian_Pacific_Islander  \\\n",
       "9                                       0.000000   \n",
       "13                                      0.000000   \n",
       "14                                      0.005759   \n",
       "18                                      0.000000   \n",
       "20                                      0.001795   \n",
       "\n",
       "    perc_Student_Count_Ethnicity_Not_Available  \n",
       "9                                     0.000000  \n",
       "13                                    0.001515  \n",
       "14                                    0.000000  \n",
       "18                                    0.000000  \n",
       "20                                    0.000000  \n",
       "\n",
       "[5 rows x 288 columns]"
      ]
     },
     "execution_count": 4,
     "metadata": {},
     "output_type": "execute_result"
    }
   ],
   "source": [
    "sy_1819_hs.head()"
   ]
  },
  {
   "cell_type": "markdown",
   "metadata": {},
   "source": [
    "## Dummy Regressor (FSM)\n",
    "\n",
    "I use a Dummy Regressor for a first simple model.  It simply predicts the mean of the graduation rate of the schools in the training set.  \n",
    "\n",
    "As shown below, on average, the dummy model misses by 12.84 graduation rate percentage points.  This will be the baseline which I will work up from. \n"
   ]
  },
  {
   "cell_type": "code",
   "execution_count": 5,
   "metadata": {},
   "outputs": [],
   "source": [
    "# dictionary to track RMSE's of various models\n",
    "model_rmse = {}"
   ]
  },
  {
   "cell_type": "code",
   "execution_count": 45,
   "metadata": {},
   "outputs": [],
   "source": [
    "def loocv_model_evaluator(estimator, \n",
    "                         X=sy_1819_hs, y=grad_rates, \n",
    "                         features=None, \n",
    "                         return_resids=False):\n",
    "    \n",
    "    '''\n",
    "    Peform Leave One Out Cross validation on a regression model. \n",
    "    Create residual array using cross_val_predict\n",
    "    \n",
    "    Parameters:\n",
    "    estimator: regression algorithm\n",
    "    X: independent features\n",
    "    y: graduation rate target\n",
    "    features:  A list of column names to subset X\n",
    "    return_resids: boolean to return residuals for inspecting\n",
    "    \n",
    "    Returns:\n",
    "    Mean of test set RMSE.\n",
    "    Plus residual array if return_resids = True\n",
    "    '''\n",
    "    \n",
    "    # Subset the independent variables if a feature list is passed\n",
    "    if features:\n",
    "        X = X[features]\n",
    "\n",
    "    cv = cross_validate(estimator, X, y,\n",
    "                        cv=LeaveOneOut(), scoring=['neg_mean_squared_error'], \n",
    "                       return_train_score=True)\n",
    "    \n",
    "    # Store predictions of the test set to inspect prediction error\n",
    "    y_hat_test = cross_val_predict(estimator, X, y,\n",
    "                        cv=LeaveOneOut())\n",
    "\n",
    "    resids = y_hat_test - grad_rates\n",
    "    \n",
    "    # Returning resids if you want to inspect the residual pattern\n",
    "    train_rmse = np.sqrt(-cv[ 'train_neg_mean_squared_error']).mean()\n",
    "    test_rmse = np.sqrt(-cv['test_neg_mean_squared_error'].mean())\n",
    "    \n",
    "    if return_resids:    \n",
    "        return train_rmse, test_rmse, resids\n",
    "    else:\n",
    "        return train_rmse, test_rmse\n"
   ]
  },
  {
   "cell_type": "code",
   "execution_count": 40,
   "metadata": {},
   "outputs": [
    {
     "name": "stdout",
     "output_type": "stream",
     "text": [
      "Mean Squared Error - Test Set LOOCV:\n",
      "{'train': 12.733353663169186, 'test': 12.838397868216594}\n"
     ]
    }
   ],
   "source": [
    "train, test = loocv_model_evaluator(DummyRegressor())\n",
    "test_rmse['dummy'] = {'train': train, 'test':test}\n",
    "\n",
    "print(f'''Mean Squared Error - Test Set LOOCV:\n",
    "{test_rmse['dummy']}''')"
   ]
  },
  {
   "cell_type": "markdown",
   "metadata": {},
   "source": [
    "## Student Count Total"
   ]
  },
  {
   "cell_type": "markdown",
   "metadata": {},
   "source": [
    "I will use Student_Count_Total for the first model that includes predictive features.  I use this because Student_Count_Total has a high correlation to graduation rate."
   ]
  },
  {
   "cell_type": "code",
   "execution_count": 42,
   "metadata": {},
   "outputs": [
    {
     "name": "stdout",
     "output_type": "stream",
     "text": [
      "High correlation between total students and graduation rate:\n"
     ]
    },
    {
     "data": {
      "text/plain": [
       "Student_Count_Total       1.000000\n",
       "Graduation_Rate_School    0.447154\n",
       "Name: Student_Count_Total, dtype: float64"
      ]
     },
     "execution_count": 42,
     "metadata": {},
     "output_type": "execute_result"
    }
   ],
   "source": [
    "print(\"High correlation between total students and graduation rate:\")\n",
    "df_for_correlations[['Student_Count_Total', 'Graduation_Rate_School']].corr().iloc[0,:]"
   ]
  },
  {
   "cell_type": "code",
   "execution_count": 43,
   "metadata": {},
   "outputs": [
    {
     "name": "stdout",
     "output_type": "stream",
     "text": [
      "Mean Squared Error - Test Set LOOCV:\n",
      "{'train': 11.388919305634172, 'test': 11.627259011576475}\n"
     ]
    }
   ],
   "source": [
    "train, test =  loocv_model_function(LinearRegression(), \n",
    "                                    features=['Student_Count_Total'])\n",
    "\n",
    "test_rmse['lr_simple_sct'] = {'train': train, 'test':test}\n",
    "\n",
    "print(f'''Mean Squared Error - Test Set LOOCV:\n",
    "{test_rmse['lr_simple_sct']}''')"
   ]
  },
  {
   "cell_type": "markdown",
   "metadata": {},
   "source": [
    "Using a simple linear regression with 1 relatively highly correlated feature increases the RMSE by 1.21 points."
   ]
  },
  {
   "cell_type": "code",
   "execution_count": 44,
   "metadata": {},
   "outputs": [
    {
     "data": {
      "text/plain": [
       "1.2111388566401189"
      ]
     },
     "execution_count": 44,
     "metadata": {},
     "output_type": "execute_result"
    }
   ],
   "source": [
    "test_rmse['dummy']['test'] -  test_rmse['lr_simple_sct']['test']"
   ]
  },
  {
   "cell_type": "code",
   "execution_count": null,
   "metadata": {},
   "outputs": [],
   "source": []
  }
 ],
 "metadata": {
  "kernelspec": {
   "display_name": "learn-env",
   "language": "python",
   "name": "learn-env"
  },
  "language_info": {
   "codemirror_mode": {
    "name": "ipython",
    "version": 3
   },
   "file_extension": ".py",
   "mimetype": "text/x-python",
   "name": "python",
   "nbconvert_exporter": "python",
   "pygments_lexer": "ipython3",
   "version": "3.6.9"
  }
 },
 "nbformat": 4,
 "nbformat_minor": 4
}
