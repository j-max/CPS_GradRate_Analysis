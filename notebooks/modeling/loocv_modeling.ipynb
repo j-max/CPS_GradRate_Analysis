{
 "cells": [
  {
   "cell_type": "markdown",
   "metadata": {},
   "source": [
    "# LOOCV Modeling"
   ]
  },
  {
   "cell_type": "markdown",
   "metadata": {},
   "source": [
    "This notebook uses Leave One Out Cross Validation. The model is trained on all high schools but 1, which is then used to generate a test score.  "
   ]
  },
  {
   "cell_type": "code",
   "execution_count": 33,
   "metadata": {},
   "outputs": [
    {
     "name": "stdout",
     "output_type": "stream",
     "text": [
      "The autoreload extension is already loaded. To reload it, use:\n",
      "  %reload_ext autoreload\n"
     ]
    }
   ],
   "source": [
    "import sys\n",
    "sys.path.append('../..')\n",
    "\n",
    "import pandas as pd\n",
    "import numpy as np\n",
    "import matplotlib.pyplot as plt\n",
    "\n",
    "from src.cleaning import prep_high_school_dataframe\n",
    "from src.cleaning import filter_cwoption_special_ed\n",
    "from src.cleaning import isolate_important_columns\n",
    "\n",
    "# Preprocessing\n",
    "from sklearn.preprocessing import OneHotEncoder\n",
    "from sklearn.impute import SimpleImputer\n",
    "\n",
    "# Pipelines\n",
    "from sklearn.pipeline import make_pipeline\n",
    "from sklearn.compose import make_column_transformer\n",
    "\n",
    "# models\n",
    "from sklearn.linear_model import LinearRegression\n",
    "from sklearn.dummy import DummyRegressor\n",
    "\n",
    "# Validation and metrics\n",
    "from src.cps_model import print_cv_results\n",
    "from sklearn.model_selection import LeaveOneOut, cross_validate, cross_val_predict\n",
    "\n",
    "%load_ext autoreload\n",
    "%autoreload 2"
   ]
  },
  {
   "cell_type": "code",
   "execution_count": 34,
   "metadata": {},
   "outputs": [
    {
     "name": "stdout",
     "output_type": "stream",
     "text": [
      "0 Student Count\n",
      "2 schools\n",
      "15     ENGLEWOOD STEM HS\n",
      "582       YCCS - VIRTUAL\n",
      "Name: Short_Name_sp, dtype: object\n",
      "All 0 Student Count Schools Dropped\n",
      "0 Graduation Rate\n",
      "2 schools\n",
      "261    PATHWAYS - AVONDALE HS\n",
      "343     NORTHSIDE LEARNING HS\n",
      "Name: Short_Name_sp, dtype: object\n",
      "##########\n",
      "NA Graduation Rates\n",
      "38 schools\n",
      "All 0/NA Graduation Rate Schools Dropped\n"
     ]
    }
   ],
   "source": [
    "path_to_sp = '../../data/chicago_data_portal_csv_files/Chicago_Public_Schools_-_School_Profile_Information_SY1819.csv'\n",
    "path_to_pr = '../../data/chicago_data_portal_csv_files/Chicago_Public_Schools_-_School_Progress_Reports_SY1819.csv'\n",
    "path_to_prior_sp = '../../data/chicago_data_portal_csv_files/Chicago_Public_Schools_-_School_Profile_Information_SY1718.csv'\n",
    "path_to_prior_pr = '../../data/chicago_data_portal_csv_files/Chicago_Public_Schools_-_School_Progress_Reports_SY1718.csv'\n",
    "\n",
    "sy_1819_hs = prep_high_school_dataframe(path_to_sp, \n",
    "                                        path_to_pr, \n",
    "                                        path_to_prior_sp,\n",
    "                                        path_to_prior_pr)\n",
    "                   \n",
    "\n",
    "sy_1819_hs = filter_cwoption_special_ed(sy_1819_hs)"
   ]
  },
  {
   "cell_type": "code",
   "execution_count": 35,
   "metadata": {},
   "outputs": [],
   "source": [
    "# Create a copy of the original df to use for EDA explanations\n",
    "df_for_correlations = sy_1819_hs.copy()\n",
    "\n",
    "# Separate target from features for modeling dataframes\n",
    "grad_rates = sy_1819_hs['Graduation_Rate_School']\n",
    "sy_1819_hs.drop('Graduation_Rate_School', axis=1, inplace=True)"
   ]
  },
  {
   "cell_type": "code",
   "execution_count": 36,
   "metadata": {},
   "outputs": [
    {
     "data": {
      "text/html": [
       "<div>\n",
       "<style scoped>\n",
       "    .dataframe tbody tr th:only-of-type {\n",
       "        vertical-align: middle;\n",
       "    }\n",
       "\n",
       "    .dataframe tbody tr th {\n",
       "        vertical-align: top;\n",
       "    }\n",
       "\n",
       "    .dataframe thead th {\n",
       "        text-align: right;\n",
       "    }\n",
       "</style>\n",
       "<table border=\"1\" class=\"dataframe\">\n",
       "  <thead>\n",
       "    <tr style=\"text-align: right;\">\n",
       "      <th></th>\n",
       "      <th>School_ID</th>\n",
       "      <th>Legacy_Unit_ID</th>\n",
       "      <th>Finance_ID</th>\n",
       "      <th>Short_Name_sp</th>\n",
       "      <th>Long_Name_sp</th>\n",
       "      <th>Primary_Category_sp</th>\n",
       "      <th>Is_High_School</th>\n",
       "      <th>Is_Middle_School</th>\n",
       "      <th>Is_Elementary_School</th>\n",
       "      <th>Is_Pre_School</th>\n",
       "      <th>...</th>\n",
       "      <th>perc_Student_Count_White</th>\n",
       "      <th>perc_Student_Count_Asian</th>\n",
       "      <th>perc_Student_Count_Native_American</th>\n",
       "      <th>perc_Student_Count_Other_Ethnicity</th>\n",
       "      <th>perc_Student_Count_Asian_Pacific_Islander</th>\n",
       "      <th>perc_Student_Count_Multi</th>\n",
       "      <th>perc_Student_Count_Hawaiian_Pacific_Islander</th>\n",
       "      <th>perc_Student_Count_Ethnicity_Not_Available</th>\n",
       "      <th>Student_Count_Total_1718</th>\n",
       "      <th>student_count_total_change_1_year</th>\n",
       "    </tr>\n",
       "  </thead>\n",
       "  <tbody>\n",
       "    <tr>\n",
       "      <td>1</td>\n",
       "      <td>609754</td>\n",
       "      <td>1800</td>\n",
       "      <td>70070</td>\n",
       "      <td>CHICAGO MILITARY HS</td>\n",
       "      <td>Chicago Military Academy High School</td>\n",
       "      <td>HS</td>\n",
       "      <td>True</td>\n",
       "      <td>False</td>\n",
       "      <td>False</td>\n",
       "      <td>False</td>\n",
       "      <td>...</td>\n",
       "      <td>0.013559</td>\n",
       "      <td>0.000000</td>\n",
       "      <td>0.000000</td>\n",
       "      <td>0.0</td>\n",
       "      <td>0.0</td>\n",
       "      <td>0.010169</td>\n",
       "      <td>0.000000</td>\n",
       "      <td>0.000000</td>\n",
       "      <td>298</td>\n",
       "      <td>-3</td>\n",
       "    </tr>\n",
       "    <tr>\n",
       "      <td>2</td>\n",
       "      <td>400051</td>\n",
       "      <td>1930</td>\n",
       "      <td>66141</td>\n",
       "      <td>NOBLE - NOBLE HS</td>\n",
       "      <td>Noble - Noble College Prep</td>\n",
       "      <td>HS</td>\n",
       "      <td>True</td>\n",
       "      <td>False</td>\n",
       "      <td>False</td>\n",
       "      <td>False</td>\n",
       "      <td>...</td>\n",
       "      <td>0.012121</td>\n",
       "      <td>0.007576</td>\n",
       "      <td>0.006061</td>\n",
       "      <td>0.0</td>\n",
       "      <td>0.0</td>\n",
       "      <td>0.004545</td>\n",
       "      <td>0.000000</td>\n",
       "      <td>0.001515</td>\n",
       "      <td>668</td>\n",
       "      <td>-8</td>\n",
       "    </tr>\n",
       "    <tr>\n",
       "      <td>3</td>\n",
       "      <td>609678</td>\n",
       "      <td>1060</td>\n",
       "      <td>47021</td>\n",
       "      <td>JONES HS</td>\n",
       "      <td>William Jones College Preparatory High School</td>\n",
       "      <td>HS</td>\n",
       "      <td>True</td>\n",
       "      <td>False</td>\n",
       "      <td>False</td>\n",
       "      <td>False</td>\n",
       "      <td>...</td>\n",
       "      <td>0.391623</td>\n",
       "      <td>0.142932</td>\n",
       "      <td>0.003141</td>\n",
       "      <td>0.0</td>\n",
       "      <td>0.0</td>\n",
       "      <td>0.041885</td>\n",
       "      <td>0.005759</td>\n",
       "      <td>0.000000</td>\n",
       "      <td>1918</td>\n",
       "      <td>-8</td>\n",
       "    </tr>\n",
       "    <tr>\n",
       "      <td>4</td>\n",
       "      <td>400085</td>\n",
       "      <td>3343</td>\n",
       "      <td>66394</td>\n",
       "      <td>ACERO - GARCIA HS</td>\n",
       "      <td>Acero Charter Schools - Major Hector P. Garcia MD</td>\n",
       "      <td>HS</td>\n",
       "      <td>True</td>\n",
       "      <td>False</td>\n",
       "      <td>False</td>\n",
       "      <td>False</td>\n",
       "      <td>...</td>\n",
       "      <td>0.017742</td>\n",
       "      <td>0.003226</td>\n",
       "      <td>0.003226</td>\n",
       "      <td>0.0</td>\n",
       "      <td>0.0</td>\n",
       "      <td>0.000000</td>\n",
       "      <td>0.000000</td>\n",
       "      <td>0.000000</td>\n",
       "      <td>625</td>\n",
       "      <td>-5</td>\n",
       "    </tr>\n",
       "    <tr>\n",
       "      <td>5</td>\n",
       "      <td>400117</td>\n",
       "      <td>9034</td>\n",
       "      <td>66574</td>\n",
       "      <td>NOBLE - HANSBERRY HS</td>\n",
       "      <td>Noble - Hansberry College Prep</td>\n",
       "      <td>HS</td>\n",
       "      <td>True</td>\n",
       "      <td>False</td>\n",
       "      <td>False</td>\n",
       "      <td>False</td>\n",
       "      <td>...</td>\n",
       "      <td>0.000000</td>\n",
       "      <td>0.000000</td>\n",
       "      <td>0.000000</td>\n",
       "      <td>0.0</td>\n",
       "      <td>0.0</td>\n",
       "      <td>0.000000</td>\n",
       "      <td>0.001795</td>\n",
       "      <td>0.000000</td>\n",
       "      <td>563</td>\n",
       "      <td>-6</td>\n",
       "    </tr>\n",
       "  </tbody>\n",
       "</table>\n",
       "<p>5 rows × 290 columns</p>\n",
       "</div>"
      ],
      "text/plain": [
       "   School_ID  Legacy_Unit_ID  Finance_ID         Short_Name_sp  \\\n",
       "1     609754            1800       70070   CHICAGO MILITARY HS   \n",
       "2     400051            1930       66141      NOBLE - NOBLE HS   \n",
       "3     609678            1060       47021              JONES HS   \n",
       "4     400085            3343       66394     ACERO - GARCIA HS   \n",
       "5     400117            9034       66574  NOBLE - HANSBERRY HS   \n",
       "\n",
       "                                        Long_Name_sp Primary_Category_sp  \\\n",
       "1               Chicago Military Academy High School                  HS   \n",
       "2                         Noble - Noble College Prep                  HS   \n",
       "3      William Jones College Preparatory High School                  HS   \n",
       "4  Acero Charter Schools - Major Hector P. Garcia MD                  HS   \n",
       "5                     Noble - Hansberry College Prep                  HS   \n",
       "\n",
       "   Is_High_School  Is_Middle_School  Is_Elementary_School  Is_Pre_School  ...  \\\n",
       "1            True             False                 False          False  ...   \n",
       "2            True             False                 False          False  ...   \n",
       "3            True             False                 False          False  ...   \n",
       "4            True             False                 False          False  ...   \n",
       "5            True             False                 False          False  ...   \n",
       "\n",
       "  perc_Student_Count_White perc_Student_Count_Asian  \\\n",
       "1                 0.013559                 0.000000   \n",
       "2                 0.012121                 0.007576   \n",
       "3                 0.391623                 0.142932   \n",
       "4                 0.017742                 0.003226   \n",
       "5                 0.000000                 0.000000   \n",
       "\n",
       "  perc_Student_Count_Native_American perc_Student_Count_Other_Ethnicity  \\\n",
       "1                           0.000000                                0.0   \n",
       "2                           0.006061                                0.0   \n",
       "3                           0.003141                                0.0   \n",
       "4                           0.003226                                0.0   \n",
       "5                           0.000000                                0.0   \n",
       "\n",
       "  perc_Student_Count_Asian_Pacific_Islander perc_Student_Count_Multi  \\\n",
       "1                                       0.0                 0.010169   \n",
       "2                                       0.0                 0.004545   \n",
       "3                                       0.0                 0.041885   \n",
       "4                                       0.0                 0.000000   \n",
       "5                                       0.0                 0.000000   \n",
       "\n",
       "  perc_Student_Count_Hawaiian_Pacific_Islander  \\\n",
       "1                                     0.000000   \n",
       "2                                     0.000000   \n",
       "3                                     0.005759   \n",
       "4                                     0.000000   \n",
       "5                                     0.001795   \n",
       "\n",
       "  perc_Student_Count_Ethnicity_Not_Available  Student_Count_Total_1718  \\\n",
       "1                                   0.000000                       298   \n",
       "2                                   0.001515                       668   \n",
       "3                                   0.000000                      1918   \n",
       "4                                   0.000000                       625   \n",
       "5                                   0.000000                       563   \n",
       "\n",
       "   student_count_total_change_1_year  \n",
       "1                                 -3  \n",
       "2                                 -8  \n",
       "3                                 -8  \n",
       "4                                 -5  \n",
       "5                                 -6  \n",
       "\n",
       "[5 rows x 290 columns]"
      ]
     },
     "execution_count": 36,
     "metadata": {},
     "output_type": "execute_result"
    }
   ],
   "source": [
    "sy_1819_hs.head()"
   ]
  },
  {
   "cell_type": "markdown",
   "metadata": {},
   "source": [
    "## Dummy Regressor (FSM)\n",
    "\n",
    "I use a Dummy Regressor for a first simple model.  It simply predicts the mean of the graduation rate of the schools in the training set.  \n",
    "\n",
    "As shown below, on average, the dummy model misses by 12.84 graduation rate percentage points.  This will be the baseline which I will work up from. \n"
   ]
  },
  {
   "cell_type": "code",
   "execution_count": 37,
   "metadata": {},
   "outputs": [],
   "source": [
    "# dictionary to track RMSE's of various models\n",
    "rmse = {}\n"
   ]
  },
  {
   "cell_type": "code",
   "execution_count": 38,
   "metadata": {},
   "outputs": [],
   "source": [
    "def loocv_model_evaluator(estimator, \n",
    "                         X=sy_1819_hs, y=grad_rates, \n",
    "                         features=None, \n",
    "                         return_resids=False):\n",
    "    \n",
    "    '''\n",
    "    Peform Leave One Out Cross validation on a regression model. \n",
    "    Create residual array using cross_val_predict\n",
    "    \n",
    "    Parameters:\n",
    "    estimator: regression algorithm\n",
    "    X: independent features\n",
    "    y: graduation rate target\n",
    "    features:  A list of column names to subset X\n",
    "    return_resids: boolean to return residuals for inspecting\n",
    "    \n",
    "    Returns:\n",
    "    Mean of test set RMSE.\n",
    "    Plus residual array if return_resids = True\n",
    "    '''\n",
    "    \n",
    "    # Subset the independent variables if a feature list is passed\n",
    "    if features:\n",
    "        X = X[features]\n",
    "\n",
    "    cv = cross_validate(estimator, X, y,\n",
    "                        cv=LeaveOneOut(), scoring=['neg_mean_squared_error'], \n",
    "                       return_train_score=True)\n",
    "    \n",
    "    # Store predictions of the test set to inspect prediction error\n",
    "    y_hat_test = cross_val_predict(estimator, X, y,\n",
    "                        cv=LeaveOneOut())\n",
    "\n",
    "    resids = y_hat_test - grad_rates\n",
    "    \n",
    "    # Returning resids if you want to inspect the residual pattern\n",
    "    train_rmse = np.sqrt(-cv[ 'train_neg_mean_squared_error']).mean()\n",
    "    test_rmse = np.sqrt(-cv['test_neg_mean_squared_error'].mean())\n",
    "    \n",
    "    if return_resids:    \n",
    "        return train_rmse, test_rmse, resids\n",
    "    else:\n",
    "        return train_rmse, test_rmse\n"
   ]
  },
  {
   "cell_type": "code",
   "execution_count": 39,
   "metadata": {},
   "outputs": [
    {
     "name": "stdout",
     "output_type": "stream",
     "text": [
      "Mean Squared Error - Test Set LOOCV:\n",
      "{'train': 12.733353663169186, 'test': 12.838397868216594}\n"
     ]
    }
   ],
   "source": [
    "train, test = loocv_model_evaluator(DummyRegressor())\n",
    "rmse['dummy'] = {'train': train, 'test':test}\n",
    "\n",
    "print(f'''Mean Squared Error - Test Set LOOCV:\n",
    "{rmse['dummy']}''')"
   ]
  },
  {
   "cell_type": "markdown",
   "metadata": {},
   "source": [
    "## Student Count Total"
   ]
  },
  {
   "cell_type": "markdown",
   "metadata": {},
   "source": [
    "I will use Student_Count_Total for the first model that includes predictive features.  I use this because Student_Count_Total has a high correlation to graduation rate."
   ]
  },
  {
   "cell_type": "code",
   "execution_count": 40,
   "metadata": {},
   "outputs": [
    {
     "name": "stdout",
     "output_type": "stream",
     "text": [
      "High correlation between total students and graduation rate:\n"
     ]
    },
    {
     "data": {
      "text/plain": [
       "Student_Count_Total       1.000000\n",
       "Graduation_Rate_School    0.447154\n",
       "Name: Student_Count_Total, dtype: float64"
      ]
     },
     "execution_count": 40,
     "metadata": {},
     "output_type": "execute_result"
    }
   ],
   "source": [
    "print(\"High correlation between total students and graduation rate:\")\n",
    "df_for_correlations[['Student_Count_Total', 'Graduation_Rate_School']].corr().iloc[0,:]"
   ]
  },
  {
   "cell_type": "code",
   "execution_count": 41,
   "metadata": {},
   "outputs": [
    {
     "name": "stdout",
     "output_type": "stream",
     "text": [
      "Mean Squared Error - Test Set LOOCV:\n",
      "{'train': 11.388919305634172, 'test': 11.627259011576475}\n"
     ]
    }
   ],
   "source": [
    "train, test =  loocv_model_evaluator(LinearRegression(), \n",
    "                                    features=['Student_Count_Total'])\n",
    "\n",
    "rmse['lr_simple_sct'] = {'train': train, 'test':test}\n",
    "\n",
    "print(f'''Mean Squared Error - Test Set LOOCV:\n",
    "{rmse['lr_simple_sct']}''')"
   ]
  },
  {
   "cell_type": "markdown",
   "metadata": {},
   "source": [
    "Using a simple linear regression with 1 relatively highly correlated feature increases the RMSE by 1.21 points."
   ]
  },
  {
   "cell_type": "code",
   "execution_count": 42,
   "metadata": {},
   "outputs": [
    {
     "data": {
      "text/plain": [
       "1.2111388566401189"
      ]
     },
     "execution_count": 42,
     "metadata": {},
     "output_type": "execute_result"
    }
   ],
   "source": [
    "rmse['dummy']['test'] -  rmse['lr_simple_sct']['test']"
   ]
  },
  {
   "cell_type": "markdown",
   "metadata": {},
   "source": [
    "## Add Networks "
   ]
  },
  {
   "cell_type": "code",
   "execution_count": 43,
   "metadata": {},
   "outputs": [],
   "source": [
    "# One hot encode the networks\n",
    "network_transformer = make_column_transformer((OneHotEncoder(drop='first'), ['Network']), \n",
    "                                               remainder='passthrough')\n",
    "pipe = make_pipeline(network_transformer, LinearRegression())\n",
    "\n",
    "si_net = SimpleImputer(strategy='constant', fill_value='missing_network')\n",
    "sy_1819_hs['Network'] = si_net.fit_transform(sy_1819_hs[['Network']])\n"
   ]
  },
  {
   "cell_type": "code",
   "execution_count": 44,
   "metadata": {},
   "outputs": [
    {
     "data": {
      "text/plain": [
       "(9.966502158094304, 10.902603599286637)"
      ]
     },
     "execution_count": 44,
     "metadata": {},
     "output_type": "execute_result"
    }
   ],
   "source": [
    "loocv_model_evaluator(pipe, features=['Student_Count_Total', 'Network'])"
   ]
  },
  {
   "cell_type": "markdown",
   "metadata": {},
   "source": [
    "## All Confident Columns\n"
   ]
  },
  {
   "cell_type": "code",
   "execution_count": 45,
   "metadata": {},
   "outputs": [
    {
     "data": {
      "text/html": [
       "<div>\n",
       "<style scoped>\n",
       "    .dataframe tbody tr th:only-of-type {\n",
       "        vertical-align: middle;\n",
       "    }\n",
       "\n",
       "    .dataframe tbody tr th {\n",
       "        vertical-align: top;\n",
       "    }\n",
       "\n",
       "    .dataframe thead th {\n",
       "        text-align: right;\n",
       "    }\n",
       "</style>\n",
       "<table border=\"1\" class=\"dataframe\">\n",
       "  <thead>\n",
       "    <tr style=\"text-align: right;\">\n",
       "      <th></th>\n",
       "      <th>perc_Student_Count_Low_Income</th>\n",
       "      <th>perc_Student_Count_Special_Ed</th>\n",
       "      <th>perc_Student_Count_English_Learners</th>\n",
       "      <th>perc_Student_Count_Black</th>\n",
       "      <th>perc_Student_Count_Hispanic</th>\n",
       "      <th>perc_Student_Count_White</th>\n",
       "      <th>perc_Student_Count_Asian</th>\n",
       "      <th>perc_Student_Count_Native_American</th>\n",
       "      <th>perc_Student_Count_Other_Ethnicity</th>\n",
       "      <th>perc_Student_Count_Asian_Pacific_Islander</th>\n",
       "      <th>perc_Student_Count_Multi</th>\n",
       "      <th>perc_Student_Count_Hawaiian_Pacific_Islander</th>\n",
       "      <th>perc_Student_Count_Ethnicity_Not_Available</th>\n",
       "      <th>Student_Count_Total_1718</th>\n",
       "      <th>student_count_total_change_1_year</th>\n",
       "      <th>Dress_Code</th>\n",
       "      <th>Network</th>\n",
       "    </tr>\n",
       "  </thead>\n",
       "  <tbody>\n",
       "    <tr>\n",
       "      <td>1</td>\n",
       "      <td>0.715254</td>\n",
       "      <td>0.091525</td>\n",
       "      <td>0.061017</td>\n",
       "      <td>0.637288</td>\n",
       "      <td>0.338983</td>\n",
       "      <td>0.013559</td>\n",
       "      <td>0.000000</td>\n",
       "      <td>0.000000</td>\n",
       "      <td>0.0</td>\n",
       "      <td>0.0</td>\n",
       "      <td>0.010169</td>\n",
       "      <td>0.000000</td>\n",
       "      <td>0.000000</td>\n",
       "      <td>298</td>\n",
       "      <td>-3</td>\n",
       "      <td>True</td>\n",
       "      <td>Network 17</td>\n",
       "    </tr>\n",
       "    <tr>\n",
       "      <td>2</td>\n",
       "      <td>0.836364</td>\n",
       "      <td>0.140909</td>\n",
       "      <td>0.098485</td>\n",
       "      <td>0.112121</td>\n",
       "      <td>0.856061</td>\n",
       "      <td>0.012121</td>\n",
       "      <td>0.007576</td>\n",
       "      <td>0.006061</td>\n",
       "      <td>0.0</td>\n",
       "      <td>0.0</td>\n",
       "      <td>0.004545</td>\n",
       "      <td>0.000000</td>\n",
       "      <td>0.001515</td>\n",
       "      <td>668</td>\n",
       "      <td>-8</td>\n",
       "      <td>True</td>\n",
       "      <td>Charter</td>\n",
       "    </tr>\n",
       "    <tr>\n",
       "      <td>3</td>\n",
       "      <td>0.373298</td>\n",
       "      <td>0.053927</td>\n",
       "      <td>0.010995</td>\n",
       "      <td>0.119372</td>\n",
       "      <td>0.295288</td>\n",
       "      <td>0.391623</td>\n",
       "      <td>0.142932</td>\n",
       "      <td>0.003141</td>\n",
       "      <td>0.0</td>\n",
       "      <td>0.0</td>\n",
       "      <td>0.041885</td>\n",
       "      <td>0.005759</td>\n",
       "      <td>0.000000</td>\n",
       "      <td>1918</td>\n",
       "      <td>-8</td>\n",
       "      <td>False</td>\n",
       "      <td>ISP</td>\n",
       "    </tr>\n",
       "    <tr>\n",
       "      <td>4</td>\n",
       "      <td>0.935484</td>\n",
       "      <td>0.151613</td>\n",
       "      <td>0.248387</td>\n",
       "      <td>0.009677</td>\n",
       "      <td>0.966129</td>\n",
       "      <td>0.017742</td>\n",
       "      <td>0.003226</td>\n",
       "      <td>0.003226</td>\n",
       "      <td>0.0</td>\n",
       "      <td>0.0</td>\n",
       "      <td>0.000000</td>\n",
       "      <td>0.000000</td>\n",
       "      <td>0.000000</td>\n",
       "      <td>625</td>\n",
       "      <td>-5</td>\n",
       "      <td>True</td>\n",
       "      <td>Charter</td>\n",
       "    </tr>\n",
       "    <tr>\n",
       "      <td>5</td>\n",
       "      <td>0.800718</td>\n",
       "      <td>0.213645</td>\n",
       "      <td>0.014363</td>\n",
       "      <td>0.989228</td>\n",
       "      <td>0.008977</td>\n",
       "      <td>0.000000</td>\n",
       "      <td>0.000000</td>\n",
       "      <td>0.000000</td>\n",
       "      <td>0.0</td>\n",
       "      <td>0.0</td>\n",
       "      <td>0.000000</td>\n",
       "      <td>0.001795</td>\n",
       "      <td>0.000000</td>\n",
       "      <td>563</td>\n",
       "      <td>-6</td>\n",
       "      <td>True</td>\n",
       "      <td>Charter</td>\n",
       "    </tr>\n",
       "  </tbody>\n",
       "</table>\n",
       "</div>"
      ],
      "text/plain": [
       "   perc_Student_Count_Low_Income  perc_Student_Count_Special_Ed  \\\n",
       "1                       0.715254                       0.091525   \n",
       "2                       0.836364                       0.140909   \n",
       "3                       0.373298                       0.053927   \n",
       "4                       0.935484                       0.151613   \n",
       "5                       0.800718                       0.213645   \n",
       "\n",
       "   perc_Student_Count_English_Learners  perc_Student_Count_Black  \\\n",
       "1                             0.061017                  0.637288   \n",
       "2                             0.098485                  0.112121   \n",
       "3                             0.010995                  0.119372   \n",
       "4                             0.248387                  0.009677   \n",
       "5                             0.014363                  0.989228   \n",
       "\n",
       "   perc_Student_Count_Hispanic  perc_Student_Count_White  \\\n",
       "1                     0.338983                  0.013559   \n",
       "2                     0.856061                  0.012121   \n",
       "3                     0.295288                  0.391623   \n",
       "4                     0.966129                  0.017742   \n",
       "5                     0.008977                  0.000000   \n",
       "\n",
       "   perc_Student_Count_Asian  perc_Student_Count_Native_American  \\\n",
       "1                  0.000000                            0.000000   \n",
       "2                  0.007576                            0.006061   \n",
       "3                  0.142932                            0.003141   \n",
       "4                  0.003226                            0.003226   \n",
       "5                  0.000000                            0.000000   \n",
       "\n",
       "   perc_Student_Count_Other_Ethnicity  \\\n",
       "1                                 0.0   \n",
       "2                                 0.0   \n",
       "3                                 0.0   \n",
       "4                                 0.0   \n",
       "5                                 0.0   \n",
       "\n",
       "   perc_Student_Count_Asian_Pacific_Islander  perc_Student_Count_Multi  \\\n",
       "1                                        0.0                  0.010169   \n",
       "2                                        0.0                  0.004545   \n",
       "3                                        0.0                  0.041885   \n",
       "4                                        0.0                  0.000000   \n",
       "5                                        0.0                  0.000000   \n",
       "\n",
       "   perc_Student_Count_Hawaiian_Pacific_Islander  \\\n",
       "1                                      0.000000   \n",
       "2                                      0.000000   \n",
       "3                                      0.005759   \n",
       "4                                      0.000000   \n",
       "5                                      0.001795   \n",
       "\n",
       "   perc_Student_Count_Ethnicity_Not_Available  Student_Count_Total_1718  \\\n",
       "1                                    0.000000                       298   \n",
       "2                                    0.001515                       668   \n",
       "3                                    0.000000                      1918   \n",
       "4                                    0.000000                       625   \n",
       "5                                    0.000000                       563   \n",
       "\n",
       "   student_count_total_change_1_year  Dress_Code     Network  \n",
       "1                                 -3        True  Network 17  \n",
       "2                                 -8        True     Charter  \n",
       "3                                 -8       False         ISP  \n",
       "4                                 -5        True     Charter  \n",
       "5                                 -6        True     Charter  "
      ]
     },
     "execution_count": 45,
     "metadata": {},
     "output_type": "execute_result"
    }
   ],
   "source": [
    "sy_1819_hs = isolate_important_columns(sy_1819_hs, confident_columns=True)\n",
    "si_net = SimpleImputer(strategy='constant', fill_value='missing_network')\n",
    "sy_1819_hs['Network'] = si_net.fit_transform(sy_1819_hs[['Network']])\n",
    "\n",
    "sy_1819_hs.head()"
   ]
  },
  {
   "cell_type": "code",
   "execution_count": 46,
   "metadata": {},
   "outputs": [
    {
     "data": {
      "text/plain": [
       "(7.602764277593577, 10.988016065200995)"
      ]
     },
     "execution_count": 46,
     "metadata": {},
     "output_type": "execute_result"
    }
   ],
   "source": [
    "loocv_model_evaluator(pipe, sy_1819_hs)"
   ]
  },
  {
   "cell_type": "code",
   "execution_count": 48,
   "metadata": {},
   "outputs": [
    {
     "name": "stdout",
     "output_type": "stream",
     "text": [
      "Mean Squared Error - Test Set LOOCV:\n",
      "{'train': 7.602764277593577, 'test': 10.988016065200995}\n"
     ]
    }
   ],
   "source": [
    "train, test = loocv_model_evaluator(pipe, sy_1819_hs)\n",
    "\n",
    "rmse['lr_confident'] = {'train': train, 'test':test}\n",
    "\n",
    "print(f'''Mean Squared Error - Test Set LOOCV:\n",
    "{rmse['lr_confident']}''')"
   ]
  },
  {
   "cell_type": "code",
   "execution_count": 49,
   "metadata": {},
   "outputs": [
    {
     "data": {
      "text/plain": [
       "{'dummy': {'train': 12.733353663169186, 'test': 12.838397868216594},\n",
       " 'lr_simple_sct': {'train': 11.388919305634172, 'test': 11.627259011576475},\n",
       " 'lr_confident': {'train': 7.602764277593577, 'test': 10.988016065200995}}"
      ]
     },
     "execution_count": 49,
     "metadata": {},
     "output_type": "execute_result"
    }
   ],
   "source": [
    "rmse"
   ]
  }
 ],
 "metadata": {
  "kernelspec": {
   "display_name": "learn-env",
   "language": "python",
   "name": "learn-env"
  },
  "language_info": {
   "codemirror_mode": {
    "name": "ipython",
    "version": 3
   },
   "file_extension": ".py",
   "mimetype": "text/x-python",
   "name": "python",
   "nbconvert_exporter": "python",
   "pygments_lexer": "ipython3",
   "version": "3.6.9"
  }
 },
 "nbformat": 4,
 "nbformat_minor": 4
}
