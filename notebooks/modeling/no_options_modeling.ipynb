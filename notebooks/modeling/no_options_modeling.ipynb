{
 "cells": [
  {
   "cell_type": "markdown",
   "id": "0fb5a6a5",
   "metadata": {},
   "source": [
    "Below is an FSM with no outlier removal. "
   ]
  },
  {
   "cell_type": "code",
   "execution_count": 1,
   "id": "86141e1e",
   "metadata": {},
   "outputs": [],
   "source": [
    "import sys\n",
    "sys.path.append('../..')\n",
    "\n",
    "import pandas as pd\n",
    "import numpy as np\n",
    "import matplotlib.pyplot as plt\n",
    "\n",
    "from src.cleaning import prep_high_school_dataframe\n",
    "from src.cleaning import isolate_numeric_columns, isolate_numeric_rates, filter_cwoption_special_ed\n",
    "from src.cps_model import cv_feature_set\n",
    "\n",
    "from sklearn.model_selection import cross_val_predict\n",
    "\n",
    "%load_ext autoreload\n",
    "%autoreload 2"
   ]
  },
  {
   "cell_type": "markdown",
   "id": "91f592aa",
   "metadata": {},
   "source": [
    "The function below isolates high schools and drops high schools with no graduation rates or student counts."
   ]
  },
  {
   "cell_type": "code",
   "execution_count": 2,
   "id": "84152bbb",
   "metadata": {},
   "outputs": [
    {
     "name": "stdout",
     "output_type": "stream",
     "text": [
      "0 Student Count\n",
      "2 schools\n",
      "15     ENGLEWOOD STEM HS\n",
      "582       YCCS - VIRTUAL\n",
      "Name: Short_Name_sp, dtype: object\n",
      "All 0 Student Count Schools Dropped\n",
      "0 Graduation Rate\n",
      "2 schools\n",
      "261    PATHWAYS - AVONDALE HS\n",
      "343     NORTHSIDE LEARNING HS\n",
      "Name: Short_Name_sp, dtype: object\n",
      "##########\n",
      "NA Graduation Rates\n",
      "38 schools\n",
      "All 0/NA Graduation Rate Schools Dropped\n"
     ]
    }
   ],
   "source": [
    "sy_1819_hs = prep_high_school_dataframe('../../data/chicago_data_portal_csv_files/Chicago_Public_Schools_-_School_Profile_Information_SY1819.csv',\n",
    "                     '../../data/chicago_data_portal_csv_files/Chicago_Public_Schools_-_School_Progress_Reports_SY1819.csv')"
   ]
  },
  {
   "cell_type": "markdown",
   "id": "9fb6f21d",
   "metadata": {},
   "source": [
    "There are 134 CPS high schools left for modeling."
   ]
  },
  {
   "cell_type": "code",
   "execution_count": 3,
   "id": "5ee41d56",
   "metadata": {},
   "outputs": [
    {
     "data": {
      "text/plain": [
       "(134, 289)"
      ]
     },
     "execution_count": 3,
     "metadata": {},
     "output_type": "execute_result"
    }
   ],
   "source": [
    "sy_1819_hs.shape"
   ]
  },
  {
   "cell_type": "markdown",
   "id": "d456f224",
   "metadata": {},
   "source": [
    "The distribution of graduation rates has a left skew. "
   ]
  },
  {
   "cell_type": "code",
   "execution_count": 4,
   "id": "5a9357c0",
   "metadata": {},
   "outputs": [
    {
     "data": {
      "text/plain": [
       "Text(0.5, 0, 'Graduation Rate')"
      ]
     },
     "execution_count": 4,
     "metadata": {},
     "output_type": "execute_result"
    },
    {
     "data": {
      "image/png": "[encoded data removed]",
      "text/plain": [
       "<Figure size 432x288 with 1 Axes>"
      ]
     },
     "metadata": {
      "needs_background": "light"
     },
     "output_type": "display_data"
    }
   ],
   "source": [
    "fig, ax = plt.subplots()\n",
    "sy_1819_hs['Graduation_Rate_School'].plot(kind='hist', ax=ax)\n",
    "ax.set_title('Left Skewed Distribution of High School Graduation Rates')\n",
    "ax.set_xlabel('Graduation Rate')"
   ]
  },
  {
   "cell_type": "markdown",
   "id": "ba0c9ef6",
   "metadata": {},
   "source": [
    "# FSM"
   ]
  },
  {
   "cell_type": "markdown",
   "id": "8d77cd47",
   "metadata": {},
   "source": [
    "The FSM will be a dummy regressor that predicts the mean graduation rate.  \n",
    "\n",
    "I will use the custom `print_cv_results` function, which implements 10-Fold cross-validation. "
   ]
  },
  {
   "cell_type": "code",
   "execution_count": 5,
   "id": "1cdf532b",
   "metadata": {},
   "outputs": [
    {
     "name": "stdout",
     "output_type": "stream",
     "text": [
      "##########Training##########\n",
      "R2\n",
      "[0. 0. 0. 0. 0. 0. 0. 0. 0. 0.]\n",
      "0.0\n",
      "RMSE\n",
      "[20.38317219 21.77756795 21.60316791 20.5013475  21.2544558  20.72566739\n",
      " 19.80205738 21.7709005  19.84019979 21.77752956]\n",
      "Mean RMSE:  20.943606597039395\n",
      "Standard Deviation RMSE:  0.7539762013674577\n",
      "\n",
      "\n",
      "##########Test##########\n",
      "R2\n",
      "[-4.97391302e-03 -3.66797886e-04 -4.11280977e-02 -2.16059299e-04\n",
      " -4.28798892e-01 -1.69603487e-03 -2.53641968e-01 -4.72541779e-02\n",
      " -1.04069561e-01 -1.21243289e+00]\n",
      "-0.20945783940467405\n",
      "RMSE\n",
      "[25.4336093  11.94302389 14.4339264  24.59948051 18.34222346 23.09430811\n",
      " 29.98858818 10.97039573 29.5904806  11.12263294]\n",
      "Mean RMSE:  19.95186691326086\n",
      "Standard Deviation RMSE:  7.1481870370137885\n"
     ]
    }
   ],
   "source": [
    "from sklearn.dummy import DummyRegressor\n",
    "\n",
    "dr = DummyRegressor()\n",
    "\n",
    "grad_rates = sy_1819_hs['Graduation_Rate_School']\n",
    "cv_feature_set(dr, sy_1819_hs,grad_rates)\n"
   ]
  },
  {
   "cell_type": "markdown",
   "id": "3f9d16c0",
   "metadata": {},
   "source": [
    "## Filter Outliers"
   ]
  },
  {
   "cell_type": "code",
   "execution_count": 6,
   "id": "334d11f2",
   "metadata": {},
   "outputs": [
    {
     "data": {
      "text/plain": [
       "248            Neighborhood\n",
       "220            Neighborhood\n",
       "60             Neighborhood\n",
       "23             Neighborhood\n",
       "201            Neighborhood\n",
       "               ...         \n",
       "625    Selective enrollment\n",
       "521    Selective enrollment\n",
       "226    Selective enrollment\n",
       "262    Selective enrollment\n",
       "303    Selective enrollment\n",
       "Name: School_Type, Length: 124, dtype: object"
      ]
     },
     "execution_count": 6,
     "metadata": {},
     "output_type": "execute_result"
    }
   ],
   "source": [
    "sy_1819_hs = filter_cwoption_special_ed(sy_1819_hs)\n",
    "sy_1819_hs.sort_values(\"Graduation_Rate_School\")['School_Type']"
   ]
  },
  {
   "cell_type": "code",
   "execution_count": 7,
   "id": "b5262fc0",
   "metadata": {},
   "outputs": [
    {
     "data": {
      "text/plain": [
       "<matplotlib.axes._subplots.AxesSubplot at 0x102a7c8d0>"
      ]
     },
     "execution_count": 7,
     "metadata": {},
     "output_type": "execute_result"
    },
    {
     "data": {
      "image/png": "[encoded data removed]",
      "text/plain": [
       "<Figure size 432x288 with 1 Axes>"
      ]
     },
     "metadata": {
      "needs_background": "light"
     },
     "output_type": "display_data"
    }
   ],
   "source": [
    "sy_1819_hs['Graduation_Rate_School'].plot(kind='hist')"
   ]
  },
  {
   "cell_type": "markdown",
   "id": "bebd8ae7",
   "metadata": {},
   "source": [
    "The distribution is still left skewed, but much less so than before."
   ]
  },
  {
   "cell_type": "code",
   "execution_count": 8,
   "id": "23e9d8d9",
   "metadata": {},
   "outputs": [
    {
     "name": "stdout",
     "output_type": "stream",
     "text": [
      "##########Training##########\n",
      "R2\n",
      "[0. 0. 0. 0. 0. 0. 0. 0. 0. 0.]\n",
      "0.0\n",
      "RMSE\n",
      "[12.64955613 12.85187593 12.56582616 12.11517537 12.44453921 12.74372382\n",
      " 13.16645297 12.97654794 12.88643377 13.1563817 ]\n",
      "Mean RMSE:  12.755651300234032\n",
      "Standard Deviation RMSE:  0.30966653287987556\n",
      "\n",
      "\n",
      "##########Test##########\n",
      "R2\n",
      "[-0.01308433 -0.08493853 -0.05953362 -0.00350519 -0.0457211  -0.13351066\n",
      " -0.28414457 -0.01757665 -0.00744534 -0.15409314]\n",
      "-0.08035531355446848\n",
      "RMSE\n",
      "[13.70626433 12.03085973 14.38238288 17.34109829 15.45753179 13.02002934\n",
      "  8.1725891  10.57757517 11.55621239  8.28995062]\n",
      "Mean RMSE:  12.453449364079827\n",
      "Standard Deviation RMSE:  2.805137655362657\n"
     ]
    }
   ],
   "source": [
    "from sklearn.dummy import DummyRegressor\n",
    "\n",
    "dr = DummyRegressor()\n",
    "\n",
    "grad_rates = sy_1819_hs['Graduation_Rate_School']\n",
    "cv_feature_set(dr, sy_1819_hs, grad_rates)"
   ]
  },
  {
   "cell_type": "markdown",
   "id": "a145f038",
   "metadata": {},
   "source": [
    "# Model with Percent Demographics"
   ]
  },
  {
   "cell_type": "code",
   "execution_count": 11,
   "id": "55b66a3a",
   "metadata": {},
   "outputs": [
    {
     "name": "stderr",
     "output_type": "stream",
     "text": [
      "/Users/johnmaxbarry/.local/lib/python3.7/site-packages/ipykernel_launcher.py:4: SettingWithCopyWarning: \n",
      "A value is trying to be set on a copy of a slice from a DataFrame.\n",
      "Try using .loc[row_indexer,col_indexer] = value instead\n",
      "\n",
      "See the caveats in the documentation: https://pandas.pydata.org/pandas-docs/stable/user_guide/indexing.html#returning-a-view-versus-a-copy\n",
      "  after removing the cwd from sys.path.\n"
     ]
    }
   ],
   "source": [
    "grad_rates = sy_1819_hs['Graduation_Rate_School']\n",
    "\n",
    "hs_1819_with_dem_rates = isolate_numeric_rates(sy_1819_hs)\n",
    "hs_1819_with_dem_rates['Student_Count_Total'] = sy_1819_hs['Student_Count_Total']"
   ]
  },
  {
   "cell_type": "code",
   "execution_count": 12,
   "id": "5d9e837e",
   "metadata": {},
   "outputs": [
    {
     "name": "stdout",
     "output_type": "stream",
     "text": [
      "##########Training##########\n",
      "R2\n",
      "[0.60083039 0.57185952 0.57453089 0.5414736  0.60579386 0.56363545\n",
      " 0.58767603 0.60641373 0.59119259 0.58895697]\n",
      "0.5832363032296792\n",
      "RMSE\n",
      "[7.99197324 8.40929657 8.19643627 8.20373977 7.81340822 8.41823567\n",
      " 8.45450299 8.14102605 8.23933436 8.43490333]\n",
      "Mean RMSE:  8.230285648729431\n",
      "Standard Deviation RMSE:  0.19999778619747516\n",
      "\n",
      "\n",
      "##########Test##########\n",
      "R2\n",
      "[-0.52678605  0.56680946  0.52708931  0.55664867  0.34557706  0.61313602\n",
      "  0.04170347  0.08740275  0.3020706  -0.35602309]\n",
      "0.2157628212160307\n",
      "RMSE\n",
      "[16.82617478  7.60209996  9.60866478 11.52632324 12.2281701   7.60638504\n",
      "  7.05996684 10.01710282  9.61857014  8.98597187]\n",
      "Mean RMSE:  10.107942956998897\n",
      "Standard Deviation RMSE:  2.742714708744383\n"
     ]
    }
   ],
   "source": [
    "from sklearn.linear_model import LinearRegression\n",
    "lr = LinearRegression()\n",
    "cv_feature_set(lr, hs_1819_with_dem_rates, grad_rates)\n"
   ]
  },
  {
   "cell_type": "code",
   "execution_count": null,
   "id": "6bb41ece",
   "metadata": {},
   "outputs": [],
   "source": []
  }
 ],
 "metadata": {
  "kernelspec": {
   "display_name": "learn-env",
   "language": "python",
   "name": "learn-env"
  },
  "language_info": {
   "codemirror_mode": {
    "name": "ipython",
    "version": 3
   },
   "file_extension": ".py",
   "mimetype": "text/x-python",
   "name": "python",
   "nbconvert_exporter": "python",
   "pygments_lexer": "ipython3",
   "version": "3.7.3"
  }
 },
 "nbformat": 4,
 "nbformat_minor": 5
}
