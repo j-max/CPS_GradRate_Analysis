{
 "cells": [
  {
   "cell_type": "markdown",
   "metadata": {},
   "source": [
    "Below is an FSM with no outlier removal. "
   ]
  },
  {
   "cell_type": "code",
   "execution_count": 185,
   "metadata": {},
   "outputs": [
    {
     "name": "stdout",
     "output_type": "stream",
     "text": [
      "The autoreload extension is already loaded. To reload it, use:\n",
      "  %reload_ext autoreload\n"
     ]
    }
   ],
   "source": [
    "import sys\n",
    "sys.path.append('../..')\n",
    "\n",
    "import pandas as pd\n",
    "import numpy as np\n",
    "import matplotlib.pyplot as plt\n",
    "\n",
    "from src.cleaning import prep_high_school_dataframe\n",
    "from src.cleaning import isolate_numeric_columns, isolate_numeric_rates, filter_cwoption_special_ed\n",
    "from src.cps_model import cv_feature_set\n",
    "\n",
    "from sklearn.model_selection import cross_val_predict\n",
    "\n",
    "%load_ext autoreload\n",
    "%autoreload 2"
   ]
  },
  {
   "cell_type": "markdown",
   "metadata": {},
   "source": [
    "The function below isolates high schools and drops high schools with no graduation rates or student counts."
   ]
  },
  {
   "cell_type": "code",
   "execution_count": 186,
   "metadata": {},
   "outputs": [
    {
     "name": "stdout",
     "output_type": "stream",
     "text": [
      "0 Student Count\n",
      "2 schools\n",
      "15     ENGLEWOOD STEM HS\n",
      "582       YCCS - VIRTUAL\n",
      "Name: Short_Name_sp, dtype: object\n",
      "All 0 Student Count Schools Dropped\n",
      "0 Graduation Rate\n",
      "2 schools\n",
      "261    PATHWAYS - AVONDALE HS\n",
      "343     NORTHSIDE LEARNING HS\n",
      "Name: Short_Name_sp, dtype: object\n",
      "##########\n",
      "NA Graduation Rates\n",
      "38 schools\n",
      "All 0/NA Graduation Rate Schools Dropped\n"
     ]
    }
   ],
   "source": [
    "sy_1819_hs = prep_high_school_dataframe('../../data/chicago_data_portal_csv_files/Chicago_Public_Schools_-_School_Profile_Information_SY1819.csv',\n",
    "                     '../../data/chicago_data_portal_csv_files/Chicago_Public_Schools_-_School_Progress_Reports_SY1819.csv')"
   ]
  },
  {
   "cell_type": "markdown",
   "metadata": {},
   "source": [
    "There are 134 CPS high schools left for modeling."
   ]
  },
  {
   "cell_type": "code",
   "execution_count": 187,
   "metadata": {},
   "outputs": [
    {
     "data": {
      "text/plain": [
       "(134, 289)"
      ]
     },
     "execution_count": 187,
     "metadata": {},
     "output_type": "execute_result"
    }
   ],
   "source": [
    "sy_1819_hs.shape"
   ]
  },
  {
   "cell_type": "markdown",
   "metadata": {},
   "source": [
    "The distribution of graduation rates has a left skew. "
   ]
  },
  {
   "cell_type": "code",
   "execution_count": 188,
   "metadata": {},
   "outputs": [
    {
     "data": {
      "text/plain": [
       "Text(0.5, 0, 'Graduation Rate')"
      ]
     },
     "execution_count": 188,
     "metadata": {},
     "output_type": "execute_result"
    },
    {
     "data": {
      "image/png": "[encoded data removed]",
      "text/plain": [
       "<Figure size 432x288 with 1 Axes>"
      ]
     },
     "metadata": {
      "needs_background": "light"
     },
     "output_type": "display_data"
    }
   ],
   "source": [
    "fig, ax = plt.subplots()\n",
    "sy_1819_hs['Graduation_Rate_School'].plot(kind='hist', ax=ax)\n",
    "ax.set_title('Left Skewed Distribution of High School Graduation Rates')\n",
    "ax.set_xlabel('Graduation Rate')"
   ]
  },
  {
   "cell_type": "markdown",
   "metadata": {},
   "source": [
    "# FSM"
   ]
  },
  {
   "cell_type": "markdown",
   "metadata": {},
   "source": [
    "The FSM will be a dummy regressor that predicts the mean graduation rate.  \n",
    "\n",
    "I will use the custom `print_cv_results` function, which implements 10-Fold cross-validation. "
   ]
  },
  {
   "cell_type": "code",
   "execution_count": 189,
   "metadata": {},
   "outputs": [
    {
     "name": "stdout",
     "output_type": "stream",
     "text": [
      "##########Training##########\n",
      "R2\n",
      "[0. 0. 0. 0. 0. 0. 0. 0. 0. 0.]\n",
      "0.0\n",
      "RMSE\n",
      "[20.38317219 21.77756795 21.60316791 20.5013475  21.2544558  20.72566739\n",
      " 19.80205738 21.7709005  19.84019979 21.77752956]\n",
      "Mean RMSE:  20.943606597039395\n",
      "Standard Deviation RMSE:  0.7539762013674577\n",
      "\n",
      "\n",
      "##########Test##########\n",
      "R2\n",
      "[-4.97391302e-03 -3.66797886e-04 -4.11280977e-02 -2.16059299e-04\n",
      " -4.28798892e-01 -1.69603487e-03 -2.53641968e-01 -4.72541779e-02\n",
      " -1.04069561e-01 -1.21243289e+00]\n",
      "-0.20945783940467405\n",
      "RMSE\n",
      "[25.4336093  11.94302389 14.4339264  24.59948051 18.34222346 23.09430811\n",
      " 29.98858818 10.97039573 29.5904806  11.12263294]\n",
      "Mean RMSE:  19.95186691326086\n",
      "Standard Deviation RMSE:  7.1481870370137885\n"
     ]
    }
   ],
   "source": [
    "from sklearn.dummy import DummyRegressor\n",
    "\n",
    "dr = DummyRegressor()\n",
    "\n",
    "grad_rates = sy_1819_hs['Graduation_Rate_School']\n",
    "cv_feature_set(dr, sy_1819_hs,grad_rates)\n"
   ]
  },
  {
   "cell_type": "markdown",
   "metadata": {},
   "source": [
    "## Filter Outliers"
   ]
  },
  {
   "cell_type": "code",
   "execution_count": 190,
   "metadata": {},
   "outputs": [
    {
     "data": {
      "text/plain": [
       "248            Neighborhood\n",
       "220            Neighborhood\n",
       "60             Neighborhood\n",
       "23             Neighborhood\n",
       "201            Neighborhood\n",
       "               ...         \n",
       "625    Selective enrollment\n",
       "521    Selective enrollment\n",
       "226    Selective enrollment\n",
       "262    Selective enrollment\n",
       "303    Selective enrollment\n",
       "Name: School_Type, Length: 123, dtype: object"
      ]
     },
     "execution_count": 190,
     "metadata": {},
     "output_type": "execute_result"
    }
   ],
   "source": [
    "sy_1819_hs = filter_cwoption_special_ed(sy_1819_hs)\n",
    "sy_1819_hs.sort_values(\"Graduation_Rate_School\")['School_Type']"
   ]
  },
  {
   "cell_type": "code",
   "execution_count": 191,
   "metadata": {},
   "outputs": [
    {
     "data": {
      "text/plain": [
       "<matplotlib.axes._subplots.AxesSubplot at 0x7fa089d54780>"
      ]
     },
     "execution_count": 191,
     "metadata": {},
     "output_type": "execute_result"
    },
    {
     "data": {
      "image/png": "[encoded data removed]",
      "text/plain": [
       "<Figure size 432x288 with 1 Axes>"
      ]
     },
     "metadata": {
      "needs_background": "light"
     },
     "output_type": "display_data"
    }
   ],
   "source": [
    "sy_1819_hs['Graduation_Rate_School'].plot(kind='hist')"
   ]
  },
  {
   "cell_type": "markdown",
   "metadata": {},
   "source": [
    "The distribution is still left skewed, but much less so than before."
   ]
  },
  {
   "cell_type": "code",
   "execution_count": 192,
   "metadata": {},
   "outputs": [
    {
     "name": "stdout",
     "output_type": "stream",
     "text": [
      "##########Training##########\n",
      "R2\n",
      "[0. 0. 0. 0. 0. 0. 0. 0. 0. 0.]\n",
      "0.0\n",
      "RMSE\n",
      "[12.61715165 12.81590118 12.55703566 12.09125583 12.41175216 12.71570723\n",
      " 13.13425626 12.94484626 12.85412812 13.13141354]\n",
      "Mean RMSE:  12.727344789654058\n",
      "Standard Deviation RMSE:  0.30750002770601803\n",
      "\n",
      "\n",
      "##########Test##########\n",
      "R2\n",
      "[-0.01079049 -0.09256124 -0.00504642 -0.00032199 -0.04183318 -0.12531057\n",
      " -0.30623589 -0.02142068 -0.00976291 -0.14011537]\n",
      "-0.07533987288637034\n",
      "RMSE\n",
      "[13.6907386  12.07304974 14.14696076 17.60015742 15.42877002 12.97284881\n",
      "  8.24258645 10.59753542 11.56949695  8.23959592]\n",
      "Mean RMSE:  12.456174009464116\n",
      "Standard Deviation RMSE:  2.826094896145956\n"
     ]
    }
   ],
   "source": [
    "from sklearn.dummy import DummyRegressor\n",
    "\n",
    "dr = DummyRegressor()\n",
    "\n",
    "grad_rates = sy_1819_hs['Graduation_Rate_School']\n",
    "cv_feature_set(dr, sy_1819_hs, grad_rates)"
   ]
  },
  {
   "cell_type": "markdown",
   "metadata": {},
   "source": [
    "# Model with Percent Demographics"
   ]
  },
  {
   "cell_type": "code",
   "execution_count": 193,
   "metadata": {},
   "outputs": [],
   "source": [
    "grad_rates = sy_1819_hs['Graduation_Rate_School']\n",
    "\n",
    "hs_1819_with_dem_rates = isolate_numeric_rates(sy_1819_hs)\n",
    "hs_1819_with_dem_rates['Student_Count_Total'] = sy_1819_hs['Student_Count_Total']"
   ]
  },
  {
   "cell_type": "code",
   "execution_count": 194,
   "metadata": {},
   "outputs": [
    {
     "name": "stdout",
     "output_type": "stream",
     "text": [
      "##########Training##########\n",
      "R2\n",
      "[0.60551805 0.57713424 0.57192539 0.55261624 0.60999556 0.5690128\n",
      " 0.59185675 0.6121974  0.59589327 0.59219107]\n",
      "0.5878340772000725\n",
      "RMSE\n",
      "[7.92455514 8.33394079 8.21574331 8.08744831 7.75118081 8.34781291\n",
      " 8.3909628  8.0612475  8.17129075 8.38571012]\n",
      "Mean RMSE:  8.166989245064167\n",
      "Standard Deviation RMSE:  0.2025209811290987\n",
      "\n",
      "\n",
      "##########Test##########\n",
      "R2\n",
      "[-0.51818181  0.55837927  0.59984875  0.44575493  0.35700175  0.61042777\n",
      "  0.05396213  0.07590767  0.30122739 -0.23675677]\n",
      "0.2247571097494228\n",
      "RMSE\n",
      "[16.77869563  7.67571466  8.9265199  13.10079241 12.12096249  7.6329629\n",
      "  7.01466547 10.07999318  9.62437873  8.58170657]\n",
      "Mean RMSE:  10.153639193047649\n",
      "Standard Deviation RMSE:  2.8819586244519586\n"
     ]
    }
   ],
   "source": [
    "from sklearn.linear_model import LinearRegression\n",
    "lr = LinearRegression()\n",
    "cv_feature_set(lr, hs_1819_with_dem_rates, grad_rates)\n"
   ]
  },
  {
   "cell_type": "markdown",
   "metadata": {},
   "source": [
    "## Decision Tree model "
   ]
  },
  {
   "cell_type": "markdown",
   "metadata": {},
   "source": [
    "As an exploratory technique, I will tune a decision tree model on the entire data set. This will show the **greediest** feature."
   ]
  },
  {
   "cell_type": "code",
   "execution_count": 195,
   "metadata": {},
   "outputs": [
    {
     "data": {
      "text/plain": [
       "DecisionTreeRegressor(criterion='mse', max_depth=None, max_features=None,\n",
       "                      max_leaf_nodes=None, min_impurity_decrease=0.0,\n",
       "                      min_impurity_split=None, min_samples_leaf=1,\n",
       "                      min_samples_split=2, min_weight_fraction_leaf=0.0,\n",
       "                      presort=False, random_state=None, splitter='best')"
      ]
     },
     "execution_count": 195,
     "metadata": {},
     "output_type": "execute_result"
    }
   ],
   "source": [
    "from sklearn.tree import DecisionTreeRegressor\n",
    "from sklearn.tree import plot_tree\n",
    "\n",
    "dt = DecisionTreeRegressor()\n",
    "dt.fit(hs_1819_with_dem_rates, grad_rates)"
   ]
  },
  {
   "cell_type": "code",
   "execution_count": 196,
   "metadata": {},
   "outputs": [
    {
     "name": "stdout",
     "output_type": "stream",
     "text": [
      "0.049755213194643565 perc_Student_Count_Low_Income\n",
      "0.5484648641067456 perc_Student_Count_Special_Ed\n",
      "0.08760037947485608 perc_Student_Count_English_Learners\n",
      "0.01952672329867982 perc_Student_Count_Black\n",
      "0.007777691158542168 perc_Student_Count_Hispanic\n",
      "0.022122838251481158 perc_Student_Count_White\n",
      "0.03507839932916335 perc_Student_Count_Asian\n",
      "0.013879945882094747 perc_Student_Count_Native_American\n",
      "0.0 perc_Student_Count_Other_Ethnicity\n",
      "0.0 perc_Student_Count_Asian_Pacific_Islander\n",
      "0.008735817690542396 perc_Student_Count_Multi\n",
      "0.08077297169572364 perc_Student_Count_Hawaiian_Pacific_Islander\n",
      "0.0341096064242639 perc_Student_Count_Ethnicity_Not_Available\n",
      "0.09217554949326363 Student_Count_Total\n"
     ]
    }
   ],
   "source": [
    "for feature, col in zip(dt.feature_importances_, hs_1819_with_dem_rates.columns):\n",
    "    print(feature, col)"
   ]
  },
  {
   "cell_type": "code",
   "execution_count": 197,
   "metadata": {},
   "outputs": [],
   "source": [
    "def print_fi(estimator, df):\n",
    "    '''\n",
    "    Given a fit tree based estimator, print column names and feature importances.\n",
    "    '''\n",
    "    for feature, col in zip(estimator.feature_importances_, df.columns):\n",
    "        print(feature, col)"
   ]
  },
  {
   "cell_type": "code",
   "execution_count": 198,
   "metadata": {},
   "outputs": [
    {
     "data": {
      "image/png": "[encoded data removed]",
      "text/plain": [
       "<Figure size 720x720 with 1 Axes>"
      ]
     },
     "metadata": {
      "needs_background": "light"
     },
     "output_type": "display_data"
    }
   ],
   "source": [
    "fig, ax = plt.subplots(figsize=(10,10))\n",
    "plot_tree(dt, max_depth=1, feature_names=hs_1819_with_dem_rates.columns);"
   ]
  },
  {
   "cell_type": "markdown",
   "metadata": {},
   "source": [
    "The decision tree suggests that the final model could take the form of having no racial demographics, or a vastly reduced set of racial demographics.  The model could take only inputs of percent special ed, percent low income, percent english language learners, and total student count."
   ]
  },
  {
   "cell_type": "markdown",
   "metadata": {},
   "source": [
    "# Add Network Booleans"
   ]
  },
  {
   "cell_type": "markdown",
   "metadata": {},
   "source": [
    "Below, I will use a One-Hot-Encoder within a pipeline on the `Network` column. "
   ]
  },
  {
   "cell_type": "code",
   "execution_count": 206,
   "metadata": {},
   "outputs": [
    {
     "data": {
      "text/html": [
       "<div>\n",
       "<style scoped>\n",
       "    .dataframe tbody tr th:only-of-type {\n",
       "        vertical-align: middle;\n",
       "    }\n",
       "\n",
       "    .dataframe tbody tr th {\n",
       "        vertical-align: top;\n",
       "    }\n",
       "\n",
       "    .dataframe thead th {\n",
       "        text-align: right;\n",
       "    }\n",
       "</style>\n",
       "<table border=\"1\" class=\"dataframe\">\n",
       "  <thead>\n",
       "    <tr style=\"text-align: right;\">\n",
       "      <th></th>\n",
       "      <th>perc_Student_Count_Low_Income</th>\n",
       "      <th>perc_Student_Count_Special_Ed</th>\n",
       "      <th>perc_Student_Count_English_Learners</th>\n",
       "      <th>perc_Student_Count_Black</th>\n",
       "      <th>perc_Student_Count_Hispanic</th>\n",
       "      <th>perc_Student_Count_White</th>\n",
       "      <th>perc_Student_Count_Asian</th>\n",
       "      <th>perc_Student_Count_Native_American</th>\n",
       "      <th>perc_Student_Count_Other_Ethnicity</th>\n",
       "      <th>perc_Student_Count_Asian_Pacific_Islander</th>\n",
       "      <th>perc_Student_Count_Multi</th>\n",
       "      <th>perc_Student_Count_Hawaiian_Pacific_Islander</th>\n",
       "      <th>perc_Student_Count_Ethnicity_Not_Available</th>\n",
       "      <th>Student_Count_Total</th>\n",
       "      <th>Network</th>\n",
       "    </tr>\n",
       "  </thead>\n",
       "  <tbody>\n",
       "    <tr>\n",
       "      <td>9</td>\n",
       "      <td>0.715254</td>\n",
       "      <td>0.091525</td>\n",
       "      <td>0.061017</td>\n",
       "      <td>0.637288</td>\n",
       "      <td>0.338983</td>\n",
       "      <td>0.013559</td>\n",
       "      <td>0.000000</td>\n",
       "      <td>0.000000</td>\n",
       "      <td>0.0</td>\n",
       "      <td>0.0</td>\n",
       "      <td>0.010169</td>\n",
       "      <td>0.000000</td>\n",
       "      <td>0.000000</td>\n",
       "      <td>295</td>\n",
       "      <td>Network 17</td>\n",
       "    </tr>\n",
       "    <tr>\n",
       "      <td>13</td>\n",
       "      <td>0.836364</td>\n",
       "      <td>0.140909</td>\n",
       "      <td>0.098485</td>\n",
       "      <td>0.112121</td>\n",
       "      <td>0.856061</td>\n",
       "      <td>0.012121</td>\n",
       "      <td>0.007576</td>\n",
       "      <td>0.006061</td>\n",
       "      <td>0.0</td>\n",
       "      <td>0.0</td>\n",
       "      <td>0.004545</td>\n",
       "      <td>0.000000</td>\n",
       "      <td>0.001515</td>\n",
       "      <td>660</td>\n",
       "      <td>Charter</td>\n",
       "    </tr>\n",
       "    <tr>\n",
       "      <td>14</td>\n",
       "      <td>0.373298</td>\n",
       "      <td>0.053927</td>\n",
       "      <td>0.010995</td>\n",
       "      <td>0.119372</td>\n",
       "      <td>0.295288</td>\n",
       "      <td>0.391623</td>\n",
       "      <td>0.142932</td>\n",
       "      <td>0.003141</td>\n",
       "      <td>0.0</td>\n",
       "      <td>0.0</td>\n",
       "      <td>0.041885</td>\n",
       "      <td>0.005759</td>\n",
       "      <td>0.000000</td>\n",
       "      <td>1910</td>\n",
       "      <td>ISP</td>\n",
       "    </tr>\n",
       "    <tr>\n",
       "      <td>18</td>\n",
       "      <td>0.935484</td>\n",
       "      <td>0.151613</td>\n",
       "      <td>0.248387</td>\n",
       "      <td>0.009677</td>\n",
       "      <td>0.966129</td>\n",
       "      <td>0.017742</td>\n",
       "      <td>0.003226</td>\n",
       "      <td>0.003226</td>\n",
       "      <td>0.0</td>\n",
       "      <td>0.0</td>\n",
       "      <td>0.000000</td>\n",
       "      <td>0.000000</td>\n",
       "      <td>0.000000</td>\n",
       "      <td>620</td>\n",
       "      <td>Charter</td>\n",
       "    </tr>\n",
       "    <tr>\n",
       "      <td>20</td>\n",
       "      <td>0.800718</td>\n",
       "      <td>0.213645</td>\n",
       "      <td>0.014363</td>\n",
       "      <td>0.989228</td>\n",
       "      <td>0.008977</td>\n",
       "      <td>0.000000</td>\n",
       "      <td>0.000000</td>\n",
       "      <td>0.000000</td>\n",
       "      <td>0.0</td>\n",
       "      <td>0.0</td>\n",
       "      <td>0.000000</td>\n",
       "      <td>0.001795</td>\n",
       "      <td>0.000000</td>\n",
       "      <td>557</td>\n",
       "      <td>Charter</td>\n",
       "    </tr>\n",
       "  </tbody>\n",
       "</table>\n",
       "</div>"
      ],
      "text/plain": [
       "    perc_Student_Count_Low_Income  perc_Student_Count_Special_Ed  \\\n",
       "9                        0.715254                       0.091525   \n",
       "13                       0.836364                       0.140909   \n",
       "14                       0.373298                       0.053927   \n",
       "18                       0.935484                       0.151613   \n",
       "20                       0.800718                       0.213645   \n",
       "\n",
       "    perc_Student_Count_English_Learners  perc_Student_Count_Black  \\\n",
       "9                              0.061017                  0.637288   \n",
       "13                             0.098485                  0.112121   \n",
       "14                             0.010995                  0.119372   \n",
       "18                             0.248387                  0.009677   \n",
       "20                             0.014363                  0.989228   \n",
       "\n",
       "    perc_Student_Count_Hispanic  perc_Student_Count_White  \\\n",
       "9                      0.338983                  0.013559   \n",
       "13                     0.856061                  0.012121   \n",
       "14                     0.295288                  0.391623   \n",
       "18                     0.966129                  0.017742   \n",
       "20                     0.008977                  0.000000   \n",
       "\n",
       "    perc_Student_Count_Asian  perc_Student_Count_Native_American  \\\n",
       "9                   0.000000                            0.000000   \n",
       "13                  0.007576                            0.006061   \n",
       "14                  0.142932                            0.003141   \n",
       "18                  0.003226                            0.003226   \n",
       "20                  0.000000                            0.000000   \n",
       "\n",
       "    perc_Student_Count_Other_Ethnicity  \\\n",
       "9                                  0.0   \n",
       "13                                 0.0   \n",
       "14                                 0.0   \n",
       "18                                 0.0   \n",
       "20                                 0.0   \n",
       "\n",
       "    perc_Student_Count_Asian_Pacific_Islander  perc_Student_Count_Multi  \\\n",
       "9                                         0.0                  0.010169   \n",
       "13                                        0.0                  0.004545   \n",
       "14                                        0.0                  0.041885   \n",
       "18                                        0.0                  0.000000   \n",
       "20                                        0.0                  0.000000   \n",
       "\n",
       "    perc_Student_Count_Hawaiian_Pacific_Islander  \\\n",
       "9                                       0.000000   \n",
       "13                                      0.000000   \n",
       "14                                      0.005759   \n",
       "18                                      0.000000   \n",
       "20                                      0.001795   \n",
       "\n",
       "    perc_Student_Count_Ethnicity_Not_Available  Student_Count_Total  \\\n",
       "9                                     0.000000                  295   \n",
       "13                                    0.001515                  660   \n",
       "14                                    0.000000                 1910   \n",
       "18                                    0.000000                  620   \n",
       "20                                    0.000000                  557   \n",
       "\n",
       "       Network  \n",
       "9   Network 17  \n",
       "13     Charter  \n",
       "14         ISP  \n",
       "18     Charter  \n",
       "20     Charter  "
      ]
     },
     "execution_count": 206,
     "metadata": {},
     "output_type": "execute_result"
    }
   ],
   "source": [
    "hs_1819_with_dem_rates['Network'] = sy_1819_hs['Network']\n",
    "hs_1819_with_dem_rates.head()"
   ]
  },
  {
   "cell_type": "code",
   "execution_count": 207,
   "metadata": {},
   "outputs": [],
   "source": [
    "from sklearn.preprocessing import OneHotEncoder\n",
    "from sklearn.impute import SimpleImputer\n",
    "from sklearn.pipeline import make_pipeline\n",
    "from sklearn.compose import make_column_transformer"
   ]
  },
  {
   "cell_type": "code",
   "execution_count": 208,
   "metadata": {},
   "outputs": [],
   "source": [
    "# One hot encode the networks\n",
    "\n",
    "network_transformer = make_column_transformer((OneHotEncoder(drop='first'), ['Network']), \n",
    "                                               remainder='passthrough')\n"
   ]
  },
  {
   "cell_type": "code",
   "execution_count": 209,
   "metadata": {},
   "outputs": [],
   "source": [
    "si_net = SimpleImputer(strategy='constant', fill_value='missing_network')\n",
    "hs_1819_with_dem_rates['Network'] = si_net.fit_transform(hs_1819_with_dem_rates[['Network']])"
   ]
  },
  {
   "cell_type": "code",
   "execution_count": 210,
   "metadata": {},
   "outputs": [
    {
     "name": "stdout",
     "output_type": "stream",
     "text": [
      "##########Training##########\n",
      "R2\n",
      "[0.6459285  0.61377763 0.62427623 0.61273203 0.64573148 0.61654123\n",
      " 0.63494774 0.66404053 0.62565639 0.63664858]\n",
      "0.6320280345262815\n",
      "RMSE\n",
      "[7.50769825 7.96467144 7.69699959 7.52449222 7.38753204 7.87408058\n",
      " 7.93565916 7.50309322 7.86462165 7.9154372 ]\n",
      "Mean RMSE:  7.717428534492089\n",
      "Standard Deviation RMSE:  0.20750099929030844\n",
      "\n",
      "\n",
      "##########Test##########\n",
      "R2\n",
      "[-0.83853789  0.64177412  0.53860445 -0.03107389  0.35419268  0.59591245\n",
      " -0.01652674 -0.06472569  0.46113271 -0.37622112]\n",
      "0.12645310715500052\n",
      "RMSE\n",
      "[18.46428932  6.91309575  9.58532389 17.86864168 12.14741016  7.77386321\n",
      "  7.27130076 10.81985452  8.4517313   9.05264775]\n",
      "Mean RMSE:  10.834815833189749\n",
      "Standard Deviation RMSE:  3.965742094078826\n"
     ]
    }
   ],
   "source": [
    "from sklearn.linear_model import LinearRegression\n",
    "\n",
    "lr = LinearRegression()\n",
    "\n",
    "pipe = make_pipeline(network_transformer, lr)\n",
    "\n",
    "cv_feature_set(pipe, hs_1819_with_dem_rates, grad_rates)"
   ]
  },
  {
   "cell_type": "markdown",
   "metadata": {},
   "source": [
    "Adding network booleans to the pipeline made the R2 go up slightly on the train sets, but descreased the R2 on the test by almost 10 percent"
   ]
  },
  {
   "cell_type": "code",
   "execution_count": 211,
   "metadata": {},
   "outputs": [],
   "source": [
    "### Decision Tree with Network Booleans"
   ]
  },
  {
   "cell_type": "code",
   "execution_count": 212,
   "metadata": {},
   "outputs": [
    {
     "name": "stdout",
     "output_type": "stream",
     "text": [
      "0.03475228783375047 perc_Student_Count_Low_Income\n",
      "0.5496804737021731 perc_Student_Count_Special_Ed\n",
      "0.08257529500643551 perc_Student_Count_English_Learners\n",
      "0.04651072537871468 perc_Student_Count_Black\n",
      "0.009831269932330907 perc_Student_Count_Hispanic\n",
      "0.005409169090440713 perc_Student_Count_White\n",
      "0.03644851866235979 perc_Student_Count_Asian\n",
      "0.00595707727398027 perc_Student_Count_Native_American\n",
      "0.0 perc_Student_Count_Other_Ethnicity\n",
      "0.0 perc_Student_Count_Asian_Pacific_Islander\n",
      "0.0024831914007726035 perc_Student_Count_Multi\n",
      "0.0659408754308764 perc_Student_Count_Hawaiian_Pacific_Islander\n",
      "2.1893431157479218e-05 perc_Student_Count_Ethnicity_Not_Available\n",
      "0.11770071452551957 Student_Count_Total\n",
      "0.0 x0_AUSL\n",
      "0.037525878495309355 x0_Charter\n",
      "0.0 x0_Contract\n",
      "2.4149624445563277e-05 x0_ISP\n",
      "0.0 x0_Network 14\n",
      "0.004963750576042686 x0_Network 15\n",
      "0.0 x0_Network 16\n",
      "0.0001494101332452614 x0_Network 17\n",
      "2.5319502445690894e-05 x0_missing_network\n"
     ]
    }
   ],
   "source": [
    "dt = DecisionTreeRegressor()\n",
    "\n",
    "ohe=OneHotEncoder(sparse=False)\n",
    "ohe_array = ohe.fit_transform(hs_1819_with_dem_rates[['Network']])\n",
    "ohe_df = pd.DataFrame(ohe_array,index=hs_1819_with_dem_rates.index, columns=list(ohe.get_feature_names()) )\n",
    "network_df = hs_1819_with_dem_rates.merge(ohe_df, left_index=True, right_index=True).drop('Network', axis=1)\n",
    " \n",
    "dt.fit(network_df, grad_rates)\n",
    "print_fi(dt, network_df)"
   ]
  },
  {
   "cell_type": "markdown",
   "metadata": {},
   "source": [
    "From the decision tree print feature importance printout,the most important network is Charter. This suggests maknig a charter boolean may be helpful. "
   ]
  },
  {
   "cell_type": "markdown",
   "metadata": {},
   "source": [
    "# Add Dress Code, Healthy Schools, Create School Certification"
   ]
  },
  {
   "cell_type": "code",
   "execution_count": null,
   "metadata": {},
   "outputs": [],
   "source": []
  },
  {
   "cell_type": "code",
   "execution_count": null,
   "metadata": {},
   "outputs": [],
   "source": []
  }
 ],
 "metadata": {
  "kernelspec": {
   "display_name": "learn-env",
   "language": "python",
   "name": "learn-env"
  },
  "language_info": {
   "codemirror_mode": {
    "name": "ipython",
    "version": 3
   },
   "file_extension": ".py",
   "mimetype": "text/x-python",
   "name": "python",
   "nbconvert_exporter": "python",
   "pygments_lexer": "ipython3",
   "version": "3.6.9"
  }
 },
 "nbformat": 4,
 "nbformat_minor": 5
}
