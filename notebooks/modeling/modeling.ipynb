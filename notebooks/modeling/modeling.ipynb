{
 "cells": [
  {
   "cell_type": "markdown",
   "metadata": {},
   "source": [
    "# Imports"
   ]
  },
  {
   "cell_type": "code",
   "execution_count": 1,
   "metadata": {},
   "outputs": [],
   "source": [
    "import sys\n",
    "sys.path.append('../..')\n",
    "\n",
    "import pandas as pd\n",
    "import numpy as np\n",
    "import matplotlib.pyplot as plt\n",
    "\n",
    "from src.cleaning import prep_high_school_dataframe\n",
    "from src.cleaning import isolate_numeric_columns\n",
    "from src.cps_model import print_cv_results\n",
    "\n",
    "%load_ext autoreload\n",
    "%autoreload 2"
   ]
  },
  {
   "cell_type": "markdown",
   "metadata": {},
   "source": [
    "# Preprocessing"
   ]
  },
  {
   "cell_type": "markdown",
   "metadata": {},
   "source": [
    "The preprocessing is handled by the methods in the cleaning.py file held in the src folder."
   ]
  },
  {
   "cell_type": "code",
   "execution_count": 2,
   "metadata": {},
   "outputs": [
    {
     "name": "stdout",
     "output_type": "stream",
     "text": [
      "0 Student Count\n",
      "2 schools\n",
      "15     ENGLEWOOD STEM HS\n",
      "582       YCCS - VIRTUAL\n",
      "Name: Short_Name_sp, dtype: object\n",
      "All 0 Student Count Schools Dropped\n",
      "0 Graduation Rate\n",
      "2 schools\n",
      "261    PATHWAYS - AVONDALE HS\n",
      "343     NORTHSIDE LEARNING HS\n",
      "Name: Short_Name_sp, dtype: object\n",
      "##########\n",
      "NA Graduation Rates\n",
      "38 schools\n",
      "All 0/NA Graduation Rate Schools Dropped\n"
     ]
    }
   ],
   "source": [
    "sy_1819_hs = prep_high_school_dataframe('../../data/chicago_data_portal_csv_files/Chicago_Public_Schools_-_School_Profile_Information_SY1819.csv',\n",
    "                     '../../data/chicago_data_portal_csv_files/Chicago_Public_Schools_-_School_Progress_Reports_SY1819.csv')"
   ]
  },
  {
   "cell_type": "markdown",
   "metadata": {},
   "source": [
    "# Note on Validation Strategy\n"
   ]
  },
  {
   "cell_type": "markdown",
   "metadata": {},
   "source": [
    "This project works with a small sample size. There are only 134 high schools with graduation rates in the dataset. With a larger sample size, I would reserve a holdout set for model validation.  If I were to reserve 20% of the dataset, that would result in less than 30 data points to judge the model.  With such a small set, I would not be confident that the holdout score would be representative of performance on new data.  \n",
    "\n",
    "Instead, I will use cross-validation, with `k=10`. This will allow for each model to train on over 100 schools. The average score across the 13 or so schools in each holdout will give a good idea of how generalizable the model is across the dataset.  \n"
   ]
  },
  {
   "cell_type": "markdown",
   "metadata": {},
   "source": [
    "After the split, there are 27 schools held out in the test set.   I will use a cross val of 4 on the training set to assign a similar number of schools to each fold (~26)."
   ]
  },
  {
   "cell_type": "markdown",
   "metadata": {},
   "source": [
    "# Modeling on the 4 Main Networks: 14, 15, 16, 17"
   ]
  },
  {
   "cell_type": "markdown",
   "metadata": {},
   "source": [
    "To begin, I will create a model on the 4 main networks in CPS.  I made this decision because the schools in the other networks in the data set may have different objectives, and graduation rate may be deemphasized as a metric for school success. "
   ]
  },
  {
   "cell_type": "code",
   "execution_count": 3,
   "metadata": {},
   "outputs": [
    {
     "name": "stdout",
     "output_type": "stream",
     "text": [
      "0 Student Count\n",
      "2 schools\n",
      "15     ENGLEWOOD STEM HS\n",
      "582       YCCS - VIRTUAL\n",
      "Name: Short_Name_sp, dtype: object\n",
      "All 0 Student Count Schools Dropped\n",
      "0 Graduation Rate\n",
      "2 schools\n",
      "261    PATHWAYS - AVONDALE HS\n",
      "343     NORTHSIDE LEARNING HS\n",
      "Name: Short_Name_sp, dtype: object\n",
      "##########\n",
      "NA Graduation Rates\n",
      "38 schools\n",
      "All 0/NA Graduation Rate Schools Dropped\n"
     ]
    }
   ],
   "source": [
    "main_networks_1819 = prep_high_school_dataframe('../../data/chicago_data_portal_csv_files/Chicago_Public_Schools_-_School_Profile_Information_SY1819.csv',\n",
    "                     '../../data/chicago_data_portal_csv_files/Chicago_Public_Schools_-_School_Progress_Reports_SY1819.csv',\n",
    "                                               isolate_main_nw=True)"
   ]
  },
  {
   "cell_type": "code",
   "execution_count": 4,
   "metadata": {},
   "outputs": [
    {
     "data": {
      "text/plain": [
       "(68,)"
      ]
     },
     "execution_count": 4,
     "metadata": {},
     "output_type": "execute_result"
    }
   ],
   "source": [
    "# After isolating the main networks, there are only 68 schools left in the dataset.\n",
    "main_networks_1819['Network'].shape"
   ]
  },
  {
   "cell_type": "markdown",
   "metadata": {},
   "source": [
    "# FSM: Mean Prediction"
   ]
  },
  {
   "cell_type": "markdown",
   "metadata": {},
   "source": [
    "## Mean\n",
    "\n",
    "For a first simple model, I predict the mean of the graduation rates using a DummyRegressor."
   ]
  },
  {
   "cell_type": "code",
   "execution_count": 5,
   "metadata": {},
   "outputs": [],
   "source": [
    "grad_rates = main_networks_1819['Graduation_Rate_School']\n",
    "main_nw_features = main_networks_1819.drop('Graduation_Rate_School', axis=1)"
   ]
  },
  {
   "cell_type": "code",
   "execution_count": 6,
   "metadata": {},
   "outputs": [
    {
     "name": "stdout",
     "output_type": "stream",
     "text": [
      "##########Training##########\n",
      "R2\n",
      "[0. 0. 0. 0. 0. 0. 0. 0. 0. 0.]\n",
      "0.0\n",
      "RMSE\n",
      "[18.52656554 21.21163853 21.16680124 20.7829701  20.22523748 19.4474703\n",
      " 21.37278005 18.86203691 21.19845656 21.01146737]\n",
      "Mean RMSE:  20.38054240869311\n",
      "Standard Deviation RMSE:  1.0079826149228166\n",
      "\n",
      "\n",
      "##########Test##########\n",
      "R2\n",
      "[-5.20221350e-01 -9.27756941e-04 -1.15113924e-03 -1.21703171e-01\n",
      " -2.03572155e+00 -7.93842619e-02 -5.75188353e-01 -1.46263477e-02\n",
      " -3.46418740e-01 -1.29884999e+00]\n",
      "-0.4994192668200245\n",
      "RMSE\n",
      "[33.21759958 11.6076853  12.30047658 17.17240936 22.96319993 27.66935415\n",
      "  8.82346438 30.92988261  9.48741718 13.35744777]\n",
      "Mean RMSE:  18.752893684194127\n",
      "Standard Deviation RMSE:  8.737710225022257\n"
     ]
    }
   ],
   "source": [
    "from src.cps_model import cv_feature_set\n",
    "from sklearn.dummy import DummyRegressor\n",
    "\n",
    "dr = DummyRegressor(strategy='mean')\n",
    "cv_feature_set(dr, main_nw_features, grad_rates)"
   ]
  },
  {
   "cell_type": "markdown",
   "metadata": {},
   "source": [
    "The FSM mean RMSE is just under 19 graduation percentage units off.  The largest split RMSE is 33.218, and the smallest is 8.82."
   ]
  },
  {
   "cell_type": "markdown",
   "metadata": {},
   "source": [
    "# Linear Regression"
   ]
  },
  {
   "cell_type": "markdown",
   "metadata": {},
   "source": [
    "## Simple Linear Regression"
   ]
  },
  {
   "cell_type": "markdown",
   "metadata": {},
   "source": [
    "The FSM only includes one predictor: `Student_Count_Total`, which has a high relative correlation to the target.  "
   ]
  },
  {
   "cell_type": "code",
   "execution_count": 7,
   "metadata": {},
   "outputs": [
    {
     "name": "stdout",
     "output_type": "stream",
     "text": [
      "##########Training##########\n",
      "R2\n",
      "[0.21413856 0.23487189 0.23838294 0.20677489 0.20511789 0.24095914\n",
      " 0.21569063 0.21495491 0.2188254  0.30587505]\n",
      "0.22955913017325535\n",
      "RMSE\n",
      "[16.42358287 18.55416001 18.47241021 18.50997528 18.03204539 16.94321005\n",
      " 18.92799955 16.7122872  18.73606126 17.50552788]\n",
      "Mean RMSE:  17.881725970625308\n",
      "Standard Deviation RMSE:  0.8694280409780042\n",
      "\n",
      "\n",
      "##########Test##########\n",
      "R2\n",
      "[ -0.15377027  -0.17228578  -0.20605551   0.35896597  -1.01273454\n",
      "   0.0800899    0.40117278   0.22180926   0.23584172 -15.57504072]\n",
      "-1.5822007189870189\n",
      "RMSE\n",
      "[28.93839929 12.56206417 13.50068377 12.98173685 18.69797993 25.54369241\n",
      "  5.4403101  27.08745692  7.14742464 35.86703445]\n",
      "Mean RMSE:  18.776678252902425\n",
      "Standard Deviation RMSE:  9.60908794955491\n"
     ]
    }
   ],
   "source": [
    "from sklearn.linear_model import LinearRegression\n",
    "\n",
    "lr = LinearRegression()\n",
    "cv_feature_set(lr, main_networks_1819, grad_rates, ['Student_Count_Total'])"
   ]
  },
  {
   "cell_type": "markdown",
   "metadata": {},
   "source": [
    "## Add perc_low_income_students"
   ]
  },
  {
   "cell_type": "code",
   "execution_count": 8,
   "metadata": {},
   "outputs": [
    {
     "name": "stdout",
     "output_type": "stream",
     "text": [
      "##########Training##########\n",
      "R2\n",
      "[0.23553861 0.24460577 0.25131037 0.21668252 0.20816735 0.26600727\n",
      " 0.22493134 0.21872107 0.23073608 0.32345047]\n",
      "0.24201508424590887\n",
      "RMSE\n",
      "[16.19842146 18.43576015 18.31496702 18.39401438 17.9974233  16.66130432\n",
      " 18.81616468 16.67215146 18.59267699 17.28248473]\n",
      "Mean RMSE:  17.73653684927261\n",
      "Standard Deviation RMSE:  0.8990777965495196\n",
      "\n",
      "\n",
      "##########Test##########\n",
      "R2\n",
      "[-2.00531463e-01 -1.16553546e-01 -2.56049272e-01  3.85067734e-01\n",
      " -8.62877311e-01  1.30382292e-02  5.47775520e-01  2.47668643e-01\n",
      "  1.69161137e-01 -1.66557563e+01]\n",
      "-1.67290566397221\n",
      "RMSE\n",
      "[29.51899755 12.25981838 13.7776597  12.71469362 17.98844268 26.45825189\n",
      "  4.72770016 26.63359464  7.45274609 37.0178619 ]\n",
      "Mean RMSE:  18.854976659667365\n",
      "Standard Deviation RMSE:  9.996241565239323\n"
     ]
    }
   ],
   "source": [
    "lr = LinearRegression()\n",
    "cv_feature_set(lr, main_networks_1819, grad_rates, \n",
    "               ['Student_Count_Total', 'perc_low_income'])\n"
   ]
  },
  {
   "cell_type": "markdown",
   "metadata": {},
   "source": [
    "## Use All Demographic Numerical Columns"
   ]
  },
  {
   "cell_type": "code",
   "execution_count": 9,
   "metadata": {},
   "outputs": [
    {
     "data": {
      "text/html": [
       "<div>\n",
       "<style scoped>\n",
       "    .dataframe tbody tr th:only-of-type {\n",
       "        vertical-align: middle;\n",
       "    }\n",
       "\n",
       "    .dataframe tbody tr th {\n",
       "        vertical-align: top;\n",
       "    }\n",
       "\n",
       "    .dataframe thead th {\n",
       "        text-align: right;\n",
       "    }\n",
       "</style>\n",
       "<table border=\"1\" class=\"dataframe\">\n",
       "  <thead>\n",
       "    <tr style=\"text-align: right;\">\n",
       "      <th></th>\n",
       "      <th>perc_low_income</th>\n",
       "      <th>Student_Count_Total</th>\n",
       "      <th>Student_Count_Special_Ed</th>\n",
       "      <th>Student_Count_English_Learners</th>\n",
       "      <th>Student_Count_Black</th>\n",
       "      <th>Student_Count_Hispanic</th>\n",
       "      <th>Student_Count_White</th>\n",
       "      <th>Student_Count_Asian</th>\n",
       "      <th>Student_Count_Native_American</th>\n",
       "      <th>Student_Count_Other_Ethnicity</th>\n",
       "      <th>Student_Count_Asian_Pacific_Islander</th>\n",
       "      <th>Student_Count_Multi</th>\n",
       "      <th>Student_Count_Hawaiian_Pacific_Islander</th>\n",
       "      <th>Student_Count_Ethnicity_Not_Available</th>\n",
       "    </tr>\n",
       "  </thead>\n",
       "  <tbody>\n",
       "    <tr>\n",
       "      <td>5</td>\n",
       "      <td>1.000000</td>\n",
       "      <td>34</td>\n",
       "      <td>4</td>\n",
       "      <td>3</td>\n",
       "      <td>25</td>\n",
       "      <td>9</td>\n",
       "      <td>0</td>\n",
       "      <td>0</td>\n",
       "      <td>0</td>\n",
       "      <td>0</td>\n",
       "      <td>0</td>\n",
       "      <td>0</td>\n",
       "      <td>0</td>\n",
       "      <td>0</td>\n",
       "    </tr>\n",
       "    <tr>\n",
       "      <td>9</td>\n",
       "      <td>0.715254</td>\n",
       "      <td>295</td>\n",
       "      <td>27</td>\n",
       "      <td>18</td>\n",
       "      <td>188</td>\n",
       "      <td>100</td>\n",
       "      <td>4</td>\n",
       "      <td>0</td>\n",
       "      <td>0</td>\n",
       "      <td>0</td>\n",
       "      <td>0</td>\n",
       "      <td>3</td>\n",
       "      <td>0</td>\n",
       "      <td>0</td>\n",
       "    </tr>\n",
       "    <tr>\n",
       "      <td>23</td>\n",
       "      <td>0.857143</td>\n",
       "      <td>21</td>\n",
       "      <td>21</td>\n",
       "      <td>8</td>\n",
       "      <td>9</td>\n",
       "      <td>8</td>\n",
       "      <td>3</td>\n",
       "      <td>0</td>\n",
       "      <td>0</td>\n",
       "      <td>0</td>\n",
       "      <td>0</td>\n",
       "      <td>1</td>\n",
       "      <td>0</td>\n",
       "      <td>0</td>\n",
       "    </tr>\n",
       "    <tr>\n",
       "      <td>26</td>\n",
       "      <td>0.724444</td>\n",
       "      <td>225</td>\n",
       "      <td>225</td>\n",
       "      <td>72</td>\n",
       "      <td>54</td>\n",
       "      <td>116</td>\n",
       "      <td>51</td>\n",
       "      <td>3</td>\n",
       "      <td>0</td>\n",
       "      <td>0</td>\n",
       "      <td>0</td>\n",
       "      <td>1</td>\n",
       "      <td>0</td>\n",
       "      <td>0</td>\n",
       "    </tr>\n",
       "    <tr>\n",
       "      <td>34</td>\n",
       "      <td>0.822257</td>\n",
       "      <td>647</td>\n",
       "      <td>59</td>\n",
       "      <td>6</td>\n",
       "      <td>625</td>\n",
       "      <td>16</td>\n",
       "      <td>1</td>\n",
       "      <td>0</td>\n",
       "      <td>0</td>\n",
       "      <td>0</td>\n",
       "      <td>0</td>\n",
       "      <td>5</td>\n",
       "      <td>0</td>\n",
       "      <td>0</td>\n",
       "    </tr>\n",
       "  </tbody>\n",
       "</table>\n",
       "</div>"
      ],
      "text/plain": [
       "    perc_low_income  Student_Count_Total  Student_Count_Special_Ed  \\\n",
       "5          1.000000                   34                         4   \n",
       "9          0.715254                  295                        27   \n",
       "23         0.857143                   21                        21   \n",
       "26         0.724444                  225                       225   \n",
       "34         0.822257                  647                        59   \n",
       "\n",
       "    Student_Count_English_Learners  Student_Count_Black  \\\n",
       "5                                3                   25   \n",
       "9                               18                  188   \n",
       "23                               8                    9   \n",
       "26                              72                   54   \n",
       "34                               6                  625   \n",
       "\n",
       "    Student_Count_Hispanic  Student_Count_White  Student_Count_Asian  \\\n",
       "5                        9                    0                    0   \n",
       "9                      100                    4                    0   \n",
       "23                       8                    3                    0   \n",
       "26                     116                   51                    3   \n",
       "34                      16                    1                    0   \n",
       "\n",
       "    Student_Count_Native_American  Student_Count_Other_Ethnicity  \\\n",
       "5                               0                              0   \n",
       "9                               0                              0   \n",
       "23                              0                              0   \n",
       "26                              0                              0   \n",
       "34                              0                              0   \n",
       "\n",
       "    Student_Count_Asian_Pacific_Islander  Student_Count_Multi  \\\n",
       "5                                      0                    0   \n",
       "9                                      0                    3   \n",
       "23                                     0                    1   \n",
       "26                                     0                    1   \n",
       "34                                     0                    5   \n",
       "\n",
       "    Student_Count_Hawaiian_Pacific_Islander  \\\n",
       "5                                         0   \n",
       "9                                         0   \n",
       "23                                        0   \n",
       "26                                        0   \n",
       "34                                        0   \n",
       "\n",
       "    Student_Count_Ethnicity_Not_Available  \n",
       "5                                       0  \n",
       "9                                       0  \n",
       "23                                      0  \n",
       "26                                      0  \n",
       "34                                      0  "
      ]
     },
     "execution_count": 9,
     "metadata": {},
     "output_type": "execute_result"
    }
   ],
   "source": [
    "all_num_dem = isolate_numeric_columns(main_networks_1819, \n",
    "                                      add_grad_rates=False)\\\n",
    "                                .drop('Student_Count_Low_Income', axis=1)\n",
    "all_num_dem.head()"
   ]
  },
  {
   "cell_type": "code",
   "execution_count": 10,
   "metadata": {},
   "outputs": [
    {
     "name": "stdout",
     "output_type": "stream",
     "text": [
      "##########Training##########\n",
      "R2\n",
      "[0.35795704 0.40346882 0.3988541  0.371415   0.33818177 0.44900319\n",
      " 0.40545981 0.38306894 0.42593044 0.44374324]\n",
      "0.39770823580384584\n",
      "RMSE\n",
      "[14.84488918 16.38290038 16.41138289 16.47743541 16.453678   14.43569369\n",
      " 16.47978811 14.81517916 16.06151477 15.67090347]\n",
      "Mean RMSE:  15.803336507007383\n",
      "Standard Deviation RMSE:  0.7674811046991299\n",
      "\n",
      "\n",
      "##########Test##########\n",
      "R2\n",
      "[ 8.15784824e-02 -1.09607372e-01 -1.00146318e-02  5.19320631e-01\n",
      "  2.58747120e-01  3.34819327e-02 -2.99977626e+00  3.27314130e-01\n",
      " -6.00706943e+00 -7.33508140e+01]\n",
      "-8.125683937746663\n",
      "RMSE\n",
      "[25.81878832 12.2216242  12.35480651 11.24138961 11.34709359 26.18279285\n",
      " 14.06017544 25.18438538 21.64343232 75.96456088]\n",
      "Mean RMSE:  23.60190490926206\n",
      "Standard Deviation RMSE:  18.46558557403451\n"
     ]
    }
   ],
   "source": [
    "lr = LinearRegression()\n",
    "cv_feature_set(lr, all_num_dem, grad_rates)\n"
   ]
  },
  {
   "cell_type": "code",
   "execution_count": 11,
   "metadata": {},
   "outputs": [
    {
     "name": "stdout",
     "output_type": "stream",
     "text": [
      "##########Training##########\n",
      "R2\n",
      "[1. 1. 1. 1. 1. 1. 1. 1. 1. 1.]\n",
      "1.0\n",
      "RMSE\n",
      "[0. 0. 0. 0. 0. 0. 0. 0. 0. 0.]\n",
      "Mean RMSE:  0.0\n",
      "Standard Deviation RMSE:  0.0\n",
      "\n",
      "\n",
      "##########Test##########\n",
      "R2\n",
      "[-9.23872017e-01 -1.11462585e+01 -2.77103032e-01 -2.20144202e-01\n",
      "  4.52146308e-01  3.64729625e-02 -2.10668010e-01 -1.54717007e-03\n",
      " -6.19327871e+00  3.63726164e-01]\n",
      "-1.8120526228211316\n",
      "RMSE\n",
      "[31.86720213 26.44376783 14.80463248 17.96138716 10.05051527 28.05978312\n",
      "  5.83511537 30.82809479 24.67552769 10.0198137 ]\n",
      "Mean RMSE:  20.054583953849253\n",
      "Standard Deviation RMSE:  9.037583988144952\n"
     ]
    }
   ],
   "source": [
    "from sklearn.tree import DecisionTreeRegressor\n",
    "dt = DecisionTreeRegressor()\n",
    "\n",
    "cv_feature_set(dt, all_num_dem, grad_rates)\n"
   ]
  },
  {
   "cell_type": "markdown",
   "metadata": {},
   "source": [
    "### Recursive Feature Elimination on Student Count Features"
   ]
  },
  {
   "cell_type": "code",
   "execution_count": 12,
   "metadata": {},
   "outputs": [
    {
     "data": {
      "text/plain": [
       "RFE(estimator=LinearRegression(copy_X=True, fit_intercept=True, n_jobs=None,\n",
       "                               normalize=False),\n",
       "    n_features_to_select=None, step=1, verbose=0)"
      ]
     },
     "execution_count": 12,
     "metadata": {},
     "output_type": "execute_result"
    }
   ],
   "source": [
    "from sklearn.feature_selection import RFE\n",
    "from sklearn.linear_model import LinearRegression\n",
    "from src.cleaning import STUDENT_POP_FEATURE_LIST\n",
    "\n",
    "lr = LinearRegression()\n",
    "\n",
    "# leave defualt n_features_to_select which selects half\n",
    "rfe = RFE(lr)\n",
    "\n",
    "dem_features = main_networks_1819[STUDENT_POP_FEATURE_LIST]\n",
    "\n",
    "rfe.fit(dem_features, main_networks_1819['Graduation_Rate_School'])"
   ]
  },
  {
   "cell_type": "code",
   "execution_count": 13,
   "metadata": {},
   "outputs": [
    {
     "name": "stdout",
     "output_type": "stream",
     "text": [
      "Student_Count_Total 2\n",
      "Student_Count_Low_Income 7\n",
      "Student_Count_Special_Ed 5\n",
      "Student_Count_English_Learners 6\n",
      "Student_Count_Black 1\n",
      "Student_Count_Hispanic 1\n",
      "Student_Count_White 1\n",
      "Student_Count_Asian 1\n",
      "Student_Count_Native_American 1\n",
      "Student_Count_Other_Ethnicity 8\n",
      "Student_Count_Asian_Pacific_Islander 1\n",
      "Student_Count_Multi 3\n",
      "Student_Count_Hawaiian_Pacific_Islander 4\n",
      "Student_Count_Ethnicity_Not_Available 1\n"
     ]
    }
   ],
   "source": [
    "for dem, rank in zip(STUDENT_POP_FEATURE_LIST, rfe.ranking_):\n",
    "    print(dem, rank)"
   ]
  },
  {
   "cell_type": "markdown",
   "metadata": {},
   "source": [
    "From recursive feature elimination, the most important features for predicting graduation rates are all racial. This is suprising, since there are relatively high correlations with Total Student Count and low income students."
   ]
  },
  {
   "cell_type": "markdown",
   "metadata": {},
   "source": [
    "#### Add perc_low_income to RFE"
   ]
  },
  {
   "cell_type": "code",
   "execution_count": 14,
   "metadata": {},
   "outputs": [],
   "source": [
    "STUDENT_POP_FEATURE_LIST.append('perc_low_income')"
   ]
  },
  {
   "cell_type": "code",
   "execution_count": 15,
   "metadata": {},
   "outputs": [
    {
     "data": {
      "text/plain": [
       "RFE(estimator=LinearRegression(copy_X=True, fit_intercept=True, n_jobs=None,\n",
       "                               normalize=False),\n",
       "    n_features_to_select=None, step=1, verbose=0)"
      ]
     },
     "execution_count": 15,
     "metadata": {},
     "output_type": "execute_result"
    }
   ],
   "source": [
    "\n",
    "lr = LinearRegression()\n",
    "\n",
    "# leave defualt n_features_to_select which selects half\n",
    "rfe = RFE(lr)\n",
    "\n",
    "dem_features = main_networks_1819[STUDENT_POP_FEATURE_LIST]\n",
    "\n",
    "rfe.fit(dem_features, main_networks_1819['Graduation_Rate_School'])"
   ]
  },
  {
   "cell_type": "code",
   "execution_count": 17,
   "metadata": {},
   "outputs": [
    {
     "name": "stdout",
     "output_type": "stream",
     "text": [
      "Student_Count_Total 3\n",
      "Student_Count_Low_Income 7\n",
      "Student_Count_Special_Ed 6\n",
      "Student_Count_English_Learners 8\n",
      "Student_Count_Black 1\n",
      "Student_Count_Hispanic 1\n",
      "Student_Count_White 2\n",
      "Student_Count_Asian 1\n",
      "Student_Count_Native_American 4\n",
      "Student_Count_Other_Ethnicity 9\n",
      "Student_Count_Asian_Pacific_Islander 1\n",
      "Student_Count_Multi 5\n",
      "Student_Count_Hawaiian_Pacific_Islander 1\n",
      "Student_Count_Ethnicity_Not_Available 1\n",
      "perc_low_income 1\n"
     ]
    }
   ],
   "source": [
    "for dem, rank in zip(STUDENT_POP_FEATURE_LIST, rfe.ranking_):\n",
    "    print(dem, rank)"
   ]
  },
  {
   "cell_type": "markdown",
   "metadata": {},
   "source": [
    "Adding perc_low_income bumps up low income to be considered an important feature."
   ]
  },
  {
   "cell_type": "markdown",
   "metadata": {},
   "source": [
    "# Inverse Log transform target"
   ]
  },
  {
   "cell_type": "code",
   "execution_count": 16,
   "metadata": {},
   "outputs": [
    {
     "ename": "NameError",
     "evalue": "name 'X_train' is not defined",
     "output_type": "error",
     "traceback": [
      "\u001b[0;31m---------------------------------------------------------------------------\u001b[0m",
      "\u001b[0;31mNameError\u001b[0m                                 Traceback (most recent call last)",
      "\u001b[0;32m<ipython-input-16-2cb1dbe3fee5>\u001b[0m in \u001b[0;36m<module>\u001b[0;34m\u001b[0m\n\u001b[0;32m----> 1\u001b[0;31m \u001b[0my_hat_train\u001b[0m \u001b[0;34m=\u001b[0m \u001b[0mprint_cv_results\u001b[0m\u001b[0;34m(\u001b[0m\u001b[0mlr\u001b[0m\u001b[0;34m,\u001b[0m\u001b[0mX_train\u001b[0m\u001b[0;34m,\u001b[0m \u001b[0;34m[\u001b[0m\u001b[0;34m'Student_Count_Total'\u001b[0m\u001b[0;34m]\u001b[0m\u001b[0;34m,\u001b[0m \u001b[0mnp\u001b[0m\u001b[0;34m.\u001b[0m\u001b[0mlog\u001b[0m\u001b[0;34m(\u001b[0m\u001b[0;36m100\u001b[0m\u001b[0;34m-\u001b[0m\u001b[0my_train\u001b[0m\u001b[0;34m)\u001b[0m \u001b[0;34m)\u001b[0m\u001b[0;34m\u001b[0m\u001b[0;34m\u001b[0m\u001b[0m\n\u001b[0m",
      "\u001b[0;31mNameError\u001b[0m: name 'X_train' is not defined"
     ]
    }
   ],
   "source": [
    "y_hat_train = print_cv_results(lr,X_train, ['Student_Count_Total'], np.log(100-y_train) )"
   ]
  },
  {
   "cell_type": "code",
   "execution_count": null,
   "metadata": {},
   "outputs": [],
   "source": [
    "from sklearn.metrics import mean_squared_error, r2_score\n",
    "y_hat_train_untransformed = 100 - np.e**y_hat_train\n",
    "\n",
    "rmse = mean_squared_error(y_train, y_hat_train_untransformed, squared=False)\n",
    "print(rmse)\n",
    "\n",
    "r2 = r2_score(y_train, y_hat_train_untransformed)\n",
    "print(r2)"
   ]
  },
  {
   "cell_type": "markdown",
   "metadata": {},
   "source": [
    "## One Hot Encode Networks"
   ]
  },
  {
   "cell_type": "code",
   "execution_count": null,
   "metadata": {},
   "outputs": [],
   "source": [
    "from sklearn.impute import SimpleImputer\n",
    "\n",
    "network_imputer = SimpleImputer(strategy='constant', fill_value='missing')\n",
    "\n",
    "X_train['Network'] = network_imputer.fit_transform(X_train[['Network']])"
   ]
  },
  {
   "cell_type": "code",
   "execution_count": null,
   "metadata": {},
   "outputs": [],
   "source": [
    "from sklearn.compose import ColumnTransformer\n",
    "from sklearn.pipeline import make_pipeline\n",
    "from sklearn.preprocessing import OneHotEncoder\n",
    "\n",
    "\n",
    "# network_imputer = ColumnTransformer([('network_impute', SimpleImputer(strategy='constant', fill_value='missing'), ['Network'])], \n",
    "#                                          remainder='passthrough')\n",
    "\n",
    "\n",
    "# network_transformer = ColumnTransformer( [('network_impute', SimpleImputer(strategy='constant', fill_value='missing'), ['Network']), \n",
    "#                                          ('network_ohe', OneHotEncoder(handle_unknown='ignore'), ['Network'])], \n",
    "#                                          remainder='passthrough')\n",
    "\n",
    "\n",
    "network_ohe = ColumnTransformer([ \n",
    "                                          ('network_ohe', OneHotEncoder(handle_unknown='ignore'), ['Network'])], \n",
    "                                         remainder='passthrough')\n",
    "\n",
    "network_pipe = make_pipeline(network_ohe, LinearRegression())\n",
    "\n",
    "cv_cps(network_pipe, X_train, y_train, ['Student_Count_Total', 'perc_low_income', 'Network'])"
   ]
  },
  {
   "cell_type": "markdown",
   "metadata": {},
   "source": [
    "Adding Network One Hot Encoded columns decreases the bias, but increases the vaiance.  There is even one negative R^2 score which is particularly worrisome."
   ]
  },
  {
   "cell_type": "markdown",
   "metadata": {},
   "source": [
    "# High Correlation "
   ]
  },
  {
   "cell_type": "code",
   "execution_count": null,
   "metadata": {},
   "outputs": [],
   "source": [
    "df_train.corr().iloc[-1].dropna().sort_values()"
   ]
  },
  {
   "cell_type": "code",
   "execution_count": null,
   "metadata": {},
   "outputs": [],
   "source": [
    "df_train.corr().iloc[-1].dropna().sort_values(ascending=False)"
   ]
  },
  {
   "cell_type": "code",
   "execution_count": null,
   "metadata": {},
   "outputs": [],
   "source": [
    "df_train[['Graduation_Rate_School', 'Student_Count_Low_Income']].corr()"
   ]
  },
  {
   "cell_type": "code",
   "execution_count": null,
   "metadata": {},
   "outputs": [],
   "source": []
  }
 ],
 "metadata": {
  "interpreter": {
   "hash": "7004dd719ebcc30b0f119d0e8f8b9c1ee28b912a8fcc1b53ff8836ae9bccb98b"
  },
  "kernelspec": {
   "display_name": "Python 3",
   "language": "python",
   "name": "python3"
  },
  "language_info": {
   "codemirror_mode": {
    "name": "ipython",
    "version": 3
   },
   "file_extension": ".py",
   "mimetype": "text/x-python",
   "name": "python",
   "nbconvert_exporter": "python",
   "pygments_lexer": "ipython3",
   "version": "3.7.4"
  }
 },
 "nbformat": 4,
 "nbformat_minor": 4
}
