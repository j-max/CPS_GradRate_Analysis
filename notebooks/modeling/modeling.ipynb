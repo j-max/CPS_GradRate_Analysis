{
 "cells": [
  {
   "cell_type": "markdown",
   "metadata": {},
   "source": [
    "# Imports"
   ]
  },
  {
   "cell_type": "code",
   "execution_count": 14,
   "metadata": {},
   "outputs": [
    {
     "name": "stdout",
     "output_type": "stream",
     "text": [
      "The autoreload extension is already loaded. To reload it, use:\n",
      "  %reload_ext autoreload\n"
     ]
    }
   ],
   "source": [
    "import sys\n",
    "sys.path.append('../..')\n",
    "\n",
    "import pandas as pd\n",
    "import numpy as np\n",
    "import matplotlib.pyplot as plt\n",
    "\n",
    "from src.cleaning import prep_high_school_dataframe\n",
    "from src.cps_model import print_cv_results\n",
    "\n",
    "%load_ext autoreload\n",
    "%autoreload 2"
   ]
  },
  {
   "cell_type": "markdown",
   "metadata": {},
   "source": [
    "# Preprocessing"
   ]
  },
  {
   "cell_type": "markdown",
   "metadata": {},
   "source": [
    "The preprocessing is handled by the methods in the cleaning.py file held in the src folder."
   ]
  },
  {
   "cell_type": "code",
   "execution_count": 15,
   "metadata": {},
   "outputs": [
    {
     "name": "stdout",
     "output_type": "stream",
     "text": [
      "0 Student Count\n",
      "2 schools\n",
      "15     ENGLEWOOD STEM HS\n",
      "582       YCCS - VIRTUAL\n",
      "Name: Short_Name_sp, dtype: object\n",
      "All 0 Student Count Schools Dropped\n",
      "0 Graduation Rate\n",
      "2 schools\n",
      "261    PATHWAYS - AVONDALE HS\n",
      "343     NORTHSIDE LEARNING HS\n",
      "Name: Short_Name_sp, dtype: object\n",
      "##########\n",
      "NA Graduation Rates\n",
      "38 schools\n",
      "All 0/NA Graduation Rate Schools Dropped\n"
     ]
    }
   ],
   "source": [
    "sy_1819_hs = prep_high_school_dataframe('../../data/chicago_data_portal_csv_files/Chicago_Public_Schools_-_School_Profile_Information_SY1819.csv',\n",
    "                     '../../data/chicago_data_portal_csv_files/Chicago_Public_Schools_-_School_Progress_Reports_SY1819.csv')"
   ]
  },
  {
   "cell_type": "markdown",
   "metadata": {},
   "source": [
    "The original data set has 651 schools. "
   ]
  },
  {
   "cell_type": "code",
   "execution_count": 16,
   "metadata": {},
   "outputs": [
    {
     "data": {
      "text/plain": [
       "(134, 277)"
      ]
     },
     "execution_count": 16,
     "metadata": {},
     "output_type": "execute_result"
    }
   ],
   "source": [
    "sy_1819.shape"
   ]
  },
  {
   "cell_type": "markdown",
   "metadata": {},
   "source": [
    "# Note on Validation Strategy\n"
   ]
  },
  {
   "cell_type": "markdown",
   "metadata": {},
   "source": [
    "This project works with a small sample size. There are only 134 high schools with graduation rates in the dataset. With a larger sample size, I would reserve a holdout set for model validation.  If I were to reserve 20% of the dataset, that would result in less than 30 data points to judge the model.  With such a small set, I would not be confident that the holdout score would be representative of performance on new data.  \n",
    "\n",
    "Instead, I will use cross-validation, with `k=10`. This will allow for each model to train on over 100 schools. The average score across the 13 or so schools in each holdout will give a good idea of how generalizable the model is across the dataset.  \n"
   ]
  },
  {
   "cell_type": "markdown",
   "metadata": {},
   "source": [
    "After the split, there are 27 schools held out in the test set.   I will use a cross val of 4 on the training set to assign a similar number of schools to each fold (~26)."
   ]
  },
  {
   "cell_type": "markdown",
   "metadata": {},
   "source": [
    "# Modeling on the 4 Main Networks: 14, 15, 16, 17"
   ]
  },
  {
   "cell_type": "markdown",
   "metadata": {},
   "source": [
    "To begin, I will create a model on the 4 main networks in CPS.  I made this decision because the schools in the other networks in the data set may have different objectives, and graduation rate may be deemphasized as a metric for school success. "
   ]
  },
  {
   "cell_type": "code",
   "execution_count": 17,
   "metadata": {},
   "outputs": [
    {
     "name": "stdout",
     "output_type": "stream",
     "text": [
      "0 Student Count\n",
      "2 schools\n",
      "15     ENGLEWOOD STEM HS\n",
      "582       YCCS - VIRTUAL\n",
      "Name: Short_Name_sp, dtype: object\n",
      "All 0 Student Count Schools Dropped\n",
      "0 Graduation Rate\n",
      "2 schools\n",
      "261    PATHWAYS - AVONDALE HS\n",
      "343     NORTHSIDE LEARNING HS\n",
      "Name: Short_Name_sp, dtype: object\n",
      "##########\n",
      "NA Graduation Rates\n",
      "38 schools\n",
      "All 0/NA Graduation Rate Schools Dropped\n"
     ]
    }
   ],
   "source": [
    "main_networks_1819 = prep_high_school_dataframe('../../data/chicago_data_portal_csv_files/Chicago_Public_Schools_-_School_Profile_Information_SY1819.csv',\n",
    "                     '../../data/chicago_data_portal_csv_files/Chicago_Public_Schools_-_School_Progress_Reports_SY1819.csv',\n",
    "                                               isolate_main_nw=True)"
   ]
  },
  {
   "cell_type": "code",
   "execution_count": 18,
   "metadata": {},
   "outputs": [
    {
     "data": {
      "text/plain": [
       "(68,)"
      ]
     },
     "execution_count": 18,
     "metadata": {},
     "output_type": "execute_result"
    }
   ],
   "source": [
    "# After isolating the main networks, there are only 68 schools left in the dataset.\n",
    "main_networks_1819['Network'].shape"
   ]
  },
  {
   "cell_type": "markdown",
   "metadata": {},
   "source": [
    "# FSM: Mean Prediction"
   ]
  },
  {
   "cell_type": "markdown",
   "metadata": {},
   "source": [
    "## Mean\n",
    "\n",
    "For a first simple model, I predict the mean of the graduation rates using a DummyRegressor."
   ]
  },
  {
   "cell_type": "code",
   "execution_count": 67,
   "metadata": {},
   "outputs": [],
   "source": [
    "grad_rates = main_networks_1819['Graduation_Rate_School']\n",
    "main_nw_features = main_networks_1819.drop('Graduation_Rate_School', axis=1)"
   ]
  },
  {
   "cell_type": "code",
   "execution_count": 72,
   "metadata": {},
   "outputs": [
    {
     "name": "stdout",
     "output_type": "stream",
     "text": [
      "##########Training##########\n",
      "R2: Simple prediction of mean\n",
      "[0. 0. 0. 0. 0. 0. 0. 0. 0. 0.]\n",
      "0.0\n",
      "RMSE: Simple prediction of mean\n",
      "[18.52656554 21.21163853 21.16680124 20.7829701  20.22523748 19.4474703\n",
      " 21.37278005 18.86203691 21.19845656 21.01146737]\n",
      "Mean RMSE:  20.38054240869311\n",
      "Standard Deviation RMSE:  1.0079826149228166\n",
      "##########Test##########\n",
      "R2: Simple prediction of mean\n",
      "[-5.20221350e-01 -9.27756941e-04 -1.15113924e-03 -1.21703171e-01\n",
      " -2.03572155e+00 -7.93842619e-02 -5.75188353e-01 -1.46263477e-02\n",
      " -3.46418740e-01 -1.29884999e+00]\n",
      "-0.4994192668200245\n",
      "RMSE: Simple prediction of mean\n",
      "[33.21759958 11.6076853  12.30047658 17.17240936 22.96319993 27.66935415\n",
      "  8.82346438 30.92988261  9.48741718 13.35744777]\n",
      "Mean RMSE:  18.752893684194127\n",
      "Standard Deviation RMSE:  8.737710225022257\n"
     ]
    }
   ],
   "source": [
    "from src.cps_model import cv_feature_set\n",
    "from sklearn.dummy import DummyRegressor\n",
    "\n",
    "dr = DummyRegressor(strategy='mean')\n",
    "cv_feature_set(dr, main_nw_features, grad_rates)"
   ]
  },
  {
   "cell_type": "markdown",
   "metadata": {},
   "source": [
    "The FSM mean RMSE is just under 19 graduation percentage units off.  The largest split RMSE is 33.218, and the smallest is 8.82."
   ]
  },
  {
   "cell_type": "markdown",
   "metadata": {},
   "source": [
    "# Linear Regression"
   ]
  },
  {
   "cell_type": "markdown",
   "metadata": {},
   "source": [
    "## Simple Linear Regression"
   ]
  },
  {
   "cell_type": "markdown",
   "metadata": {},
   "source": [
    "The FSM only includes one predictor: `Student_Count_Total`, which has a high relative correlation to the target.  "
   ]
  },
  {
   "cell_type": "code",
   "execution_count": 75,
   "metadata": {},
   "outputs": [
    {
     "name": "stdout",
     "output_type": "stream",
     "text": [
      "##########Training##########\n",
      "R2\n",
      "[0.21413856 0.23487189 0.23838294 0.20677489 0.20511789 0.24095914\n",
      " 0.21569063 0.21495491 0.2188254  0.30587505]\n",
      "0.22955913017325535\n",
      "RMSE: Simple prediction of mean\n",
      "[16.42358287 18.55416001 18.47241021 18.50997528 18.03204539 16.94321005\n",
      " 18.92799955 16.7122872  18.73606126 17.50552788]\n",
      "Mean RMSE:  17.881725970625308\n",
      "Standard Deviation RMSE:  0.8694280409780042\n",
      "\n",
      "\n",
      "##########Test##########\n",
      "R2\n",
      "[ -0.15377027  -0.17228578  -0.20605551   0.35896597  -1.01273454\n",
      "   0.0800899    0.40117278   0.22180926   0.23584172 -15.57504072]\n",
      "-1.5822007189870189\n",
      "RMSE: Simple prediction of mean\n",
      "[28.93839929 12.56206417 13.50068377 12.98173685 18.69797993 25.54369241\n",
      "  5.4403101  27.08745692  7.14742464 35.86703445]\n",
      "Mean RMSE:  18.776678252902425\n",
      "Standard Deviation RMSE:  9.60908794955491\n"
     ]
    }
   ],
   "source": [
    "from sklearn.linear_model import LinearRegression\n",
    "\n",
    "lr = LinearRegression()\n",
    "cv_feature_set(lr, main_networks_1819, grad_rates, ['Student_Count_Total'])"
   ]
  },
  {
   "cell_type": "markdown",
   "metadata": {},
   "source": [
    "## Add perc_low_income_students"
   ]
  },
  {
   "cell_type": "code",
   "execution_count": 79,
   "metadata": {},
   "outputs": [
    {
     "name": "stdout",
     "output_type": "stream",
     "text": [
      "##########Training##########\n",
      "R2\n",
      "[0.23553861 0.24460577 0.25131037 0.21668252 0.20816735 0.26600727\n",
      " 0.22493134 0.21872107 0.23073608 0.32345047]\n",
      "0.24201508424590887\n",
      "RMSE\n",
      "[16.19842146 18.43576015 18.31496702 18.39401438 17.9974233  16.66130432\n",
      " 18.81616468 16.67215146 18.59267699 17.28248473]\n",
      "Mean RMSE:  17.73653684927261\n",
      "Standard Deviation RMSE:  0.8990777965495196\n",
      "\n",
      "\n",
      "##########Test##########\n",
      "R2\n",
      "[-2.00531463e-01 -1.16553546e-01 -2.56049272e-01  3.85067734e-01\n",
      " -8.62877311e-01  1.30382292e-02  5.47775520e-01  2.47668643e-01\n",
      "  1.69161137e-01 -1.66557563e+01]\n",
      "-1.67290566397221\n",
      "RMSE\n",
      "[29.51899755 12.25981838 13.7776597  12.71469362 17.98844268 26.45825189\n",
      "  4.72770016 26.63359464  7.45274609 37.0178619 ]\n",
      "Mean RMSE:  18.854976659667365\n",
      "Standard Deviation RMSE:  9.996241565239323\n"
     ]
    }
   ],
   "source": [
    "lr = LinearRegression()\n",
    "cv_feature_set(lr, main_networks_1819, grad_rates, \n",
    "               ['Student_Count_Total', 'perc_low_income'])\n"
   ]
  },
  {
   "cell_type": "markdown",
   "metadata": {},
   "source": [
    "# Decision Tree Regressor"
   ]
  },
  {
   "cell_type": "code",
   "execution_count": 11,
   "metadata": {},
   "outputs": [
    {
     "name": "stdout",
     "output_type": "stream",
     "text": [
      "#####r2#####\n",
      "0.9569634244212804\n",
      "test\n",
      "[-0.87804874  0.04920533 -0.22270645]\n",
      "-0.3505166206458689\n",
      "#####rmse#####\n",
      "#####Train####\n",
      "[4.33678176 6.16672694 0.        ]\n",
      "3.501169566833943\n",
      "test\n",
      "[29.17101396 21.79167145 22.23540292]\n",
      "24.3993627749896\n",
      "cross val predict metrics: test scores\n",
      "RMSE\n",
      "24.653516744076644\n",
      "r2\n",
      "-0.3155158352967107\n"
     ]
    }
   ],
   "source": [
    "from sklearn.tree import DecisionTreeRegressor\n",
    "\n",
    "dt = DecisionTreeRegressor()\n",
    "\n",
    "y_hat_dt = print_cv_results(dt,X_train, ['Student_Count_Total'], y_train )"
   ]
  },
  {
   "cell_type": "markdown",
   "metadata": {},
   "source": [
    "## Add perc_low_income"
   ]
  },
  {
   "cell_type": "code",
   "execution_count": 12,
   "metadata": {},
   "outputs": [
    {
     "name": "stdout",
     "output_type": "stream",
     "text": [
      "#####r2#####\n",
      "1.0\n",
      "test\n",
      "[-0.38770439 -0.07178267  0.0250221 ]\n",
      "-0.14482165384513046\n",
      "#####rmse#####\n",
      "#####Train####\n",
      "[0. 0. 0.]\n",
      "-0.0\n",
      "test\n",
      "[25.07532541 23.13665322 19.855521  ]\n",
      "22.689166544386143\n",
      "cross val predict metrics: test scores\n",
      "RMSE\n",
      "23.44188080553552\n",
      "r2\n",
      "-0.1893871153547504\n"
     ]
    }
   ],
   "source": [
    "y_hat = print_cv_results(dt, X_train, ['Student_Count_Total', 'perc_low_income'], y_train )"
   ]
  },
  {
   "cell_type": "markdown",
   "metadata": {},
   "source": [
    "# Random Forest Regressor"
   ]
  },
  {
   "cell_type": "code",
   "execution_count": 15,
   "metadata": {},
   "outputs": [
    {
     "name": "stdout",
     "output_type": "stream",
     "text": [
      "#####r2#####\n",
      "0.8351559691111854\n",
      "test\n",
      "[-0.44609044  0.28913551  0.0609022 ]\n",
      "-0.03201757499461866\n",
      "#####rmse#####\n",
      "#####Train####\n",
      "[ 6.97731502 10.22706615  8.41695865]\n",
      "8.540446606361657\n",
      "test\n",
      "[25.59739812 18.84258936 19.48674544]\n",
      "21.30891097083011\n",
      "cross val predict metrics: test scores\n",
      "RMSE\n",
      "21.543345217399533\n",
      "r2\n",
      "-0.0045339157874995095\n"
     ]
    }
   ],
   "source": [
    "from sklearn.ensemble import RandomForestRegressor\n",
    "\n",
    "rf = RandomForestRegressor(random_state=42)\n",
    "\n",
    "y_hat_dt = print_cv_results(rf, X_train, ['Student_Count_Total'], y_train )"
   ]
  },
  {
   "cell_type": "markdown",
   "metadata": {},
   "source": [
    "## Add perc_low_income"
   ]
  },
  {
   "cell_type": "code",
   "execution_count": 16,
   "metadata": {},
   "outputs": [
    {
     "name": "stdout",
     "output_type": "stream",
     "text": [
      "#####r2#####\n",
      "0.8755205192683565\n",
      "test\n",
      "[0.17312212 0.35463075 0.12792682]\n",
      "0.2185598948217468\n",
      "#####rmse#####\n",
      "#####Train####\n",
      "[6.08589696 8.24089836 8.10699009]\n",
      "7.4779284717728105\n",
      "test\n",
      "[19.35614132 17.95359016 18.77847701]\n",
      "18.696069494374026\n",
      "cross val predict metrics: test scores\n",
      "RMSE\n",
      "18.704237558001886\n",
      "r2\n",
      "0.24278651047274669\n"
     ]
    }
   ],
   "source": [
    "y_hat = print_cv_results(rf, X_train, ['Student_Count_Total', 'perc_low_income'], y_train )"
   ]
  },
  {
   "cell_type": "markdown",
   "metadata": {},
   "source": [
    "# Best so far: 18.704 RMSE"
   ]
  },
  {
   "cell_type": "markdown",
   "metadata": {},
   "source": [
    "# Inverse Log transform target"
   ]
  },
  {
   "cell_type": "code",
   "execution_count": 18,
   "metadata": {},
   "outputs": [
    {
     "name": "stdout",
     "output_type": "stream",
     "text": [
      "#####r2#####\n",
      "0.24332259579712523\n",
      "test\n",
      "[0.1310171  0.21155901 0.11198908]\n",
      "0.1515217300353819\n",
      "#####rmse#####\n",
      "#####Train####\n",
      "[0.67627829 0.72975271 0.6978114 ]\n",
      "0.7012808018773812\n",
      "test\n",
      "[0.77365276 0.70009198 0.73488376]\n",
      "0.7362095011457256\n",
      "cross val predict metrics: test scores\n",
      "RMSE\n",
      "0.7368404420480538\n",
      "r2\n",
      "0.17029449357156934\n"
     ]
    }
   ],
   "source": [
    "y_hat_train = print_cv_results(lr,X_train, ['Student_Count_Total'], np.log(100-y_train) )"
   ]
  },
  {
   "cell_type": "code",
   "execution_count": 19,
   "metadata": {},
   "outputs": [
    {
     "name": "stdout",
     "output_type": "stream",
     "text": [
      "20.156315026940735\n",
      "0.12065236972536697\n"
     ]
    }
   ],
   "source": [
    "from sklearn.metrics import mean_squared_error, r2_score\n",
    "y_hat_train_untransformed = 100 - np.e**y_hat_train\n",
    "\n",
    "rmse = mean_squared_error(y_train, y_hat_train_untransformed, squared=False)\n",
    "print(rmse)\n",
    "\n",
    "r2 = r2_score(y_train, y_hat_train_untransformed)\n",
    "print(r2)"
   ]
  },
  {
   "cell_type": "markdown",
   "metadata": {},
   "source": [
    "## One Hot Encode Networks"
   ]
  },
  {
   "cell_type": "code",
   "execution_count": null,
   "metadata": {},
   "outputs": [],
   "source": [
    "from sklearn.impute import SimpleImputer\n",
    "\n",
    "network_imputer = SimpleImputer(strategy='constant', fill_value='missing')\n",
    "\n",
    "X_train['Network'] = network_imputer.fit_transform(X_train[['Network']])"
   ]
  },
  {
   "cell_type": "code",
   "execution_count": null,
   "metadata": {},
   "outputs": [],
   "source": [
    "from sklearn.compose import ColumnTransformer\n",
    "from sklearn.pipeline import make_pipeline\n",
    "from sklearn.preprocessing import OneHotEncoder\n",
    "\n",
    "\n",
    "# network_imputer = ColumnTransformer([('network_impute', SimpleImputer(strategy='constant', fill_value='missing'), ['Network'])], \n",
    "#                                          remainder='passthrough')\n",
    "\n",
    "\n",
    "# network_transformer = ColumnTransformer( [('network_impute', SimpleImputer(strategy='constant', fill_value='missing'), ['Network']), \n",
    "#                                          ('network_ohe', OneHotEncoder(handle_unknown='ignore'), ['Network'])], \n",
    "#                                          remainder='passthrough')\n",
    "\n",
    "\n",
    "network_ohe = ColumnTransformer([ \n",
    "                                          ('network_ohe', OneHotEncoder(handle_unknown='ignore'), ['Network'])], \n",
    "                                         remainder='passthrough')\n",
    "\n",
    "network_pipe = make_pipeline(network_ohe, LinearRegression())\n",
    "\n",
    "cv_cps(network_pipe, X_train, y_train, ['Student_Count_Total', 'perc_low_income', 'Network'])"
   ]
  },
  {
   "cell_type": "markdown",
   "metadata": {},
   "source": [
    "Adding Network One Hot Encoded columns decreases the bias, but increases the vaiance.  There is even one negative R^2 score which is particularly worrisome."
   ]
  },
  {
   "cell_type": "markdown",
   "metadata": {},
   "source": [
    "# High Correlation "
   ]
  },
  {
   "cell_type": "code",
   "execution_count": null,
   "metadata": {},
   "outputs": [],
   "source": [
    "df_train.corr().iloc[-1].dropna().sort_values()"
   ]
  },
  {
   "cell_type": "code",
   "execution_count": null,
   "metadata": {},
   "outputs": [],
   "source": [
    "df_train.corr().iloc[-1].dropna().sort_values(ascending=False)"
   ]
  },
  {
   "cell_type": "code",
   "execution_count": null,
   "metadata": {},
   "outputs": [],
   "source": [
    "df_train[['Graduation_Rate_School', 'Student_Count_Low_Income']].corr()"
   ]
  },
  {
   "cell_type": "code",
   "execution_count": null,
   "metadata": {},
   "outputs": [],
   "source": []
  }
 ],
 "metadata": {
  "interpreter": {
   "hash": "7004dd719ebcc30b0f119d0e8f8b9c1ee28b912a8fcc1b53ff8836ae9bccb98b"
  },
  "kernelspec": {
   "display_name": "Python 3",
   "language": "python",
   "name": "python3"
  },
  "language_info": {
   "codemirror_mode": {
    "name": "ipython",
    "version": 3
   },
   "file_extension": ".py",
   "mimetype": "text/x-python",
   "name": "python",
   "nbconvert_exporter": "python",
   "pygments_lexer": "ipython3",
   "version": "3.7.4"
  }
 },
 "nbformat": 4,
 "nbformat_minor": 4
}
