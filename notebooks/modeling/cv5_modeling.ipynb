{
 "cells": [
  {
   "cell_type": "markdown",
   "metadata": {},
   "source": [
    "# Imports\n",
    "    \n",
    "    \n",
    "\n",
    "    "
   ]
  },
  {
   "cell_type": "code",
   "execution_count": 24,
   "metadata": {},
   "outputs": [
    {
     "name": "stdout",
     "output_type": "stream",
     "text": [
      "The autoreload extension is already loaded. To reload it, use:\n",
      "  %reload_ext autoreload\n"
     ]
    }
   ],
   "source": [
    "import os, sys\n",
    "\n",
    "# Set absolute path to the root folder of the directory\n",
    "full_path = os.getcwd()\n",
    "home_folder = 'CPS_GradRate_Analysis'\n",
    "root = full_path.split(home_folder)[0] + home_folder + '/'\n",
    "sys.path.append(root)\n",
    "\n",
    "\n",
    "import pandas as pd\n",
    "pd.set_option('display.max_columns', None)\n",
    "import numpy as np\n",
    "import matplotlib.pyplot as plt\n",
    "\n",
    "import sklearn.pipeline\n",
    "from sklearn.linear_model import LinearRegression\n",
    "\n",
    "from statsmodels.graphics.gofplots import qqplot\n",
    "\n",
    "\n",
    "from src.preprocessing.preprocessing_schoolid import merge_pr_and_sp\n",
    "from src.preprocessing.preprocessing_schoolid import create_df_for_modeling\n",
    "import matplotlib.pyplot as plt\n",
    "\n",
    "%load_ext autoreload\n",
    "%autoreload 2"
   ]
  },
  {
   "cell_type": "markdown",
   "metadata": {},
   "source": [
    "# Data Import and Train Test Split"
   ]
  },
  {
   "cell_type": "code",
   "execution_count": 17,
   "metadata": {},
   "outputs": [],
   "source": [
    "path_to_sp_csv = '../../data/chicago_data_portal_csv_files/Chicago_Public_Schools_-_School_Profile_Information_SY1819.csv'\n",
    "path_to_pr_csv = '../../data/chicago_data_portal_csv_files/Chicago_Public_Schools_-_School_Progress_Reports_SY1819.csv'\n",
    "\n",
    "hs_201819 = merge_pr_and_sp(path_to_sp_csv, path_to_pr_csv)\n"
   ]
  },
  {
   "cell_type": "code",
   "execution_count": 18,
   "metadata": {},
   "outputs": [],
   "source": [
    "from sklearn.model_selection import train_test_split, cross_validate\n",
    "\n",
    "X = hs_201819.drop('Graduation_Rate_School', axis=1)\n",
    "y = hs_201819.loc[:,'Graduation_Rate_School']\n",
    "\n",
    "X_train, X_test, y_train, y_test = train_test_split(X,y, random_state = 42)"
   ]
  },
  {
   "cell_type": "code",
   "execution_count": 19,
   "metadata": {},
   "outputs": [],
   "source": [
    "train_df = X_train.merge(y_train, left_index=True, right_index=True)"
   ]
  },
  {
   "cell_type": "code",
   "execution_count": 20,
   "metadata": {},
   "outputs": [],
   "source": [
    "train_df = create_df_for_modeling(train_df)"
   ]
  },
  {
   "cell_type": "code",
   "execution_count": 21,
   "metadata": {},
   "outputs": [],
   "source": [
    "X_train = train_df.drop('Graduation_Rate_School', axis=1)\n",
    "y_train = train_df['Graduation_Rate_School']"
   ]
  },
  {
   "cell_type": "markdown",
   "metadata": {},
   "source": [
    "Find the first simple model in the fsm.ipynb notebook in the same folder as this notebook. It is a simple linear regression which predicts graduation rates of schools in the 2018-19 school year with Student Count Total.   The FSM's R^2 was .186 average across 3 fold crossvalidation.  Student Count Total had a coefficient of .0145, which can be understood as: for every 100 students, the graduation rate goes increases by 1.45 points."
   ]
  },
  {
   "cell_type": "markdown",
   "metadata": {},
   "source": [
    "### Cross Validation Function"
   ]
  },
  {
   "cell_type": "code",
   "execution_count": 55,
   "metadata": {},
   "outputs": [],
   "source": [
    "def cps_cross_validate(exogenous_feature_name_list, estimator=LinearRegression()):\n",
    "    cv = cross_validate(estimator, X_train[exogenous_feature_name_list], y_train, \n",
    "                        cv=5, return_train_score=True)\n",
    "    print('##########train mean R^2#############')\n",
    "    print(np.mean(cv['train_score']))\n",
    "    print('##########teast mean R^2#############')\n",
    "    print(np.mean(cv['test_score']))\n",
    "    print('#####################################')\n",
    "    print(cv['train_score'])\n",
    "    print(cv['test_score'])\n",
    "    print('##########Coefficients after fit on entire train #############')\n",
    "    \n",
    "    # When a pipeline is used, the name_steps have to be extracted from the pipeline object.  \n",
    "    # The else statement below takes care of that.\n",
    "    \n",
    "    if type(estimator) != sklearn.pipeline.Pipeline:\n",
    "        \n",
    "        model = estimator\n",
    "        model.fit(X_train[exogenous_feature_name_list], y_train)\n",
    "        for coef, col in zip (model.coef_, exogenous_feature_name_list):\n",
    "            print(coef, col)\n",
    "\n",
    "        y_hat_train = model.predict(X_train[exogenous_feature_name_list])\n",
    "        resids = y_train - y_hat_train\n",
    "\n",
    "        fig, (ax1, ax2) = plt.subplots(2,1, figsize=(7,7))\n",
    "        ax1.scatter(y_hat_train, resids)\n",
    "        \n",
    "        qqplot(resids, ax=ax2, line='q')\n",
    "        \n",
    "    \n",
    "    else: \n",
    "        model = estimator\n",
    "        model.fit(X_train[exogenous_feature_name_list], y_train)\n",
    "        for coef, col in zip (model.named_steps['linearregression'].coef_, exogenous_feature_name_list):\n",
    "            print(coef, col)\n",
    "\n",
    "        y_hat_train = model.predict(X_train[exogenous_feature_name_list])\n",
    "        resids = y_train - y_hat_train\n",
    "\n",
    "        fig, (ax1,ax2) = plt.subplots(2,1, figsize=(7,7))\n",
    "        ax1.scatter(y_hat_train, resids)        \n",
    "        \n",
    "        ax1.scatter(y_hat_train, resids)\n",
    "        \n",
    "        qqplot(resids, ax=ax2, line='q')\n"
   ]
  },
  {
   "cell_type": "code",
   "execution_count": 38,
   "metadata": {},
   "outputs": [
    {
     "name": "stdout",
     "output_type": "stream",
     "text": [
      "##########train mean R^2#############\n",
      "0.20410160794947468\n",
      "##########teast mean R^2#############\n",
      "0.12394979926958487\n",
      "#####################################\n",
      "[0.24468487 0.24534349 0.18518471 0.17538996 0.16990501]\n",
      "[ 0.03757531 -0.11925122  0.24051018  0.15324784  0.30766688]\n",
      "##########Coefficients after fit on entire train #############\n",
      "0.009141668216549536 Student_Count_Total\n"
     ]
    },
    {
     "data": {
      "image/png": "[encoded data removed]",
      "text/plain": [
       "<Figure size 504x504 with 2 Axes>"
      ]
     },
     "metadata": {
      "needs_background": "light"
     },
     "output_type": "display_data"
    }
   ],
   "source": [
    "cps_cross_validate(['Student_Count_Total'])"
   ]
  },
  {
   "cell_type": "markdown",
   "metadata": {},
   "source": [
    "# Model Iterations"
   ]
  },
  {
   "cell_type": "markdown",
   "metadata": {},
   "source": [
    "## Add Percent Low Income"
   ]
  },
  {
   "cell_type": "markdown",
   "metadata": {},
   "source": [
    "Next, I will add a percent low income students to the model.  This will help quantify how "
   ]
  },
  {
   "cell_type": "code",
   "execution_count": 39,
   "metadata": {},
   "outputs": [
    {
     "data": {
      "text/plain": [
       "284    0.960870\n",
       "73     0.752475\n",
       "66     0.749803\n",
       "260    0.772727\n",
       "23     0.857143\n",
       "         ...   \n",
       "560    0.827755\n",
       "313    0.803797\n",
       "160    0.850156\n",
       "276    0.948787\n",
       "20     0.800718\n",
       "Name: perc_low_income, Length: 97, dtype: float64"
      ]
     },
     "execution_count": 39,
     "metadata": {},
     "output_type": "execute_result"
    }
   ],
   "source": [
    "X_train['perc_low_income']"
   ]
  },
  {
   "cell_type": "code",
   "execution_count": 40,
   "metadata": {},
   "outputs": [
    {
     "name": "stdout",
     "output_type": "stream",
     "text": [
      "##########train mean R^2#############\n",
      "0.27649145739968545\n",
      "##########teast mean R^2#############\n",
      "0.16844662643285563\n",
      "#####################################\n",
      "[0.30204998 0.31263943 0.2191205  0.26828322 0.28036415]\n",
      "[ 0.14380646 -0.02891625  0.44163658  0.06727258  0.21843376]\n",
      "##########Coefficients after fit on entire train #############\n",
      "0.005869482093474047 Student_Count_Total\n",
      "-27.13956593676595 perc_low_income\n"
     ]
    },
    {
     "data": {
      "image/png": "[encoded data removed]",
      "text/plain": [
       "<Figure size 504x504 with 2 Axes>"
      ]
     },
     "metadata": {
      "needs_background": "light"
     },
     "output_type": "display_data"
    }
   ],
   "source": [
    "cps_cross_validate(['Student_Count_Total', 'perc_low_income'])"
   ]
  },
  {
   "cell_type": "markdown",
   "metadata": {},
   "source": [
    "> adding percent low income results in a significant increase in both train and validation R^2."
   ]
  },
  {
   "cell_type": "markdown",
   "metadata": {},
   "source": [
    "## Add Dress Code"
   ]
  },
  {
   "cell_type": "code",
   "execution_count": 41,
   "metadata": {},
   "outputs": [
    {
     "name": "stdout",
     "output_type": "stream",
     "text": [
      "##########train mean R^2#############\n",
      "0.2792826947671993\n",
      "##########teast mean R^2#############\n",
      "0.15347326359334862\n",
      "#####################################\n",
      "[0.30378401 0.31270946 0.22711956 0.27145317 0.28134727]\n",
      "[ 0.14304659 -0.02687326  0.39574529  0.05389571  0.20155199]\n",
      "##########Coefficients after fit on entire train #############\n",
      "0.006131898838802494 Student_Count_Total\n",
      "-28.325793332508454 perc_low_income\n",
      "1.0413104968888691 Dress_Code\n"
     ]
    },
    {
     "data": {
      "image/png": "[encoded data removed]",
      "text/plain": [
       "<Figure size 504x504 with 2 Axes>"
      ]
     },
     "metadata": {
      "needs_background": "light"
     },
     "output_type": "display_data"
    }
   ],
   "source": [
    "cps_cross_validate(['Student_Count_Total', 'perc_low_income', 'Dress_Code'])"
   ]
  },
  {
   "cell_type": "markdown",
   "metadata": {},
   "source": [
    "> Adding dress code improves the train score, but validation scores actually go down a bit."
   ]
  },
  {
   "cell_type": "markdown",
   "metadata": {},
   "source": [
    "## Add Creative School Certification\n",
    "\n",
    "EDA suggested that a Creative School Certification correlates with higher graduation rates. "
   ]
  },
  {
   "cell_type": "code",
   "execution_count": 42,
   "metadata": {},
   "outputs": [
    {
     "data": {
      "text/plain": [
       "Index(['creative_DEVELOPING', 'creative_EXCELLING', 'creative_INCOMPLETE DATA',\n",
       "       'creative_STRONG'],\n",
       "      dtype='object')"
      ]
     },
     "execution_count": 42,
     "metadata": {},
     "output_type": "execute_result"
    }
   ],
   "source": [
    "X_train.columns[X_train.columns.str.startswith('creative')]"
   ]
  },
  {
   "cell_type": "code",
   "execution_count": 43,
   "metadata": {},
   "outputs": [],
   "source": [
    "exog = ['Student_Count_Total', 'perc_low_income', 'Dress_Code']"
   ]
  },
  {
   "cell_type": "code",
   "execution_count": 44,
   "metadata": {},
   "outputs": [],
   "source": [
    "exog.extend(\n",
    "    list(X_train.columns[X_train.columns.str.startswith('creative')]))"
   ]
  },
  {
   "cell_type": "code",
   "execution_count": 45,
   "metadata": {},
   "outputs": [
    {
     "data": {
      "text/plain": [
       "['Student_Count_Total',\n",
       " 'perc_low_income',\n",
       " 'Dress_Code',\n",
       " 'creative_DEVELOPING',\n",
       " 'creative_EXCELLING',\n",
       " 'creative_INCOMPLETE DATA',\n",
       " 'creative_STRONG']"
      ]
     },
     "execution_count": 45,
     "metadata": {},
     "output_type": "execute_result"
    }
   ],
   "source": [
    "exog"
   ]
  },
  {
   "cell_type": "code",
   "execution_count": 46,
   "metadata": {},
   "outputs": [
    {
     "name": "stdout",
     "output_type": "stream",
     "text": [
      "##########train mean R^2#############\n",
      "0.330159864774311\n",
      "##########teast mean R^2#############\n",
      "0.13748996181745932\n",
      "#####################################\n",
      "[0.36560536 0.34806259 0.26945042 0.33303191 0.33464905]\n",
      "[ 0.08584008  0.03414307  0.4504288  -0.06901555  0.1860534 ]\n",
      "##########Coefficients after fit on entire train #############\n",
      "0.004368188955616686 Student_Count_Total\n",
      "-27.320632304686512 perc_low_income\n",
      "0.8433855494641589 Dress_Code\n",
      "3.492433370278744 creative_DEVELOPING\n",
      "7.458665450487075 creative_EXCELLING\n",
      "12.160907231353773 creative_INCOMPLETE DATA\n",
      "5.025907631942957 creative_STRONG\n"
     ]
    },
    {
     "data": {
      "image/png": "[encoded data removed]",
      "text/plain": [
       "<Figure size 504x504 with 2 Axes>"
      ]
     },
     "metadata": {
      "needs_background": "light"
     },
     "output_type": "display_data"
    }
   ],
   "source": [
    "cps_cross_validate(exog)"
   ]
  },
  {
   "cell_type": "markdown",
   "metadata": {},
   "source": [
    "## Add teacher attendance\n"
   ]
  },
  {
   "cell_type": "code",
   "execution_count": 47,
   "metadata": {},
   "outputs": [
    {
     "data": {
      "text/plain": [
       "284      NaN\n",
       "73     93.65\n",
       "66     95.70\n",
       "260    94.55\n",
       "23     92.95\n",
       "       ...  \n",
       "560    94.25\n",
       "313      NaN\n",
       "160      NaN\n",
       "276      NaN\n",
       "20       NaN\n",
       "Name: teacher_attendance, Length: 97, dtype: float64"
      ]
     },
     "execution_count": 47,
     "metadata": {},
     "output_type": "execute_result"
    }
   ],
   "source": [
    "X_train['teacher_attendance']"
   ]
  },
  {
   "cell_type": "code",
   "execution_count": 48,
   "metadata": {},
   "outputs": [
    {
     "data": {
      "text/plain": [
       "32"
      ]
     },
     "execution_count": 48,
     "metadata": {},
     "output_type": "execute_result"
    }
   ],
   "source": [
    "X_train['Teacher_Attendance_Year_2_Pct'].isna().sum()"
   ]
  },
  {
   "cell_type": "code",
   "execution_count": 49,
   "metadata": {},
   "outputs": [],
   "source": [
    "exog = ['Student_Count_Total', 'perc_low_income', 'Dress_Code', 'teacher_attendance']"
   ]
  },
  {
   "cell_type": "code",
   "execution_count": 50,
   "metadata": {},
   "outputs": [],
   "source": [
    "exog.extend(\n",
    "    list(X_train.columns[X_train.columns.str.startswith('creative')]))"
   ]
  },
  {
   "cell_type": "markdown",
   "metadata": {},
   "source": [
    "The teacher_attendance variable requires imputation, since there are 44 nan values.  To prevent data leakage in the cross validation, I will make use of a pipeline.  A simple imputer will apply the imputation correctly across the folds."
   ]
  },
  {
   "cell_type": "code",
   "execution_count": 51,
   "metadata": {},
   "outputs": [],
   "source": [
    "from sklearn.pipeline import make_pipeline\n",
    "from sklearn.impute import SimpleImputer"
   ]
  },
  {
   "cell_type": "code",
   "execution_count": 52,
   "metadata": {},
   "outputs": [],
   "source": [
    "ta_pipe = make_pipeline(SimpleImputer(), LinearRegression())"
   ]
  },
  {
   "cell_type": "code",
   "execution_count": 53,
   "metadata": {},
   "outputs": [
    {
     "data": {
      "text/plain": [
       "array([6.5634926])"
      ]
     },
     "execution_count": 53,
     "metadata": {},
     "output_type": "execute_result"
    }
   ],
   "source": [
    "ta_pipe.fit(X_train[['teacher_attendance']], y_train).named_steps['linearregression'].coef_"
   ]
  },
  {
   "cell_type": "code",
   "execution_count": 56,
   "metadata": {},
   "outputs": [
    {
     "name": "stdout",
     "output_type": "stream",
     "text": [
      "##########train mean R^2#############\n",
      "0.4028965897366007\n",
      "##########teast mean R^2#############\n",
      "0.20535052957067207\n",
      "#####################################\n",
      "[0.39249572 0.42400898 0.3742811  0.41371051 0.40998664]\n",
      "[ 0.28076557  0.08353311  0.40431821 -0.01376877  0.27190454]\n",
      "##########Coefficients after fit on entire train #############\n",
      "0.004891755165974641 Student_Count_Total\n",
      "-20.412934931264164 perc_low_income\n",
      "-0.14130625034635727 Dress_Code\n",
      "4.904614991870853 teacher_attendance\n",
      "1.4787916659636162 creative_DEVELOPING\n",
      "4.824066034398563 creative_EXCELLING\n",
      "10.614138766156504 creative_INCOMPLETE DATA\n",
      "4.495281348996687 creative_STRONG\n"
     ]
    },
    {
     "data": {
      "image/png": "[encoded data removed]",
      "text/plain": [
       "<Figure size 504x504 with 2 Axes>"
      ]
     },
     "metadata": {
      "needs_background": "light"
     },
     "output_type": "display_data"
    }
   ],
   "source": [
    "cps_cross_validate(exog, ta_pipe)"
   ]
  },
  {
   "cell_type": "markdown",
   "metadata": {},
   "source": [
    "Both the training and valdiation scores continue to increase by approximately 7 pts from the previous model.\n",
    "\n",
    "There continues to be high variance, however. The train and validation splits have an approximately 20 pt difference."
   ]
  }
 ],
 "metadata": {
  "celltoolbar": "Attachments",
  "kernelspec": {
   "display_name": "learn-env",
   "language": "python",
   "name": "learn-env"
  },
  "language_info": {
   "codemirror_mode": {
    "name": "ipython",
    "version": 3
   },
   "file_extension": ".py",
   "mimetype": "text/x-python",
   "name": "python",
   "nbconvert_exporter": "python",
   "pygments_lexer": "ipython3",
   "version": "3.7.3"
  },
  "toc": {
   "base_numbering": 1,
   "nav_menu": {},
   "number_sections": true,
   "sideBar": true,
   "skip_h1_title": false,
   "title_cell": "Table of Contents",
   "title_sidebar": "Contents",
   "toc_cell": false,
   "toc_position": {
    "height": "calc(100% - 180px)",
    "left": "10px",
    "top": "150px",
    "width": "272.797px"
   },
   "toc_section_display": true,
   "toc_window_display": true
  },
  "varInspector": {
   "cols": {
    "lenName": 16,
    "lenType": 16,
    "lenVar": 40
   },
   "kernels_config": {
    "python": {
     "delete_cmd_postfix": "",
     "delete_cmd_prefix": "del ",
     "library": "var_list.py",
     "varRefreshCmd": "print(var_dic_list())"
    },
    "r": {
     "delete_cmd_postfix": ") ",
     "delete_cmd_prefix": "rm(",
     "library": "var_list.r",
     "varRefreshCmd": "cat(var_dic_list()) "
    }
   },
   "types_to_exclude": [
    "module",
    "function",
    "builtin_function_or_method",
    "instance",
    "_Feature"
   ],
   "window_display": false
  }
 },
 "nbformat": 4,
 "nbformat_minor": 4
}
