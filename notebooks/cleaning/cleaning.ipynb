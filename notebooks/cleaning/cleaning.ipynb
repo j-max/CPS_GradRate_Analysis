{
 "cells": [
  {
   "cell_type": "code",
   "execution_count": 8,
   "metadata": {},
   "outputs": [
    {
     "name": "stdout",
     "output_type": "stream",
     "text": [
      "The autoreload extension is already loaded. To reload it, use:\n",
      "  %reload_ext autoreload\n"
     ]
    }
   ],
   "source": [
    "%load_ext autoreload\n",
    "%autoreload 2\n",
    "\n",
    "import os, sys\n",
    "# Set absolute path to the root folder of the directory\n",
    "full_path = os.getcwd()\n",
    "home_folder = 'CPS_GradRate_Analysis'\n",
    "root = full_path.split(home_folder)[0] + home_folder + '/'\n",
    "sys.path.append(root)\n",
    "\n",
    "import pandas as pd\n",
    "import numpy as np\n",
    "\n",
    "from src.cleaning import prep_high_school_dataframe\n",
    "from src.cleaning import filter_cwoption_special_ed\n",
    "from src.cleaning import delta_student_count\n",
    "\n",
    "from src.cleaning import import_and_merge_data, drop_no_students, drop_no_grad_rate"
   ]
  },
  {
   "cell_type": "code",
   "execution_count": 3,
   "metadata": {},
   "outputs": [],
   "source": [
    "path_to_pr_1819 = root + 'data/chicago_data_portal_csv_files/Chicago_Public_Schools_-_School_Progress_Reports_SY1819.csv'\n",
    "path_to_sp_1819 = root + 'data/chicago_data_portal_csv_files/Chicago_Public_Schools_-_School_Profile_Information_SY1819.csv'\n",
    "\n",
    "df_1819 = import_and_merge_data(path_to_sp_1819, path_to_pr_1819)"
   ]
  },
  {
   "cell_type": "markdown",
   "metadata": {},
   "source": [
    "# Drop Schools with no recorded students"
   ]
  },
  {
   "cell_type": "markdown",
   "metadata": {},
   "source": [
    "Some of the school records have 0 students recorded.  These are dropped by the cleaning function."
   ]
  },
  {
   "cell_type": "code",
   "execution_count": 40,
   "metadata": {},
   "outputs": [
    {
     "name": "stdout",
     "output_type": "stream",
     "text": [
      "0 Student Count\n",
      "2 schools\n",
      "15     ENGLEWOOD STEM HS\n",
      "582       YCCS - VIRTUAL\n",
      "Name: Short_Name_sp, dtype: object\n",
      "All 0 Student Count Schools Dropped\n"
     ]
    }
   ],
   "source": [
    "df_1819 = drop_no_students(df_1819)"
   ]
  },
  {
   "cell_type": "markdown",
   "metadata": {},
   "source": [
    "# Drop Schools with no graduation rate recorded"
   ]
  },
  {
   "cell_type": "code",
   "execution_count": 41,
   "metadata": {},
   "outputs": [
    {
     "name": "stdout",
     "output_type": "stream",
     "text": [
      "0 Graduation Rate\n",
      "2 schools\n",
      "261    PATHWAYS - AVONDALE HS\n",
      "343     NORTHSIDE LEARNING HS\n",
      "Name: Short_Name_sp, dtype: object\n",
      "All 0 Graduation Rate Schools Dropped\n"
     ]
    }
   ],
   "source": [
    "df_1819 = drop_no_grad_rate(df_1819)"
   ]
  },
  {
   "cell_type": "markdown",
   "metadata": {},
   "source": [
    "## Change from Prior Year"
   ]
  },
  {
   "cell_type": "markdown",
   "metadata": {},
   "source": [
    "Changes in the student populations across years are interesting reflections of school performance. In order to add this data to the dataframes, certain years from the prior year's school profile must be added.  The first column to be added is the change in Total_Student_Count.  Once change in student count has been added, I will look at the correlation to graduation rate.  "
   ]
  },
  {
   "cell_type": "code",
   "execution_count": 18,
   "metadata": {},
   "outputs": [],
   "source": [
    "from src.cleaning import import_and_merge_data\n",
    "\n",
    "path_to_prior_year_sp = root + 'data/chicago_data_portal_csv_files/Chicago_Public_Schools_-_School_Profile_Information_SY1718.csv'\n",
    "path_to_prior_year_pr = root + 'data/chicago_data_portal_csv_files/Chicago_Public_Schools_-_School_Progress_Reports_SY1718.csv'\n",
    "\n",
    "df = delta_student_count(df_1819, path_to_previous_year_sp, path_to_previous_year_pr, new_year_added='1718')"
   ]
  },
  {
   "cell_type": "code",
   "execution_count": 20,
   "metadata": {},
   "outputs": [
    {
     "name": "stdout",
     "output_type": "stream",
     "text": [
      "0 Student Count\n",
      "2 schools\n",
      "15     ENGLEWOOD STEM HS\n",
      "582       YCCS - VIRTUAL\n",
      "Name: Short_Name_sp, dtype: object\n",
      "All 0 Student Count Schools Dropped\n",
      "0 Graduation Rate\n",
      "2 schools\n",
      "261    PATHWAYS - AVONDALE HS\n",
      "343     NORTHSIDE LEARNING HS\n",
      "Name: Short_Name_sp, dtype: object\n",
      "##########\n",
      "NA Graduation Rates\n",
      "38 schools\n",
      "All 0/NA Graduation Rate Schools Dropped\n"
     ]
    }
   ],
   "source": [
    "df_high_school = prep_high_school_dataframe(path_to_sp_1819, path_to_pr_1819, \n",
    "                                            path_to_previous_year_sp, \n",
    "                                            path_to_prior_year_pr)"
   ]
  },
  {
   "cell_type": "code",
   "execution_count": 23,
   "metadata": {},
   "outputs": [
    {
     "data": {
      "text/html": [
       "<div>\n",
       "<style scoped>\n",
       "    .dataframe tbody tr th:only-of-type {\n",
       "        vertical-align: middle;\n",
       "    }\n",
       "\n",
       "    .dataframe tbody tr th {\n",
       "        vertical-align: top;\n",
       "    }\n",
       "\n",
       "    .dataframe thead th {\n",
       "        text-align: right;\n",
       "    }\n",
       "</style>\n",
       "<table border=\"1\" class=\"dataframe\">\n",
       "  <thead>\n",
       "    <tr style=\"text-align: right;\">\n",
       "      <th></th>\n",
       "      <th>Graduation_Rate_School</th>\n",
       "      <th>student_count_total_change_1_year</th>\n",
       "    </tr>\n",
       "  </thead>\n",
       "  <tbody>\n",
       "    <tr>\n",
       "      <td>Graduation_Rate_School</td>\n",
       "      <td>1.000000</td>\n",
       "      <td>-0.176734</td>\n",
       "    </tr>\n",
       "    <tr>\n",
       "      <td>student_count_total_change_1_year</td>\n",
       "      <td>-0.176734</td>\n",
       "      <td>1.000000</td>\n",
       "    </tr>\n",
       "  </tbody>\n",
       "</table>\n",
       "</div>"
      ],
      "text/plain": [
       "                                   Graduation_Rate_School  \\\n",
       "Graduation_Rate_School                           1.000000   \n",
       "student_count_total_change_1_year               -0.176734   \n",
       "\n",
       "                                   student_count_total_change_1_year  \n",
       "Graduation_Rate_School                                     -0.176734  \n",
       "student_count_total_change_1_year                           1.000000  "
      ]
     },
     "execution_count": 23,
     "metadata": {},
     "output_type": "execute_result"
    }
   ],
   "source": [
    "df_high_school[['Graduation_Rate_School', 'student_count_total_change_1_year']].corr()"
   ]
  },
  {
   "cell_type": "code",
   "execution_count": 25,
   "metadata": {},
   "outputs": [
    {
     "data": {
      "text/plain": [
       "0"
      ]
     },
     "execution_count": 25,
     "metadata": {},
     "output_type": "execute_result"
    }
   ],
   "source": [
    "df_high_school['Graduation_Rate_School'].isna().sum()"
   ]
  },
  {
   "cell_type": "markdown",
   "metadata": {},
   "source": [
    "From the above feature engineering, we are left with a column describing change in student count from the prior year. It has a weak negative correlation to graduation rate of the school."
   ]
  },
  {
   "cell_type": "markdown",
   "metadata": {},
   "source": [
    "# Future Steps\n",
    "\n",
    "- Instead of dropping No Student Counts, fill with last year's counts, or fill by adding up counts from other columns."
   ]
  },
  {
   "cell_type": "markdown",
   "metadata": {},
   "source": []
  }
 ],
 "metadata": {
  "interpreter": {
   "hash": "7004dd719ebcc30b0f119d0e8f8b9c1ee28b912a8fcc1b53ff8836ae9bccb98b"
  },
  "kernelspec": {
   "display_name": "Python 3",
   "language": "python",
   "name": "python3"
  },
  "language_info": {
   "codemirror_mode": {
    "name": "ipython",
    "version": 3
   },
   "file_extension": ".py",
   "mimetype": "text/x-python",
   "name": "python",
   "nbconvert_exporter": "python",
   "pygments_lexer": "ipython3",
   "version": "3.7.4"
  }
 },
 "nbformat": 4,
 "nbformat_minor": 2
}
