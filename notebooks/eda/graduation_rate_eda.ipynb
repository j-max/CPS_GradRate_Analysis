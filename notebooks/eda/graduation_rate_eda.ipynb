{
 "cells": [
  {
   "cell_type": "markdown",
   "metadata": {},
   "source": [
    "# TOC\n",
    "\n",
    "  - [Distribution of graduation rates across all schools](#grad_rates)\n",
    "  - [Networks](#networks)\n",
    "  - [Zipcodes](#zipcodes)\n",
    "  - [Charter](#charter)"
   ]
  },
  {
   "cell_type": "code",
   "execution_count": 30,
   "metadata": {},
   "outputs": [
    {
     "name": "stdout",
     "output_type": "stream",
     "text": [
      "The autoreload extension is already loaded. To reload it, use:\n",
      "  %reload_ext autoreload\n"
     ]
    }
   ],
   "source": [
    "import pandas as pd\n",
    "import numpy as np\n",
    "from sys import path\n",
    "import matplotlib.pyplot as plt\n",
    "import geopandas as gpd\n",
    "import seaborn as sns\n",
    "\n",
    "pd.set_option('display.max_columns', None)\n",
    "%load_ext autoreload\n",
    "%autoreload 2"
   ]
  },
  {
   "cell_type": "code",
   "execution_count": 2,
   "metadata": {},
   "outputs": [],
   "source": [
    "# 660 schools across each profile\n",
    "# 1819 is the only csv with valid headers\n",
    "profile_1819 = pd.read_csv('../../data/chicago_data_portal_csv_files/Chicago_Public_Schools_-_School_Profile_Information_SY1819.csv', header='infer')\n",
    "# 95 columns\n",
    "\n",
    "profile_1718 = pd.read_csv('../../data/chicago_data_portal_csv_files/Chicago_Public_Schools_-_School_Profile_Information_SY1718.csv')\n",
    "# 92 columns\n",
    "\n",
    "profile_1617 = pd.read_csv('../../data/chicago_data_portal_csv_files/Chicago_Public_Schools_-_School_Profile_Information_SY1617.csv')\n",
    "# 91 columns\n",
    "\n"
   ]
  },
  {
   "cell_type": "code",
   "execution_count": 3,
   "metadata": {},
   "outputs": [
    {
     "data": {
      "text/plain": [
       "(183, 95)"
      ]
     },
     "execution_count": 3,
     "metadata": {},
     "output_type": "execute_result"
    }
   ],
   "source": [
    "hs_1819 = profile_1819[profile_1819['Is_High_School']==True]\n",
    "hs_1819.shape"
   ]
  },
  {
   "cell_type": "markdown",
   "metadata": {},
   "source": [
    "<a id='grad_rates'></a>"
   ]
  },
  {
   "cell_type": "markdown",
   "metadata": {},
   "source": [
    "# Distribution of Graduation Rates"
   ]
  },
  {
   "cell_type": "code",
   "execution_count": 67,
   "metadata": {},
   "outputs": [
    {
     "data": {
      "image/png": "[encoded data removed]",
      "text/plain": [
       "<Figure size 432x288 with 1 Axes>"
      ]
     },
     "metadata": {
      "needs_background": "light"
     },
     "output_type": "display_data"
    }
   ],
   "source": [
    "fig, ax = plt.subplots()\n",
    "sns.distplot(hs_1819['Graduation_Rate_School'], bins=30, ax=ax, kde=False)\n",
    "mean_gradperc = hs_1819['Graduation_Rate_Mean'].min()\n",
    "ax.axvline(mean_gradperc, c='r')\n",
    "ax.set_title(f'The Mean Graduation Rate is {mean_gradperc}')\n",
    "ax.set_xlabel('Graduation Percentage');"
   ]
  },
  {
   "cell_type": "markdown",
   "metadata": {},
   "source": [
    "# Inspecting High Schools with Graduation Rates below 40"
   ]
  },
  {
   "cell_type": "code",
   "execution_count": 77,
   "metadata": {},
   "outputs": [
    {
     "data": {
      "text/plain": [
       "Options       8\n",
       "Network 14    2\n",
       "Network 16    2\n",
       "Network 15    1\n",
       "AUSL          1\n",
       "Name: Network, dtype: int64"
      ]
     },
     "execution_count": 77,
     "metadata": {},
     "output_type": "execute_result"
    }
   ],
   "source": [
    "hs_1819[hs_1819[\"Graduation_Rate_School\"] < 40]['Network'].value_counts()"
   ]
  },
  {
   "cell_type": "markdown",
   "metadata": {},
   "source": [
    "AUSL stands for Academy for Urban School Leadership.  "
   ]
  },
  {
   "cell_type": "code",
   "execution_count": 113,
   "metadata": {},
   "outputs": [
    {
     "data": {
      "text/plain": [
       "5"
      ]
     },
     "execution_count": 113,
     "metadata": {},
     "output_type": "execute_result"
    }
   ],
   "source": [
    "# There are 5 AUSL Schools\n",
    "hs_1819[hs_1819['Network']=='AUSL']['School_ID'].count()"
   ]
  },
  {
   "cell_type": "code",
   "execution_count": 115,
   "metadata": {},
   "outputs": [
    {
     "data": {
      "text/html": [
       "<div>\n",
       "<style scoped>\n",
       "    .dataframe tbody tr th:only-of-type {\n",
       "        vertical-align: middle;\n",
       "    }\n",
       "\n",
       "    .dataframe tbody tr th {\n",
       "        vertical-align: top;\n",
       "    }\n",
       "\n",
       "    .dataframe thead th {\n",
       "        text-align: right;\n",
       "    }\n",
       "</style>\n",
       "<table border=\"1\" class=\"dataframe\">\n",
       "  <thead>\n",
       "    <tr style=\"text-align: right;\">\n",
       "      <th></th>\n",
       "      <th>School_ID</th>\n",
       "      <th>Legacy_Unit_ID</th>\n",
       "      <th>Finance_ID</th>\n",
       "      <th>Short_Name</th>\n",
       "      <th>Long_Name</th>\n",
       "      <th>Primary_Category</th>\n",
       "      <th>Is_High_School</th>\n",
       "      <th>Is_Middle_School</th>\n",
       "      <th>Is_Elementary_School</th>\n",
       "      <th>Is_Pre_School</th>\n",
       "      <th>Summary</th>\n",
       "      <th>Administrator_Title</th>\n",
       "      <th>Administrator</th>\n",
       "      <th>Secondary_Contact_Title</th>\n",
       "      <th>Secondary_Contact</th>\n",
       "      <th>Address</th>\n",
       "      <th>City</th>\n",
       "      <th>State</th>\n",
       "      <th>Zip</th>\n",
       "      <th>Phone</th>\n",
       "      <th>Fax</th>\n",
       "      <th>CPS_School_Profile</th>\n",
       "      <th>Website</th>\n",
       "      <th>Facebook</th>\n",
       "      <th>Twitter</th>\n",
       "      <th>Youtube</th>\n",
       "      <th>Pinterest</th>\n",
       "      <th>Attendance_Boundaries</th>\n",
       "      <th>Grades_Offered_All</th>\n",
       "      <th>Grades_Offered</th>\n",
       "      <th>Student_Count_Total</th>\n",
       "      <th>Student_Count_Low_Income</th>\n",
       "      <th>Student_Count_Special_Ed</th>\n",
       "      <th>Student_Count_English_Learners</th>\n",
       "      <th>Student_Count_Black</th>\n",
       "      <th>Student_Count_Hispanic</th>\n",
       "      <th>Student_Count_White</th>\n",
       "      <th>Student_Count_Asian</th>\n",
       "      <th>Student_Count_Native_American</th>\n",
       "      <th>Student_Count_Other_Ethnicity</th>\n",
       "      <th>Student_Count_Asian_Pacific_Islander</th>\n",
       "      <th>Student_Count_Multi</th>\n",
       "      <th>Student_Count_Hawaiian_Pacific_Islander</th>\n",
       "      <th>Student_Count_Ethnicity_Not_Available</th>\n",
       "      <th>Statistics_Description</th>\n",
       "      <th>Demographic_Description</th>\n",
       "      <th>Dress_Code</th>\n",
       "      <th>PreK_School_Day</th>\n",
       "      <th>Kindergarten_School_Day</th>\n",
       "      <th>School_Hours</th>\n",
       "      <th>Freshman_Start_End_Time</th>\n",
       "      <th>After_School_Hours</th>\n",
       "      <th>Earliest_Drop_Off_Time</th>\n",
       "      <th>Classroom_Languages</th>\n",
       "      <th>Bilingual_Services</th>\n",
       "      <th>Refugee_Services</th>\n",
       "      <th>Title_1_Eligible</th>\n",
       "      <th>PreSchool_Inclusive</th>\n",
       "      <th>Preschool_Instructional</th>\n",
       "      <th>Significantly_Modified</th>\n",
       "      <th>Hard_Of_Hearing</th>\n",
       "      <th>Visual_Impairments</th>\n",
       "      <th>Transportation_Bus</th>\n",
       "      <th>Transportation_El</th>\n",
       "      <th>Transportation_Metra</th>\n",
       "      <th>School_Latitude</th>\n",
       "      <th>School_Longitude</th>\n",
       "      <th>Average_ACT_School</th>\n",
       "      <th>Mean_ACT</th>\n",
       "      <th>College_Enrollment_Rate_School</th>\n",
       "      <th>College_Enrollment_Rate_Mean</th>\n",
       "      <th>Graduation_Rate_School</th>\n",
       "      <th>Graduation_Rate_Mean</th>\n",
       "      <th>Overall_Rating</th>\n",
       "      <th>Rating_Status</th>\n",
       "      <th>Rating_Statement</th>\n",
       "      <th>Classification_Description</th>\n",
       "      <th>School_Year</th>\n",
       "      <th>Third_Contact_Title</th>\n",
       "      <th>Third_Contact_Name</th>\n",
       "      <th>Fourth_Contact_Title</th>\n",
       "      <th>Fourth_Contact_Name</th>\n",
       "      <th>Fifth_Contact_Title</th>\n",
       "      <th>Fifth_Contact_Name</th>\n",
       "      <th>Sixth_Contact_Title</th>\n",
       "      <th>Sixth_Contact_Name</th>\n",
       "      <th>Seventh_Contact_Title</th>\n",
       "      <th>Seventh_Contact_Name</th>\n",
       "      <th>Network</th>\n",
       "      <th>Is_GoCPS_Participant</th>\n",
       "      <th>Is_GoCPS_PreK</th>\n",
       "      <th>Is_GoCPS_Elementary</th>\n",
       "      <th>Is_GoCPS_High_School</th>\n",
       "      <th>Open_For_Enrollment_Date</th>\n",
       "      <th>Closed_For_Enrollment_Date</th>\n",
       "    </tr>\n",
       "  </thead>\n",
       "  <tbody>\n",
       "    <tr>\n",
       "      <th>0</th>\n",
       "      <td>400172</td>\n",
       "      <td>9647</td>\n",
       "      <td>66255</td>\n",
       "      <td>ASPIRA - BUSINESS &amp; FINANCE HS</td>\n",
       "      <td>ASPIRA Business and Finance</td>\n",
       "      <td>HS</td>\n",
       "      <td>True</td>\n",
       "      <td>False</td>\n",
       "      <td>False</td>\n",
       "      <td>False</td>\n",
       "      <td>The ASPIRA Business and Finance High School ta...</td>\n",
       "      <td>Director</td>\n",
       "      <td>Dr. Hector Freytas</td>\n",
       "      <td>Assistant Principal</td>\n",
       "      <td>Veronica Galindo</td>\n",
       "      <td>2989 N MILWAUKEE AVE</td>\n",
       "      <td>Chicago</td>\n",
       "      <td>Illinois</td>\n",
       "      <td>60618</td>\n",
       "      <td>7.732521e+09</td>\n",
       "      <td>NaN</td>\n",
       "      <td>http://cps.edu/Schools/Pages/school.aspx?Schoo...</td>\n",
       "      <td>http://www.aspirail.org/ASPIRASchools</td>\n",
       "      <td>https://www.facebook.com/ASPIRABusiness</td>\n",
       "      <td>https://twitter.com/ASPIRABusiness</td>\n",
       "      <td>NaN</td>\n",
       "      <td>NaN</td>\n",
       "      <td>False</td>\n",
       "      <td>9,10,11,12</td>\n",
       "      <td>9-12</td>\n",
       "      <td>633</td>\n",
       "      <td>414</td>\n",
       "      <td>130</td>\n",
       "      <td>195</td>\n",
       "      <td>17</td>\n",
       "      <td>597</td>\n",
       "      <td>10</td>\n",
       "      <td>4</td>\n",
       "      <td>1</td>\n",
       "      <td>0</td>\n",
       "      <td>0</td>\n",
       "      <td>4</td>\n",
       "      <td>0</td>\n",
       "      <td>0</td>\n",
       "      <td>There are 633 students enrolled at ASPIRA - BU...</td>\n",
       "      <td>The largest demographic at ASPIRA - BUSINESS &amp;...</td>\n",
       "      <td>True</td>\n",
       "      <td>NaN</td>\n",
       "      <td>NaN</td>\n",
       "      <td>7:30AM-4:30PM</td>\n",
       "      <td>NaN</td>\n",
       "      <td>3:15PM-4:30PM</td>\n",
       "      <td>7:30AM</td>\n",
       "      <td>Spanish, Spanish for Heritage Speakers</td>\n",
       "      <td>True</td>\n",
       "      <td>NaN</td>\n",
       "      <td>True</td>\n",
       "      <td>NaN</td>\n",
       "      <td>NaN</td>\n",
       "      <td>NaN</td>\n",
       "      <td>NaN</td>\n",
       "      <td>NaN</td>\n",
       "      <td>56</td>\n",
       "      <td>Blue</td>\n",
       "      <td>NaN</td>\n",
       "      <td>41.935726</td>\n",
       "      <td>-87.718204</td>\n",
       "      <td>NaN</td>\n",
       "      <td>NaN</td>\n",
       "      <td>NaN</td>\n",
       "      <td>68.2</td>\n",
       "      <td>NaN</td>\n",
       "      <td>78.2</td>\n",
       "      <td>Level 2+</td>\n",
       "      <td>NOT APPLICABLE</td>\n",
       "      <td>This school received a Level 2+ rating, which ...</td>\n",
       "      <td>Schools that are open to all Chicago children,...</td>\n",
       "      <td>School Year 2018-2019</td>\n",
       "      <td>Dean of Students</td>\n",
       "      <td>Mike Simball</td>\n",
       "      <td>NaN</td>\n",
       "      <td>NaN</td>\n",
       "      <td>NaN</td>\n",
       "      <td>NaN</td>\n",
       "      <td>NaN</td>\n",
       "      <td>NaN</td>\n",
       "      <td>NaN</td>\n",
       "      <td>NaN</td>\n",
       "      <td>Charter</td>\n",
       "      <td>True</td>\n",
       "      <td>False</td>\n",
       "      <td>False</td>\n",
       "      <td>True</td>\n",
       "      <td>07/01/2015 12:00:00 AM</td>\n",
       "      <td>NaN</td>\n",
       "    </tr>\n",
       "    <tr>\n",
       "      <th>2</th>\n",
       "      <td>609780</td>\n",
       "      <td>2090</td>\n",
       "      <td>41111</td>\n",
       "      <td>MARINE LEADERSHIP AT AMES HS</td>\n",
       "      <td>Marine Leadership Academy at Ames</td>\n",
       "      <td>HS</td>\n",
       "      <td>True</td>\n",
       "      <td>True</td>\n",
       "      <td>False</td>\n",
       "      <td>False</td>\n",
       "      <td>Marine Leadership Academy prepares leaders in ...</td>\n",
       "      <td>Principal</td>\n",
       "      <td>Mrs.Erin A Galfer</td>\n",
       "      <td>Other</td>\n",
       "      <td>Juan Carlos Zayas</td>\n",
       "      <td>1920 N HAMLIN AVE</td>\n",
       "      <td>Chicago</td>\n",
       "      <td>Illinois</td>\n",
       "      <td>60647</td>\n",
       "      <td>7.735345e+09</td>\n",
       "      <td>7.735345e+09</td>\n",
       "      <td>http://cps.edu/Schools/Pages/school.aspx?Schoo...</td>\n",
       "      <td>http://marine.cps.edu</td>\n",
       "      <td>https://www.facebook.com/marineleadershipacademy</td>\n",
       "      <td>NaN</td>\n",
       "      <td>NaN</td>\n",
       "      <td>NaN</td>\n",
       "      <td>False</td>\n",
       "      <td>7,8,9,10,11,12</td>\n",
       "      <td>7-12</td>\n",
       "      <td>847</td>\n",
       "      <td>825</td>\n",
       "      <td>79</td>\n",
       "      <td>158</td>\n",
       "      <td>17</td>\n",
       "      <td>817</td>\n",
       "      <td>8</td>\n",
       "      <td>2</td>\n",
       "      <td>1</td>\n",
       "      <td>0</td>\n",
       "      <td>0</td>\n",
       "      <td>2</td>\n",
       "      <td>0</td>\n",
       "      <td>0</td>\n",
       "      <td>There are 847 students enrolled at MARINE LEAD...</td>\n",
       "      <td>The largest demographic at MARINE LEADERSHIP A...</td>\n",
       "      <td>True</td>\n",
       "      <td>NaN</td>\n",
       "      <td>NaN</td>\n",
       "      <td>07:45 AM-03:25 PM</td>\n",
       "      <td>NaN</td>\n",
       "      <td>NaN</td>\n",
       "      <td>NaN</td>\n",
       "      <td>Spanish</td>\n",
       "      <td>True</td>\n",
       "      <td>NaN</td>\n",
       "      <td>True</td>\n",
       "      <td>NaN</td>\n",
       "      <td>NaN</td>\n",
       "      <td>NaN</td>\n",
       "      <td>NaN</td>\n",
       "      <td>NaN</td>\n",
       "      <td>73</td>\n",
       "      <td>NaN</td>\n",
       "      <td>NaN</td>\n",
       "      <td>41.916045</td>\n",
       "      <td>-87.721742</td>\n",
       "      <td>NaN</td>\n",
       "      <td>NaN</td>\n",
       "      <td>59.2</td>\n",
       "      <td>68.2</td>\n",
       "      <td>NaN</td>\n",
       "      <td>78.2</td>\n",
       "      <td>Level 1</td>\n",
       "      <td>GOOD STANDING</td>\n",
       "      <td>This school received a Level 1 rating, which i...</td>\n",
       "      <td>For students who wish to develop leadership an...</td>\n",
       "      <td>School Year 2018-2019</td>\n",
       "      <td>NaN</td>\n",
       "      <td>NaN</td>\n",
       "      <td>NaN</td>\n",
       "      <td>NaN</td>\n",
       "      <td>NaN</td>\n",
       "      <td>NaN</td>\n",
       "      <td>NaN</td>\n",
       "      <td>NaN</td>\n",
       "      <td>NaN</td>\n",
       "      <td>NaN</td>\n",
       "      <td>ISP</td>\n",
       "      <td>True</td>\n",
       "      <td>False</td>\n",
       "      <td>True</td>\n",
       "      <td>True</td>\n",
       "      <td>09/01/2004 12:00:00 AM</td>\n",
       "      <td>NaN</td>\n",
       "    </tr>\n",
       "    <tr>\n",
       "      <th>5</th>\n",
       "      <td>609750</td>\n",
       "      <td>1750</td>\n",
       "      <td>49051</td>\n",
       "      <td>SIMPSON HS</td>\n",
       "      <td>Simpson Academy HS for Young Women</td>\n",
       "      <td>HS</td>\n",
       "      <td>True</td>\n",
       "      <td>True</td>\n",
       "      <td>True</td>\n",
       "      <td>False</td>\n",
       "      <td>``</td>\n",
       "      <td>Principal</td>\n",
       "      <td>Mrs.Sherita D Carter-King</td>\n",
       "      <td>Guidance Counselor</td>\n",
       "      <td>Veronica Falls</td>\n",
       "      <td>1321 S PAULINA ST</td>\n",
       "      <td>Chicago</td>\n",
       "      <td>Illinois</td>\n",
       "      <td>60608</td>\n",
       "      <td>7.735348e+09</td>\n",
       "      <td>7.735348e+09</td>\n",
       "      <td>http://cps.edu/Schools/Pages/school.aspx?Schoo...</td>\n",
       "      <td>http://www.simpsonacademy.org/</td>\n",
       "      <td>http://www.facebook.com/SAYWHS</td>\n",
       "      <td>NaN</td>\n",
       "      <td>NaN</td>\n",
       "      <td>NaN</td>\n",
       "      <td>False</td>\n",
       "      <td>6,7,8,9,10,11,12</td>\n",
       "      <td>6-12</td>\n",
       "      <td>34</td>\n",
       "      <td>34</td>\n",
       "      <td>4</td>\n",
       "      <td>3</td>\n",
       "      <td>25</td>\n",
       "      <td>9</td>\n",
       "      <td>0</td>\n",
       "      <td>0</td>\n",
       "      <td>0</td>\n",
       "      <td>0</td>\n",
       "      <td>0</td>\n",
       "      <td>0</td>\n",
       "      <td>0</td>\n",
       "      <td>0</td>\n",
       "      <td>There are 34 students enrolled at SIMPSON HS. ...</td>\n",
       "      <td>The largest demographic at SIMPSON HS is Black...</td>\n",
       "      <td>False</td>\n",
       "      <td>NaN</td>\n",
       "      <td>NaN</td>\n",
       "      <td>8:00  AM - 3:00  PM</td>\n",
       "      <td>NaN</td>\n",
       "      <td>NaN</td>\n",
       "      <td>7:30 AM</td>\n",
       "      <td>Spanish</td>\n",
       "      <td>NaN</td>\n",
       "      <td>NaN</td>\n",
       "      <td>True</td>\n",
       "      <td>NaN</td>\n",
       "      <td>NaN</td>\n",
       "      <td>NaN</td>\n",
       "      <td>NaN</td>\n",
       "      <td>NaN</td>\n",
       "      <td>NaN</td>\n",
       "      <td>Pink</td>\n",
       "      <td>NaN</td>\n",
       "      <td>41.864365</td>\n",
       "      <td>-87.668722</td>\n",
       "      <td>NaN</td>\n",
       "      <td>NaN</td>\n",
       "      <td>55.0</td>\n",
       "      <td>68.2</td>\n",
       "      <td>15.4</td>\n",
       "      <td>78.2</td>\n",
       "      <td>Level 2+</td>\n",
       "      <td>GOOD STANDING</td>\n",
       "      <td>This school received a Level 2+ rating, which ...</td>\n",
       "      <td>Schools that have their own processes for enro...</td>\n",
       "      <td>School Year 2018-2019</td>\n",
       "      <td>Office</td>\n",
       "      <td>Rita Somen</td>\n",
       "      <td>NaN</td>\n",
       "      <td>NaN</td>\n",
       "      <td>NaN</td>\n",
       "      <td>NaN</td>\n",
       "      <td>NaN</td>\n",
       "      <td>NaN</td>\n",
       "      <td>NaN</td>\n",
       "      <td>NaN</td>\n",
       "      <td>Network 15</td>\n",
       "      <td>False</td>\n",
       "      <td>False</td>\n",
       "      <td>False</td>\n",
       "      <td>False</td>\n",
       "      <td>09/01/2004 12:00:00 AM</td>\n",
       "      <td>NaN</td>\n",
       "    </tr>\n",
       "    <tr>\n",
       "      <th>9</th>\n",
       "      <td>609754</td>\n",
       "      <td>1800</td>\n",
       "      <td>70070</td>\n",
       "      <td>CHICAGO MILITARY HS</td>\n",
       "      <td>Chicago Military Academy High School</td>\n",
       "      <td>HS</td>\n",
       "      <td>True</td>\n",
       "      <td>False</td>\n",
       "      <td>False</td>\n",
       "      <td>False</td>\n",
       "      <td>The oldest military academy in Chicago, Chicag...</td>\n",
       "      <td>Principal</td>\n",
       "      <td>Octavio Casas</td>\n",
       "      <td>Assistant Principal</td>\n",
       "      <td>Octavio Casas</td>\n",
       "      <td>3519 S GILES AVE</td>\n",
       "      <td>Chicago</td>\n",
       "      <td>Illinois</td>\n",
       "      <td>60653</td>\n",
       "      <td>7.735350e+09</td>\n",
       "      <td>7.735350e+09</td>\n",
       "      <td>http://cps.edu/Schools/Pages/school.aspx?Schoo...</td>\n",
       "      <td>http://www.chicagomilitaryacademy.org</td>\n",
       "      <td>NaN</td>\n",
       "      <td>NaN</td>\n",
       "      <td>NaN</td>\n",
       "      <td>NaN</td>\n",
       "      <td>False</td>\n",
       "      <td>9,10,11,12</td>\n",
       "      <td>9-12</td>\n",
       "      <td>295</td>\n",
       "      <td>211</td>\n",
       "      <td>27</td>\n",
       "      <td>18</td>\n",
       "      <td>188</td>\n",
       "      <td>100</td>\n",
       "      <td>4</td>\n",
       "      <td>0</td>\n",
       "      <td>0</td>\n",
       "      <td>0</td>\n",
       "      <td>0</td>\n",
       "      <td>3</td>\n",
       "      <td>0</td>\n",
       "      <td>0</td>\n",
       "      <td>There are 295 students enrolled at CHICAGO MIL...</td>\n",
       "      <td>The largest demographic at CHICAGO MILITARY HS...</td>\n",
       "      <td>True</td>\n",
       "      <td>NaN</td>\n",
       "      <td>NaN</td>\n",
       "      <td>7:30 am-3:05 pm</td>\n",
       "      <td>7:30 a.m. - 3:05 p.m.</td>\n",
       "      <td>NaN</td>\n",
       "      <td>6:30 AM</td>\n",
       "      <td>Spanish</td>\n",
       "      <td>True</td>\n",
       "      <td>False</td>\n",
       "      <td>True</td>\n",
       "      <td>NaN</td>\n",
       "      <td>NaN</td>\n",
       "      <td>NaN</td>\n",
       "      <td>NaN</td>\n",
       "      <td>NaN</td>\n",
       "      <td>1, 3, 4, 35</td>\n",
       "      <td>Green, Red</td>\n",
       "      <td>Rock Island District (RI)</td>\n",
       "      <td>41.830555</td>\n",
       "      <td>-87.619216</td>\n",
       "      <td>NaN</td>\n",
       "      <td>NaN</td>\n",
       "      <td>58.9</td>\n",
       "      <td>68.2</td>\n",
       "      <td>85.7</td>\n",
       "      <td>78.2</td>\n",
       "      <td>Level 1</td>\n",
       "      <td>GOOD STANDING</td>\n",
       "      <td>This school received a Level 1 rating, which i...</td>\n",
       "      <td>For students who wish to develop leadership an...</td>\n",
       "      <td>School Year 2018-2019</td>\n",
       "      <td>Commandant</td>\n",
       "      <td>Major Striverson</td>\n",
       "      <td>NaN</td>\n",
       "      <td>NaN</td>\n",
       "      <td>NaN</td>\n",
       "      <td>NaN</td>\n",
       "      <td>NaN</td>\n",
       "      <td>NaN</td>\n",
       "      <td>NaN</td>\n",
       "      <td>NaN</td>\n",
       "      <td>Network 17</td>\n",
       "      <td>True</td>\n",
       "      <td>False</td>\n",
       "      <td>False</td>\n",
       "      <td>True</td>\n",
       "      <td>09/01/2004 12:00:00 AM</td>\n",
       "      <td>NaN</td>\n",
       "    </tr>\n",
       "    <tr>\n",
       "      <th>13</th>\n",
       "      <td>400051</td>\n",
       "      <td>1930</td>\n",
       "      <td>66141</td>\n",
       "      <td>NOBLE - NOBLE HS</td>\n",
       "      <td>Noble - Noble College Prep</td>\n",
       "      <td>HS</td>\n",
       "      <td>True</td>\n",
       "      <td>False</td>\n",
       "      <td>False</td>\n",
       "      <td>False</td>\n",
       "      <td>At Noble, our mission is to instill in our stu...</td>\n",
       "      <td>Director</td>\n",
       "      <td>Mr. Ben Gunty</td>\n",
       "      <td>Assistant Principal</td>\n",
       "      <td>Brooke Semel</td>\n",
       "      <td>1010 N NOBLE ST</td>\n",
       "      <td>Chicago</td>\n",
       "      <td>Illinois</td>\n",
       "      <td>60642</td>\n",
       "      <td>7.738621e+09</td>\n",
       "      <td>7.732780e+09</td>\n",
       "      <td>http://cps.edu/Schools/Pages/school.aspx?Schoo...</td>\n",
       "      <td>http://noblestreet.noblenetwork.org</td>\n",
       "      <td>http://www.facebook.com/noblecollegeprep</td>\n",
       "      <td>NaN</td>\n",
       "      <td>NaN</td>\n",
       "      <td>NaN</td>\n",
       "      <td>False</td>\n",
       "      <td>9,10,11,12</td>\n",
       "      <td>9-12</td>\n",
       "      <td>660</td>\n",
       "      <td>552</td>\n",
       "      <td>93</td>\n",
       "      <td>65</td>\n",
       "      <td>74</td>\n",
       "      <td>565</td>\n",
       "      <td>8</td>\n",
       "      <td>5</td>\n",
       "      <td>4</td>\n",
       "      <td>0</td>\n",
       "      <td>0</td>\n",
       "      <td>3</td>\n",
       "      <td>0</td>\n",
       "      <td>1</td>\n",
       "      <td>There are 660 students enrolled at NOBLE - NOB...</td>\n",
       "      <td>The largest demographic at NOBLE - NOBLE HS is...</td>\n",
       "      <td>True</td>\n",
       "      <td>NaN</td>\n",
       "      <td>NaN</td>\n",
       "      <td>8:30 AM - 4:00 PM | F 8 AM - 1:10 PM</td>\n",
       "      <td>NaN</td>\n",
       "      <td>4:10 PM - 5:30PM</td>\n",
       "      <td>7:30 AM</td>\n",
       "      <td>Spanish</td>\n",
       "      <td>True</td>\n",
       "      <td>False</td>\n",
       "      <td>True</td>\n",
       "      <td>NaN</td>\n",
       "      <td>NaN</td>\n",
       "      <td>NaN</td>\n",
       "      <td>NaN</td>\n",
       "      <td>NaN</td>\n",
       "      <td>9, 56, 70</td>\n",
       "      <td>Blue</td>\n",
       "      <td>NaN</td>\n",
       "      <td>41.900191</td>\n",
       "      <td>-87.662628</td>\n",
       "      <td>NaN</td>\n",
       "      <td>NaN</td>\n",
       "      <td>92.3</td>\n",
       "      <td>68.2</td>\n",
       "      <td>89.4</td>\n",
       "      <td>78.2</td>\n",
       "      <td>Level 1+</td>\n",
       "      <td>NOT APPLICABLE</td>\n",
       "      <td>This school received a Level 1+ rating, which ...</td>\n",
       "      <td>Schools that are open to all Chicago children,...</td>\n",
       "      <td>School Year 2018-2019</td>\n",
       "      <td>NaN</td>\n",
       "      <td>NaN</td>\n",
       "      <td>NaN</td>\n",
       "      <td>NaN</td>\n",
       "      <td>NaN</td>\n",
       "      <td>NaN</td>\n",
       "      <td>NaN</td>\n",
       "      <td>NaN</td>\n",
       "      <td>NaN</td>\n",
       "      <td>NaN</td>\n",
       "      <td>Charter</td>\n",
       "      <td>True</td>\n",
       "      <td>False</td>\n",
       "      <td>False</td>\n",
       "      <td>True</td>\n",
       "      <td>09/01/2004 12:00:00 AM</td>\n",
       "      <td>NaN</td>\n",
       "    </tr>\n",
       "  </tbody>\n",
       "</table>\n",
       "</div>"
      ],
      "text/plain": [
       "    School_ID  Legacy_Unit_ID  Finance_ID                      Short_Name  \\\n",
       "0      400172            9647       66255  ASPIRA - BUSINESS & FINANCE HS   \n",
       "2      609780            2090       41111    MARINE LEADERSHIP AT AMES HS   \n",
       "5      609750            1750       49051                      SIMPSON HS   \n",
       "9      609754            1800       70070             CHICAGO MILITARY HS   \n",
       "13     400051            1930       66141                NOBLE - NOBLE HS   \n",
       "\n",
       "                               Long_Name Primary_Category  Is_High_School  \\\n",
       "0            ASPIRA Business and Finance               HS            True   \n",
       "2      Marine Leadership Academy at Ames               HS            True   \n",
       "5     Simpson Academy HS for Young Women               HS            True   \n",
       "9   Chicago Military Academy High School               HS            True   \n",
       "13            Noble - Noble College Prep               HS            True   \n",
       "\n",
       "    Is_Middle_School  Is_Elementary_School  Is_Pre_School  \\\n",
       "0              False                 False          False   \n",
       "2               True                 False          False   \n",
       "5               True                  True          False   \n",
       "9              False                 False          False   \n",
       "13             False                 False          False   \n",
       "\n",
       "                                              Summary Administrator_Title  \\\n",
       "0   The ASPIRA Business and Finance High School ta...            Director   \n",
       "2   Marine Leadership Academy prepares leaders in ...           Principal   \n",
       "5                                                  ``           Principal   \n",
       "9   The oldest military academy in Chicago, Chicag...           Principal   \n",
       "13  At Noble, our mission is to instill in our stu...            Director   \n",
       "\n",
       "                Administrator Secondary_Contact_Title  Secondary_Contact  \\\n",
       "0          Dr. Hector Freytas     Assistant Principal   Veronica Galindo   \n",
       "2           Mrs.Erin A Galfer                   Other  Juan Carlos Zayas   \n",
       "5   Mrs.Sherita D Carter-King      Guidance Counselor     Veronica Falls   \n",
       "9               Octavio Casas     Assistant Principal      Octavio Casas   \n",
       "13              Mr. Ben Gunty     Assistant Principal       Brooke Semel   \n",
       "\n",
       "                 Address     City     State    Zip         Phone  \\\n",
       "0   2989 N MILWAUKEE AVE  Chicago  Illinois  60618  7.732521e+09   \n",
       "2      1920 N HAMLIN AVE  Chicago  Illinois  60647  7.735345e+09   \n",
       "5      1321 S PAULINA ST  Chicago  Illinois  60608  7.735348e+09   \n",
       "9       3519 S GILES AVE  Chicago  Illinois  60653  7.735350e+09   \n",
       "13       1010 N NOBLE ST  Chicago  Illinois  60642  7.738621e+09   \n",
       "\n",
       "             Fax                                 CPS_School_Profile  \\\n",
       "0            NaN  http://cps.edu/Schools/Pages/school.aspx?Schoo...   \n",
       "2   7.735345e+09  http://cps.edu/Schools/Pages/school.aspx?Schoo...   \n",
       "5   7.735348e+09  http://cps.edu/Schools/Pages/school.aspx?Schoo...   \n",
       "9   7.735350e+09  http://cps.edu/Schools/Pages/school.aspx?Schoo...   \n",
       "13  7.732780e+09  http://cps.edu/Schools/Pages/school.aspx?Schoo...   \n",
       "\n",
       "                                  Website  \\\n",
       "0   http://www.aspirail.org/ASPIRASchools   \n",
       "2                   http://marine.cps.edu   \n",
       "5          http://www.simpsonacademy.org/   \n",
       "9   http://www.chicagomilitaryacademy.org   \n",
       "13    http://noblestreet.noblenetwork.org   \n",
       "\n",
       "                                            Facebook  \\\n",
       "0            https://www.facebook.com/ASPIRABusiness   \n",
       "2   https://www.facebook.com/marineleadershipacademy   \n",
       "5                     http://www.facebook.com/SAYWHS   \n",
       "9                                                NaN   \n",
       "13          http://www.facebook.com/noblecollegeprep   \n",
       "\n",
       "                               Twitter Youtube Pinterest  \\\n",
       "0   https://twitter.com/ASPIRABusiness     NaN       NaN   \n",
       "2                                  NaN     NaN       NaN   \n",
       "5                                  NaN     NaN       NaN   \n",
       "9                                  NaN     NaN       NaN   \n",
       "13                                 NaN     NaN       NaN   \n",
       "\n",
       "    Attendance_Boundaries Grades_Offered_All Grades_Offered  \\\n",
       "0                   False         9,10,11,12           9-12   \n",
       "2                   False     7,8,9,10,11,12           7-12   \n",
       "5                   False   6,7,8,9,10,11,12           6-12   \n",
       "9                   False         9,10,11,12           9-12   \n",
       "13                  False         9,10,11,12           9-12   \n",
       "\n",
       "    Student_Count_Total  Student_Count_Low_Income  Student_Count_Special_Ed  \\\n",
       "0                   633                       414                       130   \n",
       "2                   847                       825                        79   \n",
       "5                    34                        34                         4   \n",
       "9                   295                       211                        27   \n",
       "13                  660                       552                        93   \n",
       "\n",
       "    Student_Count_English_Learners  Student_Count_Black  \\\n",
       "0                              195                   17   \n",
       "2                              158                   17   \n",
       "5                                3                   25   \n",
       "9                               18                  188   \n",
       "13                              65                   74   \n",
       "\n",
       "    Student_Count_Hispanic  Student_Count_White  Student_Count_Asian  \\\n",
       "0                      597                   10                    4   \n",
       "2                      817                    8                    2   \n",
       "5                        9                    0                    0   \n",
       "9                      100                    4                    0   \n",
       "13                     565                    8                    5   \n",
       "\n",
       "    Student_Count_Native_American  Student_Count_Other_Ethnicity  \\\n",
       "0                               1                              0   \n",
       "2                               1                              0   \n",
       "5                               0                              0   \n",
       "9                               0                              0   \n",
       "13                              4                              0   \n",
       "\n",
       "    Student_Count_Asian_Pacific_Islander  Student_Count_Multi  \\\n",
       "0                                      0                    4   \n",
       "2                                      0                    2   \n",
       "5                                      0                    0   \n",
       "9                                      0                    3   \n",
       "13                                     0                    3   \n",
       "\n",
       "    Student_Count_Hawaiian_Pacific_Islander  \\\n",
       "0                                         0   \n",
       "2                                         0   \n",
       "5                                         0   \n",
       "9                                         0   \n",
       "13                                        0   \n",
       "\n",
       "    Student_Count_Ethnicity_Not_Available  \\\n",
       "0                                       0   \n",
       "2                                       0   \n",
       "5                                       0   \n",
       "9                                       0   \n",
       "13                                      1   \n",
       "\n",
       "                               Statistics_Description  \\\n",
       "0   There are 633 students enrolled at ASPIRA - BU...   \n",
       "2   There are 847 students enrolled at MARINE LEAD...   \n",
       "5   There are 34 students enrolled at SIMPSON HS. ...   \n",
       "9   There are 295 students enrolled at CHICAGO MIL...   \n",
       "13  There are 660 students enrolled at NOBLE - NOB...   \n",
       "\n",
       "                              Demographic_Description  Dress_Code  \\\n",
       "0   The largest demographic at ASPIRA - BUSINESS &...        True   \n",
       "2   The largest demographic at MARINE LEADERSHIP A...        True   \n",
       "5   The largest demographic at SIMPSON HS is Black...       False   \n",
       "9   The largest demographic at CHICAGO MILITARY HS...        True   \n",
       "13  The largest demographic at NOBLE - NOBLE HS is...        True   \n",
       "\n",
       "   PreK_School_Day Kindergarten_School_Day  \\\n",
       "0              NaN                     NaN   \n",
       "2              NaN                     NaN   \n",
       "5              NaN                     NaN   \n",
       "9              NaN                     NaN   \n",
       "13             NaN                     NaN   \n",
       "\n",
       "                            School_Hours Freshman_Start_End_Time  \\\n",
       "0                          7:30AM-4:30PM                     NaN   \n",
       "2                      07:45 AM-03:25 PM                     NaN   \n",
       "5                    8:00  AM - 3:00  PM                     NaN   \n",
       "9                        7:30 am-3:05 pm   7:30 a.m. - 3:05 p.m.   \n",
       "13  8:30 AM - 4:00 PM | F 8 AM - 1:10 PM                     NaN   \n",
       "\n",
       "   After_School_Hours Earliest_Drop_Off_Time  \\\n",
       "0       3:15PM-4:30PM                 7:30AM   \n",
       "2                 NaN                    NaN   \n",
       "5                 NaN                7:30 AM   \n",
       "9                 NaN                6:30 AM   \n",
       "13   4:10 PM - 5:30PM                7:30 AM   \n",
       "\n",
       "                       Classroom_Languages Bilingual_Services  \\\n",
       "0   Spanish, Spanish for Heritage Speakers               True   \n",
       "2                                  Spanish               True   \n",
       "5                                  Spanish                NaN   \n",
       "9                                  Spanish               True   \n",
       "13                                 Spanish               True   \n",
       "\n",
       "   Refugee_Services Title_1_Eligible PreSchool_Inclusive  \\\n",
       "0               NaN             True                 NaN   \n",
       "2               NaN             True                 NaN   \n",
       "5               NaN             True                 NaN   \n",
       "9             False             True                 NaN   \n",
       "13            False             True                 NaN   \n",
       "\n",
       "   Preschool_Instructional Significantly_Modified Hard_Of_Hearing  \\\n",
       "0                      NaN                    NaN             NaN   \n",
       "2                      NaN                    NaN             NaN   \n",
       "5                      NaN                    NaN             NaN   \n",
       "9                      NaN                    NaN             NaN   \n",
       "13                     NaN                    NaN             NaN   \n",
       "\n",
       "   Visual_Impairments Transportation_Bus Transportation_El  \\\n",
       "0                 NaN                 56              Blue   \n",
       "2                 NaN                 73               NaN   \n",
       "5                 NaN                NaN              Pink   \n",
       "9                 NaN        1, 3, 4, 35        Green, Red   \n",
       "13                NaN          9, 56, 70              Blue   \n",
       "\n",
       "         Transportation_Metra  School_Latitude  School_Longitude  \\\n",
       "0                         NaN        41.935726        -87.718204   \n",
       "2                         NaN        41.916045        -87.721742   \n",
       "5                         NaN        41.864365        -87.668722   \n",
       "9   Rock Island District (RI)        41.830555        -87.619216   \n",
       "13                        NaN        41.900191        -87.662628   \n",
       "\n",
       "    Average_ACT_School  Mean_ACT  College_Enrollment_Rate_School  \\\n",
       "0                  NaN       NaN                             NaN   \n",
       "2                  NaN       NaN                            59.2   \n",
       "5                  NaN       NaN                            55.0   \n",
       "9                  NaN       NaN                            58.9   \n",
       "13                 NaN       NaN                            92.3   \n",
       "\n",
       "    College_Enrollment_Rate_Mean  Graduation_Rate_School  \\\n",
       "0                           68.2                     NaN   \n",
       "2                           68.2                     NaN   \n",
       "5                           68.2                    15.4   \n",
       "9                           68.2                    85.7   \n",
       "13                          68.2                    89.4   \n",
       "\n",
       "    Graduation_Rate_Mean Overall_Rating   Rating_Status  \\\n",
       "0                   78.2       Level 2+  NOT APPLICABLE   \n",
       "2                   78.2        Level 1   GOOD STANDING   \n",
       "5                   78.2       Level 2+   GOOD STANDING   \n",
       "9                   78.2        Level 1   GOOD STANDING   \n",
       "13                  78.2       Level 1+  NOT APPLICABLE   \n",
       "\n",
       "                                     Rating_Statement  \\\n",
       "0   This school received a Level 2+ rating, which ...   \n",
       "2   This school received a Level 1 rating, which i...   \n",
       "5   This school received a Level 2+ rating, which ...   \n",
       "9   This school received a Level 1 rating, which i...   \n",
       "13  This school received a Level 1+ rating, which ...   \n",
       "\n",
       "                           Classification_Description            School_Year  \\\n",
       "0   Schools that are open to all Chicago children,...  School Year 2018-2019   \n",
       "2   For students who wish to develop leadership an...  School Year 2018-2019   \n",
       "5   Schools that have their own processes for enro...  School Year 2018-2019   \n",
       "9   For students who wish to develop leadership an...  School Year 2018-2019   \n",
       "13  Schools that are open to all Chicago children,...  School Year 2018-2019   \n",
       "\n",
       "   Third_Contact_Title Third_Contact_Name Fourth_Contact_Title  \\\n",
       "0     Dean of Students       Mike Simball                  NaN   \n",
       "2                  NaN                NaN                  NaN   \n",
       "5               Office         Rita Somen                  NaN   \n",
       "9           Commandant   Major Striverson                  NaN   \n",
       "13                 NaN                NaN                  NaN   \n",
       "\n",
       "   Fourth_Contact_Name Fifth_Contact_Title Fifth_Contact_Name  \\\n",
       "0                  NaN                 NaN                NaN   \n",
       "2                  NaN                 NaN                NaN   \n",
       "5                  NaN                 NaN                NaN   \n",
       "9                  NaN                 NaN                NaN   \n",
       "13                 NaN                 NaN                NaN   \n",
       "\n",
       "   Sixth_Contact_Title Sixth_Contact_Name Seventh_Contact_Title  \\\n",
       "0                  NaN                NaN                   NaN   \n",
       "2                  NaN                NaN                   NaN   \n",
       "5                  NaN                NaN                   NaN   \n",
       "9                  NaN                NaN                   NaN   \n",
       "13                 NaN                NaN                   NaN   \n",
       "\n",
       "   Seventh_Contact_Name     Network  Is_GoCPS_Participant  Is_GoCPS_PreK  \\\n",
       "0                   NaN     Charter                  True          False   \n",
       "2                   NaN         ISP                  True          False   \n",
       "5                   NaN  Network 15                 False          False   \n",
       "9                   NaN  Network 17                  True          False   \n",
       "13                  NaN     Charter                  True          False   \n",
       "\n",
       "   Is_GoCPS_Elementary  Is_GoCPS_High_School Open_For_Enrollment_Date  \\\n",
       "0                False                  True   07/01/2015 12:00:00 AM   \n",
       "2                 True                  True   09/01/2004 12:00:00 AM   \n",
       "5                False                 False   09/01/2004 12:00:00 AM   \n",
       "9                False                  True   09/01/2004 12:00:00 AM   \n",
       "13               False                  True   09/01/2004 12:00:00 AM   \n",
       "\n",
       "    Closed_For_Enrollment_Date  \n",
       "0                          NaN  \n",
       "2                          NaN  \n",
       "5                          NaN  \n",
       "9                          NaN  \n",
       "13                         NaN  "
      ]
     },
     "execution_count": 115,
     "metadata": {},
     "output_type": "execute_result"
    }
   ],
   "source": [
    "gr = hs_1819[hs_1819['Network']=='AUSL']['Graduation_Rate_School']\n",
    "hs_1819.head()"
   ]
  },
  {
   "cell_type": "code",
   "execution_count": 123,
   "metadata": {},
   "outputs": [
    {
     "data": {
      "text/plain": [
       "252    As a Turnaround school, Orr is redefining its ...\n",
       "Name: Summary, dtype: object"
      ]
     },
     "execution_count": 123,
     "metadata": {},
     "output_type": "execute_result"
    }
   ],
   "source": [
    "hs_1819[(hs_1819['Network']=='AUSL') & (hs_1819['Graduation_Rate_School'] < 40)]['Summary']"
   ]
  },
  {
   "cell_type": "markdown",
   "metadata": {},
   "source": [
    "### Turnaround School\n",
    "Chicago Public Schools (CPS) turned over management of Orr Academy High School to AUSL in 2008 as a turnaround school. Turning around a school is one approach that CPS uses to improve neighborhood schools that have been failing for many years. "
   ]
  },
  {
   "cell_type": "code",
   "execution_count": 126,
   "metadata": {},
   "outputs": [
    {
     "data": {
      "text/html": [
       "<div>\n",
       "<style scoped>\n",
       "    .dataframe tbody tr th:only-of-type {\n",
       "        vertical-align: middle;\n",
       "    }\n",
       "\n",
       "    .dataframe tbody tr th {\n",
       "        vertical-align: top;\n",
       "    }\n",
       "\n",
       "    .dataframe thead th {\n",
       "        text-align: right;\n",
       "    }\n",
       "</style>\n",
       "<table border=\"1\" class=\"dataframe\">\n",
       "  <thead>\n",
       "    <tr style=\"text-align: right;\">\n",
       "      <th></th>\n",
       "      <th>School_ID</th>\n",
       "      <th>Legacy_Unit_ID</th>\n",
       "      <th>Finance_ID</th>\n",
       "      <th>Short_Name</th>\n",
       "      <th>Long_Name</th>\n",
       "      <th>Primary_Category</th>\n",
       "      <th>Is_High_School</th>\n",
       "      <th>Is_Middle_School</th>\n",
       "      <th>Is_Elementary_School</th>\n",
       "      <th>Is_Pre_School</th>\n",
       "      <th>Summary</th>\n",
       "      <th>Administrator_Title</th>\n",
       "      <th>Administrator</th>\n",
       "      <th>Secondary_Contact_Title</th>\n",
       "      <th>Secondary_Contact</th>\n",
       "      <th>Address</th>\n",
       "      <th>City</th>\n",
       "      <th>State</th>\n",
       "      <th>Zip</th>\n",
       "      <th>Phone</th>\n",
       "      <th>Fax</th>\n",
       "      <th>CPS_School_Profile</th>\n",
       "      <th>Website</th>\n",
       "      <th>Facebook</th>\n",
       "      <th>Twitter</th>\n",
       "      <th>Youtube</th>\n",
       "      <th>Pinterest</th>\n",
       "      <th>Attendance_Boundaries</th>\n",
       "      <th>Grades_Offered_All</th>\n",
       "      <th>Grades_Offered</th>\n",
       "      <th>Student_Count_Total</th>\n",
       "      <th>Student_Count_Low_Income</th>\n",
       "      <th>Student_Count_Special_Ed</th>\n",
       "      <th>Student_Count_English_Learners</th>\n",
       "      <th>Student_Count_Black</th>\n",
       "      <th>Student_Count_Hispanic</th>\n",
       "      <th>Student_Count_White</th>\n",
       "      <th>Student_Count_Asian</th>\n",
       "      <th>Student_Count_Native_American</th>\n",
       "      <th>Student_Count_Other_Ethnicity</th>\n",
       "      <th>Student_Count_Asian_Pacific_Islander</th>\n",
       "      <th>Student_Count_Multi</th>\n",
       "      <th>Student_Count_Hawaiian_Pacific_Islander</th>\n",
       "      <th>Student_Count_Ethnicity_Not_Available</th>\n",
       "      <th>Statistics_Description</th>\n",
       "      <th>Demographic_Description</th>\n",
       "      <th>Dress_Code</th>\n",
       "      <th>PreK_School_Day</th>\n",
       "      <th>Kindergarten_School_Day</th>\n",
       "      <th>School_Hours</th>\n",
       "      <th>Freshman_Start_End_Time</th>\n",
       "      <th>After_School_Hours</th>\n",
       "      <th>Earliest_Drop_Off_Time</th>\n",
       "      <th>Classroom_Languages</th>\n",
       "      <th>Bilingual_Services</th>\n",
       "      <th>Refugee_Services</th>\n",
       "      <th>Title_1_Eligible</th>\n",
       "      <th>PreSchool_Inclusive</th>\n",
       "      <th>Preschool_Instructional</th>\n",
       "      <th>Significantly_Modified</th>\n",
       "      <th>Hard_Of_Hearing</th>\n",
       "      <th>Visual_Impairments</th>\n",
       "      <th>Transportation_Bus</th>\n",
       "      <th>Transportation_El</th>\n",
       "      <th>Transportation_Metra</th>\n",
       "      <th>School_Latitude</th>\n",
       "      <th>School_Longitude</th>\n",
       "      <th>Average_ACT_School</th>\n",
       "      <th>Mean_ACT</th>\n",
       "      <th>College_Enrollment_Rate_School</th>\n",
       "      <th>College_Enrollment_Rate_Mean</th>\n",
       "      <th>Graduation_Rate_School</th>\n",
       "      <th>Graduation_Rate_Mean</th>\n",
       "      <th>Overall_Rating</th>\n",
       "      <th>Rating_Status</th>\n",
       "      <th>Rating_Statement</th>\n",
       "      <th>Classification_Description</th>\n",
       "      <th>School_Year</th>\n",
       "      <th>Third_Contact_Title</th>\n",
       "      <th>Third_Contact_Name</th>\n",
       "      <th>Fourth_Contact_Title</th>\n",
       "      <th>Fourth_Contact_Name</th>\n",
       "      <th>Fifth_Contact_Title</th>\n",
       "      <th>Fifth_Contact_Name</th>\n",
       "      <th>Sixth_Contact_Title</th>\n",
       "      <th>Sixth_Contact_Name</th>\n",
       "      <th>Seventh_Contact_Title</th>\n",
       "      <th>Seventh_Contact_Name</th>\n",
       "      <th>Network</th>\n",
       "      <th>Is_GoCPS_Participant</th>\n",
       "      <th>Is_GoCPS_PreK</th>\n",
       "      <th>Is_GoCPS_Elementary</th>\n",
       "      <th>Is_GoCPS_High_School</th>\n",
       "      <th>Open_For_Enrollment_Date</th>\n",
       "      <th>Closed_For_Enrollment_Date</th>\n",
       "    </tr>\n",
       "  </thead>\n",
       "  <tbody>\n",
       "    <tr>\n",
       "      <th>252</th>\n",
       "      <td>610389</td>\n",
       "      <td>1830</td>\n",
       "      <td>28151</td>\n",
       "      <td>ORR HS</td>\n",
       "      <td>Orr Academy High School</td>\n",
       "      <td>HS</td>\n",
       "      <td>True</td>\n",
       "      <td>False</td>\n",
       "      <td>False</td>\n",
       "      <td>False</td>\n",
       "      <td>As a Turnaround school, Orr is redefining its ...</td>\n",
       "      <td>Principal</td>\n",
       "      <td>Shanele E Andrews</td>\n",
       "      <td>Assistant Principal</td>\n",
       "      <td>Nakeisha Knight</td>\n",
       "      <td>730 N PULASKI RD</td>\n",
       "      <td>Chicago</td>\n",
       "      <td>Illinois</td>\n",
       "      <td>60624</td>\n",
       "      <td>7.735346e+09</td>\n",
       "      <td>7.735347e+09</td>\n",
       "      <td>http://cps.edu/Schools/Pages/school.aspx?Schoo...</td>\n",
       "      <td>http://www.orracademy.org</td>\n",
       "      <td>https://www.facebook.com/orracademyhighschool</td>\n",
       "      <td>https://twitter.com/orracademy</td>\n",
       "      <td>NaN</td>\n",
       "      <td>NaN</td>\n",
       "      <td>True</td>\n",
       "      <td>9,10,11,12</td>\n",
       "      <td>9-12</td>\n",
       "      <td>226</td>\n",
       "      <td>210</td>\n",
       "      <td>56</td>\n",
       "      <td>7</td>\n",
       "      <td>193</td>\n",
       "      <td>29</td>\n",
       "      <td>3</td>\n",
       "      <td>0</td>\n",
       "      <td>0</td>\n",
       "      <td>0</td>\n",
       "      <td>0</td>\n",
       "      <td>0</td>\n",
       "      <td>1</td>\n",
       "      <td>0</td>\n",
       "      <td>There are 226 students enrolled at ORR HS.  92...</td>\n",
       "      <td>The largest demographic at ORR HS is Black.  T...</td>\n",
       "      <td>True</td>\n",
       "      <td>NaN</td>\n",
       "      <td>NaN</td>\n",
       "      <td>7:45am - 2:28pm (Monday- Friday)</td>\n",
       "      <td>NaN</td>\n",
       "      <td>2:30pm - 6:00pm</td>\n",
       "      <td>7:30am</td>\n",
       "      <td>Spanish</td>\n",
       "      <td>True</td>\n",
       "      <td>False</td>\n",
       "      <td>True</td>\n",
       "      <td>NaN</td>\n",
       "      <td>NaN</td>\n",
       "      <td>NaN</td>\n",
       "      <td>NaN</td>\n",
       "      <td>NaN</td>\n",
       "      <td>53, 66</td>\n",
       "      <td>NaN</td>\n",
       "      <td>NaN</td>\n",
       "      <td>41.894449</td>\n",
       "      <td>-87.726166</td>\n",
       "      <td>NaN</td>\n",
       "      <td>NaN</td>\n",
       "      <td>56.4</td>\n",
       "      <td>68.2</td>\n",
       "      <td>38.3</td>\n",
       "      <td>78.2</td>\n",
       "      <td>Level 2</td>\n",
       "      <td>INTENSIVE SUPPORT</td>\n",
       "      <td>This school received a Level 2 rating, which i...</td>\n",
       "      <td>Schools that have an attendance boundary. Gene...</td>\n",
       "      <td>School Year 2018-2019</td>\n",
       "      <td>Counselor</td>\n",
       "      <td>Tabitha Younan</td>\n",
       "      <td>Counselor</td>\n",
       "      <td>Shalina Hampton</td>\n",
       "      <td>Operations Manager/School Culture</td>\n",
       "      <td>Thomas Johnson</td>\n",
       "      <td>NaN</td>\n",
       "      <td>NaN</td>\n",
       "      <td>NaN</td>\n",
       "      <td>NaN</td>\n",
       "      <td>AUSL</td>\n",
       "      <td>True</td>\n",
       "      <td>False</td>\n",
       "      <td>False</td>\n",
       "      <td>True</td>\n",
       "      <td>07/01/2008 12:00:00 AM</td>\n",
       "      <td>NaN</td>\n",
       "    </tr>\n",
       "  </tbody>\n",
       "</table>\n",
       "</div>"
      ],
      "text/plain": [
       "     School_ID  Legacy_Unit_ID  Finance_ID Short_Name  \\\n",
       "252     610389            1830       28151     ORR HS   \n",
       "\n",
       "                   Long_Name Primary_Category  Is_High_School  \\\n",
       "252  Orr Academy High School               HS            True   \n",
       "\n",
       "     Is_Middle_School  Is_Elementary_School  Is_Pre_School  \\\n",
       "252             False                 False          False   \n",
       "\n",
       "                                               Summary Administrator_Title  \\\n",
       "252  As a Turnaround school, Orr is redefining its ...           Principal   \n",
       "\n",
       "         Administrator Secondary_Contact_Title Secondary_Contact  \\\n",
       "252  Shanele E Andrews     Assistant Principal   Nakeisha Knight   \n",
       "\n",
       "              Address     City     State    Zip         Phone           Fax  \\\n",
       "252  730 N PULASKI RD  Chicago  Illinois  60624  7.735346e+09  7.735347e+09   \n",
       "\n",
       "                                    CPS_School_Profile  \\\n",
       "252  http://cps.edu/Schools/Pages/school.aspx?Schoo...   \n",
       "\n",
       "                       Website                                       Facebook  \\\n",
       "252  http://www.orracademy.org  https://www.facebook.com/orracademyhighschool   \n",
       "\n",
       "                            Twitter Youtube Pinterest  Attendance_Boundaries  \\\n",
       "252  https://twitter.com/orracademy     NaN       NaN                   True   \n",
       "\n",
       "    Grades_Offered_All Grades_Offered  Student_Count_Total  \\\n",
       "252         9,10,11,12           9-12                  226   \n",
       "\n",
       "     Student_Count_Low_Income  Student_Count_Special_Ed  \\\n",
       "252                       210                        56   \n",
       "\n",
       "     Student_Count_English_Learners  Student_Count_Black  \\\n",
       "252                               7                  193   \n",
       "\n",
       "     Student_Count_Hispanic  Student_Count_White  Student_Count_Asian  \\\n",
       "252                      29                    3                    0   \n",
       "\n",
       "     Student_Count_Native_American  Student_Count_Other_Ethnicity  \\\n",
       "252                              0                              0   \n",
       "\n",
       "     Student_Count_Asian_Pacific_Islander  Student_Count_Multi  \\\n",
       "252                                     0                    0   \n",
       "\n",
       "     Student_Count_Hawaiian_Pacific_Islander  \\\n",
       "252                                        1   \n",
       "\n",
       "     Student_Count_Ethnicity_Not_Available  \\\n",
       "252                                      0   \n",
       "\n",
       "                                Statistics_Description  \\\n",
       "252  There are 226 students enrolled at ORR HS.  92...   \n",
       "\n",
       "                               Demographic_Description  Dress_Code  \\\n",
       "252  The largest demographic at ORR HS is Black.  T...        True   \n",
       "\n",
       "    PreK_School_Day Kindergarten_School_Day                      School_Hours  \\\n",
       "252             NaN                     NaN  7:45am - 2:28pm (Monday- Friday)   \n",
       "\n",
       "    Freshman_Start_End_Time After_School_Hours Earliest_Drop_Off_Time  \\\n",
       "252                     NaN    2:30pm - 6:00pm                 7:30am   \n",
       "\n",
       "    Classroom_Languages Bilingual_Services Refugee_Services Title_1_Eligible  \\\n",
       "252             Spanish               True            False             True   \n",
       "\n",
       "    PreSchool_Inclusive Preschool_Instructional Significantly_Modified  \\\n",
       "252                 NaN                     NaN                    NaN   \n",
       "\n",
       "    Hard_Of_Hearing Visual_Impairments Transportation_Bus Transportation_El  \\\n",
       "252             NaN                NaN             53, 66               NaN   \n",
       "\n",
       "    Transportation_Metra  School_Latitude  School_Longitude  \\\n",
       "252                  NaN        41.894449        -87.726166   \n",
       "\n",
       "     Average_ACT_School  Mean_ACT  College_Enrollment_Rate_School  \\\n",
       "252                 NaN       NaN                            56.4   \n",
       "\n",
       "     College_Enrollment_Rate_Mean  Graduation_Rate_School  \\\n",
       "252                          68.2                    38.3   \n",
       "\n",
       "     Graduation_Rate_Mean Overall_Rating      Rating_Status  \\\n",
       "252                  78.2        Level 2  INTENSIVE SUPPORT   \n",
       "\n",
       "                                      Rating_Statement  \\\n",
       "252  This school received a Level 2 rating, which i...   \n",
       "\n",
       "                            Classification_Description            School_Year  \\\n",
       "252  Schools that have an attendance boundary. Gene...  School Year 2018-2019   \n",
       "\n",
       "    Third_Contact_Title Third_Contact_Name Fourth_Contact_Title  \\\n",
       "252           Counselor     Tabitha Younan            Counselor   \n",
       "\n",
       "    Fourth_Contact_Name                Fifth_Contact_Title Fifth_Contact_Name  \\\n",
       "252     Shalina Hampton  Operations Manager/School Culture     Thomas Johnson   \n",
       "\n",
       "    Sixth_Contact_Title Sixth_Contact_Name Seventh_Contact_Title  \\\n",
       "252                 NaN                NaN                   NaN   \n",
       "\n",
       "    Seventh_Contact_Name Network  Is_GoCPS_Participant  Is_GoCPS_PreK  \\\n",
       "252                  NaN    AUSL                  True          False   \n",
       "\n",
       "    Is_GoCPS_Elementary  Is_GoCPS_High_School Open_For_Enrollment_Date  \\\n",
       "252               False                  True   07/01/2008 12:00:00 AM   \n",
       "\n",
       "     Closed_For_Enrollment_Date  \n",
       "252                         NaN  "
      ]
     },
     "execution_count": 126,
     "metadata": {},
     "output_type": "execute_result"
    }
   ],
   "source": [
    "orr = hs_1819[(hs_1819['Network']=='AUSL') & (hs_1819['Graduation_Rate_School'] < 40)]\n",
    "orr"
   ]
  },
  {
   "cell_type": "code",
   "execution_count": 127,
   "metadata": {},
   "outputs": [
    {
     "data": {
      "text/plain": [
       "252    38.3\n",
       "Name: Graduation_Rate_School, dtype: float64"
      ]
     },
     "execution_count": 127,
     "metadata": {},
     "output_type": "execute_result"
    }
   ],
   "source": [
    "orr['Graduation_Rate_School']"
   ]
  },
  {
   "cell_type": "markdown",
   "metadata": {},
   "source": [
    "<a id='networks'></a>"
   ]
  },
  {
   "cell_type": "markdown",
   "metadata": {},
   "source": [
    "# Networks"
   ]
  },
  {
   "cell_type": "code",
   "execution_count": 188,
   "metadata": {},
   "outputs": [
    {
     "data": {
      "image/png": "[encoded data removed]",
      "text/plain": [
       "<Figure size 432x288 with 1 Axes>"
      ]
     },
     "metadata": {
      "needs_background": "light"
     },
     "output_type": "display_data"
    }
   ],
   "source": [
    "network = hs_1819.groupby('Network')['Graduation_Rate_School'].mean().sort_values().index\n",
    "mean_grad_rate = hs_1819.groupby('Network')['Graduation_Rate_School'].mean().sort_values().values\n",
    "\n",
    "fig, ax = plt.subplots()\n",
    "sns.barplot(network, mean_grad_rate, ax=ax, color='blue')\n",
    "ax.tick_params(axis='x', labelrotation=35)\n",
    "ax.set_title('Distribution of CPS Graduation Rates\\n Across Networks in 2018/19 School Year')\n",
    "ax.set_ylabel('Mean Graduation Rate');"
   ]
  },
  {
   "cell_type": "markdown",
   "metadata": {},
   "source": [
    "### Distribution without Options Network"
   ]
  },
  {
   "cell_type": "code",
   "execution_count": 142,
   "metadata": {},
   "outputs": [
    {
     "data": {
      "text/plain": [
       "<matplotlib.axes._subplots.AxesSubplot at 0x7ff9cb09c400>"
      ]
     },
     "execution_count": 142,
     "metadata": {},
     "output_type": "execute_result"
    },
    {
     "data": {
      "image/png": "[encoded data removed]",
      "text/plain": [
       "<Figure size 432x288 with 1 Axes>"
      ]
     },
     "metadata": {
      "needs_background": "light"
     },
     "output_type": "display_data"
    }
   ],
   "source": [
    "non_options = hs_1819[hs_1819['Network'] != 'Options']\n",
    "\n",
    "fig, ax = plt.subplots()\n",
    "sns.distplot(non_options['Graduation_Rate_School'])"
   ]
  },
  {
   "cell_type": "code",
   "execution_count": 5,
   "metadata": {},
   "outputs": [
    {
     "name": "stdout",
     "output_type": "stream",
     "text": [
      "\n",
      "        There are 14 schools \n",
      "        with a sub 40 graduation rate in the 18/19 SY.\n"
     ]
    }
   ],
   "source": [
    "\n",
    "print(f'''\n",
    "        There are {len(hs_1819[hs_1819['Graduation_Rate_School'] < 40])} schools \n",
    "        with a sub 40 graduation rate in the 18/19 SY.''')"
   ]
  },
  {
   "cell_type": "code",
   "execution_count": 6,
   "metadata": {},
   "outputs": [
    {
     "name": "stdout",
     "output_type": "stream",
     "text": [
      "\n",
      "        Of those 14,  8 schools are from the Options Network.\n"
     ]
    }
   ],
   "source": [
    "print(f'''\n",
    "        Of those 14,  {len(hs_1819[(hs_1819['Graduation_Rate_School'] < 40)\n",
    "                        & (hs_1819['Network'] == 'Options')\n",
    "                                  ]\n",
    "                          )} schools are from the Options Network.''')"
   ]
  },
  {
   "cell_type": "code",
   "execution_count": 7,
   "metadata": {},
   "outputs": [
    {
     "name": "stdout",
     "output_type": "stream",
     "text": [
      "\n",
      "        There are 37 Options High Schools.\n"
     ]
    }
   ],
   "source": [
    "print(f\"\"\"\n",
    "        There are {hs_1819[hs_1819['Network'] == 'Options'].shape[0]} Options High Schools.\"\"\")"
   ]
  },
  {
   "cell_type": "code",
   "execution_count": 9,
   "metadata": {},
   "outputs": [],
   "source": [
    "lat = hs_1819['School_Latitude']\n",
    "long = hs_1819[\"School_Longitude\"]"
   ]
  },
  {
   "cell_type": "code",
   "execution_count": 33,
   "metadata": {
    "scrolled": true
   },
   "outputs": [
    {
     "data": {
      "text/plain": [
       "Charter       47\n",
       "Options       37\n",
       "Network 16    19\n",
       "Network 17    18\n",
       "Network 15    18\n",
       "ISP           17\n",
       "Network 14    16\n",
       "AUSL           5\n",
       "Contract       2\n",
       "Name: Network, dtype: int64"
      ]
     },
     "execution_count": 33,
     "metadata": {},
     "output_type": "execute_result"
    }
   ],
   "source": [
    "hs_1819['Network'].value_counts()"
   ]
  },
  {
   "cell_type": "code",
   "execution_count": 34,
   "metadata": {},
   "outputs": [
    {
     "data": {
      "text/plain": [
       "Text(0.5, 1.0, 'CPS High Schools by Network')"
      ]
     },
     "execution_count": 34,
     "metadata": {},
     "output_type": "execute_result"
    },
    {
     "data": {
      "image/png": "[encoded data removed]",
      "text/plain": [
       "<Figure size 720x720 with 1 Axes>"
      ]
     },
     "metadata": {
      "needs_background": "light"
     },
     "output_type": "display_data"
    }
   ],
   "source": [
    "fig, ax = plt.subplots(figsize=(10,10))\n",
    "\n",
    "gpd.read_file('../../data/shape_files/geo_export_74e2d584-f137-45fb-b412-80348c0deab2.shp').plot(ax=ax, alpha=.5)\n",
    "sns.scatterplot(hs_1819['School_Longitude'], hs_1819['School_Latitude'], hue=hs_1819['Network'])\n",
    "ax.set_title('CPS High Schools by Network')"
   ]
  },
  {
   "cell_type": "markdown",
   "metadata": {},
   "source": [
    "<a id='zipcodes'></a>"
   ]
  },
  {
   "cell_type": "markdown",
   "metadata": {},
   "source": [
    "# Is Graduation Rate Geographically Distributed?"
   ]
  },
  {
   "cell_type": "markdown",
   "metadata": {},
   "source": [
    "## Zipcodes"
   ]
  },
  {
   "cell_type": "markdown",
   "metadata": {},
   "source": [
    "To start answering that question, I first plot a heatmap showing the mean graduation rates across the city."
   ]
  },
  {
   "cell_type": "code",
   "execution_count": 144,
   "metadata": {},
   "outputs": [],
   "source": [
    "hs1819_gpd = gpd.read_file('../../data/shape_files/geo_export_74e2d584-f137-45fb-b412-80348c0deab2.shp')"
   ]
  },
  {
   "cell_type": "code",
   "execution_count": 202,
   "metadata": {},
   "outputs": [],
   "source": [
    "def map_zip_gr_means(df, gdf):\n",
    "    \n",
    "    '''\n",
    "    Parameters:\n",
    "    df: a dataframe of a school year's CPS performance data\n",
    "    gdf: a geopandas dataframe with zip code shapefiles\n",
    "    \n",
    "    Returns:\n",
    "    A geopandas dataframe with mean graduation rates per zip code included\n",
    "    \n",
    "    '''\n",
    "\n",
    "    # Zipcodes in the geopandas dataframe are strings, so convert the groupby indexes to strings to match\n",
    "    mean_gr_by_zip = {str(zc):gr for zc, gr in \n",
    "                            zip(df.groupby('Zip')['Graduation_Rate_School'].mean().index, \n",
    "                            df.groupby('Zip')['Graduation_Rate_School'].mean().values)\n",
    "                          }\n",
    "    \n",
    "    gdf['zip_gr'] = gdf['zip'].map(mean_gr_by_zip)\n",
    "    \n",
    "    return gdf"
   ]
  },
  {
   "cell_type": "code",
   "execution_count": 203,
   "metadata": {},
   "outputs": [
    {
     "data": {
      "text/plain": [
       "Text(0.5, 1.0, 'CPS Graduation Rate Mean sy1819 by Zip Code')"
      ]
     },
     "execution_count": 203,
     "metadata": {},
     "output_type": "execute_result"
    },
    {
     "data": {
      "image/png": "[encoded data removed]",
      "text/plain": [
       "<Figure size 504x504 with 2 Axes>"
      ]
     },
     "metadata": {
      "needs_background": "light"
     },
     "output_type": "display_data"
    }
   ],
   "source": [
    "fig, ax = plt.subplots(figsize=(7,7))\n",
    "\n",
    "map_zip_gr_means(hs_1819, hs1819_gpd).plot('zip_gr', ax=ax, legend=True)\n",
    "ax.set_title('CPS Graduation Rate Mean sy1819 by Zip Code')"
   ]
  },
  {
   "cell_type": "markdown",
   "metadata": {},
   "source": [
    "### Same Plot without Options Schools"
   ]
  },
  {
   "cell_type": "code",
   "execution_count": 212,
   "metadata": {},
   "outputs": [
    {
     "data": {
      "text/plain": [
       "Text(0.5, 1.0, 'CPS Graduation Rate Means sy1819 by Zip Code:\\n No Options Schools Included')"
      ]
     },
     "execution_count": 212,
     "metadata": {},
     "output_type": "execute_result"
    },
    {
     "data": {
      "image/png": "[encoded data removed]",
      "text/plain": [
       "<Figure size 504x504 with 2 Axes>"
      ]
     },
     "metadata": {
      "needs_background": "light"
     },
     "output_type": "display_data"
    }
   ],
   "source": [
    "fig, ax = plt.subplots(figsize=(7,7))\n",
    "\n",
    "map_zip_gr_means(non_options, hs1819_gpd).plot('zip_gr', ax=ax, legend=True)\n",
    "ax.set_title('CPS Graduation Rate Means sy1819 by Zip Code:\\n No Options Schools Included')"
   ]
  },
  {
   "cell_type": "code",
   "execution_count": 214,
   "metadata": {},
   "outputs": [
    {
     "data": {
      "text/plain": [
       "<matplotlib.axes._subplots.AxesSubplot at 0x7ff9b29799b0>"
      ]
     },
     "execution_count": 214,
     "metadata": {},
     "output_type": "execute_result"
    },
    {
     "data": {
      "image/png": "[encoded data removed]",
      "text/plain": [
       "<Figure size 504x504 with 2 Axes>"
      ]
     },
     "metadata": {
      "needs_background": "light"
     },
     "output_type": "display_data"
    }
   ],
   "source": [
    "# The side by side plot does not have any clear takeaway\n",
    "fig, ax = plt.subplots(1,2, figsize=(7,7))dd\n",
    "\n",
    "map_zip_gr_means(hs_1819, hs1819_gpd).plot('zip_gr', ax=ax[0], )\n",
    "map_zip_gr_means(non_options, hs1819_gpd).plot('zip_gr', ax=ax[1])\n"
   ]
  },
  {
   "cell_type": "code",
   "execution_count": 216,
   "metadata": {},
   "outputs": [],
   "source": [
    "mean_gr_by_zip = hs_1819.groupby('Zip')['Graduation_Rate_School'].mean()"
   ]
  },
  {
   "cell_type": "code",
   "execution_count": 218,
   "metadata": {},
   "outputs": [
    {
     "data": {
      "text/plain": [
       "<matplotlib.axes._subplots.AxesSubplot at 0x7ff9b292b780>"
      ]
     },
     "execution_count": 218,
     "metadata": {},
     "output_type": "execute_result"
    },
    {
     "data": {
      "image/png": "[encoded data removed]",
      "text/plain": [
       "<Figure size 432x288 with 1 Axes>"
      ]
     },
     "metadata": {
      "needs_background": "light"
     },
     "output_type": "display_data"
    }
   ],
   "source": [
    "fig, ax = plt.subplots()\n",
    "sns.distplot(mean_gr_by_zip, bins=30, ax = ax)"
   ]
  },
  {
   "cell_type": "code",
   "execution_count": 96,
   "metadata": {},
   "outputs": [
    {
     "data": {
      "text/plain": [
       "Zip\n",
       "60661    2.9\n",
       "Name: Graduation_Rate_School, dtype: float64"
      ]
     },
     "execution_count": 96,
     "metadata": {},
     "output_type": "execute_result"
    }
   ],
   "source": [
    "# 60661 looks to be an outlier with a grad rate of 2.9\n",
    "mean_gr_by_zip[mean_gr_by_zip == mean_gr_by_zip.min()]"
   ]
  },
  {
   "cell_type": "code",
   "execution_count": 102,
   "metadata": {},
   "outputs": [
    {
     "data": {
      "text/plain": [
       "Zip\n",
       "60623    9\n",
       "60608    7\n",
       "60624    7\n",
       "60612    6\n",
       "60617    5\n",
       "60618    5\n",
       "60620    5\n",
       "60653    5\n",
       "60621    5\n",
       "60628    5\n",
       "Name: Graduation_Rate_School, dtype: int64"
      ]
     },
     "execution_count": 102,
     "metadata": {},
     "output_type": "execute_result"
    }
   ],
   "source": [
    "hs_1819.groupby('Zip')['Graduation_Rate_School'].count().sort_values(ascending=False)[0:10]"
   ]
  },
  {
   "cell_type": "code",
   "execution_count": 109,
   "metadata": {},
   "outputs": [
    {
     "data": {
      "text/plain": [
       "Text(0.5, 1.0, 'Without the Options Schools\\n Grad Rate Across Zips More Normally Distributed')"
      ]
     },
     "execution_count": 109,
     "metadata": {},
     "output_type": "execute_result"
    },
    {
     "data": {
      "image/png": "[encoded data removed]",
      "text/plain": [
       "<Figure size 432x288 with 1 Axes>"
      ]
     },
     "metadata": {
      "needs_background": "light"
     },
     "output_type": "display_data"
    }
   ],
   "source": [
    "no_options_by_zip = non_options.groupby('Zip')['Graduation_Rate_School'].mean()\n",
    "\n",
    "fig, ax = plt.subplots()\n",
    "\n",
    "sns.distplot(no_options_by_zip, bins=30, ax=ax)\n",
    "ax.set_title('Without the Options Schools\\n Grad Rate Across Zips More Normally Distributed')"
   ]
  },
  {
   "cell_type": "code",
   "execution_count": null,
   "metadata": {},
   "outputs": [],
   "source": []
  }
 ],
 "metadata": {
  "kernelspec": {
   "display_name": "cps_env",
   "language": "python",
   "name": "cps_env"
  },
  "language_info": {
   "codemirror_mode": {
    "name": "ipython",
    "version": 3
   },
   "file_extension": ".py",
   "mimetype": "text/x-python",
   "name": "python",
   "nbconvert_exporter": "python",
   "pygments_lexer": "ipython3",
   "version": "3.6.9"
  }
 },
 "nbformat": 4,
 "nbformat_minor": 4
}
