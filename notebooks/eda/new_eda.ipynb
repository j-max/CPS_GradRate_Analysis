{
 "cells": [
  {
   "cell_type": "markdown",
   "metadata": {},
   "source": [
    "# TOC \n",
    " - [Imports](#imports)\n",
    " - [Graduation Rate](#grad_rate)\n",
    " - [Numeric Feature Correlation to Target](#corr)\n",
    " - [Graduation Rate vs. Total Student Count](#total_students)\n",
    " - [Graduation Rate vs. Low Income Student Count](#low_income)"
   ]
  },
  {
   "cell_type": "markdown",
   "metadata": {},
   "source": [
    "<a id='imports'></a>"
   ]
  },
  {
   "cell_type": "markdown",
   "metadata": {},
   "source": [
    "# Imports"
   ]
  },
  {
   "cell_type": "code",
   "execution_count": 30,
   "metadata": {},
   "outputs": [
    {
     "name": "stdout",
     "output_type": "stream",
     "text": [
      "The autoreload extension is already loaded. To reload it, use:\n",
      "  %reload_ext autoreload\n"
     ]
    }
   ],
   "source": [
    "import pandas as pd\n",
    "import numpy as np\n",
    "import sys, os\n",
    "sys.path.append('../..')\n",
    "%load_ext autoreload\n",
    "%autoreload 2"
   ]
  },
  {
   "cell_type": "code",
   "execution_count": 31,
   "metadata": {},
   "outputs": [],
   "source": [
    "from src.preprocessing.preprocessing import years, paths, original_dict, df_dict, hs_df_dict\n",
    "from src.preprocessing.preprocessing import create_sp_path_dictionary, import_multiple_sy_profiles"
   ]
  },
  {
   "cell_type": "markdown",
   "metadata": {},
   "source": [
    "<a id='grad_rates'></a>"
   ]
  },
  {
   "cell_type": "markdown",
   "metadata": {},
   "source": [
    "# Graduation Rates"
   ]
  },
  {
   "cell_type": "markdown",
   "metadata": {},
   "source": [
    "The target of the model is the graduation rate of schools in the Chicago Public School System. "
   ]
  },
  {
   "cell_type": "code",
   "execution_count": 32,
   "metadata": {},
   "outputs": [
    {
     "data": {
      "text/plain": [
       "(141, 21)"
      ]
     },
     "execution_count": 32,
     "metadata": {},
     "output_type": "execute_result"
    }
   ],
   "source": [
    "df_dict['2018-2019'].shape"
   ]
  },
  {
   "cell_type": "code",
   "execution_count": 33,
   "metadata": {},
   "outputs": [
    {
     "data": {
      "text/html": [
       "<div>\n",
       "<style scoped>\n",
       "    .dataframe tbody tr th:only-of-type {\n",
       "        vertical-align: middle;\n",
       "    }\n",
       "\n",
       "    .dataframe tbody tr th {\n",
       "        vertical-align: top;\n",
       "    }\n",
       "\n",
       "    .dataframe thead th {\n",
       "        text-align: right;\n",
       "    }\n",
       "</style>\n",
       "<table border=\"1\" class=\"dataframe\">\n",
       "  <thead>\n",
       "    <tr style=\"text-align: right;\">\n",
       "      <th></th>\n",
       "      <th>School_ID</th>\n",
       "      <th>Short_Name</th>\n",
       "      <th>Graduation_Rate_School</th>\n",
       "      <th>Student_Count_Total</th>\n",
       "      <th>Student_Count_Low_Income</th>\n",
       "      <th>Student_Count_Special_Ed</th>\n",
       "      <th>Student_Count_English_Learners</th>\n",
       "      <th>Student_Count_Black</th>\n",
       "      <th>Student_Count_Hispanic</th>\n",
       "      <th>Student_Count_White</th>\n",
       "      <th>Student_Count_Asian</th>\n",
       "      <th>Student_Count_Native_American</th>\n",
       "      <th>Student_Count_Other_Ethnicity</th>\n",
       "      <th>Student_Count_Asian_Pacific_Islander</th>\n",
       "      <th>Student_Count_Multi</th>\n",
       "      <th>Student_Count_Hawaiian_Pacific_Islander</th>\n",
       "      <th>Student_Count_Ethnicity_Not_Available</th>\n",
       "      <th>Is_High_School</th>\n",
       "      <th>Dress_Code</th>\n",
       "      <th>Classroom_Languages</th>\n",
       "      <th>Transportation_El</th>\n",
       "    </tr>\n",
       "  </thead>\n",
       "  <tbody>\n",
       "    <tr>\n",
       "      <th>5</th>\n",
       "      <td>609750</td>\n",
       "      <td>SIMPSON HS</td>\n",
       "      <td>15.4</td>\n",
       "      <td>34</td>\n",
       "      <td>34</td>\n",
       "      <td>4</td>\n",
       "      <td>3</td>\n",
       "      <td>25</td>\n",
       "      <td>9</td>\n",
       "      <td>0</td>\n",
       "      <td>0</td>\n",
       "      <td>0</td>\n",
       "      <td>0</td>\n",
       "      <td>0</td>\n",
       "      <td>0</td>\n",
       "      <td>0</td>\n",
       "      <td>0</td>\n",
       "      <td>True</td>\n",
       "      <td>False</td>\n",
       "      <td>Spanish</td>\n",
       "      <td>Pink</td>\n",
       "    </tr>\n",
       "    <tr>\n",
       "      <th>9</th>\n",
       "      <td>609754</td>\n",
       "      <td>CHICAGO MILITARY HS</td>\n",
       "      <td>85.7</td>\n",
       "      <td>295</td>\n",
       "      <td>211</td>\n",
       "      <td>27</td>\n",
       "      <td>18</td>\n",
       "      <td>188</td>\n",
       "      <td>100</td>\n",
       "      <td>4</td>\n",
       "      <td>0</td>\n",
       "      <td>0</td>\n",
       "      <td>0</td>\n",
       "      <td>0</td>\n",
       "      <td>3</td>\n",
       "      <td>0</td>\n",
       "      <td>0</td>\n",
       "      <td>True</td>\n",
       "      <td>True</td>\n",
       "      <td>Spanish</td>\n",
       "      <td>Green, Red</td>\n",
       "    </tr>\n",
       "    <tr>\n",
       "      <th>13</th>\n",
       "      <td>400051</td>\n",
       "      <td>NOBLE - NOBLE HS</td>\n",
       "      <td>89.4</td>\n",
       "      <td>660</td>\n",
       "      <td>552</td>\n",
       "      <td>93</td>\n",
       "      <td>65</td>\n",
       "      <td>74</td>\n",
       "      <td>565</td>\n",
       "      <td>8</td>\n",
       "      <td>5</td>\n",
       "      <td>4</td>\n",
       "      <td>0</td>\n",
       "      <td>0</td>\n",
       "      <td>3</td>\n",
       "      <td>0</td>\n",
       "      <td>1</td>\n",
       "      <td>True</td>\n",
       "      <td>True</td>\n",
       "      <td>Spanish</td>\n",
       "      <td>Blue</td>\n",
       "    </tr>\n",
       "    <tr>\n",
       "      <th>14</th>\n",
       "      <td>610506</td>\n",
       "      <td>TEAM HS</td>\n",
       "      <td>63.0</td>\n",
       "      <td>0</td>\n",
       "      <td>0</td>\n",
       "      <td>0</td>\n",
       "      <td>0</td>\n",
       "      <td>0</td>\n",
       "      <td>0</td>\n",
       "      <td>0</td>\n",
       "      <td>0</td>\n",
       "      <td>0</td>\n",
       "      <td>0</td>\n",
       "      <td>0</td>\n",
       "      <td>0</td>\n",
       "      <td>0</td>\n",
       "      <td>0</td>\n",
       "      <td>True</td>\n",
       "      <td>True</td>\n",
       "      <td>Spanish</td>\n",
       "      <td>Green, Red</td>\n",
       "    </tr>\n",
       "    <tr>\n",
       "      <th>15</th>\n",
       "      <td>609678</td>\n",
       "      <td>JONES HS</td>\n",
       "      <td>94.9</td>\n",
       "      <td>1910</td>\n",
       "      <td>713</td>\n",
       "      <td>103</td>\n",
       "      <td>21</td>\n",
       "      <td>228</td>\n",
       "      <td>564</td>\n",
       "      <td>748</td>\n",
       "      <td>273</td>\n",
       "      <td>6</td>\n",
       "      <td>0</td>\n",
       "      <td>0</td>\n",
       "      <td>80</td>\n",
       "      <td>11</td>\n",
       "      <td>0</td>\n",
       "      <td>True</td>\n",
       "      <td>False</td>\n",
       "      <td>Chinese, French, Spanish</td>\n",
       "      <td>Blue, Brown, Pink, Red</td>\n",
       "    </tr>\n",
       "  </tbody>\n",
       "</table>\n",
       "</div>"
      ],
      "text/plain": [
       "    School_ID           Short_Name  Graduation_Rate_School  \\\n",
       "5      609750           SIMPSON HS                    15.4   \n",
       "9      609754  CHICAGO MILITARY HS                    85.7   \n",
       "13     400051     NOBLE - NOBLE HS                    89.4   \n",
       "14     610506              TEAM HS                    63.0   \n",
       "15     609678             JONES HS                    94.9   \n",
       "\n",
       "    Student_Count_Total  Student_Count_Low_Income  Student_Count_Special_Ed  \\\n",
       "5                    34                        34                         4   \n",
       "9                   295                       211                        27   \n",
       "13                  660                       552                        93   \n",
       "14                    0                         0                         0   \n",
       "15                 1910                       713                       103   \n",
       "\n",
       "    Student_Count_English_Learners  Student_Count_Black  \\\n",
       "5                                3                   25   \n",
       "9                               18                  188   \n",
       "13                              65                   74   \n",
       "14                               0                    0   \n",
       "15                              21                  228   \n",
       "\n",
       "    Student_Count_Hispanic  Student_Count_White  Student_Count_Asian  \\\n",
       "5                        9                    0                    0   \n",
       "9                      100                    4                    0   \n",
       "13                     565                    8                    5   \n",
       "14                       0                    0                    0   \n",
       "15                     564                  748                  273   \n",
       "\n",
       "    Student_Count_Native_American  Student_Count_Other_Ethnicity  \\\n",
       "5                               0                              0   \n",
       "9                               0                              0   \n",
       "13                              4                              0   \n",
       "14                              0                              0   \n",
       "15                              6                              0   \n",
       "\n",
       "    Student_Count_Asian_Pacific_Islander  Student_Count_Multi  \\\n",
       "5                                      0                    0   \n",
       "9                                      0                    3   \n",
       "13                                     0                    3   \n",
       "14                                     0                    0   \n",
       "15                                     0                   80   \n",
       "\n",
       "    Student_Count_Hawaiian_Pacific_Islander  \\\n",
       "5                                         0   \n",
       "9                                         0   \n",
       "13                                        0   \n",
       "14                                        0   \n",
       "15                                       11   \n",
       "\n",
       "    Student_Count_Ethnicity_Not_Available  Is_High_School  Dress_Code  \\\n",
       "5                                       0            True       False   \n",
       "9                                       0            True        True   \n",
       "13                                      1            True        True   \n",
       "14                                      0            True        True   \n",
       "15                                      0            True       False   \n",
       "\n",
       "         Classroom_Languages       Transportation_El  \n",
       "5                    Spanish                    Pink  \n",
       "9                    Spanish              Green, Red  \n",
       "13                   Spanish                    Blue  \n",
       "14                   Spanish              Green, Red  \n",
       "15  Chinese, French, Spanish  Blue, Brown, Pink, Red  "
      ]
     },
     "execution_count": 33,
     "metadata": {},
     "output_type": "execute_result"
    }
   ],
   "source": [
    "hs_df_dict['2018-2019'].head()"
   ]
  },
  {
   "cell_type": "markdown",
   "metadata": {},
   "source": [
    "<a id='corr'></a>"
   ]
  },
  {
   "cell_type": "markdown",
   "metadata": {},
   "source": [
    "# Numeric Feature Correlation to the Target"
   ]
  },
  {
   "cell_type": "code",
   "execution_count": 65,
   "metadata": {},
   "outputs": [],
   "source": [
    "dfhs_201819 = hs_df_dict['2018-2019']"
   ]
  },
  {
   "cell_type": "code",
   "execution_count": 72,
   "metadata": {},
   "outputs": [
    {
     "data": {
      "text/plain": [
       "Student_Count_Total                        0.434469\n",
       "Student_Count_Low_Income                   0.425583\n",
       "Student_Count_Hispanic                     0.338306\n",
       "perc_low_income                            0.287700\n",
       "Student_Count_Multi                        0.267580\n",
       "Student_Count_Native_American              0.262067\n",
       "student_count^2                            0.259539\n",
       "Student_Count_Asian                        0.247451\n",
       "Student_Count_Black                        0.224458\n",
       "high_low_inc                               0.221853\n",
       "Student_Count_White                        0.210742\n",
       "Student_Count_Special_Ed                   0.208873\n",
       "Student_Count_Hawaiian_Pacific_Islander    0.198312\n",
       "Student_Count_Ethnicity_Not_Available      0.158043\n",
       "Student_Count_English_Learners             0.152553\n",
       "Student_Count_Asian_Pacific_Islander       0.125403\n",
       "Dress_Code                                 0.092294\n",
       "high_low_inc_5bins                         0.085279\n",
       "Student_Count_Other_Ethnicity                   NaN\n",
       "Is_High_School                                  NaN\n",
       "Name: Graduation_Rate_School, dtype: float64"
      ]
     },
     "execution_count": 72,
     "metadata": {},
     "output_type": "execute_result"
    }
   ],
   "source": [
    "dfhs_201819.corr().loc['Student_Count_Total':,'Graduation_Rate_School'].abs().sort_values(ascending=False)"
   ]
  },
  {
   "cell_type": "markdown",
   "metadata": {},
   "source": [
    "While the racial data is interesting, I will not be including that in the model. "
   ]
  },
  {
   "cell_type": "markdown",
   "metadata": {},
   "source": [
    "<a id='total_students'></a>"
   ]
  },
  {
   "cell_type": "markdown",
   "metadata": {},
   "source": [
    "# Total Students\n",
    "\n",
    "> Does how more total students correlate with higher or lower graduation rates?"
   ]
  },
  {
   "cell_type": "code",
   "execution_count": 39,
   "metadata": {},
   "outputs": [
    {
     "data": {
      "text/plain": [
       "707.1702127659574"
      ]
     },
     "execution_count": 39,
     "metadata": {},
     "output_type": "execute_result"
    }
   ],
   "source": [
    "dfhs_201819['Student_Count_Total'].mean()"
   ]
  },
  {
   "cell_type": "code",
   "execution_count": 40,
   "metadata": {},
   "outputs": [
    {
     "data": {
      "image/png": "[encoded data removed]",
      "text/plain": [
       "<Figure size 720x720 with 2 Axes>"
      ]
     },
     "metadata": {
      "needs_background": "light"
     },
     "output_type": "display_data"
    }
   ],
   "source": [
    "import matplotlib.pyplot as plt\n",
    "\n",
    "fig, ax = plt.subplots(2,1, figsize=(10,10))\n",
    "ax[0].hist(dfhs_201819['Student_Count_Total'], bins=30)\n",
    "ax[1].boxplot(dfhs_201819['Student_Count_Total'], vert=False)\n",
    "ax[0].set_title(f\"\"\"Right Skewed Distribution of Total Student Counts\n",
    "(Median: {round(dfhs_201819['Student_Count_Total'].median())} Students)\"\"\")\n",
    "ax[1].set_xlabel('Student Count');"
   ]
  },
  {
   "cell_type": "code",
   "execution_count": 41,
   "metadata": {},
   "outputs": [
    {
     "data": {
      "text/plain": [
       "Text(0, 0.5, 'Graduation Rate')"
      ]
     },
     "execution_count": 41,
     "metadata": {},
     "output_type": "execute_result"
    },
    {
     "data": {
      "image/png": "[encoded data removed]",
      "text/plain": [
       "<Figure size 432x288 with 1 Axes>"
      ]
     },
     "metadata": {
      "needs_background": "light"
     },
     "output_type": "display_data"
    }
   ],
   "source": [
    "fig, ax = plt.subplots()\n",
    "ax.scatter(dfhs_201819['Student_Count_Total'], dfhs_201819['Graduation_Rate_School'])\n",
    "ax.set_title('Graduation Rates: 2018-2019 School Year')\n",
    "ax.set_xlabel('Student Count')\n",
    "ax.set_ylabel('Graduation Rate')"
   ]
  },
  {
   "cell_type": "markdown",
   "metadata": {},
   "source": [
    "> There are a few schools with very low graduation rates which also have very low student counts. "
   ]
  },
  {
   "cell_type": "markdown",
   "metadata": {},
   "source": [
    "> There appears to be a positive correlation between total students and graduation rate, which is reinforced by the .4345 correlation below."
   ]
  },
  {
   "cell_type": "code",
   "execution_count": 42,
   "metadata": {},
   "outputs": [
    {
     "data": {
      "text/html": [
       "<div>\n",
       "<style scoped>\n",
       "    .dataframe tbody tr th:only-of-type {\n",
       "        vertical-align: middle;\n",
       "    }\n",
       "\n",
       "    .dataframe tbody tr th {\n",
       "        vertical-align: top;\n",
       "    }\n",
       "\n",
       "    .dataframe thead th {\n",
       "        text-align: right;\n",
       "    }\n",
       "</style>\n",
       "<table border=\"1\" class=\"dataframe\">\n",
       "  <thead>\n",
       "    <tr style=\"text-align: right;\">\n",
       "      <th></th>\n",
       "      <th>Graduation_Rate_School</th>\n",
       "      <th>Student_Count_Total</th>\n",
       "    </tr>\n",
       "  </thead>\n",
       "  <tbody>\n",
       "    <tr>\n",
       "      <th>Graduation_Rate_School</th>\n",
       "      <td>1.000000</td>\n",
       "      <td>0.434469</td>\n",
       "    </tr>\n",
       "    <tr>\n",
       "      <th>Student_Count_Total</th>\n",
       "      <td>0.434469</td>\n",
       "      <td>1.000000</td>\n",
       "    </tr>\n",
       "  </tbody>\n",
       "</table>\n",
       "</div>"
      ],
      "text/plain": [
       "                        Graduation_Rate_School  Student_Count_Total\n",
       "Graduation_Rate_School                1.000000             0.434469\n",
       "Student_Count_Total                   0.434469             1.000000"
      ]
     },
     "execution_count": 42,
     "metadata": {},
     "output_type": "execute_result"
    }
   ],
   "source": [
    "dfhs_201819[['Graduation_Rate_School', 'Student_Count_Total']].corr()"
   ]
  },
  {
   "cell_type": "markdown",
   "metadata": {},
   "source": [
    "> There also appears a curvature to the relationship, which may suggest the inclusion of a polynomial term in the model"
   ]
  },
  {
   "cell_type": "code",
   "execution_count": 43,
   "metadata": {},
   "outputs": [],
   "source": [
    "dfhs_201819['student_count^2'] = dfhs_201819['Student_Count_Total']**2"
   ]
  },
  {
   "cell_type": "code",
   "execution_count": 44,
   "metadata": {},
   "outputs": [
    {
     "data": {
      "text/html": [
       "<div>\n",
       "<style scoped>\n",
       "    .dataframe tbody tr th:only-of-type {\n",
       "        vertical-align: middle;\n",
       "    }\n",
       "\n",
       "    .dataframe tbody tr th {\n",
       "        vertical-align: top;\n",
       "    }\n",
       "\n",
       "    .dataframe thead th {\n",
       "        text-align: right;\n",
       "    }\n",
       "</style>\n",
       "<table border=\"1\" class=\"dataframe\">\n",
       "  <thead>\n",
       "    <tr style=\"text-align: right;\">\n",
       "      <th></th>\n",
       "      <th>student_count^2</th>\n",
       "      <th>Graduation_Rate_School</th>\n",
       "    </tr>\n",
       "  </thead>\n",
       "  <tbody>\n",
       "    <tr>\n",
       "      <th>student_count^2</th>\n",
       "      <td>1.000000</td>\n",
       "      <td>0.259539</td>\n",
       "    </tr>\n",
       "    <tr>\n",
       "      <th>Graduation_Rate_School</th>\n",
       "      <td>0.259539</td>\n",
       "      <td>1.000000</td>\n",
       "    </tr>\n",
       "  </tbody>\n",
       "</table>\n",
       "</div>"
      ],
      "text/plain": [
       "                        student_count^2  Graduation_Rate_School\n",
       "student_count^2                1.000000                0.259539\n",
       "Graduation_Rate_School         0.259539                1.000000"
      ]
     },
     "execution_count": 44,
     "metadata": {},
     "output_type": "execute_result"
    }
   ],
   "source": [
    "dfhs_201819[['student_count^2', 'Graduation_Rate_School']].corr()"
   ]
  },
  {
   "cell_type": "markdown",
   "metadata": {},
   "source": [
    "> Basic correlation with squared term shows some correlation"
   ]
  },
  {
   "cell_type": "markdown",
   "metadata": {},
   "source": [
    "<a id='low_income'></a>"
   ]
  },
  {
   "cell_type": "markdown",
   "metadata": {},
   "source": [
    "# Does Number of low income students correlate with lower or higher graduation rates?"
   ]
  },
  {
   "cell_type": "code",
   "execution_count": 45,
   "metadata": {},
   "outputs": [
    {
     "data": {
      "text/plain": [
       "14        0\n",
       "24       18\n",
       "5        34\n",
       "179      50\n",
       "61       70\n",
       "       ... \n",
       "652    1523\n",
       "520    1602\n",
       "500    1752\n",
       "634    1951\n",
       "645    2536\n",
       "Name: Student_Count_Low_Income, Length: 141, dtype: int64"
      ]
     },
     "execution_count": 45,
     "metadata": {},
     "output_type": "execute_result"
    }
   ],
   "source": [
    "dfhs_201819['Student_Count_Low_Income'].sort_values()"
   ]
  },
  {
   "cell_type": "code",
   "execution_count": 46,
   "metadata": {},
   "outputs": [
    {
     "data": {
      "text/plain": [
       "<matplotlib.axes._subplots.AxesSubplot at 0x7ff396776d30>"
      ]
     },
     "execution_count": 46,
     "metadata": {},
     "output_type": "execute_result"
    },
    {
     "data": {
      "image/png": "[encoded data removed]",
      "text/plain": [
       "<Figure size 432x288 with 1 Axes>"
      ]
     },
     "metadata": {
      "needs_background": "light"
     },
     "output_type": "display_data"
    }
   ],
   "source": [
    "dfhs_201819['Student_Count_Low_Income'].hist()"
   ]
  },
  {
   "cell_type": "code",
   "execution_count": 47,
   "metadata": {},
   "outputs": [
    {
     "data": {
      "image/png": "[encoded data removed]",
      "text/plain": [
       "<Figure size 432x288 with 1 Axes>"
      ]
     },
     "metadata": {
      "needs_background": "light"
     },
     "output_type": "display_data"
    }
   ],
   "source": [
    "fig, ax = plt.subplots()\n",
    "ax.scatter(dfhs_201819['Student_Count_Low_Income'], dfhs_201819['Graduation_Rate_School'])\n",
    "ax.set_title('Low Income Count vs. Graduation Rate')\n",
    "ax.set_xlabel('Low Income Student Count')\n",
    "ax.set_ylabel('Graduation Rate');"
   ]
  },
  {
   "cell_type": "code",
   "execution_count": 48,
   "metadata": {},
   "outputs": [
    {
     "data": {
      "text/html": [
       "<div>\n",
       "<style scoped>\n",
       "    .dataframe tbody tr th:only-of-type {\n",
       "        vertical-align: middle;\n",
       "    }\n",
       "\n",
       "    .dataframe tbody tr th {\n",
       "        vertical-align: top;\n",
       "    }\n",
       "\n",
       "    .dataframe thead th {\n",
       "        text-align: right;\n",
       "    }\n",
       "</style>\n",
       "<table border=\"1\" class=\"dataframe\">\n",
       "  <thead>\n",
       "    <tr style=\"text-align: right;\">\n",
       "      <th></th>\n",
       "      <th>Student_Count_Low_Income</th>\n",
       "      <th>Graduation_Rate_School</th>\n",
       "    </tr>\n",
       "  </thead>\n",
       "  <tbody>\n",
       "    <tr>\n",
       "      <th>Student_Count_Low_Income</th>\n",
       "      <td>1.000000</td>\n",
       "      <td>0.425583</td>\n",
       "    </tr>\n",
       "    <tr>\n",
       "      <th>Graduation_Rate_School</th>\n",
       "      <td>0.425583</td>\n",
       "      <td>1.000000</td>\n",
       "    </tr>\n",
       "  </tbody>\n",
       "</table>\n",
       "</div>"
      ],
      "text/plain": [
       "                          Student_Count_Low_Income  Graduation_Rate_School\n",
       "Student_Count_Low_Income                  1.000000                0.425583\n",
       "Graduation_Rate_School                    0.425583                1.000000"
      ]
     },
     "execution_count": 48,
     "metadata": {},
     "output_type": "execute_result"
    }
   ],
   "source": [
    "dfhs_201819[['Student_Count_Low_Income','Graduation_Rate_School']].corr()"
   ]
  },
  {
   "cell_type": "markdown",
   "metadata": {},
   "source": [
    "There is a positive correlation between low income student count and graduation rate.  The scatter plot is very similar to the plot of Total students to low income students,."
   ]
  },
  {
   "cell_type": "code",
   "execution_count": 49,
   "metadata": {},
   "outputs": [
    {
     "data": {
      "text/html": [
       "<div>\n",
       "<style scoped>\n",
       "    .dataframe tbody tr th:only-of-type {\n",
       "        vertical-align: middle;\n",
       "    }\n",
       "\n",
       "    .dataframe tbody tr th {\n",
       "        vertical-align: top;\n",
       "    }\n",
       "\n",
       "    .dataframe thead th {\n",
       "        text-align: right;\n",
       "    }\n",
       "</style>\n",
       "<table border=\"1\" class=\"dataframe\">\n",
       "  <thead>\n",
       "    <tr style=\"text-align: right;\">\n",
       "      <th></th>\n",
       "      <th>Student_Count_Low_Income</th>\n",
       "      <th>Student_Count_Total</th>\n",
       "    </tr>\n",
       "  </thead>\n",
       "  <tbody>\n",
       "    <tr>\n",
       "      <th>Student_Count_Low_Income</th>\n",
       "      <td>1.000000</td>\n",
       "      <td>0.898967</td>\n",
       "    </tr>\n",
       "    <tr>\n",
       "      <th>Student_Count_Total</th>\n",
       "      <td>0.898967</td>\n",
       "      <td>1.000000</td>\n",
       "    </tr>\n",
       "  </tbody>\n",
       "</table>\n",
       "</div>"
      ],
      "text/plain": [
       "                          Student_Count_Low_Income  Student_Count_Total\n",
       "Student_Count_Low_Income                  1.000000             0.898967\n",
       "Student_Count_Total                       0.898967             1.000000"
      ]
     },
     "execution_count": 49,
     "metadata": {},
     "output_type": "execute_result"
    }
   ],
   "source": [
    "dfhs_201819[['Student_Count_Low_Income','Student_Count_Total']].corr()"
   ]
  },
  {
   "cell_type": "markdown",
   "metadata": {},
   "source": [
    "As we see from the correlation above, there is a strong positive correlation between total student count and low income student count. \n",
    "\n",
    "Intuitively, the more students there are in a school, the more low income students there are."
   ]
  },
  {
   "cell_type": "markdown",
   "metadata": {},
   "source": [
    "## Percent Low Income"
   ]
  },
  {
   "cell_type": "code",
   "execution_count": 50,
   "metadata": {},
   "outputs": [],
   "source": [
    "# Calculate % low income\n",
    "dfhs_201819['perc_low_income'] = dfhs_201819['Student_Count_Low_Income']/dfhs_201819['Student_Count_Total']"
   ]
  },
  {
   "cell_type": "code",
   "execution_count": 51,
   "metadata": {},
   "outputs": [
    {
     "data": {
      "image/png": "[encoded data removed]",
      "text/plain": [
       "<Figure size 432x288 with 1 Axes>"
      ]
     },
     "metadata": {
      "needs_background": "light"
     },
     "output_type": "display_data"
    }
   ],
   "source": [
    "fig, ax = plt.subplots()\n",
    "ax.scatter(dfhs_201819['perc_low_income'], dfhs_201819['Graduation_Rate_School'])\n",
    "ax.set_title('Low Income Percent vs. Graduation Rate')\n",
    "ax.set_xlabel('Low Income Percent')\n",
    "ax.set_ylabel('Graduation Rate');"
   ]
  },
  {
   "cell_type": "code",
   "execution_count": 52,
   "metadata": {},
   "outputs": [
    {
     "data": {
      "text/html": [
       "<div>\n",
       "<style scoped>\n",
       "    .dataframe tbody tr th:only-of-type {\n",
       "        vertical-align: middle;\n",
       "    }\n",
       "\n",
       "    .dataframe tbody tr th {\n",
       "        vertical-align: top;\n",
       "    }\n",
       "\n",
       "    .dataframe thead th {\n",
       "        text-align: right;\n",
       "    }\n",
       "</style>\n",
       "<table border=\"1\" class=\"dataframe\">\n",
       "  <thead>\n",
       "    <tr style=\"text-align: right;\">\n",
       "      <th></th>\n",
       "      <th>perc_low_income</th>\n",
       "      <th>Graduation_Rate_School</th>\n",
       "    </tr>\n",
       "  </thead>\n",
       "  <tbody>\n",
       "    <tr>\n",
       "      <th>perc_low_income</th>\n",
       "      <td>1.0000</td>\n",
       "      <td>-0.2877</td>\n",
       "    </tr>\n",
       "    <tr>\n",
       "      <th>Graduation_Rate_School</th>\n",
       "      <td>-0.2877</td>\n",
       "      <td>1.0000</td>\n",
       "    </tr>\n",
       "  </tbody>\n",
       "</table>\n",
       "</div>"
      ],
      "text/plain": [
       "                        perc_low_income  Graduation_Rate_School\n",
       "perc_low_income                  1.0000                 -0.2877\n",
       "Graduation_Rate_School          -0.2877                  1.0000"
      ]
     },
     "execution_count": 52,
     "metadata": {},
     "output_type": "execute_result"
    }
   ],
   "source": [
    "dfhs_201819[['perc_low_income','Graduation_Rate_School']].corr()"
   ]
  },
  {
   "cell_type": "code",
   "execution_count": 53,
   "metadata": {},
   "outputs": [
    {
     "data": {
      "text/html": [
       "<div>\n",
       "<style scoped>\n",
       "    .dataframe tbody tr th:only-of-type {\n",
       "        vertical-align: middle;\n",
       "    }\n",
       "\n",
       "    .dataframe tbody tr th {\n",
       "        vertical-align: top;\n",
       "    }\n",
       "\n",
       "    .dataframe thead th {\n",
       "        text-align: right;\n",
       "    }\n",
       "</style>\n",
       "<table border=\"1\" class=\"dataframe\">\n",
       "  <thead>\n",
       "    <tr style=\"text-align: right;\">\n",
       "      <th></th>\n",
       "      <th>perc_low_income</th>\n",
       "      <th>Student_Count_Total</th>\n",
       "    </tr>\n",
       "  </thead>\n",
       "  <tbody>\n",
       "    <tr>\n",
       "      <th>perc_low_income</th>\n",
       "      <td>1.000000</td>\n",
       "      <td>-0.505144</td>\n",
       "    </tr>\n",
       "    <tr>\n",
       "      <th>Student_Count_Total</th>\n",
       "      <td>-0.505144</td>\n",
       "      <td>1.000000</td>\n",
       "    </tr>\n",
       "  </tbody>\n",
       "</table>\n",
       "</div>"
      ],
      "text/plain": [
       "                     perc_low_income  Student_Count_Total\n",
       "perc_low_income             1.000000            -0.505144\n",
       "Student_Count_Total        -0.505144             1.000000"
      ]
     },
     "execution_count": 53,
     "metadata": {},
     "output_type": "execute_result"
    }
   ],
   "source": [
    "dfhs_201819[['perc_low_income','Student_Count_Total']].corr()"
   ]
  },
  {
   "cell_type": "markdown",
   "metadata": {},
   "source": [
    "There is a negative correlation between percentage low income students and total student count.  As the student population grows, there is a lower ratio of low income students to high income students.  In other words, schools with smaller populations tend to have larger relative proportions of low-income students."
   ]
  },
  {
   "cell_type": "markdown",
   "metadata": {},
   "source": [
    "> I'll begin investigating the difference between schools that fall into two bins"
   ]
  },
  {
   "cell_type": "markdown",
   "metadata": {},
   "source": [
    "## Binning Low Income Populations"
   ]
  },
  {
   "cell_type": "code",
   "execution_count": 54,
   "metadata": {},
   "outputs": [
    {
     "data": {
      "image/png": "[encoded data removed]",
      "text/plain": [
       "<Figure size 432x288 with 1 Axes>"
      ]
     },
     "metadata": {
      "needs_background": "light"
     },
     "output_type": "display_data"
    }
   ],
   "source": [
    "fig, ax = plt.subplots()\n",
    "\n",
    "hist_2bin = ax.hist(dfhs_201819['perc_low_income'], bins=2)"
   ]
  },
  {
   "cell_type": "code",
   "execution_count": 55,
   "metadata": {},
   "outputs": [
    {
     "data": {
      "text/plain": [
       "0.6547826086956521"
      ]
     },
     "execution_count": 55,
     "metadata": {},
     "output_type": "execute_result"
    }
   ],
   "source": [
    "hist_2bin[1][1]"
   ]
  },
  {
   "cell_type": "code",
   "execution_count": 56,
   "metadata": {},
   "outputs": [],
   "source": [
    "# Set high_low_inc value to a binary where 1 is > the separation of the binary histogram\n",
    "dfhs_201819['high_low_inc'] = dfhs_201819['perc_low_income'].apply(lambda x: x > hist_2bin[1][1]).astype(int)"
   ]
  },
  {
   "cell_type": "code",
   "execution_count": 57,
   "metadata": {},
   "outputs": [
    {
     "data": {
      "image/png": "[encoded data removed]",
      "text/plain": [
       "<Figure size 720x720 with 1 Axes>"
      ]
     },
     "metadata": {
      "needs_background": "light"
     },
     "output_type": "display_data"
    }
   ],
   "source": [
    "high_low_inc, ax = plt.subplots(figsize=(10,10))\n",
    "high_low_inc_gradrates = dfhs_201819[dfhs_201819['high_low_inc']==1]['Graduation_Rate_School']\n",
    "low_low_inc_gradrates = dfhs_201819[dfhs_201819['high_low_inc']==0]['Graduation_Rate_School']\n",
    "\n",
    "ax.hist(high_low_inc_gradrates, density=True)\n",
    "ax.hist(low_low_inc_gradrates, density=True);"
   ]
  },
  {
   "cell_type": "code",
   "execution_count": 58,
   "metadata": {},
   "outputs": [
    {
     "data": {
      "image/png": "[encoded data removed]",
      "text/plain": [
       "<Figure size 720x720 with 1 Axes>"
      ]
     },
     "metadata": {
      "needs_background": "light"
     },
     "output_type": "display_data"
    }
   ],
   "source": [
    "high_low_inc, ax = plt.subplots(figsize=(10,10))\n",
    "high_low_inc_gradrates = dfhs_201819[dfhs_201819['high_low_inc']==1]['Graduation_Rate_School']\n",
    "low_low_inc_gradrates = dfhs_201819[dfhs_201819['high_low_inc']==0]['Graduation_Rate_School']\n",
    "\n",
    "ax.hist(high_low_inc_gradrates, density=False)\n",
    "ax.hist(low_low_inc_gradrates, density=False);"
   ]
  },
  {
   "cell_type": "markdown",
   "metadata": {},
   "source": [
    "> This grouping has too great a class imbalance to prove useful, most likely. "
   ]
  },
  {
   "cell_type": "markdown",
   "metadata": {},
   "source": [
    "I will try a grouping of high and low with the groupings split according to the histogram below."
   ]
  },
  {
   "cell_type": "code",
   "execution_count": 59,
   "metadata": {},
   "outputs": [
    {
     "data": {
      "image/png": "[encoded data removed]",
      "text/plain": [
       "<Figure size 432x288 with 1 Axes>"
      ]
     },
     "metadata": {
      "needs_background": "light"
     },
     "output_type": "display_data"
    }
   ],
   "source": [
    "fig, ax = plt.subplots()\n",
    "\n",
    "low_inc_5bins = ax.hist(dfhs_201819['perc_low_income'], bins=5)"
   ]
  },
  {
   "cell_type": "code",
   "execution_count": 60,
   "metadata": {},
   "outputs": [
    {
     "data": {
      "text/plain": [
       "0.8619130434782609"
      ]
     },
     "execution_count": 60,
     "metadata": {},
     "output_type": "execute_result"
    }
   ],
   "source": [
    "low_inc_5bins[1][-2]"
   ]
  },
  {
   "cell_type": "code",
   "execution_count": 61,
   "metadata": {},
   "outputs": [],
   "source": [
    "dfhs_201819['high_low_inc_5bins'] = dfhs_201819['perc_low_income'].apply(lambda x: x > low_inc_5bins[1][-2]).astype(int)"
   ]
  },
  {
   "cell_type": "code",
   "execution_count": 62,
   "metadata": {},
   "outputs": [
    {
     "data": {
      "image/png": "[encoded data removed]",
      "text/plain": [
       "<Figure size 720x720 with 1 Axes>"
      ]
     },
     "metadata": {
      "needs_background": "light"
     },
     "output_type": "display_data"
    }
   ],
   "source": [
    "high_low_inc, ax = plt.subplots(figsize=(10,10))\n",
    "high_low_inc_gradrates = dfhs_201819[dfhs_201819['high_low_inc_5bins']==1]['Graduation_Rate_School']\n",
    "low_low_inc_gradrates = dfhs_201819[dfhs_201819['high_low_inc_5bins']==0]['Graduation_Rate_School']\n",
    "\n",
    "ax.hist(high_low_inc_gradrates, density=False, label='high_low_inc')\n",
    "ax.hist(low_low_inc_gradrates, density=False, label='low_low_inc')\n",
    "ax.legend();"
   ]
  },
  {
   "cell_type": "markdown",
   "metadata": {},
   "source": [
    "This looks a bit more interesting.  There is a better class balance and there does appear to be a difference in these distributions."
   ]
  },
  {
   "cell_type": "code",
   "execution_count": 63,
   "metadata": {},
   "outputs": [
    {
     "data": {
      "text/plain": [
       "70.14810126582277"
      ]
     },
     "execution_count": 63,
     "metadata": {},
     "output_type": "execute_result"
    }
   ],
   "source": [
    "high_low_inc_gradrates.mean()"
   ]
  },
  {
   "cell_type": "code",
   "execution_count": 64,
   "metadata": {},
   "outputs": [
    {
     "data": {
      "text/plain": [
       "74.19354838709677"
      ]
     },
     "execution_count": 64,
     "metadata": {},
     "output_type": "execute_result"
    }
   ],
   "source": [
    "low_low_inc_gradrates.mean()"
   ]
  },
  {
   "cell_type": "code",
   "execution_count": null,
   "metadata": {},
   "outputs": [],
   "source": []
  },
  {
   "cell_type": "code",
   "execution_count": null,
   "metadata": {},
   "outputs": [],
   "source": []
  },
  {
   "cell_type": "code",
   "execution_count": null,
   "metadata": {},
   "outputs": [],
   "source": []
  }
 ],
 "metadata": {
  "kernelspec": {
   "display_name": "cps_env",
   "language": "python",
   "name": "cps_env"
  },
  "language_info": {
   "codemirror_mode": {
    "name": "ipython",
    "version": 3
   },
   "file_extension": ".py",
   "mimetype": "text/x-python",
   "name": "python",
   "nbconvert_exporter": "python",
   "pygments_lexer": "ipython3",
   "version": "3.6.9"
  }
 },
 "nbformat": 4,
 "nbformat_minor": 4
}
