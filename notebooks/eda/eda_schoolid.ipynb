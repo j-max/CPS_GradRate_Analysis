{
 "cells": [
  {
   "cell_type": "markdown",
   "metadata": {},
   "source": [
    "# TOC \n",
    " - [Imports](#imports)\n",
    " - [School Profile Information](#sp_info)\n",
    "     - [Graduation Rate](#grad_rate)\n",
    "     - [Numeric Feature Correlation to Target](#corr)\n",
    "     - [Graduation Rate vs. Total Student Count](#total_students)\n",
    "     - [Graduation Rate vs. Low Income Student Count](#low_income)\n",
    " - [Progress_Report](#pr_report)\n",
    "     - School Type\n",
    "         - Special Education\n",
    "         - Options"
   ]
  },
  {
   "cell_type": "markdown",
   "metadata": {},
   "source": [
    "<a id='imports'></a>"
   ]
  },
  {
   "cell_type": "markdown",
   "metadata": {},
   "source": [
    "# Imports"
   ]
  },
  {
   "cell_type": "code",
   "execution_count": 134,
   "metadata": {},
   "outputs": [
    {
     "name": "stdout",
     "output_type": "stream",
     "text": [
      "The autoreload extension is already loaded. To reload it, use:\n",
      "  %reload_ext autoreload\n"
     ]
    }
   ],
   "source": [
    "import pandas as pd\n",
    "import numpy as np\n",
    "\n",
    "import matplotlib.pyplot as plt\n",
    "\n",
    "import sys, os\n",
    "sys.path.append('../..')\n",
    "%load_ext autoreload\n",
    "%autoreload 2\n",
    "\n"
   ]
  },
  {
   "cell_type": "code",
   "execution_count": 135,
   "metadata": {},
   "outputs": [],
   "source": [
    "full_path = os.getcwd()\n",
    "home_folder = 'CPS_GradRate_Analysis'\n",
    "root = full_path.split(home_folder)[0] + home_folder + '/'\n",
    "\n",
    "sys.path.append(root)"
   ]
  },
  {
   "cell_type": "code",
   "execution_count": 136,
   "metadata": {},
   "outputs": [],
   "source": [
    "sys.path.append(root+'src/preprocessing/')"
   ]
  },
  {
   "cell_type": "code",
   "execution_count": 137,
   "metadata": {},
   "outputs": [],
   "source": [
    "from src.preprocessing.preprocessing_schoolid import load_prepped_school_year_profile, load_unprocessed_hs_df\n",
    "from src.preprocessing.preprocessing_schoolid import merge_prepped_sy_profile_and_prog_rep\n",
    "import src.preprocessing.preprocessing_schoolid as data_prep"
   ]
  },
  {
   "cell_type": "code",
   "execution_count": 138,
   "metadata": {},
   "outputs": [],
   "source": [
    "sys.path.append('../..')"
   ]
  },
  {
   "cell_type": "markdown",
   "metadata": {},
   "source": [
    "Information about CPS comes from two main files found in the Chicago Data Portal: School Profile Information csv's, School Progress Reports.  The key information from each , as it pertains to this analysis, is described below. The files are merged on School_ID\n",
    "\n",
    "**School Profile Information File**\n",
    "  - School_ID\n",
    "  - Short_Name\n",
    "  - Graduation_Rate_School\n",
    "  - Student_Count_Total\n",
    "  - Is_High_School\n",
    "  - Dress_Code\n",
    "\n",
    "**School Progress Report File**\n",
    "  - School_ID\n",
    "  - School_Type\n",
    "\n",
    "    \n",
    "  \n",
    " "
   ]
  },
  {
   "cell_type": "markdown",
   "metadata": {},
   "source": [
    "<a id='sp_info'></a>"
   ]
  },
  {
   "cell_type": "markdown",
   "metadata": {},
   "source": [
    "# School Profile Information"
   ]
  },
  {
   "cell_type": "code",
   "execution_count": 139,
   "metadata": {},
   "outputs": [],
   "source": [
    "path_to_csv = '../../data/chicago_data_portal_csv_files/Chicago_Public_Schools_-_School_Profile_Information_SY1819.csv'"
   ]
  },
  {
   "cell_type": "code",
   "execution_count": 140,
   "metadata": {},
   "outputs": [
    {
     "data": {
      "text/plain": [
       "(660, 95)"
      ]
     },
     "execution_count": 140,
     "metadata": {},
     "output_type": "execute_result"
    }
   ],
   "source": [
    "df = pd.read_csv(path_to_csv)\n",
    "df.shape"
   ]
  },
  {
   "cell_type": "code",
   "execution_count": 141,
   "metadata": {},
   "outputs": [
    {
     "data": {
      "text/plain": [
       "660"
      ]
     },
     "execution_count": 141,
     "metadata": {},
     "output_type": "execute_result"
    }
   ],
   "source": [
    "len(df['School_ID'].unique())"
   ]
  },
  {
   "cell_type": "code",
   "execution_count": 142,
   "metadata": {},
   "outputs": [
    {
     "data": {
      "text/plain": [
       "660"
      ]
     },
     "execution_count": 142,
     "metadata": {},
     "output_type": "execute_result"
    }
   ],
   "source": [
    "len(df['Short_Name'].unique())"
   ]
  },
  {
   "cell_type": "code",
   "execution_count": 143,
   "metadata": {},
   "outputs": [],
   "source": [
    "hs_1819 = load_prepped_school_year_profile(path_to_csv)"
   ]
  },
  {
   "cell_type": "code",
   "execution_count": 144,
   "metadata": {},
   "outputs": [],
   "source": [
    "original_hs_1819 = load_unprocessed_hs_df(path_to_csv)"
   ]
  },
  {
   "cell_type": "markdown",
   "metadata": {},
   "source": [
    "<a id='grad_rates'></a>"
   ]
  },
  {
   "cell_type": "markdown",
   "metadata": {},
   "source": [
    "## Graduation Rates"
   ]
  },
  {
   "cell_type": "markdown",
   "metadata": {},
   "source": [
    "The target of the model is the graduation rate of schools in the Chicago Public School System. "
   ]
  },
  {
   "cell_type": "code",
   "execution_count": 145,
   "metadata": {},
   "outputs": [
    {
     "data": {
      "text/plain": [
       "(140, 22)"
      ]
     },
     "execution_count": 145,
     "metadata": {},
     "output_type": "execute_result"
    }
   ],
   "source": [
    "hs_1819.shape"
   ]
  },
  {
   "cell_type": "code",
   "execution_count": 146,
   "metadata": {},
   "outputs": [
    {
     "data": {
      "text/html": [
       "<div>\n",
       "<style scoped>\n",
       "    .dataframe tbody tr th:only-of-type {\n",
       "        vertical-align: middle;\n",
       "    }\n",
       "\n",
       "    .dataframe tbody tr th {\n",
       "        vertical-align: top;\n",
       "    }\n",
       "\n",
       "    .dataframe thead th {\n",
       "        text-align: right;\n",
       "    }\n",
       "</style>\n",
       "<table border=\"1\" class=\"dataframe\">\n",
       "  <thead>\n",
       "    <tr style=\"text-align: right;\">\n",
       "      <th></th>\n",
       "      <th>School_ID</th>\n",
       "      <th>Short_Name</th>\n",
       "      <th>Graduation_Rate_School</th>\n",
       "      <th>Student_Count_Total</th>\n",
       "      <th>Student_Count_Low_Income</th>\n",
       "      <th>Student_Count_Special_Ed</th>\n",
       "      <th>Student_Count_English_Learners</th>\n",
       "      <th>Student_Count_Black</th>\n",
       "      <th>Student_Count_Hispanic</th>\n",
       "      <th>Student_Count_White</th>\n",
       "      <th>Student_Count_Asian</th>\n",
       "      <th>Student_Count_Native_American</th>\n",
       "      <th>Student_Count_Other_Ethnicity</th>\n",
       "      <th>Student_Count_Asian_Pacific_Islander</th>\n",
       "      <th>Student_Count_Multi</th>\n",
       "      <th>Student_Count_Hawaiian_Pacific_Islander</th>\n",
       "      <th>Student_Count_Ethnicity_Not_Available</th>\n",
       "      <th>Is_High_School</th>\n",
       "      <th>Dress_Code</th>\n",
       "      <th>Classroom_Languages</th>\n",
       "      <th>Transportation_El</th>\n",
       "      <th>perc_low_income</th>\n",
       "    </tr>\n",
       "  </thead>\n",
       "  <tbody>\n",
       "    <tr>\n",
       "      <th>5</th>\n",
       "      <td>609750</td>\n",
       "      <td>SIMPSON HS</td>\n",
       "      <td>15.4</td>\n",
       "      <td>34</td>\n",
       "      <td>34</td>\n",
       "      <td>4</td>\n",
       "      <td>3</td>\n",
       "      <td>25</td>\n",
       "      <td>9</td>\n",
       "      <td>0</td>\n",
       "      <td>0</td>\n",
       "      <td>0</td>\n",
       "      <td>0</td>\n",
       "      <td>0</td>\n",
       "      <td>0</td>\n",
       "      <td>0</td>\n",
       "      <td>0</td>\n",
       "      <td>True</td>\n",
       "      <td>False</td>\n",
       "      <td>Spanish</td>\n",
       "      <td>Pink</td>\n",
       "      <td>1.000000</td>\n",
       "    </tr>\n",
       "    <tr>\n",
       "      <th>9</th>\n",
       "      <td>609754</td>\n",
       "      <td>CHICAGO MILITARY HS</td>\n",
       "      <td>85.7</td>\n",
       "      <td>295</td>\n",
       "      <td>211</td>\n",
       "      <td>27</td>\n",
       "      <td>18</td>\n",
       "      <td>188</td>\n",
       "      <td>100</td>\n",
       "      <td>4</td>\n",
       "      <td>0</td>\n",
       "      <td>0</td>\n",
       "      <td>0</td>\n",
       "      <td>0</td>\n",
       "      <td>3</td>\n",
       "      <td>0</td>\n",
       "      <td>0</td>\n",
       "      <td>True</td>\n",
       "      <td>True</td>\n",
       "      <td>Spanish</td>\n",
       "      <td>Green, Red</td>\n",
       "      <td>0.715254</td>\n",
       "    </tr>\n",
       "    <tr>\n",
       "      <th>13</th>\n",
       "      <td>400051</td>\n",
       "      <td>NOBLE - NOBLE HS</td>\n",
       "      <td>89.4</td>\n",
       "      <td>660</td>\n",
       "      <td>552</td>\n",
       "      <td>93</td>\n",
       "      <td>65</td>\n",
       "      <td>74</td>\n",
       "      <td>565</td>\n",
       "      <td>8</td>\n",
       "      <td>5</td>\n",
       "      <td>4</td>\n",
       "      <td>0</td>\n",
       "      <td>0</td>\n",
       "      <td>3</td>\n",
       "      <td>0</td>\n",
       "      <td>1</td>\n",
       "      <td>True</td>\n",
       "      <td>True</td>\n",
       "      <td>Spanish</td>\n",
       "      <td>Blue</td>\n",
       "      <td>0.836364</td>\n",
       "    </tr>\n",
       "    <tr>\n",
       "      <th>15</th>\n",
       "      <td>609678</td>\n",
       "      <td>JONES HS</td>\n",
       "      <td>94.9</td>\n",
       "      <td>1910</td>\n",
       "      <td>713</td>\n",
       "      <td>103</td>\n",
       "      <td>21</td>\n",
       "      <td>228</td>\n",
       "      <td>564</td>\n",
       "      <td>748</td>\n",
       "      <td>273</td>\n",
       "      <td>6</td>\n",
       "      <td>0</td>\n",
       "      <td>0</td>\n",
       "      <td>80</td>\n",
       "      <td>11</td>\n",
       "      <td>0</td>\n",
       "      <td>True</td>\n",
       "      <td>False</td>\n",
       "      <td>Chinese, French, Spanish</td>\n",
       "      <td>Blue, Brown, Pink, Red</td>\n",
       "      <td>0.373298</td>\n",
       "    </tr>\n",
       "    <tr>\n",
       "      <th>19</th>\n",
       "      <td>400085</td>\n",
       "      <td>ACERO - GARCIA HS</td>\n",
       "      <td>86.3</td>\n",
       "      <td>620</td>\n",
       "      <td>580</td>\n",
       "      <td>94</td>\n",
       "      <td>154</td>\n",
       "      <td>6</td>\n",
       "      <td>599</td>\n",
       "      <td>11</td>\n",
       "      <td>2</td>\n",
       "      <td>2</td>\n",
       "      <td>0</td>\n",
       "      <td>0</td>\n",
       "      <td>0</td>\n",
       "      <td>0</td>\n",
       "      <td>0</td>\n",
       "      <td>True</td>\n",
       "      <td>True</td>\n",
       "      <td>Mandarin, Spanish</td>\n",
       "      <td>Orange</td>\n",
       "      <td>0.935484</td>\n",
       "    </tr>\n",
       "  </tbody>\n",
       "</table>\n",
       "</div>"
      ],
      "text/plain": [
       "    School_ID           Short_Name  Graduation_Rate_School  \\\n",
       "5      609750           SIMPSON HS                    15.4   \n",
       "9      609754  CHICAGO MILITARY HS                    85.7   \n",
       "13     400051     NOBLE - NOBLE HS                    89.4   \n",
       "15     609678             JONES HS                    94.9   \n",
       "19     400085    ACERO - GARCIA HS                    86.3   \n",
       "\n",
       "    Student_Count_Total  Student_Count_Low_Income  Student_Count_Special_Ed  \\\n",
       "5                    34                        34                         4   \n",
       "9                   295                       211                        27   \n",
       "13                  660                       552                        93   \n",
       "15                 1910                       713                       103   \n",
       "19                  620                       580                        94   \n",
       "\n",
       "    Student_Count_English_Learners  Student_Count_Black  \\\n",
       "5                                3                   25   \n",
       "9                               18                  188   \n",
       "13                              65                   74   \n",
       "15                              21                  228   \n",
       "19                             154                    6   \n",
       "\n",
       "    Student_Count_Hispanic  Student_Count_White  Student_Count_Asian  \\\n",
       "5                        9                    0                    0   \n",
       "9                      100                    4                    0   \n",
       "13                     565                    8                    5   \n",
       "15                     564                  748                  273   \n",
       "19                     599                   11                    2   \n",
       "\n",
       "    Student_Count_Native_American  Student_Count_Other_Ethnicity  \\\n",
       "5                               0                              0   \n",
       "9                               0                              0   \n",
       "13                              4                              0   \n",
       "15                              6                              0   \n",
       "19                              2                              0   \n",
       "\n",
       "    Student_Count_Asian_Pacific_Islander  Student_Count_Multi  \\\n",
       "5                                      0                    0   \n",
       "9                                      0                    3   \n",
       "13                                     0                    3   \n",
       "15                                     0                   80   \n",
       "19                                     0                    0   \n",
       "\n",
       "    Student_Count_Hawaiian_Pacific_Islander  \\\n",
       "5                                         0   \n",
       "9                                         0   \n",
       "13                                        0   \n",
       "15                                       11   \n",
       "19                                        0   \n",
       "\n",
       "    Student_Count_Ethnicity_Not_Available  Is_High_School  Dress_Code  \\\n",
       "5                                       0            True       False   \n",
       "9                                       0            True        True   \n",
       "13                                      1            True        True   \n",
       "15                                      0            True       False   \n",
       "19                                      0            True        True   \n",
       "\n",
       "         Classroom_Languages       Transportation_El  perc_low_income  \n",
       "5                    Spanish                    Pink         1.000000  \n",
       "9                    Spanish              Green, Red         0.715254  \n",
       "13                   Spanish                    Blue         0.836364  \n",
       "15  Chinese, French, Spanish  Blue, Brown, Pink, Red         0.373298  \n",
       "19         Mandarin, Spanish                  Orange         0.935484  "
      ]
     },
     "execution_count": 146,
     "metadata": {},
     "output_type": "execute_result"
    }
   ],
   "source": [
    "hs_1819.head()"
   ]
  },
  {
   "cell_type": "code",
   "execution_count": 147,
   "metadata": {},
   "outputs": [
    {
     "data": {
      "text/plain": [
       "(array([ 6.,  2.,  1.,  3.,  0.,  1.,  0.,  1.,  0.,  3.,  3.,  3., 10.,\n",
       "         7., 14., 14., 17., 27., 15., 13.]),\n",
       " array([ 0.   ,  4.915,  9.83 , 14.745, 19.66 , 24.575, 29.49 , 34.405,\n",
       "        39.32 , 44.235, 49.15 , 54.065, 58.98 , 63.895, 68.81 , 73.725,\n",
       "        78.64 , 83.555, 88.47 , 93.385, 98.3  ]),\n",
       " <a list of 20 Patch objects>)"
      ]
     },
     "execution_count": 147,
     "metadata": {},
     "output_type": "execute_result"
    },
    {
     "data": {
      "image/png": "[encoded data removed]",
      "text/plain": [
       "<Figure size 432x288 with 1 Axes>"
      ]
     },
     "metadata": {
      "needs_background": "light"
     },
     "output_type": "display_data"
    }
   ],
   "source": [
    "fig, ax = plt.subplots()\n",
    "\n",
    "ax.hist(hs_1819['Graduation_Rate_School'], bins=20)"
   ]
  },
  {
   "cell_type": "code",
   "execution_count": 148,
   "metadata": {},
   "outputs": [
    {
     "data": {
      "text/plain": [
       "0.0     2\n",
       "1.1     1\n",
       "1.8     1\n",
       "2.9     1\n",
       "4.3     1\n",
       "       ..\n",
       "96.5    1\n",
       "96.8    1\n",
       "98.0    1\n",
       "98.2    1\n",
       "98.3    1\n",
       "Name: Graduation_Rate_School, Length: 127, dtype: int64"
      ]
     },
     "execution_count": 148,
     "metadata": {},
     "output_type": "execute_result"
    }
   ],
   "source": [
    "hs_1819['Graduation_Rate_School'].value_counts().sort_index()"
   ]
  },
  {
   "cell_type": "markdown",
   "metadata": {},
   "source": [
    "<a id='corr'></a>sort_index"
   ]
  },
  {
   "cell_type": "markdown",
   "metadata": {},
   "source": [
    "# Numeric Feature Correlation to the Target"
   ]
  },
  {
   "cell_type": "code",
   "execution_count": 149,
   "metadata": {},
   "outputs": [
    {
     "data": {
      "text/plain": [
       "Student_Count_Total                        0.433580\n",
       "Student_Count_Low_Income                   0.424840\n",
       "Student_Count_Hispanic                     0.337115\n",
       "perc_low_income                            0.287700\n",
       "Student_Count_Multi                        0.266727\n",
       "Student_Count_Native_American              0.260784\n",
       "Student_Count_Asian                        0.246669\n",
       "Student_Count_Black                        0.222714\n",
       "Student_Count_White                        0.210062\n",
       "Student_Count_Special_Ed                   0.206632\n",
       "Student_Count_Hawaiian_Pacific_Islander    0.197297\n",
       "Student_Count_Ethnicity_Not_Available      0.157648\n",
       "Student_Count_English_Learners             0.151021\n",
       "Student_Count_Asian_Pacific_Islander       0.125160\n",
       "Dress_Code                                 0.094462\n",
       "Student_Count_Other_Ethnicity                   NaN\n",
       "Is_High_School                                  NaN\n",
       "Name: Graduation_Rate_School, dtype: float64"
      ]
     },
     "execution_count": 149,
     "metadata": {},
     "output_type": "execute_result"
    }
   ],
   "source": [
    "hs_1819.corr().loc['Student_Count_Total':,'Graduation_Rate_School'].abs().sort_values(ascending=False)"
   ]
  },
  {
   "cell_type": "markdown",
   "metadata": {},
   "source": [
    "While the racial data is interesting, I will not be including that in the model. "
   ]
  },
  {
   "cell_type": "markdown",
   "metadata": {},
   "source": [
    "<a id='total_students'></a>"
   ]
  },
  {
   "cell_type": "markdown",
   "metadata": {},
   "source": [
    "# Total Students\n",
    "\n",
    "> Does how more total students correlate with higher or lower graduation rates?"
   ]
  },
  {
   "cell_type": "markdown",
   "metadata": {},
   "source": [
    "> There was one 2018-2019 school whose records had no student counts?"
   ]
  },
  {
   "cell_type": "code",
   "execution_count": 150,
   "metadata": {},
   "outputs": [
    {
     "data": {
      "text/plain": [
       "0       3\n",
       "14      1\n",
       "21      1\n",
       "34      1\n",
       "61      1\n",
       "       ..\n",
       "2094    1\n",
       "2205    1\n",
       "2859    1\n",
       "3294    1\n",
       "4494    1\n",
       "Name: Student_Count_Total, Length: 170, dtype: int64"
      ]
     },
     "execution_count": 150,
     "metadata": {},
     "output_type": "execute_result"
    }
   ],
   "source": [
    "original_hs_1819['Student_Count_Total'].value_counts().sort_index()"
   ]
  },
  {
   "cell_type": "code",
   "execution_count": 151,
   "metadata": {},
   "outputs": [
    {
     "data": {
      "text/html": [
       "<div>\n",
       "<style scoped>\n",
       "    .dataframe tbody tr th:only-of-type {\n",
       "        vertical-align: middle;\n",
       "    }\n",
       "\n",
       "    .dataframe tbody tr th {\n",
       "        vertical-align: top;\n",
       "    }\n",
       "\n",
       "    .dataframe thead th {\n",
       "        text-align: right;\n",
       "    }\n",
       "</style>\n",
       "<table border=\"1\" class=\"dataframe\">\n",
       "  <thead>\n",
       "    <tr style=\"text-align: right;\">\n",
       "      <th></th>\n",
       "      <th>School_ID</th>\n",
       "      <th>Legacy_Unit_ID</th>\n",
       "      <th>Finance_ID</th>\n",
       "      <th>Short_Name</th>\n",
       "      <th>Long_Name</th>\n",
       "      <th>Primary_Category</th>\n",
       "      <th>Is_High_School</th>\n",
       "      <th>Is_Middle_School</th>\n",
       "      <th>Is_Elementary_School</th>\n",
       "      <th>Is_Pre_School</th>\n",
       "      <th>Summary</th>\n",
       "      <th>Administrator_Title</th>\n",
       "      <th>Administrator</th>\n",
       "      <th>Secondary_Contact_Title</th>\n",
       "      <th>Secondary_Contact</th>\n",
       "      <th>Address</th>\n",
       "      <th>City</th>\n",
       "      <th>State</th>\n",
       "      <th>Zip</th>\n",
       "      <th>Phone</th>\n",
       "      <th>Fax</th>\n",
       "      <th>CPS_School_Profile</th>\n",
       "      <th>Website</th>\n",
       "      <th>Facebook</th>\n",
       "      <th>Twitter</th>\n",
       "      <th>Youtube</th>\n",
       "      <th>Pinterest</th>\n",
       "      <th>Attendance_Boundaries</th>\n",
       "      <th>Grades_Offered_All</th>\n",
       "      <th>Grades_Offered</th>\n",
       "      <th>Student_Count_Total</th>\n",
       "      <th>Student_Count_Low_Income</th>\n",
       "      <th>Student_Count_Special_Ed</th>\n",
       "      <th>Student_Count_English_Learners</th>\n",
       "      <th>Student_Count_Black</th>\n",
       "      <th>Student_Count_Hispanic</th>\n",
       "      <th>Student_Count_White</th>\n",
       "      <th>Student_Count_Asian</th>\n",
       "      <th>Student_Count_Native_American</th>\n",
       "      <th>Student_Count_Other_Ethnicity</th>\n",
       "      <th>Student_Count_Asian_Pacific_Islander</th>\n",
       "      <th>Student_Count_Multi</th>\n",
       "      <th>Student_Count_Hawaiian_Pacific_Islander</th>\n",
       "      <th>Student_Count_Ethnicity_Not_Available</th>\n",
       "      <th>Statistics_Description</th>\n",
       "      <th>Demographic_Description</th>\n",
       "      <th>Dress_Code</th>\n",
       "      <th>PreK_School_Day</th>\n",
       "      <th>Kindergarten_School_Day</th>\n",
       "      <th>School_Hours</th>\n",
       "      <th>Freshman_Start_End_Time</th>\n",
       "      <th>After_School_Hours</th>\n",
       "      <th>Earliest_Drop_Off_Time</th>\n",
       "      <th>Classroom_Languages</th>\n",
       "      <th>Bilingual_Services</th>\n",
       "      <th>Refugee_Services</th>\n",
       "      <th>Title_1_Eligible</th>\n",
       "      <th>PreSchool_Inclusive</th>\n",
       "      <th>Preschool_Instructional</th>\n",
       "      <th>Significantly_Modified</th>\n",
       "      <th>Hard_Of_Hearing</th>\n",
       "      <th>Visual_Impairments</th>\n",
       "      <th>Transportation_Bus</th>\n",
       "      <th>Transportation_El</th>\n",
       "      <th>Transportation_Metra</th>\n",
       "      <th>School_Latitude</th>\n",
       "      <th>School_Longitude</th>\n",
       "      <th>Average_ACT_School</th>\n",
       "      <th>Mean_ACT</th>\n",
       "      <th>College_Enrollment_Rate_School</th>\n",
       "      <th>College_Enrollment_Rate_Mean</th>\n",
       "      <th>Graduation_Rate_School</th>\n",
       "      <th>Graduation_Rate_Mean</th>\n",
       "      <th>Overall_Rating</th>\n",
       "      <th>Rating_Status</th>\n",
       "      <th>Rating_Statement</th>\n",
       "      <th>Classification_Description</th>\n",
       "      <th>School_Year</th>\n",
       "      <th>Third_Contact_Title</th>\n",
       "      <th>Third_Contact_Name</th>\n",
       "      <th>Fourth_Contact_Title</th>\n",
       "      <th>Fourth_Contact_Name</th>\n",
       "      <th>Fifth_Contact_Title</th>\n",
       "      <th>Fifth_Contact_Name</th>\n",
       "      <th>Sixth_Contact_Title</th>\n",
       "      <th>Sixth_Contact_Name</th>\n",
       "      <th>Seventh_Contact_Title</th>\n",
       "      <th>Seventh_Contact_Name</th>\n",
       "      <th>Network</th>\n",
       "      <th>Is_GoCPS_Participant</th>\n",
       "      <th>Is_GoCPS_PreK</th>\n",
       "      <th>Is_GoCPS_Elementary</th>\n",
       "      <th>Is_GoCPS_High_School</th>\n",
       "      <th>Open_For_Enrollment_Date</th>\n",
       "      <th>Closed_For_Enrollment_Date</th>\n",
       "    </tr>\n",
       "  </thead>\n",
       "  <tbody>\n",
       "    <tr>\n",
       "      <th>14</th>\n",
       "      <td>610506</td>\n",
       "      <td>8080</td>\n",
       "      <td>49161</td>\n",
       "      <td>TEAM HS</td>\n",
       "      <td>TEAM Englewood Community Academy High School</td>\n",
       "      <td>HS</td>\n",
       "      <td>True</td>\n",
       "      <td>False</td>\n",
       "      <td>False</td>\n",
       "      <td>False</td>\n",
       "      <td>TEAM Englewood Community Academy is a 21st Cen...</td>\n",
       "      <td>Principal</td>\n",
       "      <td>Denise Michelle Gamble</td>\n",
       "      <td>Assistant Principal</td>\n",
       "      <td>Daena Adams</td>\n",
       "      <td>6201 S STEWART AVE</td>\n",
       "      <td>Chicago</td>\n",
       "      <td>Illinois</td>\n",
       "      <td>60621</td>\n",
       "      <td>7.735354e+09</td>\n",
       "      <td>7.735354e+09</td>\n",
       "      <td>http://cps.edu/Schools/Pages/school.aspx?Schoo...</td>\n",
       "      <td>http://www.teamenglewood.org</td>\n",
       "      <td>https://www.facebook.com/pages/team-englewood-...</td>\n",
       "      <td>https://twitter.com/@TeamEnglewood</td>\n",
       "      <td>NaN</td>\n",
       "      <td>NaN</td>\n",
       "      <td>False</td>\n",
       "      <td>10,11,12</td>\n",
       "      <td>10-12</td>\n",
       "      <td>0</td>\n",
       "      <td>0</td>\n",
       "      <td>0</td>\n",
       "      <td>0</td>\n",
       "      <td>0</td>\n",
       "      <td>0</td>\n",
       "      <td>0</td>\n",
       "      <td>0</td>\n",
       "      <td>0</td>\n",
       "      <td>0</td>\n",
       "      <td>0</td>\n",
       "      <td>0</td>\n",
       "      <td>0</td>\n",
       "      <td>0</td>\n",
       "      <td>NaN</td>\n",
       "      <td>There is not any Demographic information for t...</td>\n",
       "      <td>True</td>\n",
       "      <td>NaN</td>\n",
       "      <td>NaN</td>\n",
       "      <td>8:00  AM - 3:13  PM</td>\n",
       "      <td>NaN</td>\n",
       "      <td>NaN</td>\n",
       "      <td>7:30 AM</td>\n",
       "      <td>Spanish</td>\n",
       "      <td>False</td>\n",
       "      <td>False</td>\n",
       "      <td>True</td>\n",
       "      <td>NaN</td>\n",
       "      <td>NaN</td>\n",
       "      <td>NaN</td>\n",
       "      <td>NaN</td>\n",
       "      <td>NaN</td>\n",
       "      <td>24, 63</td>\n",
       "      <td>Green, Red</td>\n",
       "      <td>NaN</td>\n",
       "      <td>41.781485</td>\n",
       "      <td>-87.633019</td>\n",
       "      <td>NaN</td>\n",
       "      <td>NaN</td>\n",
       "      <td>53.5</td>\n",
       "      <td>68.2</td>\n",
       "      <td>63.0</td>\n",
       "      <td>78.2</td>\n",
       "      <td>Level 3</td>\n",
       "      <td>INTENSIVE SUPPORT</td>\n",
       "      <td>This school received a Level 3 rating, which i...</td>\n",
       "      <td>These schools limit their student populations ...</td>\n",
       "      <td>School Year 2018-2019</td>\n",
       "      <td>NaN</td>\n",
       "      <td>NaN</td>\n",
       "      <td>NaN</td>\n",
       "      <td>NaN</td>\n",
       "      <td>NaN</td>\n",
       "      <td>NaN</td>\n",
       "      <td>NaN</td>\n",
       "      <td>NaN</td>\n",
       "      <td>NaN</td>\n",
       "      <td>NaN</td>\n",
       "      <td>Network 16</td>\n",
       "      <td>True</td>\n",
       "      <td>False</td>\n",
       "      <td>False</td>\n",
       "      <td>True</td>\n",
       "      <td>07/01/2007 12:00:00 AM</td>\n",
       "      <td>NaN</td>\n",
       "    </tr>\n",
       "    <tr>\n",
       "      <th>16</th>\n",
       "      <td>610592</td>\n",
       "      <td>9692</td>\n",
       "      <td>0</td>\n",
       "      <td>ENGLEWOOD STEM HS</td>\n",
       "      <td>Englewood STEM High School</td>\n",
       "      <td>HS</td>\n",
       "      <td>True</td>\n",
       "      <td>False</td>\n",
       "      <td>False</td>\n",
       "      <td>False</td>\n",
       "      <td>The New Englewood STEM High School will open i...</td>\n",
       "      <td>Principal</td>\n",
       "      <td>NaN</td>\n",
       "      <td>NaN</td>\n",
       "      <td>NaN</td>\n",
       "      <td>6835 S NORMAL</td>\n",
       "      <td>Chicago</td>\n",
       "      <td>Illinois</td>\n",
       "      <td>60621</td>\n",
       "      <td>NaN</td>\n",
       "      <td>NaN</td>\n",
       "      <td>http://cps.edu/Schools/Pages/school.aspx?Schoo...</td>\n",
       "      <td>NaN</td>\n",
       "      <td>NaN</td>\n",
       "      <td>NaN</td>\n",
       "      <td>NaN</td>\n",
       "      <td>NaN</td>\n",
       "      <td>True</td>\n",
       "      <td>9</td>\n",
       "      <td>9</td>\n",
       "      <td>0</td>\n",
       "      <td>0</td>\n",
       "      <td>0</td>\n",
       "      <td>0</td>\n",
       "      <td>0</td>\n",
       "      <td>0</td>\n",
       "      <td>0</td>\n",
       "      <td>0</td>\n",
       "      <td>0</td>\n",
       "      <td>0</td>\n",
       "      <td>0</td>\n",
       "      <td>0</td>\n",
       "      <td>0</td>\n",
       "      <td>0</td>\n",
       "      <td>NaN</td>\n",
       "      <td>There is not any Demographic information for t...</td>\n",
       "      <td>False</td>\n",
       "      <td>NaN</td>\n",
       "      <td>NaN</td>\n",
       "      <td>NaN</td>\n",
       "      <td>NaN</td>\n",
       "      <td>NaN</td>\n",
       "      <td>NaN</td>\n",
       "      <td>NaN</td>\n",
       "      <td>NaN</td>\n",
       "      <td>NaN</td>\n",
       "      <td>NaN</td>\n",
       "      <td>NaN</td>\n",
       "      <td>NaN</td>\n",
       "      <td>NaN</td>\n",
       "      <td>NaN</td>\n",
       "      <td>NaN</td>\n",
       "      <td>NaN</td>\n",
       "      <td>NaN</td>\n",
       "      <td>NaN</td>\n",
       "      <td>41.770251</td>\n",
       "      <td>-87.639061</td>\n",
       "      <td>NaN</td>\n",
       "      <td>NaN</td>\n",
       "      <td>NaN</td>\n",
       "      <td>59.8</td>\n",
       "      <td>NaN</td>\n",
       "      <td>77.5</td>\n",
       "      <td>NaN</td>\n",
       "      <td>NaN</td>\n",
       "      <td>NaN</td>\n",
       "      <td>Schools that have an attendance boundary. Gene...</td>\n",
       "      <td>School Year 2018-2019</td>\n",
       "      <td>NaN</td>\n",
       "      <td>NaN</td>\n",
       "      <td>NaN</td>\n",
       "      <td>NaN</td>\n",
       "      <td>NaN</td>\n",
       "      <td>NaN</td>\n",
       "      <td>NaN</td>\n",
       "      <td>NaN</td>\n",
       "      <td>NaN</td>\n",
       "      <td>NaN</td>\n",
       "      <td>NaN</td>\n",
       "      <td>True</td>\n",
       "      <td>False</td>\n",
       "      <td>NaN</td>\n",
       "      <td>True</td>\n",
       "      <td>07/01/2019 12:00:00 AM</td>\n",
       "      <td>NaN</td>\n",
       "    </tr>\n",
       "    <tr>\n",
       "      <th>591</th>\n",
       "      <td>400142</td>\n",
       "      <td>9059</td>\n",
       "      <td>66626</td>\n",
       "      <td>YCCS - VIRTUAL</td>\n",
       "      <td>YCCS-Virtual HS</td>\n",
       "      <td>HS</td>\n",
       "      <td>True</td>\n",
       "      <td>False</td>\n",
       "      <td>False</td>\n",
       "      <td>False</td>\n",
       "      <td>NaN</td>\n",
       "      <td>Director</td>\n",
       "      <td>Ms.Mary Bradley</td>\n",
       "      <td>NaN</td>\n",
       "      <td>NaN</td>\n",
       "      <td>1900 W VAN BUREN ST</td>\n",
       "      <td>Chicago</td>\n",
       "      <td>Illinois</td>\n",
       "      <td>60612</td>\n",
       "      <td>3.124290e+09</td>\n",
       "      <td>3.122436e+09</td>\n",
       "      <td>http://cps.edu/Schools/Pages/school.aspx?Schoo...</td>\n",
       "      <td>https://cps.edu/yccsvirtualhs</td>\n",
       "      <td>NaN</td>\n",
       "      <td>NaN</td>\n",
       "      <td>NaN</td>\n",
       "      <td>NaN</td>\n",
       "      <td>False</td>\n",
       "      <td>9,10,11,12</td>\n",
       "      <td>9-12</td>\n",
       "      <td>0</td>\n",
       "      <td>0</td>\n",
       "      <td>0</td>\n",
       "      <td>0</td>\n",
       "      <td>0</td>\n",
       "      <td>0</td>\n",
       "      <td>0</td>\n",
       "      <td>0</td>\n",
       "      <td>0</td>\n",
       "      <td>0</td>\n",
       "      <td>0</td>\n",
       "      <td>0</td>\n",
       "      <td>0</td>\n",
       "      <td>0</td>\n",
       "      <td>NaN</td>\n",
       "      <td>There is not any Demographic information for t...</td>\n",
       "      <td>False</td>\n",
       "      <td>NaN</td>\n",
       "      <td>NaN</td>\n",
       "      <td>NaN</td>\n",
       "      <td>NaN</td>\n",
       "      <td>NaN</td>\n",
       "      <td>NaN</td>\n",
       "      <td>NaN</td>\n",
       "      <td>NaN</td>\n",
       "      <td>NaN</td>\n",
       "      <td>NaN</td>\n",
       "      <td>NaN</td>\n",
       "      <td>NaN</td>\n",
       "      <td>NaN</td>\n",
       "      <td>NaN</td>\n",
       "      <td>NaN</td>\n",
       "      <td>NaN</td>\n",
       "      <td>NaN</td>\n",
       "      <td>NaN</td>\n",
       "      <td>41.876317</td>\n",
       "      <td>-87.674138</td>\n",
       "      <td>NaN</td>\n",
       "      <td>NaN</td>\n",
       "      <td>NaN</td>\n",
       "      <td>68.2</td>\n",
       "      <td>NaN</td>\n",
       "      <td>78.2</td>\n",
       "      <td>Inability to Rate</td>\n",
       "      <td>NOT APPLICABLE</td>\n",
       "      <td>This school did not have enough data to receiv...</td>\n",
       "      <td>Schools that are open to all Chicago children,...</td>\n",
       "      <td>School Year 2018-2019</td>\n",
       "      <td>NaN</td>\n",
       "      <td>NaN</td>\n",
       "      <td>NaN</td>\n",
       "      <td>NaN</td>\n",
       "      <td>NaN</td>\n",
       "      <td>NaN</td>\n",
       "      <td>NaN</td>\n",
       "      <td>NaN</td>\n",
       "      <td>NaN</td>\n",
       "      <td>NaN</td>\n",
       "      <td>Options</td>\n",
       "      <td>False</td>\n",
       "      <td>False</td>\n",
       "      <td>False</td>\n",
       "      <td>False</td>\n",
       "      <td>07/01/2012 12:00:00 AM</td>\n",
       "      <td>NaN</td>\n",
       "    </tr>\n",
       "  </tbody>\n",
       "</table>\n",
       "</div>"
      ],
      "text/plain": [
       "     School_ID  Legacy_Unit_ID  Finance_ID         Short_Name  \\\n",
       "14      610506            8080       49161            TEAM HS   \n",
       "16      610592            9692           0  ENGLEWOOD STEM HS   \n",
       "591     400142            9059       66626     YCCS - VIRTUAL   \n",
       "\n",
       "                                        Long_Name Primary_Category  \\\n",
       "14   TEAM Englewood Community Academy High School               HS   \n",
       "16                     Englewood STEM High School               HS   \n",
       "591                               YCCS-Virtual HS               HS   \n",
       "\n",
       "     Is_High_School  Is_Middle_School  Is_Elementary_School  Is_Pre_School  \\\n",
       "14             True             False                 False          False   \n",
       "16             True             False                 False          False   \n",
       "591            True             False                 False          False   \n",
       "\n",
       "                                               Summary Administrator_Title  \\\n",
       "14   TEAM Englewood Community Academy is a 21st Cen...           Principal   \n",
       "16   The New Englewood STEM High School will open i...           Principal   \n",
       "591                                                NaN            Director   \n",
       "\n",
       "              Administrator Secondary_Contact_Title Secondary_Contact  \\\n",
       "14   Denise Michelle Gamble     Assistant Principal       Daena Adams   \n",
       "16                      NaN                     NaN               NaN   \n",
       "591         Ms.Mary Bradley                     NaN               NaN   \n",
       "\n",
       "                 Address     City     State    Zip         Phone  \\\n",
       "14    6201 S STEWART AVE  Chicago  Illinois  60621  7.735354e+09   \n",
       "16         6835 S NORMAL  Chicago  Illinois  60621           NaN   \n",
       "591  1900 W VAN BUREN ST  Chicago  Illinois  60612  3.124290e+09   \n",
       "\n",
       "              Fax                                 CPS_School_Profile  \\\n",
       "14   7.735354e+09  http://cps.edu/Schools/Pages/school.aspx?Schoo...   \n",
       "16            NaN  http://cps.edu/Schools/Pages/school.aspx?Schoo...   \n",
       "591  3.122436e+09  http://cps.edu/Schools/Pages/school.aspx?Schoo...   \n",
       "\n",
       "                           Website  \\\n",
       "14    http://www.teamenglewood.org   \n",
       "16                             NaN   \n",
       "591  https://cps.edu/yccsvirtualhs   \n",
       "\n",
       "                                              Facebook  \\\n",
       "14   https://www.facebook.com/pages/team-englewood-...   \n",
       "16                                                 NaN   \n",
       "591                                                NaN   \n",
       "\n",
       "                                Twitter Youtube Pinterest  \\\n",
       "14   https://twitter.com/@TeamEnglewood     NaN       NaN   \n",
       "16                                  NaN     NaN       NaN   \n",
       "591                                 NaN     NaN       NaN   \n",
       "\n",
       "     Attendance_Boundaries Grades_Offered_All Grades_Offered  \\\n",
       "14                   False           10,11,12          10-12   \n",
       "16                    True                  9              9   \n",
       "591                  False         9,10,11,12           9-12   \n",
       "\n",
       "     Student_Count_Total  Student_Count_Low_Income  Student_Count_Special_Ed  \\\n",
       "14                     0                         0                         0   \n",
       "16                     0                         0                         0   \n",
       "591                    0                         0                         0   \n",
       "\n",
       "     Student_Count_English_Learners  Student_Count_Black  \\\n",
       "14                                0                    0   \n",
       "16                                0                    0   \n",
       "591                               0                    0   \n",
       "\n",
       "     Student_Count_Hispanic  Student_Count_White  Student_Count_Asian  \\\n",
       "14                        0                    0                    0   \n",
       "16                        0                    0                    0   \n",
       "591                       0                    0                    0   \n",
       "\n",
       "     Student_Count_Native_American  Student_Count_Other_Ethnicity  \\\n",
       "14                               0                              0   \n",
       "16                               0                              0   \n",
       "591                              0                              0   \n",
       "\n",
       "     Student_Count_Asian_Pacific_Islander  Student_Count_Multi  \\\n",
       "14                                      0                    0   \n",
       "16                                      0                    0   \n",
       "591                                     0                    0   \n",
       "\n",
       "     Student_Count_Hawaiian_Pacific_Islander  \\\n",
       "14                                         0   \n",
       "16                                         0   \n",
       "591                                        0   \n",
       "\n",
       "     Student_Count_Ethnicity_Not_Available Statistics_Description  \\\n",
       "14                                       0                    NaN   \n",
       "16                                       0                    NaN   \n",
       "591                                      0                    NaN   \n",
       "\n",
       "                               Demographic_Description  Dress_Code  \\\n",
       "14   There is not any Demographic information for t...        True   \n",
       "16   There is not any Demographic information for t...       False   \n",
       "591  There is not any Demographic information for t...       False   \n",
       "\n",
       "    PreK_School_Day Kindergarten_School_Day         School_Hours  \\\n",
       "14              NaN                     NaN  8:00  AM - 3:13  PM   \n",
       "16              NaN                     NaN                  NaN   \n",
       "591             NaN                     NaN                  NaN   \n",
       "\n",
       "    Freshman_Start_End_Time After_School_Hours Earliest_Drop_Off_Time  \\\n",
       "14                      NaN                NaN                7:30 AM   \n",
       "16                      NaN                NaN                    NaN   \n",
       "591                     NaN                NaN                    NaN   \n",
       "\n",
       "    Classroom_Languages Bilingual_Services Refugee_Services Title_1_Eligible  \\\n",
       "14              Spanish              False            False             True   \n",
       "16                  NaN                NaN              NaN              NaN   \n",
       "591                 NaN                NaN              NaN              NaN   \n",
       "\n",
       "    PreSchool_Inclusive Preschool_Instructional Significantly_Modified  \\\n",
       "14                  NaN                     NaN                    NaN   \n",
       "16                  NaN                     NaN                    NaN   \n",
       "591                 NaN                     NaN                    NaN   \n",
       "\n",
       "    Hard_Of_Hearing Visual_Impairments Transportation_Bus Transportation_El  \\\n",
       "14              NaN                NaN             24, 63        Green, Red   \n",
       "16              NaN                NaN                NaN               NaN   \n",
       "591             NaN                NaN                NaN               NaN   \n",
       "\n",
       "    Transportation_Metra  School_Latitude  School_Longitude  \\\n",
       "14                   NaN        41.781485        -87.633019   \n",
       "16                   NaN        41.770251        -87.639061   \n",
       "591                  NaN        41.876317        -87.674138   \n",
       "\n",
       "     Average_ACT_School  Mean_ACT  College_Enrollment_Rate_School  \\\n",
       "14                  NaN       NaN                            53.5   \n",
       "16                  NaN       NaN                             NaN   \n",
       "591                 NaN       NaN                             NaN   \n",
       "\n",
       "     College_Enrollment_Rate_Mean  Graduation_Rate_School  \\\n",
       "14                           68.2                    63.0   \n",
       "16                           59.8                     NaN   \n",
       "591                          68.2                     NaN   \n",
       "\n",
       "     Graduation_Rate_Mean     Overall_Rating      Rating_Status  \\\n",
       "14                   78.2            Level 3  INTENSIVE SUPPORT   \n",
       "16                   77.5                NaN                NaN   \n",
       "591                  78.2  Inability to Rate     NOT APPLICABLE   \n",
       "\n",
       "                                      Rating_Statement  \\\n",
       "14   This school received a Level 3 rating, which i...   \n",
       "16                                                 NaN   \n",
       "591  This school did not have enough data to receiv...   \n",
       "\n",
       "                            Classification_Description            School_Year  \\\n",
       "14   These schools limit their student populations ...  School Year 2018-2019   \n",
       "16   Schools that have an attendance boundary. Gene...  School Year 2018-2019   \n",
       "591  Schools that are open to all Chicago children,...  School Year 2018-2019   \n",
       "\n",
       "    Third_Contact_Title Third_Contact_Name Fourth_Contact_Title  \\\n",
       "14                  NaN                NaN                  NaN   \n",
       "16                  NaN                NaN                  NaN   \n",
       "591                 NaN                NaN                  NaN   \n",
       "\n",
       "    Fourth_Contact_Name Fifth_Contact_Title Fifth_Contact_Name  \\\n",
       "14                  NaN                 NaN                NaN   \n",
       "16                  NaN                 NaN                NaN   \n",
       "591                 NaN                 NaN                NaN   \n",
       "\n",
       "    Sixth_Contact_Title Sixth_Contact_Name Seventh_Contact_Title  \\\n",
       "14                  NaN                NaN                   NaN   \n",
       "16                  NaN                NaN                   NaN   \n",
       "591                 NaN                NaN                   NaN   \n",
       "\n",
       "    Seventh_Contact_Name     Network  Is_GoCPS_Participant  Is_GoCPS_PreK  \\\n",
       "14                   NaN  Network 16                  True          False   \n",
       "16                   NaN         NaN                  True          False   \n",
       "591                  NaN     Options                 False          False   \n",
       "\n",
       "    Is_GoCPS_Elementary  Is_GoCPS_High_School Open_For_Enrollment_Date  \\\n",
       "14                False                  True   07/01/2007 12:00:00 AM   \n",
       "16                  NaN                  True   07/01/2019 12:00:00 AM   \n",
       "591               False                 False   07/01/2012 12:00:00 AM   \n",
       "\n",
       "     Closed_For_Enrollment_Date  \n",
       "14                          NaN  \n",
       "16                          NaN  \n",
       "591                         NaN  "
      ]
     },
     "execution_count": 151,
     "metadata": {},
     "output_type": "execute_result"
    }
   ],
   "source": [
    "# There is 1 school with 0 students. \n",
    "\n",
    "original_hs_1819[original_hs_1819['Student_Count_Total'] == 0]"
   ]
  },
  {
   "cell_type": "markdown",
   "metadata": {},
   "source": [
    "> These have been removed in the final dataframe"
   ]
  },
  {
   "cell_type": "code",
   "execution_count": 152,
   "metadata": {},
   "outputs": [
    {
     "data": {
      "text/plain": [
       "True"
      ]
     },
     "execution_count": 152,
     "metadata": {},
     "output_type": "execute_result"
    }
   ],
   "source": [
    "len(hs_1819[hs_1819['Student_Count_Total'] == 0]) == 0"
   ]
  },
  {
   "cell_type": "code",
   "execution_count": 153,
   "metadata": {},
   "outputs": [
    {
     "data": {
      "text/plain": [
       "712.2214285714285"
      ]
     },
     "execution_count": 153,
     "metadata": {},
     "output_type": "execute_result"
    }
   ],
   "source": [
    "hs_1819['Student_Count_Total'].mean()"
   ]
  },
  {
   "cell_type": "code",
   "execution_count": 154,
   "metadata": {},
   "outputs": [
    {
     "data": {
      "image/png": "[encoded data removed]",
      "text/plain": [
       "<Figure size 720x720 with 2 Axes>"
      ]
     },
     "metadata": {
      "needs_background": "light"
     },
     "output_type": "display_data"
    }
   ],
   "source": [
    "import matplotlib.pyplot as plt\n",
    "\n",
    "fig, ax = plt.subplots(2,1, figsize=(10,10))\n",
    "ax[0].hist(hs_1819['Student_Count_Total'], bins=30)\n",
    "ax[1].boxplot(hs_1819['Student_Count_Total'], vert=False)\n",
    "ax[0].set_title(f\"\"\"Right Skewed Distribution of Total Student Counts\n",
    "(Median: {round(hs_1819['Student_Count_Total'].median())} Students)\"\"\")\n",
    "ax[1].set_xlabel('Student Count');"
   ]
  },
  {
   "cell_type": "code",
   "execution_count": 155,
   "metadata": {},
   "outputs": [
    {
     "data": {
      "text/plain": [
       "Text(0, 0.5, 'Graduation Rate')"
      ]
     },
     "execution_count": 155,
     "metadata": {},
     "output_type": "execute_result"
    },
    {
     "data": {
      "image/png": "[encoded data removed]",
      "text/plain": [
       "<Figure size 432x288 with 1 Axes>"
      ]
     },
     "metadata": {
      "needs_background": "light"
     },
     "output_type": "display_data"
    }
   ],
   "source": [
    "fig, ax = plt.subplots()\n",
    "ax.scatter(hs_1819['Student_Count_Total'], hs_1819['Graduation_Rate_School'])\n",
    "ax.set_title('Graduation Rates: 2018-2019 School Year')\n",
    "ax.set_xlabel('Student Count')\n",
    "ax.set_ylabel('Graduation Rate')"
   ]
  },
  {
   "cell_type": "markdown",
   "metadata": {},
   "source": [
    "> There are a few schools with very low graduation rates which also have very low student counts. "
   ]
  },
  {
   "cell_type": "markdown",
   "metadata": {},
   "source": [
    "> There appears to be a positive correlation between total students and graduation rate, which is reinforced by the .4345 correlation below."
   ]
  },
  {
   "cell_type": "code",
   "execution_count": 156,
   "metadata": {},
   "outputs": [
    {
     "data": {
      "text/html": [
       "<div>\n",
       "<style scoped>\n",
       "    .dataframe tbody tr th:only-of-type {\n",
       "        vertical-align: middle;\n",
       "    }\n",
       "\n",
       "    .dataframe tbody tr th {\n",
       "        vertical-align: top;\n",
       "    }\n",
       "\n",
       "    .dataframe thead th {\n",
       "        text-align: right;\n",
       "    }\n",
       "</style>\n",
       "<table border=\"1\" class=\"dataframe\">\n",
       "  <thead>\n",
       "    <tr style=\"text-align: right;\">\n",
       "      <th></th>\n",
       "      <th>Graduation_Rate_School</th>\n",
       "      <th>Student_Count_Total</th>\n",
       "    </tr>\n",
       "  </thead>\n",
       "  <tbody>\n",
       "    <tr>\n",
       "      <th>Graduation_Rate_School</th>\n",
       "      <td>1.00000</td>\n",
       "      <td>0.43358</td>\n",
       "    </tr>\n",
       "    <tr>\n",
       "      <th>Student_Count_Total</th>\n",
       "      <td>0.43358</td>\n",
       "      <td>1.00000</td>\n",
       "    </tr>\n",
       "  </tbody>\n",
       "</table>\n",
       "</div>"
      ],
      "text/plain": [
       "                        Graduation_Rate_School  Student_Count_Total\n",
       "Graduation_Rate_School                 1.00000              0.43358\n",
       "Student_Count_Total                    0.43358              1.00000"
      ]
     },
     "execution_count": 156,
     "metadata": {},
     "output_type": "execute_result"
    }
   ],
   "source": [
    "hs_1819[['Graduation_Rate_School', 'Student_Count_Total']].corr()"
   ]
  },
  {
   "cell_type": "markdown",
   "metadata": {},
   "source": [
    "> There also appears a curvature to the relationship, which may suggest the inclusion of a polynomial term in the model"
   ]
  },
  {
   "cell_type": "code",
   "execution_count": 157,
   "metadata": {},
   "outputs": [],
   "source": [
    "hs_1819['student_count^2'] = hs_1819['Student_Count_Total']**2"
   ]
  },
  {
   "cell_type": "code",
   "execution_count": 158,
   "metadata": {},
   "outputs": [
    {
     "data": {
      "text/html": [
       "<div>\n",
       "<style scoped>\n",
       "    .dataframe tbody tr th:only-of-type {\n",
       "        vertical-align: middle;\n",
       "    }\n",
       "\n",
       "    .dataframe tbody tr th {\n",
       "        vertical-align: top;\n",
       "    }\n",
       "\n",
       "    .dataframe thead th {\n",
       "        text-align: right;\n",
       "    }\n",
       "</style>\n",
       "<table border=\"1\" class=\"dataframe\">\n",
       "  <thead>\n",
       "    <tr style=\"text-align: right;\">\n",
       "      <th></th>\n",
       "      <th>student_count^2</th>\n",
       "      <th>Graduation_Rate_School</th>\n",
       "    </tr>\n",
       "  </thead>\n",
       "  <tbody>\n",
       "    <tr>\n",
       "      <th>student_count^2</th>\n",
       "      <td>1.000000</td>\n",
       "      <td>0.258679</td>\n",
       "    </tr>\n",
       "    <tr>\n",
       "      <th>Graduation_Rate_School</th>\n",
       "      <td>0.258679</td>\n",
       "      <td>1.000000</td>\n",
       "    </tr>\n",
       "  </tbody>\n",
       "</table>\n",
       "</div>"
      ],
      "text/plain": [
       "                        student_count^2  Graduation_Rate_School\n",
       "student_count^2                1.000000                0.258679\n",
       "Graduation_Rate_School         0.258679                1.000000"
      ]
     },
     "execution_count": 158,
     "metadata": {},
     "output_type": "execute_result"
    }
   ],
   "source": [
    "hs_1819[['student_count^2', 'Graduation_Rate_School']].corr()"
   ]
  },
  {
   "cell_type": "markdown",
   "metadata": {},
   "source": [
    "> Basic correlation with squared term shows some correlation"
   ]
  },
  {
   "cell_type": "code",
   "execution_count": null,
   "metadata": {},
   "outputs": [],
   "source": []
  },
  {
   "cell_type": "markdown",
   "metadata": {},
   "source": [
    "<a id='low_income'></a>"
   ]
  },
  {
   "cell_type": "markdown",
   "metadata": {},
   "source": [
    "# Does Number of low income students correlate with lower or higher graduation rates?"
   ]
  },
  {
   "cell_type": "code",
   "execution_count": 162,
   "metadata": {},
   "outputs": [
    {
     "data": {
      "text/plain": [
       "24       18\n",
       "5        34\n",
       "179      50\n",
       "61       70\n",
       "357      75\n",
       "       ... \n",
       "652    1523\n",
       "520    1602\n",
       "500    1752\n",
       "634    1951\n",
       "645    2536\n",
       "Name: Student_Count_Low_Income, Length: 140, dtype: int64"
      ]
     },
     "execution_count": 162,
     "metadata": {},
     "output_type": "execute_result"
    }
   ],
   "source": [
    "hs_1819['Student_Count_Low_Income'].sort_values()"
   ]
  },
  {
   "cell_type": "code",
   "execution_count": 160,
   "metadata": {},
   "outputs": [
    {
     "ename": "NameError",
     "evalue": "name 'dfhs_201819' is not defined",
     "output_type": "error",
     "traceback": [
      "\u001b[0;31m---------------------------------------------------------------------------\u001b[0m",
      "\u001b[0;31mNameError\u001b[0m                                 Traceback (most recent call last)",
      "\u001b[0;32m<ipython-input-160-69e5286b298a>\u001b[0m in \u001b[0;36m<module>\u001b[0;34m\u001b[0m\n\u001b[0;32m----> 1\u001b[0;31m \u001b[0mdfhs_201819\u001b[0m\u001b[0;34m[\u001b[0m\u001b[0;34m'Student_Count_Low_Income'\u001b[0m\u001b[0;34m]\u001b[0m\u001b[0;34m.\u001b[0m\u001b[0mhist\u001b[0m\u001b[0;34m(\u001b[0m\u001b[0;34m)\u001b[0m\u001b[0;34m\u001b[0m\u001b[0;34m\u001b[0m\u001b[0m\n\u001b[0m",
      "\u001b[0;31mNameError\u001b[0m: name 'dfhs_201819' is not defined"
     ]
    }
   ],
   "source": [
    "dfhs_201819['Student_Count_Low_Income'].hist()"
   ]
  },
  {
   "cell_type": "code",
   "execution_count": 47,
   "metadata": {},
   "outputs": [
    {
     "data": {
      "image/png": "[encoded data removed]",
      "text/plain": [
       "<Figure size 432x288 with 1 Axes>"
      ]
     },
     "metadata": {
      "needs_background": "light"
     },
     "output_type": "display_data"
    }
   ],
   "source": [
    "fig, ax = plt.subplots()\n",
    "ax.scatter(dfhs_201819['Student_Count_Low_Income'], dfhs_201819['Graduation_Rate_School'])\n",
    "ax.set_title('Low Income Count vs. Graduation Rate')\n",
    "ax.set_xlabel('Low Income Student Count')\n",
    "ax.set_ylabel('Graduation Rate');"
   ]
  },
  {
   "cell_type": "code",
   "execution_count": 48,
   "metadata": {},
   "outputs": [
    {
     "data": {
      "text/html": [
       "<div>\n",
       "<style scoped>\n",
       "    .dataframe tbody tr th:only-of-type {\n",
       "        vertical-align: middle;\n",
       "    }\n",
       "\n",
       "    .dataframe tbody tr th {\n",
       "        vertical-align: top;\n",
       "    }\n",
       "\n",
       "    .dataframe thead th {\n",
       "        text-align: right;\n",
       "    }\n",
       "</style>\n",
       "<table border=\"1\" class=\"dataframe\">\n",
       "  <thead>\n",
       "    <tr style=\"text-align: right;\">\n",
       "      <th></th>\n",
       "      <th>Student_Count_Low_Income</th>\n",
       "      <th>Graduation_Rate_School</th>\n",
       "    </tr>\n",
       "  </thead>\n",
       "  <tbody>\n",
       "    <tr>\n",
       "      <th>Student_Count_Low_Income</th>\n",
       "      <td>1.000000</td>\n",
       "      <td>0.425583</td>\n",
       "    </tr>\n",
       "    <tr>\n",
       "      <th>Graduation_Rate_School</th>\n",
       "      <td>0.425583</td>\n",
       "      <td>1.000000</td>\n",
       "    </tr>\n",
       "  </tbody>\n",
       "</table>\n",
       "</div>"
      ],
      "text/plain": [
       "                          Student_Count_Low_Income  Graduation_Rate_School\n",
       "Student_Count_Low_Income                  1.000000                0.425583\n",
       "Graduation_Rate_School                    0.425583                1.000000"
      ]
     },
     "execution_count": 48,
     "metadata": {},
     "output_type": "execute_result"
    }
   ],
   "source": [
    "dfhs_201819[['Student_Count_Low_Income','Graduation_Rate_School']].corr()"
   ]
  },
  {
   "cell_type": "markdown",
   "metadata": {},
   "source": [
    "There is a positive correlation between low income student count and graduation rate.  The scatter plot is very similar to the plot of Total students to low income students,."
   ]
  },
  {
   "cell_type": "code",
   "execution_count": 49,
   "metadata": {},
   "outputs": [
    {
     "data": {
      "text/html": [
       "<div>\n",
       "<style scoped>\n",
       "    .dataframe tbody tr th:only-of-type {\n",
       "        vertical-align: middle;\n",
       "    }\n",
       "\n",
       "    .dataframe tbody tr th {\n",
       "        vertical-align: top;\n",
       "    }\n",
       "\n",
       "    .dataframe thead th {\n",
       "        text-align: right;\n",
       "    }\n",
       "</style>\n",
       "<table border=\"1\" class=\"dataframe\">\n",
       "  <thead>\n",
       "    <tr style=\"text-align: right;\">\n",
       "      <th></th>\n",
       "      <th>Student_Count_Low_Income</th>\n",
       "      <th>Student_Count_Total</th>\n",
       "    </tr>\n",
       "  </thead>\n",
       "  <tbody>\n",
       "    <tr>\n",
       "      <th>Student_Count_Low_Income</th>\n",
       "      <td>1.000000</td>\n",
       "      <td>0.898967</td>\n",
       "    </tr>\n",
       "    <tr>\n",
       "      <th>Student_Count_Total</th>\n",
       "      <td>0.898967</td>\n",
       "      <td>1.000000</td>\n",
       "    </tr>\n",
       "  </tbody>\n",
       "</table>\n",
       "</div>"
      ],
      "text/plain": [
       "                          Student_Count_Low_Income  Student_Count_Total\n",
       "Student_Count_Low_Income                  1.000000             0.898967\n",
       "Student_Count_Total                       0.898967             1.000000"
      ]
     },
     "execution_count": 49,
     "metadata": {},
     "output_type": "execute_result"
    }
   ],
   "source": [
    "dfhs_201819[['Student_Count_Low_Income','Student_Count_Total']].corr()"
   ]
  },
  {
   "cell_type": "markdown",
   "metadata": {},
   "source": [
    "As we see from the correlation above, there is a strong positive correlation between total student count and low income student count. \n",
    "\n",
    "Intuitively, the more students there are in a school, the more low income students there are."
   ]
  },
  {
   "cell_type": "markdown",
   "metadata": {},
   "source": [
    "## Percent Low Income"
   ]
  },
  {
   "cell_type": "code",
   "execution_count": 50,
   "metadata": {},
   "outputs": [],
   "source": [
    "# Calculate % low income\n",
    "dfhs_201819['perc_low_income'] = dfhs_201819['Student_Count_Low_Income']/dfhs_201819['Student_Count_Total']"
   ]
  },
  {
   "cell_type": "code",
   "execution_count": 51,
   "metadata": {},
   "outputs": [
    {
     "data": {
      "image/png": "[encoded data removed]",
      "text/plain": [
       "<Figure size 432x288 with 1 Axes>"
      ]
     },
     "metadata": {
      "needs_background": "light"
     },
     "output_type": "display_data"
    }
   ],
   "source": [
    "fig, ax = plt.subplots()\n",
    "ax.scatter(dfhs_201819['perc_low_income'], dfhs_201819['Graduation_Rate_School'])\n",
    "ax.set_title('Low Income Percent vs. Graduation Rate')\n",
    "ax.set_xlabel('Low Income Percent')\n",
    "ax.set_ylabel('Graduation Rate');"
   ]
  },
  {
   "cell_type": "code",
   "execution_count": 52,
   "metadata": {},
   "outputs": [
    {
     "data": {
      "text/html": [
       "<div>\n",
       "<style scoped>\n",
       "    .dataframe tbody tr th:only-of-type {\n",
       "        vertical-align: middle;\n",
       "    }\n",
       "\n",
       "    .dataframe tbody tr th {\n",
       "        vertical-align: top;\n",
       "    }\n",
       "\n",
       "    .dataframe thead th {\n",
       "        text-align: right;\n",
       "    }\n",
       "</style>\n",
       "<table border=\"1\" class=\"dataframe\">\n",
       "  <thead>\n",
       "    <tr style=\"text-align: right;\">\n",
       "      <th></th>\n",
       "      <th>perc_low_income</th>\n",
       "      <th>Graduation_Rate_School</th>\n",
       "    </tr>\n",
       "  </thead>\n",
       "  <tbody>\n",
       "    <tr>\n",
       "      <th>perc_low_income</th>\n",
       "      <td>1.0000</td>\n",
       "      <td>-0.2877</td>\n",
       "    </tr>\n",
       "    <tr>\n",
       "      <th>Graduation_Rate_School</th>\n",
       "      <td>-0.2877</td>\n",
       "      <td>1.0000</td>\n",
       "    </tr>\n",
       "  </tbody>\n",
       "</table>\n",
       "</div>"
      ],
      "text/plain": [
       "                        perc_low_income  Graduation_Rate_School\n",
       "perc_low_income                  1.0000                 -0.2877\n",
       "Graduation_Rate_School          -0.2877                  1.0000"
      ]
     },
     "execution_count": 52,
     "metadata": {},
     "output_type": "execute_result"
    }
   ],
   "source": [
    "dfhs_201819[['perc_low_income','Graduation_Rate_School']].corr()"
   ]
  },
  {
   "cell_type": "markdown",
   "metadata": {},
   "source": [
    "As one would expect, schools that service less affluent communities show lower graduation rates. \n",
    "In other words, as the percentage of low income students goes down, the graduation rate of the school goes up.  "
   ]
  },
  {
   "cell_type": "code",
   "execution_count": null,
   "metadata": {},
   "outputs": [],
   "source": [
    "# I will feature engineer percent low income within the preprocessing py file."
   ]
  },
  {
   "cell_type": "code",
   "execution_count": 53,
   "metadata": {},
   "outputs": [
    {
     "data": {
      "text/html": [
       "<div>\n",
       "<style scoped>\n",
       "    .dataframe tbody tr th:only-of-type {\n",
       "        vertical-align: middle;\n",
       "    }\n",
       "\n",
       "    .dataframe tbody tr th {\n",
       "        vertical-align: top;\n",
       "    }\n",
       "\n",
       "    .dataframe thead th {\n",
       "        text-align: right;\n",
       "    }\n",
       "</style>\n",
       "<table border=\"1\" class=\"dataframe\">\n",
       "  <thead>\n",
       "    <tr style=\"text-align: right;\">\n",
       "      <th></th>\n",
       "      <th>perc_low_income</th>\n",
       "      <th>Student_Count_Total</th>\n",
       "    </tr>\n",
       "  </thead>\n",
       "  <tbody>\n",
       "    <tr>\n",
       "      <th>perc_low_income</th>\n",
       "      <td>1.000000</td>\n",
       "      <td>-0.505144</td>\n",
       "    </tr>\n",
       "    <tr>\n",
       "      <th>Student_Count_Total</th>\n",
       "      <td>-0.505144</td>\n",
       "      <td>1.000000</td>\n",
       "    </tr>\n",
       "  </tbody>\n",
       "</table>\n",
       "</div>"
      ],
      "text/plain": [
       "                     perc_low_income  Student_Count_Total\n",
       "perc_low_income             1.000000            -0.505144\n",
       "Student_Count_Total        -0.505144             1.000000"
      ]
     },
     "execution_count": 53,
     "metadata": {},
     "output_type": "execute_result"
    }
   ],
   "source": [
    "dfhs_201819[['perc_low_income','Student_Count_Total']].corr()"
   ]
  },
  {
   "cell_type": "markdown",
   "metadata": {},
   "source": [
    "There is a negative correlation between percentage low income students and total student count.  As the student population grows, there is a lower ratio of low income students to high income students.  In other words, schools with smaller populations tend to have larger relative proportions of low-income students."
   ]
  },
  {
   "cell_type": "markdown",
   "metadata": {},
   "source": [
    "> I'll begin investigating the difference between schools that fall into two bins"
   ]
  },
  {
   "cell_type": "markdown",
   "metadata": {},
   "source": [
    "## Binning Low Income Populations"
   ]
  },
  {
   "cell_type": "code",
   "execution_count": 54,
   "metadata": {},
   "outputs": [
    {
     "data": {
      "image/png": "[encoded data removed]",
      "text/plain": [
       "<Figure size 432x288 with 1 Axes>"
      ]
     },
     "metadata": {
      "needs_background": "light"
     },
     "output_type": "display_data"
    }
   ],
   "source": [
    "fig, ax = plt.subplots()\n",
    "\n",
    "hist_2bin = ax.hist(dfhs_201819['perc_low_income'], bins=2)"
   ]
  },
  {
   "cell_type": "code",
   "execution_count": 55,
   "metadata": {},
   "outputs": [
    {
     "data": {
      "text/plain": [
       "0.6547826086956521"
      ]
     },
     "execution_count": 55,
     "metadata": {},
     "output_type": "execute_result"
    }
   ],
   "source": [
    "hist_2bin[1][1]"
   ]
  },
  {
   "cell_type": "code",
   "execution_count": 56,
   "metadata": {},
   "outputs": [],
   "source": [
    "# Set high_low_inc value to a binary where 1 is > the separation of the binary histogram\n",
    "dfhs_201819['high_low_inc'] = dfhs_201819['perc_low_income'].apply(lambda x: x > hist_2bin[1][1]).astype(int)"
   ]
  },
  {
   "cell_type": "code",
   "execution_count": 57,
   "metadata": {},
   "outputs": [
    {
     "data": {
      "image/png": "[encoded data removed]",
      "text/plain": [
       "<Figure size 720x720 with 1 Axes>"
      ]
     },
     "metadata": {
      "needs_background": "light"
     },
     "output_type": "display_data"
    }
   ],
   "source": [
    "high_low_inc, ax = plt.subplots(figsize=(10,10))\n",
    "high_low_inc_gradrates = dfhs_201819[dfhs_201819['high_low_inc']==1]['Graduation_Rate_School']\n",
    "low_low_inc_gradrates = dfhs_201819[dfhs_201819['high_low_inc']==0]['Graduation_Rate_School']\n",
    "\n",
    "ax.hist(high_low_inc_gradrates, density=True)\n",
    "ax.hist(low_low_inc_gradrates, density=True);"
   ]
  },
  {
   "cell_type": "code",
   "execution_count": 58,
   "metadata": {},
   "outputs": [
    {
     "data": {
      "image/png": "[encoded data removed]",
      "text/plain": [
       "<Figure size 720x720 with 1 Axes>"
      ]
     },
     "metadata": {
      "needs_background": "light"
     },
     "output_type": "display_data"
    }
   ],
   "source": [
    "high_low_inc, ax = plt.subplots(figsize=(10,10))\n",
    "high_low_inc_gradrates = dfhs_201819[dfhs_201819['high_low_inc']==1]['Graduation_Rate_School']\n",
    "low_low_inc_gradrates = dfhs_201819[dfhs_201819['high_low_inc']==0]['Graduation_Rate_School']\n",
    "\n",
    "ax.hist(high_low_inc_gradrates, density=False)\n",
    "ax.hist(low_low_inc_gradrates, density=False);"
   ]
  },
  {
   "cell_type": "markdown",
   "metadata": {},
   "source": [
    "> This grouping has too great a class imbalance to prove useful, most likely. "
   ]
  },
  {
   "cell_type": "markdown",
   "metadata": {},
   "source": [
    "I will try a grouping of high and low with the groupings split according to the histogram below."
   ]
  },
  {
   "cell_type": "code",
   "execution_count": 59,
   "metadata": {},
   "outputs": [
    {
     "data": {
      "image/png": "[encoded data removed]",
      "text/plain": [
       "<Figure size 432x288 with 1 Axes>"
      ]
     },
     "metadata": {
      "needs_background": "light"
     },
     "output_type": "display_data"
    }
   ],
   "source": [
    "fig, ax = plt.subplots()\n",
    "\n",
    "low_inc_5bins = ax.hist(dfhs_201819['perc_low_income'], bins=5)"
   ]
  },
  {
   "cell_type": "code",
   "execution_count": 60,
   "metadata": {},
   "outputs": [
    {
     "data": {
      "text/plain": [
       "0.8619130434782609"
      ]
     },
     "execution_count": 60,
     "metadata": {},
     "output_type": "execute_result"
    }
   ],
   "source": [
    "low_inc_5bins[1][-2]"
   ]
  },
  {
   "cell_type": "code",
   "execution_count": 61,
   "metadata": {},
   "outputs": [],
   "source": [
    "dfhs_201819['high_low_inc_5bins'] = dfhs_201819['perc_low_income'].apply(lambda x: x > low_inc_5bins[1][-2]).astype(int)"
   ]
  },
  {
   "cell_type": "code",
   "execution_count": 62,
   "metadata": {},
   "outputs": [
    {
     "data": {
      "image/png": "[encoded data removed]",
      "text/plain": [
       "<Figure size 720x720 with 1 Axes>"
      ]
     },
     "metadata": {
      "needs_background": "light"
     },
     "output_type": "display_data"
    }
   ],
   "source": [
    "high_low_inc, ax = plt.subplots(figsize=(10,10))\n",
    "high_low_inc_gradrates = dfhs_201819[dfhs_201819['high_low_inc_5bins']==1]['Graduation_Rate_School']\n",
    "low_low_inc_gradrates = dfhs_201819[dfhs_201819['high_low_inc_5bins']==0]['Graduation_Rate_School']\n",
    "\n",
    "ax.hist(high_low_inc_gradrates, density=False, label='high_low_inc')\n",
    "ax.hist(low_low_inc_gradrates, density=False, label='low_low_inc')\n",
    "ax.legend();"
   ]
  },
  {
   "cell_type": "markdown",
   "metadata": {},
   "source": [
    "This looks a bit more interesting.  There is a better class balance and there does appear to be a difference in these distributions."
   ]
  },
  {
   "cell_type": "code",
   "execution_count": 63,
   "metadata": {},
   "outputs": [
    {
     "data": {
      "text/plain": [
       "70.14810126582277"
      ]
     },
     "execution_count": 63,
     "metadata": {},
     "output_type": "execute_result"
    }
   ],
   "source": [
    "high_low_inc_gradrates.mean()"
   ]
  },
  {
   "cell_type": "code",
   "execution_count": 64,
   "metadata": {},
   "outputs": [
    {
     "data": {
      "text/plain": [
       "74.19354838709677"
      ]
     },
     "execution_count": 64,
     "metadata": {},
     "output_type": "execute_result"
    }
   ],
   "source": [
    "low_low_inc_gradrates.mean()"
   ]
  },
  {
   "cell_type": "markdown",
   "metadata": {},
   "source": [
    "# Dress Code\n",
    "\n",
    "Does a dress code improve graduation rate?"
   ]
  },
  {
   "cell_type": "code",
   "execution_count": 84,
   "metadata": {},
   "outputs": [
    {
     "data": {
      "text/plain": [
       "73.48817204301075"
      ]
     },
     "execution_count": 84,
     "metadata": {},
     "output_type": "execute_result"
    }
   ],
   "source": [
    "df_201819[df_201819['Dress_Code'] == True]['Graduation_Rate_School'].mean()"
   ]
  },
  {
   "cell_type": "code",
   "execution_count": 85,
   "metadata": {},
   "outputs": [
    {
     "data": {
      "text/plain": [
       "68.90208333333334"
      ]
     },
     "execution_count": 85,
     "metadata": {},
     "output_type": "execute_result"
    }
   ],
   "source": [
    "df_201819[df_201819['Dress_Code'] == False]['Graduation_Rate_School'].mean()"
   ]
  },
  {
   "cell_type": "code",
   "execution_count": 81,
   "metadata": {},
   "outputs": [
    {
     "data": {
      "text/plain": [
       "Ttest_indResult(statistic=1.0927918629778086, pvalue=0.2763755309208247)"
      ]
     },
     "execution_count": 81,
     "metadata": {},
     "output_type": "execute_result"
    }
   ],
   "source": [
    "from scipy.stats import ttest_ind\n",
    "\n",
    "ttest_ind(df_201819[df_201819['Dress_Code'] == 1]['Graduation_Rate_School'],\n",
    "          df_201819[df_201819['Dress_Code'] == 0]['Graduation_Rate_School'])"
   ]
  },
  {
   "cell_type": "markdown",
   "metadata": {},
   "source": [
    "> T-test doesn't show significant difference in graduation rates.\n"
   ]
  },
  {
   "cell_type": "markdown",
   "metadata": {},
   "source": [
    "<a id='pr_report'></a>"
   ]
  },
  {
   "cell_type": "markdown",
   "metadata": {},
   "source": [
    "# School Profile Information"
   ]
  },
  {
   "cell_type": "code",
   "execution_count": 109,
   "metadata": {},
   "outputs": [],
   "source": [
    "path_to_pr_csv = '../../data/chicago_data_portal_csv_files/Chicago_Public_Schools_-_School_Progress_Reports_SY1819.csv'\n",
    "prog_rep = pd.read_csv(path_to_pr_csv)"
   ]
  },
  {
   "cell_type": "code",
   "execution_count": 171,
   "metadata": {},
   "outputs": [],
   "source": [
    "merged_df = merge_prepped_sy_profile_and_prog_rep(path_to_csv, path_to_pr_csv)"
   ]
  },
  {
   "cell_type": "markdown",
   "metadata": {},
   "source": [
    "## School Type"
   ]
  },
  {
   "cell_type": "code",
   "execution_count": 175,
   "metadata": {},
   "outputs": [
    {
     "data": {
      "text/plain": [
       "Career academy           4\n",
       "Charter                 39\n",
       "Citywide-Option         10\n",
       "Contract                 2\n",
       "Magnet                   6\n",
       "Military academy         5\n",
       "Neighborhood            44\n",
       "Selective enrollment    11\n",
       "Small                   13\n",
       "Special Education        2\n",
       "Name: School_Type, dtype: int64"
      ]
     },
     "execution_count": 175,
     "metadata": {},
     "output_type": "execute_result"
    }
   ],
   "source": [
    "merged_df['School_Type'].value_counts().sort_index()"
   ]
  },
  {
   "cell_type": "code",
   "execution_count": 176,
   "metadata": {},
   "outputs": [
    {
     "data": {
      "text/plain": [
       "School_Type\n",
       "Career academy          80.900000\n",
       "Charter                 79.641026\n",
       "Citywide-Option         17.290000\n",
       "Contract                83.450000\n",
       "Magnet                  87.933333\n",
       "Military academy        89.180000\n",
       "Neighborhood            70.556818\n",
       "Selective enrollment    94.772727\n",
       "Small                   77.330769\n",
       "Special Education        9.600000\n",
       "Name: Graduation_Rate_School, dtype: float64"
      ]
     },
     "execution_count": 176,
     "metadata": {},
     "output_type": "execute_result"
    }
   ],
   "source": [
    "merged_df.groupby('School_Type').mean()['Graduation_Rate_School'].sort_index()"
   ]
  },
  {
   "cell_type": "markdown",
   "metadata": {},
   "source": [
    "### What is the distribution of graduation rates for Citywide-Option schools? Are they all very low?\n"
   ]
  },
  {
   "cell_type": "code",
   "execution_count": 178,
   "metadata": {},
   "outputs": [
    {
     "data": {
      "text/plain": [
       "School_Type\n",
       "Career academy          11.110956\n",
       "Charter                  8.970059\n",
       "Citywide-Option         27.109058\n",
       "Contract                 1.343503\n",
       "Magnet                   6.245852\n",
       "Military academy         5.389527\n",
       "Neighborhood            13.728165\n",
       "Selective enrollment     3.851517\n",
       "Small                   10.304803\n",
       "Special Education       13.576450\n",
       "Name: Graduation_Rate_School, dtype: float64"
      ]
     },
     "execution_count": 178,
     "metadata": {},
     "output_type": "execute_result"
    }
   ],
   "source": [
    "# Highest Standard Deviation for Citywide-Option\n",
    "merged_df.groupby('School_Type').std()['Graduation_Rate_School']"
   ]
  },
  {
   "cell_type": "code",
   "execution_count": 180,
   "metadata": {},
   "outputs": [
    {
     "data": {
      "text/plain": [
       "(array([6., 2., 0., 1., 0., 0., 0., 0., 0., 1.]),\n",
       " array([ 0.  ,  9.04, 18.08, 27.12, 36.16, 45.2 , 54.24, 63.28, 72.32,\n",
       "        81.36, 90.4 ]),\n",
       " <a list of 10 Patch objects>)"
      ]
     },
     "execution_count": 180,
     "metadata": {},
     "output_type": "execute_result"
    },
    {
     "data": {
      "image/png": "[encoded data removed]",
      "text/plain": [
       "<Figure size 432x288 with 1 Axes>"
      ]
     },
     "metadata": {
      "needs_background": "light"
     },
     "output_type": "display_data"
    }
   ],
   "source": [
    "fig, ax = plt.subplots()\n",
    "options = merged_df[merged_df['School_Type'] == 'Citywide-Option']['Graduation_Rate_School']\n",
    "ax.hist(options)"
   ]
  },
  {
   "cell_type": "code",
   "execution_count": 181,
   "metadata": {},
   "outputs": [
    {
     "data": {
      "text/plain": [
       "0      15.4\n",
       "49      7.5\n",
       "60      0.0\n",
       "67     90.4\n",
       "74      4.3\n",
       "84     15.2\n",
       "88      1.8\n",
       "93     28.4\n",
       "110     1.1\n",
       "121     8.8\n",
       "Name: Graduation_Rate_School, dtype: float64"
      ]
     },
     "execution_count": 181,
     "metadata": {},
     "output_type": "execute_result"
    }
   ],
   "source": [
    "# Raw Graduation rates for Citywide-Option Schools.\n",
    "options"
   ]
  },
  {
   "cell_type": "markdown",
   "metadata": {},
   "source": [
    "> I hesitate to drop the Options category, even though it represents all of the city-wide graduation rates below 30% beside Special Education schools."
   ]
  },
  {
   "cell_type": "code",
   "execution_count": 184,
   "metadata": {},
   "outputs": [
    {
     "data": {
      "text/html": [
       "<div>\n",
       "<style scoped>\n",
       "    .dataframe tbody tr th:only-of-type {\n",
       "        vertical-align: middle;\n",
       "    }\n",
       "\n",
       "    .dataframe tbody tr th {\n",
       "        vertical-align: top;\n",
       "    }\n",
       "\n",
       "    .dataframe thead th {\n",
       "        text-align: right;\n",
       "    }\n",
       "</style>\n",
       "<table border=\"1\" class=\"dataframe\">\n",
       "  <thead>\n",
       "    <tr style=\"text-align: right;\">\n",
       "      <th></th>\n",
       "      <th>School_ID</th>\n",
       "      <th>Short_Name</th>\n",
       "      <th>Graduation_Rate_School</th>\n",
       "      <th>Student_Count_Total</th>\n",
       "      <th>Student_Count_Low_Income</th>\n",
       "      <th>Student_Count_Special_Ed</th>\n",
       "      <th>Student_Count_English_Learners</th>\n",
       "      <th>Student_Count_Black</th>\n",
       "      <th>Student_Count_Hispanic</th>\n",
       "      <th>Student_Count_White</th>\n",
       "      <th>Student_Count_Asian</th>\n",
       "      <th>Student_Count_Native_American</th>\n",
       "      <th>Student_Count_Other_Ethnicity</th>\n",
       "      <th>Student_Count_Asian_Pacific_Islander</th>\n",
       "      <th>Student_Count_Multi</th>\n",
       "      <th>Student_Count_Hawaiian_Pacific_Islander</th>\n",
       "      <th>Student_Count_Ethnicity_Not_Available</th>\n",
       "      <th>Is_High_School</th>\n",
       "      <th>Dress_Code</th>\n",
       "      <th>Classroom_Languages</th>\n",
       "      <th>Transportation_El</th>\n",
       "      <th>perc_low_income</th>\n",
       "      <th>School_Type</th>\n",
       "    </tr>\n",
       "  </thead>\n",
       "  <tbody>\n",
       "    <tr>\n",
       "      <th>9</th>\n",
       "      <td>609766</td>\n",
       "      <td>VAUGHN HS</td>\n",
       "      <td>19.2</td>\n",
       "      <td>225</td>\n",
       "      <td>163</td>\n",
       "      <td>225</td>\n",
       "      <td>72</td>\n",
       "      <td>54</td>\n",
       "      <td>116</td>\n",
       "      <td>51</td>\n",
       "      <td>3</td>\n",
       "      <td>0</td>\n",
       "      <td>0</td>\n",
       "      <td>0</td>\n",
       "      <td>1</td>\n",
       "      <td>0</td>\n",
       "      <td>0</td>\n",
       "      <td>True</td>\n",
       "      <td>False</td>\n",
       "      <td>NaN</td>\n",
       "      <td>NaN</td>\n",
       "      <td>0.724444</td>\n",
       "      <td>Special Education</td>\n",
       "    </tr>\n",
       "    <tr>\n",
       "      <th>75</th>\n",
       "      <td>609744</td>\n",
       "      <td>NORTHSIDE LEARNING HS</td>\n",
       "      <td>0.0</td>\n",
       "      <td>216</td>\n",
       "      <td>185</td>\n",
       "      <td>216</td>\n",
       "      <td>76</td>\n",
       "      <td>44</td>\n",
       "      <td>115</td>\n",
       "      <td>44</td>\n",
       "      <td>8</td>\n",
       "      <td>2</td>\n",
       "      <td>0</td>\n",
       "      <td>0</td>\n",
       "      <td>3</td>\n",
       "      <td>0</td>\n",
       "      <td>0</td>\n",
       "      <td>True</td>\n",
       "      <td>False</td>\n",
       "      <td>American Sign Language</td>\n",
       "      <td>NaN</td>\n",
       "      <td>0.856481</td>\n",
       "      <td>Special Education</td>\n",
       "    </tr>\n",
       "  </tbody>\n",
       "</table>\n",
       "</div>"
      ],
      "text/plain": [
       "    School_ID             Short_Name  Graduation_Rate_School  \\\n",
       "9      609766              VAUGHN HS                    19.2   \n",
       "75     609744  NORTHSIDE LEARNING HS                     0.0   \n",
       "\n",
       "    Student_Count_Total  Student_Count_Low_Income  Student_Count_Special_Ed  \\\n",
       "9                   225                       163                       225   \n",
       "75                  216                       185                       216   \n",
       "\n",
       "    Student_Count_English_Learners  Student_Count_Black  \\\n",
       "9                               72                   54   \n",
       "75                              76                   44   \n",
       "\n",
       "    Student_Count_Hispanic  Student_Count_White  Student_Count_Asian  \\\n",
       "9                      116                   51                    3   \n",
       "75                     115                   44                    8   \n",
       "\n",
       "    Student_Count_Native_American  Student_Count_Other_Ethnicity  \\\n",
       "9                               0                              0   \n",
       "75                              2                              0   \n",
       "\n",
       "    Student_Count_Asian_Pacific_Islander  Student_Count_Multi  \\\n",
       "9                                      0                    1   \n",
       "75                                     0                    3   \n",
       "\n",
       "    Student_Count_Hawaiian_Pacific_Islander  \\\n",
       "9                                         0   \n",
       "75                                        0   \n",
       "\n",
       "    Student_Count_Ethnicity_Not_Available  Is_High_School  Dress_Code  \\\n",
       "9                                       0            True       False   \n",
       "75                                      0            True       False   \n",
       "\n",
       "       Classroom_Languages Transportation_El  perc_low_income  \\\n",
       "9                      NaN               NaN         0.724444   \n",
       "75  American Sign Language               NaN         0.856481   \n",
       "\n",
       "          School_Type  \n",
       "9   Special Education  \n",
       "75  Special Education  "
      ]
     },
     "execution_count": 184,
     "metadata": {},
     "output_type": "execute_result"
    }
   ],
   "source": [
    "merged_df[(merged_df['Graduation_Rate_School'] < 30) \n",
    "          & (merged_df['School_Type']!='Citywide-Option')]"
   ]
  },
  {
   "cell_type": "markdown",
   "metadata": {},
   "source": [
    "### Options Schools\n",
    "\n",
    "The Citywide-Options are specifically designed to help re-engage students who are at risk for not graduating.  They have previously disengaged from school in some manner, and these schools are trying to reengage them. \n",
    "\n",
    "[Citywide-Options](https://www.cps.edu/schools/re-engagement-to-high-school/)"
   ]
  },
  {
   "cell_type": "code",
   "execution_count": null,
   "metadata": {},
   "outputs": [],
   "source": []
  }
 ],
 "metadata": {
  "kernelspec": {
   "display_name": "cps_env",
   "language": "python",
   "name": "cps_env"
  },
  "language_info": {
   "codemirror_mode": {
    "name": "ipython",
    "version": 3
   },
   "file_extension": ".py",
   "mimetype": "text/x-python",
   "name": "python",
   "nbconvert_exporter": "python",
   "pygments_lexer": "ipython3",
   "version": "3.6.9"
  }
 },
 "nbformat": 4,
 "nbformat_minor": 4
}
